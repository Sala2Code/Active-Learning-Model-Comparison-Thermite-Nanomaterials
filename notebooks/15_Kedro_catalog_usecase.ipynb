{
 "cells": [
  {
   "cell_type": "code",
   "execution_count": 1,
   "metadata": {},
   "outputs": [
    {
     "data": {
      "text/html": [
       "<pre style=\"white-space:pre;overflow-x:auto;line-height:normal;font-family:Menlo,'DejaVu Sans Mono',consolas,'Courier New',monospace\"><span style=\"color: #7fbfbf; text-decoration-color: #7fbfbf\">[08/07/24 15:30:18] </span><span style=\"color: #000080; text-decoration-color: #000080\">INFO    </span> Config from path <span style=\"color: #008000; text-decoration-color: #008000\">'C:\\Local\\LAAS\\projets\\sampler\\conf\\env_test'</span> will       <a href=\"file://c:\\Users\\ysami\\.conda\\envs\\venv_lc\\lib\\site-packages\\kedro\\config\\common.py\" target=\"_blank\"><span style=\"color: #7f7f7f; text-decoration-color: #7f7f7f\">common.py</span></a><span style=\"color: #7f7f7f; text-decoration-color: #7f7f7f\">:</span><a href=\"file://c:\\Users\\ysami\\.conda\\envs\\venv_lc\\lib\\site-packages\\kedro\\config\\common.py#93\" target=\"_blank\"><span style=\"color: #7f7f7f; text-decoration-color: #7f7f7f\">93</span></a>\n",
       "<span style=\"color: #7fbfbf; text-decoration-color: #7fbfbf\">                    </span>         override the following existing top-level config keys:                    <span style=\"color: #7f7f7f; text-decoration-color: #7f7f7f\">            </span>\n",
       "<span style=\"color: #7fbfbf; text-decoration-color: #7fbfbf\">                    </span>         disable_existing_loggers, formatters, handlers, loggers, root, version    <span style=\"color: #7f7f7f; text-decoration-color: #7f7f7f\">            </span>\n",
       "</pre>\n"
      ],
      "text/plain": [
       "\u001b[2;36m[08/07/24 15:30:18]\u001b[0m\u001b[2;36m \u001b[0m\u001b[34mINFO    \u001b[0m Config from path \u001b[32m'C:\\Local\\LAAS\\projets\\sampler\\conf\\env_test'\u001b[0m will       \u001b]8;id=731320;file://c:\\Users\\ysami\\.conda\\envs\\venv_lc\\lib\\site-packages\\kedro\\config\\common.py\u001b\\\u001b[2mcommon.py\u001b[0m\u001b]8;;\u001b\\\u001b[2m:\u001b[0m\u001b]8;id=591821;file://c:\\Users\\ysami\\.conda\\envs\\venv_lc\\lib\\site-packages\\kedro\\config\\common.py#93\u001b\\\u001b[2m93\u001b[0m\u001b]8;;\u001b\\\n",
       "\u001b[2;36m                    \u001b[0m         override the following existing top-level config keys:                    \u001b[2m            \u001b[0m\n",
       "\u001b[2;36m                    \u001b[0m         disable_existing_loggers, formatters, handlers, loggers, root, version    \u001b[2m            \u001b[0m\n"
      ]
     },
     "metadata": {},
     "output_type": "display_data"
    },
    {
     "data": {
      "text/html": [
       "<pre style=\"white-space:pre;overflow-x:auto;line-height:normal;font-family:Menlo,'DejaVu Sans Mono',consolas,'Courier New',monospace\"><span style=\"color: #7fbfbf; text-decoration-color: #7fbfbf\">[08/07/24 15:30:18] </span><span style=\"color: #000080; text-decoration-color: #000080\">INFO    </span> Config from path <span style=\"color: #008000; text-decoration-color: #008000\">'C:\\Local\\LAAS\\projets\\sampler\\conf\\env_test'</span> will       <a href=\"file://c:\\Users\\ysami\\.conda\\envs\\venv_lc\\lib\\site-packages\\kedro\\config\\common.py\" target=\"_blank\"><span style=\"color: #7f7f7f; text-decoration-color: #7f7f7f\">common.py</span></a><span style=\"color: #7f7f7f; text-decoration-color: #7f7f7f\">:</span><a href=\"file://c:\\Users\\ysami\\.conda\\envs\\venv_lc\\lib\\site-packages\\kedro\\config\\common.py#93\" target=\"_blank\"><span style=\"color: #7f7f7f; text-decoration-color: #7f7f7f\">93</span></a>\n",
       "<span style=\"color: #7fbfbf; text-decoration-color: #7fbfbf\">                    </span>         override the following existing top-level config keys: initial_data,      <span style=\"color: #7f7f7f; text-decoration-color: #7f7f7f\">            </span>\n",
       "<span style=\"color: #7fbfbf; text-decoration-color: #7fbfbf\">                    </span>         irbs_history, irbs_increased_data, metrics_plots, parego_history,         <span style=\"color: #7f7f7f; text-decoration-color: #7f7f7f\">            </span>\n",
       "<span style=\"color: #7fbfbf; text-decoration-color: #7fbfbf\">                    </span>         parego_increased_data, sao_history, sao_increased_data, sao_optim_res,    <span style=\"color: #7f7f7f; text-decoration-color: #7f7f7f\">            </span>\n",
       "<span style=\"color: #7fbfbf; text-decoration-color: #7fbfbf\">                    </span>         scaler, treated_data, treatment                                           <span style=\"color: #7f7f7f; text-decoration-color: #7f7f7f\">            </span>\n",
       "</pre>\n"
      ],
      "text/plain": [
       "\u001b[2;36m[08/07/24 15:30:18]\u001b[0m\u001b[2;36m \u001b[0m\u001b[34mINFO    \u001b[0m Config from path \u001b[32m'C:\\Local\\LAAS\\projets\\sampler\\conf\\env_test'\u001b[0m will       \u001b]8;id=427182;file://c:\\Users\\ysami\\.conda\\envs\\venv_lc\\lib\\site-packages\\kedro\\config\\common.py\u001b\\\u001b[2mcommon.py\u001b[0m\u001b]8;;\u001b\\\u001b[2m:\u001b[0m\u001b]8;id=827700;file://c:\\Users\\ysami\\.conda\\envs\\venv_lc\\lib\\site-packages\\kedro\\config\\common.py#93\u001b\\\u001b[2m93\u001b[0m\u001b]8;;\u001b\\\n",
       "\u001b[2;36m                    \u001b[0m         override the following existing top-level config keys: initial_data,      \u001b[2m            \u001b[0m\n",
       "\u001b[2;36m                    \u001b[0m         irbs_history, irbs_increased_data, metrics_plots, parego_history,         \u001b[2m            \u001b[0m\n",
       "\u001b[2;36m                    \u001b[0m         parego_increased_data, sao_history, sao_increased_data, sao_optim_res,    \u001b[2m            \u001b[0m\n",
       "\u001b[2;36m                    \u001b[0m         scaler, treated_data, treatment                                           \u001b[2m            \u001b[0m\n"
      ]
     },
     "metadata": {},
     "output_type": "display_data"
    },
    {
     "data": {
      "text/html": [
       "<pre style=\"white-space:pre;overflow-x:auto;line-height:normal;font-family:Menlo,'DejaVu Sans Mono',consolas,'Courier New',monospace\"><span style=\"color: #7fbfbf; text-decoration-color: #7fbfbf\">[08/07/24 15:30:19] </span><span style=\"color: #800000; text-decoration-color: #800000\">WARNING </span> c:\\Users\\ysami\\.conda\\envs\\venv_lc\\lib\\site-packages\\matplotlib\\__init <a href=\"file://c:\\Users\\ysami\\.conda\\envs\\venv_lc\\lib\\warnings.py\" target=\"_blank\"><span style=\"color: #7f7f7f; text-decoration-color: #7f7f7f\">warnings.py</span></a><span style=\"color: #7f7f7f; text-decoration-color: #7f7f7f\">:</span><a href=\"file://c:\\Users\\ysami\\.conda\\envs\\venv_lc\\lib\\warnings.py#109\" target=\"_blank\"><span style=\"color: #7f7f7f; text-decoration-color: #7f7f7f\">109</span></a>\n",
       "<span style=\"color: #7fbfbf; text-decoration-color: #7fbfbf\">                    </span>         __.py:<span style=\"color: #008080; text-decoration-color: #008080; font-weight: bold\">152</span>: DeprecationWarning: distutils Version classes are           <span style=\"color: #7f7f7f; text-decoration-color: #7f7f7f\">               </span>\n",
       "<span style=\"color: #7fbfbf; text-decoration-color: #7fbfbf\">                    </span>         deprecated. Use packaging.version instead.                             <span style=\"color: #7f7f7f; text-decoration-color: #7f7f7f\">               </span>\n",
       "<span style=\"color: #7fbfbf; text-decoration-color: #7fbfbf\">                    </span>           if <span style=\"color: #800080; text-decoration-color: #800080; font-weight: bold\">LooseVersion</span><span style=\"font-weight: bold\">(</span>module.__version__<span style=\"font-weight: bold\">)</span> &lt; minver:                        <span style=\"color: #7f7f7f; text-decoration-color: #7f7f7f\">               </span>\n",
       "<span style=\"color: #7fbfbf; text-decoration-color: #7fbfbf\">                    </span>                                                                                <span style=\"color: #7f7f7f; text-decoration-color: #7f7f7f\">               </span>\n",
       "</pre>\n"
      ],
      "text/plain": [
       "\u001b[2;36m[08/07/24 15:30:19]\u001b[0m\u001b[2;36m \u001b[0m\u001b[31mWARNING \u001b[0m c:\\Users\\ysami\\.conda\\envs\\venv_lc\\lib\\site-packages\\matplotlib\\__init \u001b]8;id=135447;file://c:\\Users\\ysami\\.conda\\envs\\venv_lc\\lib\\warnings.py\u001b\\\u001b[2mwarnings.py\u001b[0m\u001b]8;;\u001b\\\u001b[2m:\u001b[0m\u001b]8;id=400336;file://c:\\Users\\ysami\\.conda\\envs\\venv_lc\\lib\\warnings.py#109\u001b\\\u001b[2m109\u001b[0m\u001b]8;;\u001b\\\n",
       "\u001b[2;36m                    \u001b[0m         __.py:\u001b[1;36m152\u001b[0m: DeprecationWarning: distutils Version classes are           \u001b[2m               \u001b[0m\n",
       "\u001b[2;36m                    \u001b[0m         deprecated. Use packaging.version instead.                             \u001b[2m               \u001b[0m\n",
       "\u001b[2;36m                    \u001b[0m           if \u001b[1;35mLooseVersion\u001b[0m\u001b[1m(\u001b[0mmodule.__version__\u001b[1m)\u001b[0m < minver:                        \u001b[2m               \u001b[0m\n",
       "\u001b[2;36m                    \u001b[0m                                                                                \u001b[2m               \u001b[0m\n"
      ]
     },
     "metadata": {},
     "output_type": "display_data"
    },
    {
     "data": {
      "text/html": [
       "<pre style=\"white-space:pre;overflow-x:auto;line-height:normal;font-family:Menlo,'DejaVu Sans Mono',consolas,'Courier New',monospace\"><span style=\"color: #7fbfbf; text-decoration-color: #7fbfbf\">                    </span><span style=\"color: #800000; text-decoration-color: #800000\">WARNING </span> c:\\Users\\ysami\\.conda\\envs\\venv_lc\\lib\\site-packages\\setuptools\\_distu <a href=\"file://c:\\Users\\ysami\\.conda\\envs\\venv_lc\\lib\\warnings.py\" target=\"_blank\"><span style=\"color: #7f7f7f; text-decoration-color: #7f7f7f\">warnings.py</span></a><span style=\"color: #7f7f7f; text-decoration-color: #7f7f7f\">:</span><a href=\"file://c:\\Users\\ysami\\.conda\\envs\\venv_lc\\lib\\warnings.py#109\" target=\"_blank\"><span style=\"color: #7f7f7f; text-decoration-color: #7f7f7f\">109</span></a>\n",
       "<span style=\"color: #7fbfbf; text-decoration-color: #7fbfbf\">                    </span>         tils\\version.py:<span style=\"color: #008080; text-decoration-color: #008080; font-weight: bold\">346</span>: DeprecationWarning: distutils Version classes are <span style=\"color: #7f7f7f; text-decoration-color: #7f7f7f\">               </span>\n",
       "<span style=\"color: #7fbfbf; text-decoration-color: #7fbfbf\">                    </span>         deprecated. Use packaging.version instead.                             <span style=\"color: #7f7f7f; text-decoration-color: #7f7f7f\">               </span>\n",
       "<span style=\"color: #7fbfbf; text-decoration-color: #7fbfbf\">                    </span>           other = <span style=\"color: #800080; text-decoration-color: #800080; font-weight: bold\">LooseVersion</span><span style=\"font-weight: bold\">(</span>other<span style=\"font-weight: bold\">)</span>                                          <span style=\"color: #7f7f7f; text-decoration-color: #7f7f7f\">               </span>\n",
       "<span style=\"color: #7fbfbf; text-decoration-color: #7fbfbf\">                    </span>                                                                                <span style=\"color: #7f7f7f; text-decoration-color: #7f7f7f\">               </span>\n",
       "</pre>\n"
      ],
      "text/plain": [
       "\u001b[2;36m                   \u001b[0m\u001b[2;36m \u001b[0m\u001b[31mWARNING \u001b[0m c:\\Users\\ysami\\.conda\\envs\\venv_lc\\lib\\site-packages\\setuptools\\_distu \u001b]8;id=471158;file://c:\\Users\\ysami\\.conda\\envs\\venv_lc\\lib\\warnings.py\u001b\\\u001b[2mwarnings.py\u001b[0m\u001b]8;;\u001b\\\u001b[2m:\u001b[0m\u001b]8;id=353786;file://c:\\Users\\ysami\\.conda\\envs\\venv_lc\\lib\\warnings.py#109\u001b\\\u001b[2m109\u001b[0m\u001b]8;;\u001b\\\n",
       "\u001b[2;36m                    \u001b[0m         tils\\version.py:\u001b[1;36m346\u001b[0m: DeprecationWarning: distutils Version classes are \u001b[2m               \u001b[0m\n",
       "\u001b[2;36m                    \u001b[0m         deprecated. Use packaging.version instead.                             \u001b[2m               \u001b[0m\n",
       "\u001b[2;36m                    \u001b[0m           other = \u001b[1;35mLooseVersion\u001b[0m\u001b[1m(\u001b[0mother\u001b[1m)\u001b[0m                                          \u001b[2m               \u001b[0m\n",
       "\u001b[2;36m                    \u001b[0m                                                                                \u001b[2m               \u001b[0m\n"
      ]
     },
     "metadata": {},
     "output_type": "display_data"
    },
    {
     "data": {
      "text/html": [
       "<pre style=\"white-space:pre;overflow-x:auto;line-height:normal;font-family:Menlo,'DejaVu Sans Mono',consolas,'Courier New',monospace\"><span style=\"color: #7fbfbf; text-decoration-color: #7fbfbf\">                    </span><span style=\"color: #000080; text-decoration-color: #000080\">INFO    </span> Config from path <span style=\"color: #008000; text-decoration-color: #008000\">'C:\\Local\\LAAS\\projets\\sampler\\conf\\env_test'</span> will       <a href=\"file://c:\\Users\\ysami\\.conda\\envs\\venv_lc\\lib\\site-packages\\kedro\\config\\common.py\" target=\"_blank\"><span style=\"color: #7f7f7f; text-decoration-color: #7f7f7f\">common.py</span></a><span style=\"color: #7f7f7f; text-decoration-color: #7f7f7f\">:</span><a href=\"file://c:\\Users\\ysami\\.conda\\envs\\venv_lc\\lib\\site-packages\\kedro\\config\\common.py#93\" target=\"_blank\"><span style=\"color: #7f7f7f; text-decoration-color: #7f7f7f\">93</span></a>\n",
       "<span style=\"color: #7fbfbf; text-decoration-color: #7fbfbf\">                    </span>         override the following existing top-level config keys: additional_values, <span style=\"color: #7f7f7f; text-decoration-color: #7f7f7f\">            </span>\n",
       "<span style=\"color: #7fbfbf; text-decoration-color: #7fbfbf\">                    </span>         env_name, experiments, features, ignition_points, initial_size,           <span style=\"color: #7f7f7f; text-decoration-color: #7f7f7f\">            </span>\n",
       "<span style=\"color: #7fbfbf; text-decoration-color: #7fbfbf\">                    </span>         initlhs_n_proc, interest_region, irbs_coefficients,                       <span style=\"color: #7f7f7f; text-decoration-color: #7f7f7f\">            </span>\n",
       "<span style=\"color: #7fbfbf; text-decoration-color: #7fbfbf\">                    </span>         irbs_error_round_decimals, irbs_opt_iters, irbs_opt_sampling_points,      <span style=\"color: #7f7f7f; text-decoration-color: #7f7f7f\">            </span>\n",
       "<span style=\"color: #7fbfbf; text-decoration-color: #7fbfbf\">                    </span>         log_scale, names, outliers_filling, params_volume, parego_experience,     <span style=\"color: #7f7f7f; text-decoration-color: #7f7f7f\">            </span>\n",
       "<span style=\"color: #7fbfbf; text-decoration-color: #7fbfbf\">                    </span>         parego_llambda_s, parego_possible_experiences, parego_tent_slope,         <span style=\"color: #7f7f7f; text-decoration-color: #7f7f7f\">            </span>\n",
       "<span style=\"color: #7fbfbf; text-decoration-color: #7fbfbf\">                    </span>         run_condition, sao_batch_size, sao_history_path, sao_max_size, scales,    <span style=\"color: #7f7f7f; text-decoration-color: #7f7f7f\">            </span>\n",
       "<span style=\"color: #7fbfbf; text-decoration-color: #7fbfbf\">                    </span>         sim_time_cutoff, simulator_env, targets, variables_ranges                 <span style=\"color: #7f7f7f; text-decoration-color: #7f7f7f\">            </span>\n",
       "</pre>\n"
      ],
      "text/plain": [
       "\u001b[2;36m                   \u001b[0m\u001b[2;36m \u001b[0m\u001b[34mINFO    \u001b[0m Config from path \u001b[32m'C:\\Local\\LAAS\\projets\\sampler\\conf\\env_test'\u001b[0m will       \u001b]8;id=209057;file://c:\\Users\\ysami\\.conda\\envs\\venv_lc\\lib\\site-packages\\kedro\\config\\common.py\u001b\\\u001b[2mcommon.py\u001b[0m\u001b]8;;\u001b\\\u001b[2m:\u001b[0m\u001b]8;id=273182;file://c:\\Users\\ysami\\.conda\\envs\\venv_lc\\lib\\site-packages\\kedro\\config\\common.py#93\u001b\\\u001b[2m93\u001b[0m\u001b]8;;\u001b\\\n",
       "\u001b[2;36m                    \u001b[0m         override the following existing top-level config keys: additional_values, \u001b[2m            \u001b[0m\n",
       "\u001b[2;36m                    \u001b[0m         env_name, experiments, features, ignition_points, initial_size,           \u001b[2m            \u001b[0m\n",
       "\u001b[2;36m                    \u001b[0m         initlhs_n_proc, interest_region, irbs_coefficients,                       \u001b[2m            \u001b[0m\n",
       "\u001b[2;36m                    \u001b[0m         irbs_error_round_decimals, irbs_opt_iters, irbs_opt_sampling_points,      \u001b[2m            \u001b[0m\n",
       "\u001b[2;36m                    \u001b[0m         log_scale, names, outliers_filling, params_volume, parego_experience,     \u001b[2m            \u001b[0m\n",
       "\u001b[2;36m                    \u001b[0m         parego_llambda_s, parego_possible_experiences, parego_tent_slope,         \u001b[2m            \u001b[0m\n",
       "\u001b[2;36m                    \u001b[0m         run_condition, sao_batch_size, sao_history_path, sao_max_size, scales,    \u001b[2m            \u001b[0m\n",
       "\u001b[2;36m                    \u001b[0m         sim_time_cutoff, simulator_env, targets, variables_ranges                 \u001b[2m            \u001b[0m\n"
      ]
     },
     "metadata": {},
     "output_type": "display_data"
    },
    {
     "data": {
      "text/html": [
       "<pre style=\"white-space:pre;overflow-x:auto;line-height:normal;font-family:Menlo,'DejaVu Sans Mono',consolas,'Courier New',monospace\"><span style=\"color: #7fbfbf; text-decoration-color: #7fbfbf\">[08/07/24 15:30:20] </span><span style=\"color: #800000; text-decoration-color: #800000\">WARNING </span> C:\\Local\\LAAS\\projets\\sampler\\src\\simulator_0d\\src\\py0D\\global_data.py <a href=\"file://c:\\Users\\ysami\\.conda\\envs\\venv_lc\\lib\\warnings.py\" target=\"_blank\"><span style=\"color: #7f7f7f; text-decoration-color: #7f7f7f\">warnings.py</span></a><span style=\"color: #7f7f7f; text-decoration-color: #7f7f7f\">:</span><a href=\"file://c:\\Users\\ysami\\.conda\\envs\\venv_lc\\lib\\warnings.py#109\" target=\"_blank\"><span style=\"color: #7f7f7f; text-decoration-color: #7f7f7f\">109</span></a>\n",
       "<span style=\"color: #7fbfbf; text-decoration-color: #7fbfbf\">                    </span>         :<span style=\"color: #008080; text-decoration-color: #008080; font-weight: bold\">20</span>: DeprecationWarning: Static method <span style=\"color: #008000; text-decoration-color: #008000\">'listFromFile'</span> is renamed to    <span style=\"color: #7f7f7f; text-decoration-color: #7f7f7f\">               </span>\n",
       "<span style=\"color: #7fbfbf; text-decoration-color: #7fbfbf\">                    </span>         <span style=\"color: #008000; text-decoration-color: #008000\">'list_from_file'</span>. The old name will be removed after Cantera <span style=\"color: #008080; text-decoration-color: #008080; font-weight: bold\">2.6</span>.      <span style=\"color: #7f7f7f; text-decoration-color: #7f7f7f\">               </span>\n",
       "<span style=\"color: #7fbfbf; text-decoration-color: #7fbfbf\">                    </span>           Reac_l = <span style=\"color: #800080; text-decoration-color: #800080; font-weight: bold\">ct.Reaction.listFromFile</span><span style=\"font-weight: bold\">(</span>name_ct, gas_ct<span style=\"font-weight: bold\">)</span>                   <span style=\"color: #7f7f7f; text-decoration-color: #7f7f7f\">               </span>\n",
       "<span style=\"color: #7fbfbf; text-decoration-color: #7fbfbf\">                    </span>                                                                                <span style=\"color: #7f7f7f; text-decoration-color: #7f7f7f\">               </span>\n",
       "</pre>\n"
      ],
      "text/plain": [
       "\u001b[2;36m[08/07/24 15:30:20]\u001b[0m\u001b[2;36m \u001b[0m\u001b[31mWARNING \u001b[0m C:\\Local\\LAAS\\projets\\sampler\\src\\simulator_0d\\src\\py0D\\global_data.py \u001b]8;id=431433;file://c:\\Users\\ysami\\.conda\\envs\\venv_lc\\lib\\warnings.py\u001b\\\u001b[2mwarnings.py\u001b[0m\u001b]8;;\u001b\\\u001b[2m:\u001b[0m\u001b]8;id=558283;file://c:\\Users\\ysami\\.conda\\envs\\venv_lc\\lib\\warnings.py#109\u001b\\\u001b[2m109\u001b[0m\u001b]8;;\u001b\\\n",
       "\u001b[2;36m                    \u001b[0m         :\u001b[1;36m20\u001b[0m: DeprecationWarning: Static method \u001b[32m'listFromFile'\u001b[0m is renamed to    \u001b[2m               \u001b[0m\n",
       "\u001b[2;36m                    \u001b[0m         \u001b[32m'list_from_file'\u001b[0m. The old name will be removed after Cantera \u001b[1;36m2.6\u001b[0m.      \u001b[2m               \u001b[0m\n",
       "\u001b[2;36m                    \u001b[0m           Reac_l = \u001b[1;35mct.Reaction.listFromFile\u001b[0m\u001b[1m(\u001b[0mname_ct, gas_ct\u001b[1m)\u001b[0m                   \u001b[2m               \u001b[0m\n",
       "\u001b[2;36m                    \u001b[0m                                                                                \u001b[2m               \u001b[0m\n"
      ]
     },
     "metadata": {},
     "output_type": "display_data"
    },
    {
     "data": {
      "text/html": [
       "<pre style=\"white-space:pre;overflow-x:auto;line-height:normal;font-family:Menlo,'DejaVu Sans Mono',consolas,'Courier New',monospace\"><span style=\"color: #7fbfbf; text-decoration-color: #7fbfbf\">                    </span><span style=\"color: #800000; text-decoration-color: #800000\">WARNING </span> C:\\Local\\LAAS\\projets\\sampler\\src\\simulator_0d\\src\\py0D\\global_data.py <a href=\"file://c:\\Users\\ysami\\.conda\\envs\\venv_lc\\lib\\warnings.py\" target=\"_blank\"><span style=\"color: #7f7f7f; text-decoration-color: #7f7f7f\">warnings.py</span></a><span style=\"color: #7f7f7f; text-decoration-color: #7f7f7f\">:</span><a href=\"file://c:\\Users\\ysami\\.conda\\envs\\venv_lc\\lib\\warnings.py#109\" target=\"_blank\"><span style=\"color: #7f7f7f; text-decoration-color: #7f7f7f\">109</span></a>\n",
       "<span style=\"color: #7fbfbf; text-decoration-color: #7fbfbf\">                    </span>         :<span style=\"color: #008080; text-decoration-color: #008080; font-weight: bold\">75</span>: RuntimeWarning: divide by zero encountered in divide              <span style=\"color: #7f7f7f; text-decoration-color: #7f7f7f\">               </span>\n",
       "<span style=\"color: #7fbfbf; text-decoration-color: #7fbfbf\">                    </span>           el_sorted_arg_species<span style=\"font-weight: bold\">[</span>i<span style=\"font-weight: bold\">]</span> = <span style=\"color: #800080; text-decoration-color: #800080; font-weight: bold\">np.argsort</span><span style=\"font-weight: bold\">(</span>element_species_array<span style=\"font-weight: bold\">[</span>i<span style=\"font-weight: bold\">]</span> <span style=\"color: #800080; text-decoration-color: #800080\">/</span>     <span style=\"color: #7f7f7f; text-decoration-color: #7f7f7f\">               </span>\n",
       "<span style=\"color: #7fbfbf; text-decoration-color: #7fbfbf\">                    </span>         <span style=\"color: #800080; text-decoration-color: #800080; font-weight: bold\">np.sum</span><span style=\"font-weight: bold\">(</span>var, axis = <span style=\"color: #008080; text-decoration-color: #008080; font-weight: bold\">0</span><span style=\"font-weight: bold\">))[</span>::<span style=\"color: #008080; text-decoration-color: #008080; font-weight: bold\">-1</span><span style=\"font-weight: bold\">]</span>                                           <span style=\"color: #7f7f7f; text-decoration-color: #7f7f7f\">               </span>\n",
       "<span style=\"color: #7fbfbf; text-decoration-color: #7fbfbf\">                    </span>                                                                                <span style=\"color: #7f7f7f; text-decoration-color: #7f7f7f\">               </span>\n",
       "</pre>\n"
      ],
      "text/plain": [
       "\u001b[2;36m                   \u001b[0m\u001b[2;36m \u001b[0m\u001b[31mWARNING \u001b[0m C:\\Local\\LAAS\\projets\\sampler\\src\\simulator_0d\\src\\py0D\\global_data.py \u001b]8;id=975927;file://c:\\Users\\ysami\\.conda\\envs\\venv_lc\\lib\\warnings.py\u001b\\\u001b[2mwarnings.py\u001b[0m\u001b]8;;\u001b\\\u001b[2m:\u001b[0m\u001b]8;id=446907;file://c:\\Users\\ysami\\.conda\\envs\\venv_lc\\lib\\warnings.py#109\u001b\\\u001b[2m109\u001b[0m\u001b]8;;\u001b\\\n",
       "\u001b[2;36m                    \u001b[0m         :\u001b[1;36m75\u001b[0m: RuntimeWarning: divide by zero encountered in divide              \u001b[2m               \u001b[0m\n",
       "\u001b[2;36m                    \u001b[0m           el_sorted_arg_species\u001b[1m[\u001b[0mi\u001b[1m]\u001b[0m = \u001b[1;35mnp.argsort\u001b[0m\u001b[1m(\u001b[0melement_species_array\u001b[1m[\u001b[0mi\u001b[1m]\u001b[0m \u001b[35m/\u001b[0m     \u001b[2m               \u001b[0m\n",
       "\u001b[2;36m                    \u001b[0m         \u001b[1;35mnp.sum\u001b[0m\u001b[1m(\u001b[0mvar, axis = \u001b[1;36m0\u001b[0m\u001b[1m)\u001b[0m\u001b[1m)\u001b[0m\u001b[1m[\u001b[0m::\u001b[1;36m-1\u001b[0m\u001b[1m]\u001b[0m                                           \u001b[2m               \u001b[0m\n",
       "\u001b[2;36m                    \u001b[0m                                                                                \u001b[2m               \u001b[0m\n"
      ]
     },
     "metadata": {},
     "output_type": "display_data"
    },
    {
     "data": {
      "text/html": [
       "<pre style=\"white-space:pre;overflow-x:auto;line-height:normal;font-family:Menlo,'DejaVu Sans Mono',consolas,'Courier New',monospace\"><span style=\"color: #7fbfbf; text-decoration-color: #7fbfbf\">                    </span><span style=\"color: #800000; text-decoration-color: #800000\">WARNING </span> C:\\Local\\LAAS\\projets\\sampler\\src\\simulator_0d\\src\\py0D\\global_data.py <a href=\"file://c:\\Users\\ysami\\.conda\\envs\\venv_lc\\lib\\warnings.py\" target=\"_blank\"><span style=\"color: #7f7f7f; text-decoration-color: #7f7f7f\">warnings.py</span></a><span style=\"color: #7f7f7f; text-decoration-color: #7f7f7f\">:</span><a href=\"file://c:\\Users\\ysami\\.conda\\envs\\venv_lc\\lib\\warnings.py#109\" target=\"_blank\"><span style=\"color: #7f7f7f; text-decoration-color: #7f7f7f\">109</span></a>\n",
       "<span style=\"color: #7fbfbf; text-decoration-color: #7fbfbf\">                    </span>         :<span style=\"color: #008080; text-decoration-color: #008080; font-weight: bold\">76</span>: RuntimeWarning: divide by zero encountered in divide              <span style=\"color: #7f7f7f; text-decoration-color: #7f7f7f\">               </span>\n",
       "<span style=\"color: #7fbfbf; text-decoration-color: #7fbfbf\">                    </span>           bool_el_ratio_sup1<span style=\"font-weight: bold\">[</span>i<span style=\"font-weight: bold\">]</span> = <span style=\"font-weight: bold\">(</span>element_species_array<span style=\"font-weight: bold\">[</span>i<span style=\"font-weight: bold\">]</span> <span style=\"color: #800080; text-decoration-color: #800080\">/</span> <span style=\"color: #800080; text-decoration-color: #800080; font-weight: bold\">np.sum</span><span style=\"font-weight: bold\">(</span>var, axis <span style=\"color: #7f7f7f; text-decoration-color: #7f7f7f\">               </span>\n",
       "<span style=\"color: #7fbfbf; text-decoration-color: #7fbfbf\">                    </span>         = <span style=\"color: #008080; text-decoration-color: #008080; font-weight: bold\">0</span><span style=\"font-weight: bold\">))</span>&gt;<span style=\"color: #008080; text-decoration-color: #008080; font-weight: bold\">1</span>                                                                <span style=\"color: #7f7f7f; text-decoration-color: #7f7f7f\">               </span>\n",
       "<span style=\"color: #7fbfbf; text-decoration-color: #7fbfbf\">                    </span>                                                                                <span style=\"color: #7f7f7f; text-decoration-color: #7f7f7f\">               </span>\n",
       "</pre>\n"
      ],
      "text/plain": [
       "\u001b[2;36m                   \u001b[0m\u001b[2;36m \u001b[0m\u001b[31mWARNING \u001b[0m C:\\Local\\LAAS\\projets\\sampler\\src\\simulator_0d\\src\\py0D\\global_data.py \u001b]8;id=744921;file://c:\\Users\\ysami\\.conda\\envs\\venv_lc\\lib\\warnings.py\u001b\\\u001b[2mwarnings.py\u001b[0m\u001b]8;;\u001b\\\u001b[2m:\u001b[0m\u001b]8;id=535844;file://c:\\Users\\ysami\\.conda\\envs\\venv_lc\\lib\\warnings.py#109\u001b\\\u001b[2m109\u001b[0m\u001b]8;;\u001b\\\n",
       "\u001b[2;36m                    \u001b[0m         :\u001b[1;36m76\u001b[0m: RuntimeWarning: divide by zero encountered in divide              \u001b[2m               \u001b[0m\n",
       "\u001b[2;36m                    \u001b[0m           bool_el_ratio_sup1\u001b[1m[\u001b[0mi\u001b[1m]\u001b[0m = \u001b[1m(\u001b[0melement_species_array\u001b[1m[\u001b[0mi\u001b[1m]\u001b[0m \u001b[35m/\u001b[0m \u001b[1;35mnp.sum\u001b[0m\u001b[1m(\u001b[0mvar, axis \u001b[2m               \u001b[0m\n",
       "\u001b[2;36m                    \u001b[0m         = \u001b[1;36m0\u001b[0m\u001b[1m)\u001b[0m\u001b[1m)\u001b[0m>\u001b[1;36m1\u001b[0m                                                                \u001b[2m               \u001b[0m\n",
       "\u001b[2;36m                    \u001b[0m                                                                                \u001b[2m               \u001b[0m\n"
      ]
     },
     "metadata": {},
     "output_type": "display_data"
    },
    {
     "data": {
      "text/html": [
       "<pre style=\"white-space:pre;overflow-x:auto;line-height:normal;font-family:Menlo,'DejaVu Sans Mono',consolas,'Courier New',monospace\"><span style=\"color: #7fbfbf; text-decoration-color: #7fbfbf\">                    </span><span style=\"color: #800000; text-decoration-color: #800000\">WARNING </span> c:\\Users\\ysami\\.conda\\envs\\venv_lc\\lib\\site-packages\\kedro\\framework\\p <a href=\"file://c:\\Users\\ysami\\.conda\\envs\\venv_lc\\lib\\warnings.py\" target=\"_blank\"><span style=\"color: #7f7f7f; text-decoration-color: #7f7f7f\">warnings.py</span></a><span style=\"color: #7f7f7f; text-decoration-color: #7f7f7f\">:</span><a href=\"file://c:\\Users\\ysami\\.conda\\envs\\venv_lc\\lib\\warnings.py#109\" target=\"_blank\"><span style=\"color: #7f7f7f; text-decoration-color: #7f7f7f\">109</span></a>\n",
       "<span style=\"color: #7fbfbf; text-decoration-color: #7fbfbf\">                    </span>         roject\\__init__.py:<span style=\"color: #008080; text-decoration-color: #008080; font-weight: bold\">359</span>: UserWarning: An error occurred while importing <span style=\"color: #7f7f7f; text-decoration-color: #7f7f7f\">               </span>\n",
       "<span style=\"color: #7fbfbf; text-decoration-color: #7fbfbf\">                    </span>         the <span style=\"color: #008000; text-decoration-color: #008000\">'sampler.pipelines.init_lhs'</span> module. Nothing defined therein will  <span style=\"color: #7f7f7f; text-decoration-color: #7f7f7f\">               </span>\n",
       "<span style=\"color: #7fbfbf; text-decoration-color: #7fbfbf\">                    </span>         be returned by <span style=\"color: #008000; text-decoration-color: #008000\">'find_pipelines'</span>.                                       <span style=\"color: #7f7f7f; text-decoration-color: #7f7f7f\">               </span>\n",
       "<span style=\"color: #7fbfbf; text-decoration-color: #7fbfbf\">                    </span>                                                                                <span style=\"color: #7f7f7f; text-decoration-color: #7f7f7f\">               </span>\n",
       "<span style=\"color: #7fbfbf; text-decoration-color: #7fbfbf\">                    </span>         Traceback <span style=\"font-weight: bold\">(</span>most recent call last<span style=\"font-weight: bold\">)</span>:                                     <span style=\"color: #7f7f7f; text-decoration-color: #7f7f7f\">               </span>\n",
       "<span style=\"color: #7fbfbf; text-decoration-color: #7fbfbf\">                    </span>           File                                                                 <span style=\"color: #7f7f7f; text-decoration-color: #7f7f7f\">               </span>\n",
       "<span style=\"color: #7fbfbf; text-decoration-color: #7fbfbf\">                    </span>         <span style=\"color: #008000; text-decoration-color: #008000\">\"c:\\Users\\ysami\\.conda\\envs\\venv_lc\\lib\\site-packages\\kedro\\framework\\</span> <span style=\"color: #7f7f7f; text-decoration-color: #7f7f7f\">               </span>\n",
       "<span style=\"color: #7fbfbf; text-decoration-color: #7fbfbf\">                    </span>         <span style=\"color: #008000; text-decoration-color: #008000\">project\\__init__.py\"</span>, line <span style=\"color: #008080; text-decoration-color: #008080; font-weight: bold\">357</span>, in find_pipelines                      <span style=\"color: #7f7f7f; text-decoration-color: #7f7f7f\">               </span>\n",
       "<span style=\"color: #7fbfbf; text-decoration-color: #7fbfbf\">                    </span>             pipeline_module = <span style=\"color: #800080; text-decoration-color: #800080; font-weight: bold\">importlib.import_module</span><span style=\"font-weight: bold\">(</span>pipeline_module_name<span style=\"font-weight: bold\">)</span>    <span style=\"color: #7f7f7f; text-decoration-color: #7f7f7f\">               </span>\n",
       "<span style=\"color: #7fbfbf; text-decoration-color: #7fbfbf\">                    </span>           File <span style=\"color: #008000; text-decoration-color: #008000\">\"c:\\Users\\ysami\\.conda\\envs\\venv_lc\\lib\\importlib\\__init__.py\"</span>, <span style=\"color: #7f7f7f; text-decoration-color: #7f7f7f\">               </span>\n",
       "<span style=\"color: #7fbfbf; text-decoration-color: #7fbfbf\">                    </span>         line <span style=\"color: #008080; text-decoration-color: #008080; font-weight: bold\">127</span>, in import_module                                             <span style=\"color: #7f7f7f; text-decoration-color: #7f7f7f\">               </span>\n",
       "<span style=\"color: #7fbfbf; text-decoration-color: #7fbfbf\">                    </span>             return <span style=\"color: #800080; text-decoration-color: #800080; font-weight: bold\">_bootstrap._gcd_import</span><span style=\"font-weight: bold\">(</span>name<span style=\"font-weight: bold\">[</span>level:<span style=\"font-weight: bold\">]</span>, package, level<span style=\"font-weight: bold\">)</span>        <span style=\"color: #7f7f7f; text-decoration-color: #7f7f7f\">               </span>\n",
       "<span style=\"color: #7fbfbf; text-decoration-color: #7fbfbf\">                    </span>           File <span style=\"color: #008000; text-decoration-color: #008000\">\"&lt;frozen importlib._bootstrap&gt;\"</span><span style=\"color: #000000; text-decoration-color: #000000\">, line </span><span style=\"color: #008080; text-decoration-color: #008080; font-weight: bold\">1014</span><span style=\"color: #000000; text-decoration-color: #000000\">, in _gcd_import</span>      <span style=\"color: #7f7f7f; text-decoration-color: #7f7f7f\">               </span>\n",
       "<span style=\"color: #7fbfbf; text-decoration-color: #7fbfbf\">                    </span>         <span style=\"color: #000000; text-decoration-color: #000000\">  File </span><span style=\"color: #008000; text-decoration-color: #008000\">\"&lt;frozen importlib._bootstrap&gt;\"</span><span style=\"color: #000000; text-decoration-color: #000000\">, line </span><span style=\"color: #008080; text-decoration-color: #008080; font-weight: bold\">991</span><span style=\"color: #000000; text-decoration-color: #000000\">, in _find_and_load</span>    <span style=\"color: #7f7f7f; text-decoration-color: #7f7f7f\">               </span>\n",
       "<span style=\"color: #7fbfbf; text-decoration-color: #7fbfbf\">                    </span>         <span style=\"color: #000000; text-decoration-color: #000000\">  File </span><span style=\"color: #008000; text-decoration-color: #008000\">\"&lt;frozen importlib._bootstrap&gt;\"</span><span style=\"color: #000000; text-decoration-color: #000000\">, line </span><span style=\"color: #008080; text-decoration-color: #008080; font-weight: bold\">975</span><span style=\"color: #000000; text-decoration-color: #000000\">, in </span>                  <span style=\"color: #7f7f7f; text-decoration-color: #7f7f7f\">               </span>\n",
       "<span style=\"color: #7fbfbf; text-decoration-color: #7fbfbf\">                    </span>         <span style=\"color: #000000; text-decoration-color: #000000\">_find_and_load_unlocked</span>                                                <span style=\"color: #7f7f7f; text-decoration-color: #7f7f7f\">               </span>\n",
       "<span style=\"color: #7fbfbf; text-decoration-color: #7fbfbf\">                    </span>         <span style=\"color: #000000; text-decoration-color: #000000\">  File </span><span style=\"color: #008000; text-decoration-color: #008000\">\"&lt;frozen importlib._bootstrap&gt;\"</span><span style=\"color: #000000; text-decoration-color: #000000\">, line </span><span style=\"color: #008080; text-decoration-color: #008080; font-weight: bold\">671</span><span style=\"color: #000000; text-decoration-color: #000000\">, in _load_unlocked</span>    <span style=\"color: #7f7f7f; text-decoration-color: #7f7f7f\">               </span>\n",
       "<span style=\"color: #7fbfbf; text-decoration-color: #7fbfbf\">                    </span>         <span style=\"color: #000000; text-decoration-color: #000000\">  File </span><span style=\"color: #008000; text-decoration-color: #008000\">\"&lt;frozen importlib._bootstrap_external&gt;\"</span><span style=\"color: #000000; text-decoration-color: #000000\">, line </span><span style=\"color: #008080; text-decoration-color: #008080; font-weight: bold\">843</span><span style=\"color: #000000; text-decoration-color: #000000\">, in </span>         <span style=\"color: #7f7f7f; text-decoration-color: #7f7f7f\">               </span>\n",
       "<span style=\"color: #7fbfbf; text-decoration-color: #7fbfbf\">                    </span>         <span style=\"color: #000000; text-decoration-color: #000000\">exec_module</span>                                                            <span style=\"color: #7f7f7f; text-decoration-color: #7f7f7f\">               </span>\n",
       "<span style=\"color: #7fbfbf; text-decoration-color: #7fbfbf\">                    </span>         <span style=\"color: #000000; text-decoration-color: #000000\">  File </span><span style=\"color: #008000; text-decoration-color: #008000\">\"&lt;frozen importlib._bootstrap&gt;\"</span><span style=\"color: #000000; text-decoration-color: #000000\">, line </span><span style=\"color: #008080; text-decoration-color: #008080; font-weight: bold\">219</span><span style=\"color: #000000; text-decoration-color: #000000\">, in </span>                  <span style=\"color: #7f7f7f; text-decoration-color: #7f7f7f\">               </span>\n",
       "<span style=\"color: #7fbfbf; text-decoration-color: #7fbfbf\">                    </span>         <span style=\"color: #000000; text-decoration-color: #000000\">_call_with_frames_removed</span>                                              <span style=\"color: #7f7f7f; text-decoration-color: #7f7f7f\">               </span>\n",
       "<span style=\"color: #7fbfbf; text-decoration-color: #7fbfbf\">                    </span>         <span style=\"color: #000000; text-decoration-color: #000000\">  File </span>                                                                <span style=\"color: #7f7f7f; text-decoration-color: #7f7f7f\">               </span>\n",
       "<span style=\"color: #7fbfbf; text-decoration-color: #7fbfbf\">                    </span>         <span style=\"color: #008000; text-decoration-color: #008000\">\"C:\\Local\\LAAS\\projets\\sampler\\src\\sampler\\pipelines\\init_lhs\\__init__</span> <span style=\"color: #7f7f7f; text-decoration-color: #7f7f7f\">               </span>\n",
       "<span style=\"color: #7fbfbf; text-decoration-color: #7fbfbf\">                    </span>         <span style=\"color: #008000; text-decoration-color: #008000\">.py\"</span><span style=\"color: #000000; text-decoration-color: #000000\">, line </span><span style=\"color: #008080; text-decoration-color: #008080; font-weight: bold\">6</span><span style=\"color: #000000; text-decoration-color: #000000\">, in &lt;module&gt;</span>                                              <span style=\"color: #7f7f7f; text-decoration-color: #7f7f7f\">               </span>\n",
       "<span style=\"color: #7fbfbf; text-decoration-color: #7fbfbf\">                    </span>         <span style=\"color: #000000; text-decoration-color: #000000\">    from .pipeline import create_pipeline</span>                              <span style=\"color: #7f7f7f; text-decoration-color: #7f7f7f\">               </span>\n",
       "<span style=\"color: #7fbfbf; text-decoration-color: #7fbfbf\">                    </span>         <span style=\"color: #000000; text-decoration-color: #000000\">  File </span>                                                                <span style=\"color: #7f7f7f; text-decoration-color: #7f7f7f\">               </span>\n",
       "<span style=\"color: #7fbfbf; text-decoration-color: #7fbfbf\">                    </span>         <span style=\"color: #008000; text-decoration-color: #008000\">\"C:\\Local\\LAAS\\projets\\sampler\\src\\sampler\\pipelines\\init_lhs\\pipeline</span> <span style=\"color: #7f7f7f; text-decoration-color: #7f7f7f\">               </span>\n",
       "<span style=\"color: #7fbfbf; text-decoration-color: #7fbfbf\">                    </span>         <span style=\"color: #008000; text-decoration-color: #008000\">.py\"</span><span style=\"color: #000000; text-decoration-color: #000000\">, line </span><span style=\"color: #008080; text-decoration-color: #008080; font-weight: bold\">8</span><span style=\"color: #000000; text-decoration-color: #000000\">, in &lt;module&gt;</span>                                              <span style=\"color: #7f7f7f; text-decoration-color: #7f7f7f\">               </span>\n",
       "<span style=\"color: #7fbfbf; text-decoration-color: #7fbfbf\">                    </span>         <span style=\"color: #000000; text-decoration-color: #000000\">    from sampler.pipelines.init_lhs.nodes import generate_LHS_inputs, </span> <span style=\"color: #7f7f7f; text-decoration-color: #7f7f7f\">               </span>\n",
       "<span style=\"color: #7fbfbf; text-decoration-color: #7fbfbf\">                    </span>         <span style=\"color: #000000; text-decoration-color: #000000\">evaluate_LHS</span>                                                           <span style=\"color: #7f7f7f; text-decoration-color: #7f7f7f\">               </span>\n",
       "<span style=\"color: #7fbfbf; text-decoration-color: #7fbfbf\">                    </span>         <span style=\"color: #000000; text-decoration-color: #000000\">  File </span>                                                                <span style=\"color: #7f7f7f; text-decoration-color: #7f7f7f\">               </span>\n",
       "<span style=\"color: #7fbfbf; text-decoration-color: #7fbfbf\">                    </span>         <span style=\"color: #008000; text-decoration-color: #008000\">\"C:\\Local\\LAAS\\projets\\sampler\\src\\sampler\\pipelines\\init_lhs\\nodes.py</span> <span style=\"color: #7f7f7f; text-decoration-color: #7f7f7f\">               </span>\n",
       "<span style=\"color: #7fbfbf; text-decoration-color: #7fbfbf\">                    </span>         <span style=\"color: #008000; text-decoration-color: #008000\">\"</span><span style=\"color: #000000; text-decoration-color: #000000\">, line </span><span style=\"color: #008080; text-decoration-color: #008080; font-weight: bold\">7</span><span style=\"color: #000000; text-decoration-color: #000000\">, in &lt;module</span><span style=\"font-weight: bold\">&gt;</span>                                                 <span style=\"color: #7f7f7f; text-decoration-color: #7f7f7f\">               </span>\n",
       "<span style=\"color: #7fbfbf; text-decoration-color: #7fbfbf\">                    </span>             from smt.sampling_methods import LHS                               <span style=\"color: #7f7f7f; text-decoration-color: #7f7f7f\">               </span>\n",
       "<span style=\"color: #7fbfbf; text-decoration-color: #7fbfbf\">                    </span>         ModuleNotFoundError: No module named <span style=\"color: #008000; text-decoration-color: #008000\">'smt'</span>                             <span style=\"color: #7f7f7f; text-decoration-color: #7f7f7f\">               </span>\n",
       "<span style=\"color: #7fbfbf; text-decoration-color: #7fbfbf\">                    </span>                                                                                <span style=\"color: #7f7f7f; text-decoration-color: #7f7f7f\">               </span>\n",
       "<span style=\"color: #7fbfbf; text-decoration-color: #7fbfbf\">                    </span>           <span style=\"color: #800080; text-decoration-color: #800080; font-weight: bold\">warnings.warn</span><span style=\"font-weight: bold\">(</span>                                                       <span style=\"color: #7f7f7f; text-decoration-color: #7f7f7f\">               </span>\n",
       "<span style=\"color: #7fbfbf; text-decoration-color: #7fbfbf\">                    </span>                                                                                <span style=\"color: #7f7f7f; text-decoration-color: #7f7f7f\">               </span>\n",
       "</pre>\n"
      ],
      "text/plain": [
       "\u001b[2;36m                   \u001b[0m\u001b[2;36m \u001b[0m\u001b[31mWARNING \u001b[0m c:\\Users\\ysami\\.conda\\envs\\venv_lc\\lib\\site-packages\\kedro\\framework\\p \u001b]8;id=534274;file://c:\\Users\\ysami\\.conda\\envs\\venv_lc\\lib\\warnings.py\u001b\\\u001b[2mwarnings.py\u001b[0m\u001b]8;;\u001b\\\u001b[2m:\u001b[0m\u001b]8;id=15918;file://c:\\Users\\ysami\\.conda\\envs\\venv_lc\\lib\\warnings.py#109\u001b\\\u001b[2m109\u001b[0m\u001b]8;;\u001b\\\n",
       "\u001b[2;36m                    \u001b[0m         roject\\__init__.py:\u001b[1;36m359\u001b[0m: UserWarning: An error occurred while importing \u001b[2m               \u001b[0m\n",
       "\u001b[2;36m                    \u001b[0m         the \u001b[32m'sampler.pipelines.init_lhs'\u001b[0m module. Nothing defined therein will  \u001b[2m               \u001b[0m\n",
       "\u001b[2;36m                    \u001b[0m         be returned by \u001b[32m'find_pipelines'\u001b[0m.                                       \u001b[2m               \u001b[0m\n",
       "\u001b[2;36m                    \u001b[0m                                                                                \u001b[2m               \u001b[0m\n",
       "\u001b[2;36m                    \u001b[0m         Traceback \u001b[1m(\u001b[0mmost recent call last\u001b[1m)\u001b[0m:                                     \u001b[2m               \u001b[0m\n",
       "\u001b[2;36m                    \u001b[0m           File                                                                 \u001b[2m               \u001b[0m\n",
       "\u001b[2;36m                    \u001b[0m         \u001b[32m\"c:\\Users\\ysami\\.conda\\envs\\venv_lc\\lib\\site-packages\\kedro\\framework\\\u001b[0m \u001b[2m               \u001b[0m\n",
       "\u001b[2;36m                    \u001b[0m         \u001b[32mproject\\__init__.py\"\u001b[0m, line \u001b[1;36m357\u001b[0m, in find_pipelines                      \u001b[2m               \u001b[0m\n",
       "\u001b[2;36m                    \u001b[0m             pipeline_module = \u001b[1;35mimportlib.import_module\u001b[0m\u001b[1m(\u001b[0mpipeline_module_name\u001b[1m)\u001b[0m    \u001b[2m               \u001b[0m\n",
       "\u001b[2;36m                    \u001b[0m           File \u001b[32m\"c:\\Users\\ysami\\.conda\\envs\\venv_lc\\lib\\importlib\\__init__.py\"\u001b[0m, \u001b[2m               \u001b[0m\n",
       "\u001b[2;36m                    \u001b[0m         line \u001b[1;36m127\u001b[0m, in import_module                                             \u001b[2m               \u001b[0m\n",
       "\u001b[2;36m                    \u001b[0m             return \u001b[1;35m_bootstrap._gcd_import\u001b[0m\u001b[1m(\u001b[0mname\u001b[1m[\u001b[0mlevel:\u001b[1m]\u001b[0m, package, level\u001b[1m)\u001b[0m        \u001b[2m               \u001b[0m\n",
       "\u001b[2;36m                    \u001b[0m           File \u001b[32m\"\u001b[0m\u001b[32m<\u001b[0m\u001b[32mfrozen\u001b[0m\u001b[32m importlib._bootstrap>\"\u001b[0m\u001b[39m, line \u001b[0m\u001b[1;36m1014\u001b[0m\u001b[39m, in _gcd_import\u001b[0m      \u001b[2m               \u001b[0m\n",
       "\u001b[2;36m                    \u001b[0m         \u001b[39m  File \u001b[0m\u001b[32m\"<frozen importlib._bootstrap>\"\u001b[0m\u001b[39m, line \u001b[0m\u001b[1;36m991\u001b[0m\u001b[39m, in _find_and_load\u001b[0m    \u001b[2m               \u001b[0m\n",
       "\u001b[2;36m                    \u001b[0m         \u001b[39m  File \u001b[0m\u001b[32m\"<frozen importlib._bootstrap>\"\u001b[0m\u001b[39m, line \u001b[0m\u001b[1;36m975\u001b[0m\u001b[39m, in \u001b[0m                  \u001b[2m               \u001b[0m\n",
       "\u001b[2;36m                    \u001b[0m         \u001b[39m_find_and_load_unlocked\u001b[0m                                                \u001b[2m               \u001b[0m\n",
       "\u001b[2;36m                    \u001b[0m         \u001b[39m  File \u001b[0m\u001b[32m\"<frozen importlib._bootstrap>\"\u001b[0m\u001b[39m, line \u001b[0m\u001b[1;36m671\u001b[0m\u001b[39m, in _load_unlocked\u001b[0m    \u001b[2m               \u001b[0m\n",
       "\u001b[2;36m                    \u001b[0m         \u001b[39m  File \u001b[0m\u001b[32m\"<frozen importlib._bootstrap_external>\"\u001b[0m\u001b[39m, line \u001b[0m\u001b[1;36m843\u001b[0m\u001b[39m, in \u001b[0m         \u001b[2m               \u001b[0m\n",
       "\u001b[2;36m                    \u001b[0m         \u001b[39mexec_module\u001b[0m                                                            \u001b[2m               \u001b[0m\n",
       "\u001b[2;36m                    \u001b[0m         \u001b[39m  File \u001b[0m\u001b[32m\"<frozen importlib._bootstrap>\"\u001b[0m\u001b[39m, line \u001b[0m\u001b[1;36m219\u001b[0m\u001b[39m, in \u001b[0m                  \u001b[2m               \u001b[0m\n",
       "\u001b[2;36m                    \u001b[0m         \u001b[39m_call_with_frames_removed\u001b[0m                                              \u001b[2m               \u001b[0m\n",
       "\u001b[2;36m                    \u001b[0m         \u001b[39m  File \u001b[0m                                                                \u001b[2m               \u001b[0m\n",
       "\u001b[2;36m                    \u001b[0m         \u001b[32m\"C:\\Local\\LAAS\\projets\\sampler\\src\\sampler\\pipelines\\init_lhs\\__init__\u001b[0m \u001b[2m               \u001b[0m\n",
       "\u001b[2;36m                    \u001b[0m         \u001b[32m.py\"\u001b[0m\u001b[39m, line \u001b[0m\u001b[1;36m6\u001b[0m\u001b[39m, in <module>\u001b[0m                                              \u001b[2m               \u001b[0m\n",
       "\u001b[2;36m                    \u001b[0m         \u001b[39m    from .pipeline import create_pipeline\u001b[0m                              \u001b[2m               \u001b[0m\n",
       "\u001b[2;36m                    \u001b[0m         \u001b[39m  File \u001b[0m                                                                \u001b[2m               \u001b[0m\n",
       "\u001b[2;36m                    \u001b[0m         \u001b[32m\"C:\\Local\\LAAS\\projets\\sampler\\src\\sampler\\pipelines\\init_lhs\\pipeline\u001b[0m \u001b[2m               \u001b[0m\n",
       "\u001b[2;36m                    \u001b[0m         \u001b[32m.py\"\u001b[0m\u001b[39m, line \u001b[0m\u001b[1;36m8\u001b[0m\u001b[39m, in <module>\u001b[0m                                              \u001b[2m               \u001b[0m\n",
       "\u001b[2;36m                    \u001b[0m         \u001b[39m    from sampler.pipelines.init_lhs.nodes import generate_LHS_inputs, \u001b[0m \u001b[2m               \u001b[0m\n",
       "\u001b[2;36m                    \u001b[0m         \u001b[39mevaluate_LHS\u001b[0m                                                           \u001b[2m               \u001b[0m\n",
       "\u001b[2;36m                    \u001b[0m         \u001b[39m  File \u001b[0m                                                                \u001b[2m               \u001b[0m\n",
       "\u001b[2;36m                    \u001b[0m         \u001b[32m\"C:\\Local\\LAAS\\projets\\sampler\\src\\sampler\\pipelines\\init_lhs\\nodes.py\u001b[0m \u001b[2m               \u001b[0m\n",
       "\u001b[2;36m                    \u001b[0m         \u001b[32m\"\u001b[0m\u001b[39m, line \u001b[0m\u001b[1;36m7\u001b[0m\u001b[39m, in <module\u001b[0m\u001b[1m>\u001b[0m                                                 \u001b[2m               \u001b[0m\n",
       "\u001b[2;36m                    \u001b[0m             from smt.sampling_methods import LHS                               \u001b[2m               \u001b[0m\n",
       "\u001b[2;36m                    \u001b[0m         ModuleNotFoundError: No module named \u001b[32m'smt'\u001b[0m                             \u001b[2m               \u001b[0m\n",
       "\u001b[2;36m                    \u001b[0m                                                                                \u001b[2m               \u001b[0m\n",
       "\u001b[2;36m                    \u001b[0m           \u001b[1;35mwarnings.warn\u001b[0m\u001b[1m(\u001b[0m                                                       \u001b[2m               \u001b[0m\n",
       "\u001b[2;36m                    \u001b[0m                                                                                \u001b[2m               \u001b[0m\n"
      ]
     },
     "metadata": {},
     "output_type": "display_data"
    },
    {
     "data": {
      "text/html": [
       "<pre style=\"white-space:pre;overflow-x:auto;line-height:normal;font-family:Menlo,'DejaVu Sans Mono',consolas,'Courier New',monospace\"><span style=\"color: #7fbfbf; text-decoration-color: #7fbfbf\">[08/07/24 15:30:21] </span><span style=\"color: #000080; text-decoration-color: #000080\">INFO    </span> Config from path <span style=\"color: #008000; text-decoration-color: #008000\">'C:\\Local\\LAAS\\projets\\sampler\\conf\\env_test'</span> will       <a href=\"file://c:\\Users\\ysami\\.conda\\envs\\venv_lc\\lib\\site-packages\\kedro\\config\\common.py\" target=\"_blank\"><span style=\"color: #7f7f7f; text-decoration-color: #7f7f7f\">common.py</span></a><span style=\"color: #7f7f7f; text-decoration-color: #7f7f7f\">:</span><a href=\"file://c:\\Users\\ysami\\.conda\\envs\\venv_lc\\lib\\site-packages\\kedro\\config\\common.py#93\" target=\"_blank\"><span style=\"color: #7f7f7f; text-decoration-color: #7f7f7f\">93</span></a>\n",
       "<span style=\"color: #7fbfbf; text-decoration-color: #7fbfbf\">                    </span>         override the following existing top-level config keys: initial_data,      <span style=\"color: #7f7f7f; text-decoration-color: #7f7f7f\">            </span>\n",
       "<span style=\"color: #7fbfbf; text-decoration-color: #7fbfbf\">                    </span>         irbs_history, irbs_increased_data, metrics_plots, parego_history,         <span style=\"color: #7f7f7f; text-decoration-color: #7f7f7f\">            </span>\n",
       "<span style=\"color: #7fbfbf; text-decoration-color: #7fbfbf\">                    </span>         parego_increased_data, sao_history, sao_increased_data, sao_optim_res,    <span style=\"color: #7f7f7f; text-decoration-color: #7f7f7f\">            </span>\n",
       "<span style=\"color: #7fbfbf; text-decoration-color: #7fbfbf\">                    </span>         scaler, treated_data, treatment                                           <span style=\"color: #7f7f7f; text-decoration-color: #7f7f7f\">            </span>\n",
       "</pre>\n"
      ],
      "text/plain": [
       "\u001b[2;36m[08/07/24 15:30:21]\u001b[0m\u001b[2;36m \u001b[0m\u001b[34mINFO    \u001b[0m Config from path \u001b[32m'C:\\Local\\LAAS\\projets\\sampler\\conf\\env_test'\u001b[0m will       \u001b]8;id=429258;file://c:\\Users\\ysami\\.conda\\envs\\venv_lc\\lib\\site-packages\\kedro\\config\\common.py\u001b\\\u001b[2mcommon.py\u001b[0m\u001b]8;;\u001b\\\u001b[2m:\u001b[0m\u001b]8;id=605426;file://c:\\Users\\ysami\\.conda\\envs\\venv_lc\\lib\\site-packages\\kedro\\config\\common.py#93\u001b\\\u001b[2m93\u001b[0m\u001b]8;;\u001b\\\n",
       "\u001b[2;36m                    \u001b[0m         override the following existing top-level config keys: initial_data,      \u001b[2m            \u001b[0m\n",
       "\u001b[2;36m                    \u001b[0m         irbs_history, irbs_increased_data, metrics_plots, parego_history,         \u001b[2m            \u001b[0m\n",
       "\u001b[2;36m                    \u001b[0m         parego_increased_data, sao_history, sao_increased_data, sao_optim_res,    \u001b[2m            \u001b[0m\n",
       "\u001b[2;36m                    \u001b[0m         scaler, treated_data, treatment                                           \u001b[2m            \u001b[0m\n"
      ]
     },
     "metadata": {},
     "output_type": "display_data"
    },
    {
     "data": {
      "text/html": [
       "<pre style=\"white-space:pre;overflow-x:auto;line-height:normal;font-family:Menlo,'DejaVu Sans Mono',consolas,'Courier New',monospace\"><span style=\"color: #7fbfbf; text-decoration-color: #7fbfbf\">                    </span><span style=\"color: #000080; text-decoration-color: #000080\">INFO    </span> Config from path <span style=\"color: #008000; text-decoration-color: #008000\">'C:\\Local\\LAAS\\projets\\sampler\\conf\\env_test'</span> will       <a href=\"file://c:\\Users\\ysami\\.conda\\envs\\venv_lc\\lib\\site-packages\\kedro\\config\\common.py\" target=\"_blank\"><span style=\"color: #7f7f7f; text-decoration-color: #7f7f7f\">common.py</span></a><span style=\"color: #7f7f7f; text-decoration-color: #7f7f7f\">:</span><a href=\"file://c:\\Users\\ysami\\.conda\\envs\\venv_lc\\lib\\site-packages\\kedro\\config\\common.py#93\" target=\"_blank\"><span style=\"color: #7f7f7f; text-decoration-color: #7f7f7f\">93</span></a>\n",
       "<span style=\"color: #7fbfbf; text-decoration-color: #7fbfbf\">                    </span>         override the following existing top-level config keys: additional_values, <span style=\"color: #7f7f7f; text-decoration-color: #7f7f7f\">            </span>\n",
       "<span style=\"color: #7fbfbf; text-decoration-color: #7fbfbf\">                    </span>         env_name, experiments, features, ignition_points, initial_size,           <span style=\"color: #7f7f7f; text-decoration-color: #7f7f7f\">            </span>\n",
       "<span style=\"color: #7fbfbf; text-decoration-color: #7fbfbf\">                    </span>         initlhs_n_proc, interest_region, irbs_coefficients,                       <span style=\"color: #7f7f7f; text-decoration-color: #7f7f7f\">            </span>\n",
       "<span style=\"color: #7fbfbf; text-decoration-color: #7fbfbf\">                    </span>         irbs_error_round_decimals, irbs_opt_iters, irbs_opt_sampling_points,      <span style=\"color: #7f7f7f; text-decoration-color: #7f7f7f\">            </span>\n",
       "<span style=\"color: #7fbfbf; text-decoration-color: #7fbfbf\">                    </span>         log_scale, names, outliers_filling, params_volume, parego_experience,     <span style=\"color: #7f7f7f; text-decoration-color: #7f7f7f\">            </span>\n",
       "<span style=\"color: #7fbfbf; text-decoration-color: #7fbfbf\">                    </span>         parego_llambda_s, parego_possible_experiences, parego_tent_slope,         <span style=\"color: #7f7f7f; text-decoration-color: #7f7f7f\">            </span>\n",
       "<span style=\"color: #7fbfbf; text-decoration-color: #7fbfbf\">                    </span>         run_condition, sao_batch_size, sao_history_path, sao_max_size, scales,    <span style=\"color: #7f7f7f; text-decoration-color: #7f7f7f\">            </span>\n",
       "<span style=\"color: #7fbfbf; text-decoration-color: #7fbfbf\">                    </span>         sim_time_cutoff, simulator_env, targets, variables_ranges                 <span style=\"color: #7f7f7f; text-decoration-color: #7f7f7f\">            </span>\n",
       "</pre>\n"
      ],
      "text/plain": [
       "\u001b[2;36m                   \u001b[0m\u001b[2;36m \u001b[0m\u001b[34mINFO    \u001b[0m Config from path \u001b[32m'C:\\Local\\LAAS\\projets\\sampler\\conf\\env_test'\u001b[0m will       \u001b]8;id=601065;file://c:\\Users\\ysami\\.conda\\envs\\venv_lc\\lib\\site-packages\\kedro\\config\\common.py\u001b\\\u001b[2mcommon.py\u001b[0m\u001b]8;;\u001b\\\u001b[2m:\u001b[0m\u001b]8;id=66468;file://c:\\Users\\ysami\\.conda\\envs\\venv_lc\\lib\\site-packages\\kedro\\config\\common.py#93\u001b\\\u001b[2m93\u001b[0m\u001b]8;;\u001b\\\n",
       "\u001b[2;36m                    \u001b[0m         override the following existing top-level config keys: additional_values, \u001b[2m            \u001b[0m\n",
       "\u001b[2;36m                    \u001b[0m         env_name, experiments, features, ignition_points, initial_size,           \u001b[2m            \u001b[0m\n",
       "\u001b[2;36m                    \u001b[0m         initlhs_n_proc, interest_region, irbs_coefficients,                       \u001b[2m            \u001b[0m\n",
       "\u001b[2;36m                    \u001b[0m         irbs_error_round_decimals, irbs_opt_iters, irbs_opt_sampling_points,      \u001b[2m            \u001b[0m\n",
       "\u001b[2;36m                    \u001b[0m         log_scale, names, outliers_filling, params_volume, parego_experience,     \u001b[2m            \u001b[0m\n",
       "\u001b[2;36m                    \u001b[0m         parego_llambda_s, parego_possible_experiences, parego_tent_slope,         \u001b[2m            \u001b[0m\n",
       "\u001b[2;36m                    \u001b[0m         run_condition, sao_batch_size, sao_history_path, sao_max_size, scales,    \u001b[2m            \u001b[0m\n",
       "\u001b[2;36m                    \u001b[0m         sim_time_cutoff, simulator_env, targets, variables_ranges                 \u001b[2m            \u001b[0m\n"
      ]
     },
     "metadata": {},
     "output_type": "display_data"
    }
   ],
   "source": [
    "import os\n",
    "from kedro.framework.startup import bootstrap_project\n",
    "from kedro.framework.session import KedroSession\n",
    "\n",
    "# Set project root path and the \n",
    "ROOT = os.path.dirname(os.path.abspath(\"\"))\n",
    "\n",
    "# Set name of kedro env in ROOT/conf/env_name you want to load\n",
    "env_name = 'env_test'\n",
    "\n",
    "# Bootstrap the Kedro project\n",
    "metadata = bootstrap_project(ROOT)\n",
    "\n",
    "# Create a KedroSession\n",
    "with KedroSession.create(metadata.package_name, metadata.project_path, env=env_name) as session:\n",
    "    context = session.load_context()\n",
    "    catalog = context.catalog"
   ]
  },
  {
   "cell_type": "markdown",
   "metadata": {},
   "source": [
    "To load an object definition use `catalog.dataset.object_name`"
   ]
  },
  {
   "cell_type": "code",
   "execution_count": 2,
   "metadata": {},
   "outputs": [
    {
     "name": "stdout",
     "output_type": "stream",
     "text": [
      "Path of initial_data is: C:/Local/LAAS/projets/sampler/data/02_intermediate/100_initial_data.csv\n"
     ]
    }
   ],
   "source": [
    "# Get the dataset path from the catalog\n",
    "initial_data_path = catalog.datasets.initial_data._filepath\n",
    "print(f\"Path of initial_data is: {initial_data_path}\")"
   ]
  },
  {
   "cell_type": "markdown",
   "metadata": {},
   "source": [
    "To load actual content of an object `use catalog.load(\"object_name\")`"
   ]
  },
  {
   "cell_type": "code",
   "execution_count": 3,
   "metadata": {},
   "outputs": [
    {
     "data": {
      "text/html": [
       "<pre style=\"white-space:pre;overflow-x:auto;line-height:normal;font-family:Menlo,'DejaVu Sans Mono',consolas,'Courier New',monospace\"><span style=\"color: #7fbfbf; text-decoration-color: #7fbfbf\">                    </span><span style=\"color: #000080; text-decoration-color: #000080\">INFO    </span> Loading data from <span style=\"color: #008000; text-decoration-color: #008000\">'initial_data'</span> <span style=\"font-weight: bold\">(</span>CSVDataSet<span style=\"font-weight: bold\">)</span><span style=\"color: #808000; text-decoration-color: #808000\">...</span>                   <a href=\"file://c:\\Users\\ysami\\.conda\\envs\\venv_lc\\lib\\site-packages\\kedro\\io\\data_catalog.py\" target=\"_blank\"><span style=\"color: #7f7f7f; text-decoration-color: #7f7f7f\">data_catalog.py</span></a><span style=\"color: #7f7f7f; text-decoration-color: #7f7f7f\">:</span><a href=\"file://c:\\Users\\ysami\\.conda\\envs\\venv_lc\\lib\\site-packages\\kedro\\io\\data_catalog.py#343\" target=\"_blank\"><span style=\"color: #7f7f7f; text-decoration-color: #7f7f7f\">343</span></a>\n",
       "</pre>\n"
      ],
      "text/plain": [
       "\u001b[2;36m                   \u001b[0m\u001b[2;36m \u001b[0m\u001b[34mINFO    \u001b[0m Loading data from \u001b[32m'initial_data'\u001b[0m \u001b[1m(\u001b[0mCSVDataSet\u001b[1m)\u001b[0m\u001b[33m...\u001b[0m                   \u001b]8;id=263728;file://c:\\Users\\ysami\\.conda\\envs\\venv_lc\\lib\\site-packages\\kedro\\io\\data_catalog.py\u001b\\\u001b[2mdata_catalog.py\u001b[0m\u001b]8;;\u001b\\\u001b[2m:\u001b[0m\u001b]8;id=680582;file://c:\\Users\\ysami\\.conda\\envs\\venv_lc\\lib\\site-packages\\kedro\\io\\data_catalog.py#343\u001b\\\u001b[2m343\u001b[0m\u001b]8;;\u001b\\\n"
      ]
     },
     "metadata": {},
     "output_type": "display_data"
    },
    {
     "name": "stdout",
     "output_type": "stream",
     "text": [
      "Head of initial_data (100, 9):\n",
      "   Unnamed: 0     r_ext_pAl  r_ext_pMeO  pAl_richness  sim_time      Tg_Tmax  \\\n",
      "0           0  9.939743e-06    0.000004      3.498474  0.197198  5286.278589   \n",
      "1           1  6.366370e-06    0.000010      2.467929  0.199398  5977.120731   \n",
      "2           2  4.122036e-06    0.000007      2.953642  0.180005  5593.473796   \n",
      "3           3  1.489345e-06    0.000001      3.817973  0.300134  4329.871091   \n",
      "4           4  6.578382e-07    0.000008      1.289946  0.474074  5970.156467   \n",
      "\n",
      "           Pg_f       Pg_rate        Y_O2_f  \n",
      "0  3.669124e+06  3.278794e+11  3.415117e-16  \n",
      "1  9.980679e+06  7.574662e+11  2.855142e-13  \n",
      "2  5.444198e+06  9.653235e+11  1.542503e-15  \n",
      "3  1.681896e+06  2.729810e+11  8.808587e-21  \n",
      "4  1.865187e+07  1.647827e+11  4.377249e-15  \n"
     ]
    }
   ],
   "source": [
    "# Load the initial data into a DataFrame\n",
    "df_initial_data = catalog.load(\"initial_data\")\n",
    "print(f\"Head of initial_data {df_initial_data.shape}:\\n{df_initial_data.head()}\")"
   ]
  },
  {
   "cell_type": "markdown",
   "metadata": {},
   "source": [
    "To load a parameter use either `catalog.load(\"params:param_name\")` or `catalog.load('parameters')[\"param_name\"]`"
   ]
  },
  {
   "cell_type": "code",
   "execution_count": 6,
   "metadata": {},
   "outputs": [
    {
     "data": {
      "text/html": [
       "<pre style=\"white-space:pre;overflow-x:auto;line-height:normal;font-family:Menlo,'DejaVu Sans Mono',consolas,'Courier New',monospace\"><span style=\"color: #7fbfbf; text-decoration-color: #7fbfbf\">[08/07/24 15:33:14] </span><span style=\"color: #000080; text-decoration-color: #000080\">INFO    </span> Loading data from <span style=\"color: #008000; text-decoration-color: #008000\">'params:interest_region'</span> <span style=\"font-weight: bold\">(</span>MemoryDataSet<span style=\"font-weight: bold\">)</span><span style=\"color: #808000; text-decoration-color: #808000\">...</span>      <a href=\"file://c:\\Users\\ysami\\.conda\\envs\\venv_lc\\lib\\site-packages\\kedro\\io\\data_catalog.py\" target=\"_blank\"><span style=\"color: #7f7f7f; text-decoration-color: #7f7f7f\">data_catalog.py</span></a><span style=\"color: #7f7f7f; text-decoration-color: #7f7f7f\">:</span><a href=\"file://c:\\Users\\ysami\\.conda\\envs\\venv_lc\\lib\\site-packages\\kedro\\io\\data_catalog.py#343\" target=\"_blank\"><span style=\"color: #7f7f7f; text-decoration-color: #7f7f7f\">343</span></a>\n",
       "</pre>\n"
      ],
      "text/plain": [
       "\u001b[2;36m[08/07/24 15:33:14]\u001b[0m\u001b[2;36m \u001b[0m\u001b[34mINFO    \u001b[0m Loading data from \u001b[32m'params:interest_region'\u001b[0m \u001b[1m(\u001b[0mMemoryDataSet\u001b[1m)\u001b[0m\u001b[33m...\u001b[0m      \u001b]8;id=206787;file://c:\\Users\\ysami\\.conda\\envs\\venv_lc\\lib\\site-packages\\kedro\\io\\data_catalog.py\u001b\\\u001b[2mdata_catalog.py\u001b[0m\u001b]8;;\u001b\\\u001b[2m:\u001b[0m\u001b]8;id=92894;file://c:\\Users\\ysami\\.conda\\envs\\venv_lc\\lib\\site-packages\\kedro\\io\\data_catalog.py#343\u001b\\\u001b[2m343\u001b[0m\u001b]8;;\u001b\\\n"
      ]
     },
     "metadata": {},
     "output_type": "display_data"
    },
    {
     "name": "stdout",
     "output_type": "stream",
     "text": [
      "Getting interest_region directly from catalog: {'Pg_f': [40000000.0, 56000000.0], 'Tg_Tmax': [5800, 7000]}\n"
     ]
    },
    {
     "data": {
      "text/html": [
       "<pre style=\"white-space:pre;overflow-x:auto;line-height:normal;font-family:Menlo,'DejaVu Sans Mono',consolas,'Courier New',monospace\"><span style=\"color: #7fbfbf; text-decoration-color: #7fbfbf\">                    </span><span style=\"color: #000080; text-decoration-color: #000080\">INFO    </span> Loading data from <span style=\"color: #008000; text-decoration-color: #008000\">'parameters'</span> <span style=\"font-weight: bold\">(</span>MemoryDataSet<span style=\"font-weight: bold\">)</span><span style=\"color: #808000; text-decoration-color: #808000\">...</span>                  <a href=\"file://c:\\Users\\ysami\\.conda\\envs\\venv_lc\\lib\\site-packages\\kedro\\io\\data_catalog.py\" target=\"_blank\"><span style=\"color: #7f7f7f; text-decoration-color: #7f7f7f\">data_catalog.py</span></a><span style=\"color: #7f7f7f; text-decoration-color: #7f7f7f\">:</span><a href=\"file://c:\\Users\\ysami\\.conda\\envs\\venv_lc\\lib\\site-packages\\kedro\\io\\data_catalog.py#343\" target=\"_blank\"><span style=\"color: #7f7f7f; text-decoration-color: #7f7f7f\">343</span></a>\n",
       "</pre>\n"
      ],
      "text/plain": [
       "\u001b[2;36m                   \u001b[0m\u001b[2;36m \u001b[0m\u001b[34mINFO    \u001b[0m Loading data from \u001b[32m'parameters'\u001b[0m \u001b[1m(\u001b[0mMemoryDataSet\u001b[1m)\u001b[0m\u001b[33m...\u001b[0m                  \u001b]8;id=702790;file://c:\\Users\\ysami\\.conda\\envs\\venv_lc\\lib\\site-packages\\kedro\\io\\data_catalog.py\u001b\\\u001b[2mdata_catalog.py\u001b[0m\u001b]8;;\u001b\\\u001b[2m:\u001b[0m\u001b]8;id=929355;file://c:\\Users\\ysami\\.conda\\envs\\venv_lc\\lib\\site-packages\\kedro\\io\\data_catalog.py#343\u001b\\\u001b[2m343\u001b[0m\u001b]8;;\u001b\\\n"
      ]
     },
     "metadata": {},
     "output_type": "display_data"
    },
    {
     "name": "stdout",
     "output_type": "stream",
     "text": [
      "Getting interest_region from parameters dict in catalog: {'Pg_f': [40000000.0, 56000000.0], 'Tg_Tmax': [5800, 7000]}\n"
     ]
    }
   ],
   "source": [
    "interest_region = catalog.load(\"params:interest_region\")\n",
    "print(f'Getting interest_region directly from catalog: {interest_region}')\n",
    "\n",
    "params = catalog.load('parameters')\n",
    "interest_region = params[\"interest_region\"]\n",
    "print(f'Getting interest_region from parameters dict in catalog: {interest_region}')"
   ]
  },
  {
   "cell_type": "markdown",
   "metadata": {},
   "source": [
    "## Note on Environment Name Parameter\n",
    "\n",
    "In each Kedro environment configuration, there is a manually updated parameter called `env_name` in the `parameters.json` file. This parameter reflects the name of the current environment. For example:\n",
    "\n",
    "- In `conf/base/parameters.json`, you will find:\n",
    "  ```json\n",
    "  {\n",
    "    \"env_name\": \"base\"\n",
    "  }\n",
    "\n",
    "This manual approach provides a way to access the current Kedro environment name during a Kedro session. It can be particularly useful when you need to determine the active environment within your code or pipelines."
   ]
  }
 ],
 "metadata": {
  "kernelspec": {
   "display_name": "venv_lc",
   "language": "python",
   "name": "python3"
  },
  "language_info": {
   "codemirror_mode": {
    "name": "ipython",
    "version": 3
   },
   "file_extension": ".py",
   "mimetype": "text/x-python",
   "name": "python",
   "nbconvert_exporter": "python",
   "pygments_lexer": "ipython3",
   "version": "3.8.19"
  }
 },
 "nbformat": 4,
 "nbformat_minor": 2
}
