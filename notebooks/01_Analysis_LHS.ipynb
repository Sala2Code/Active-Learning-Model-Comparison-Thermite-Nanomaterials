{
 "cells": [
  {
   "cell_type": "markdown",
   "id": "6fea67c2-4788-4fb0-a6e7-6ba86a43d23f",
   "metadata": {},
   "source": [
    "# Load the environment from kedro \n",
    "Needed if you will use a different environment than base, and only possible if you run this notebook as kedro jupyter lab/notebook.\n",
    "\n",
    "If not so, comment this line."
   ]
  },
  {
   "cell_type": "code",
   "execution_count": 10,
   "id": "928313d9-ea6d-4d71-8fb1-0c9c8ec240d5",
   "metadata": {},
   "outputs": [],
   "source": [
    "#%reload_kedro --env test_h"
   ]
  },
  {
   "cell_type": "code",
   "execution_count": 11,
   "id": "952fe7f2-cd5d-42b8-8ef1-2d7b3818898e",
   "metadata": {},
   "outputs": [],
   "source": [
    "import pandas as pd\n",
    "import numpy as np\n",
    "import matplotlib.pyplot as plt"
   ]
  },
  {
   "cell_type": "markdown",
   "id": "2e97880c-5cb8-467d-842b-f4b73595c0c1",
   "metadata": {},
   "source": [
    "# Load all parameters needed to plot things"
   ]
  },
  {
   "cell_type": "code",
   "execution_count": 12,
   "id": "ae5907ea-167b-4d00-89e8-c3ff1a28f342",
   "metadata": {},
   "outputs": [
    {
     "data": {
      "text/html": [
       "<pre style=\"white-space:pre;overflow-x:auto;line-height:normal;font-family:Menlo,'DejaVu Sans Mono',consolas,'Courier New',monospace\"><span style=\"color: #7fbfbf; text-decoration-color: #7fbfbf\">[01/29/24 22:49:35] </span><span style=\"color: #000080; text-decoration-color: #000080\">INFO    </span> Loading data from <span style=\"color: #008000; text-decoration-color: #008000\">'parameters'</span> <span style=\"font-weight: bold\">(</span>MemoryDataSet<span style=\"font-weight: bold\">)</span><span style=\"color: #808000; text-decoration-color: #808000\">...</span>                  <a href=\"file:///home/jack/miniconda3/envs/sampler/lib/python3.10/site-packages/kedro/io/data_catalog.py\" target=\"_blank\"><span style=\"color: #7f7f7f; text-decoration-color: #7f7f7f\">data_catalog.py</span></a><span style=\"color: #7f7f7f; text-decoration-color: #7f7f7f\">:</span><a href=\"file:///home/jack/miniconda3/envs/sampler/lib/python3.10/site-packages/kedro/io/data_catalog.py#343\" target=\"_blank\"><span style=\"color: #7f7f7f; text-decoration-color: #7f7f7f\">343</span></a>\n",
       "</pre>\n"
      ],
      "text/plain": [
       "\u001b[2;36m[01/29/24 22:49:35]\u001b[0m\u001b[2;36m \u001b[0m\u001b[34mINFO    \u001b[0m Loading data from \u001b[32m'parameters'\u001b[0m \u001b[1m(\u001b[0mMemoryDataSet\u001b[1m)\u001b[0m\u001b[33m...\u001b[0m                  \u001b]8;id=573327;file:///home/jack/miniconda3/envs/sampler/lib/python3.10/site-packages/kedro/io/data_catalog.py\u001b\\\u001b[2mdata_catalog.py\u001b[0m\u001b]8;;\u001b\\\u001b[2m:\u001b[0m\u001b]8;id=547145;file:///home/jack/miniconda3/envs/sampler/lib/python3.10/site-packages/kedro/io/data_catalog.py#343\u001b\\\u001b[2m343\u001b[0m\u001b]8;;\u001b\\\n"
      ]
     },
     "metadata": {},
     "output_type": "display_data"
    },
    {
     "data": {
      "text/html": [
       "<pre style=\"white-space:pre;overflow-x:auto;line-height:normal;font-family:Menlo,'DejaVu Sans Mono',consolas,'Courier New',monospace\"><span style=\"color: #7fbfbf; text-decoration-color: #7fbfbf\">                    </span><span style=\"color: #000080; text-decoration-color: #000080\">INFO    </span> Loading data from <span style=\"color: #008000; text-decoration-color: #008000\">'scaler'</span> <span style=\"font-weight: bold\">(</span>PickleDataSet<span style=\"font-weight: bold\">)</span><span style=\"color: #808000; text-decoration-color: #808000\">...</span>                      <a href=\"file:///home/jack/miniconda3/envs/sampler/lib/python3.10/site-packages/kedro/io/data_catalog.py\" target=\"_blank\"><span style=\"color: #7f7f7f; text-decoration-color: #7f7f7f\">data_catalog.py</span></a><span style=\"color: #7f7f7f; text-decoration-color: #7f7f7f\">:</span><a href=\"file:///home/jack/miniconda3/envs/sampler/lib/python3.10/site-packages/kedro/io/data_catalog.py#343\" target=\"_blank\"><span style=\"color: #7f7f7f; text-decoration-color: #7f7f7f\">343</span></a>\n",
       "</pre>\n"
      ],
      "text/plain": [
       "\u001b[2;36m                   \u001b[0m\u001b[2;36m \u001b[0m\u001b[34mINFO    \u001b[0m Loading data from \u001b[32m'scaler'\u001b[0m \u001b[1m(\u001b[0mPickleDataSet\u001b[1m)\u001b[0m\u001b[33m...\u001b[0m                      \u001b]8;id=715017;file:///home/jack/miniconda3/envs/sampler/lib/python3.10/site-packages/kedro/io/data_catalog.py\u001b\\\u001b[2mdata_catalog.py\u001b[0m\u001b]8;;\u001b\\\u001b[2m:\u001b[0m\u001b]8;id=534830;file:///home/jack/miniconda3/envs/sampler/lib/python3.10/site-packages/kedro/io/data_catalog.py#343\u001b\\\u001b[2m343\u001b[0m\u001b]8;;\u001b\\\n"
      ]
     },
     "metadata": {},
     "output_type": "display_data"
    },
    {
     "data": {
      "text/html": [
       "<pre style=\"white-space:pre;overflow-x:auto;line-height:normal;font-family:Menlo,'DejaVu Sans Mono',consolas,'Courier New',monospace\"><span style=\"color: #7fbfbf; text-decoration-color: #7fbfbf\">                    </span><span style=\"color: #000080; text-decoration-color: #000080\">INFO    </span> Loading data from <span style=\"color: #008000; text-decoration-color: #008000\">'treatment'</span> <span style=\"font-weight: bold\">(</span>PickleDataSet<span style=\"font-weight: bold\">)</span><span style=\"color: #808000; text-decoration-color: #808000\">...</span>                   <a href=\"file:///home/jack/miniconda3/envs/sampler/lib/python3.10/site-packages/kedro/io/data_catalog.py\" target=\"_blank\"><span style=\"color: #7f7f7f; text-decoration-color: #7f7f7f\">data_catalog.py</span></a><span style=\"color: #7f7f7f; text-decoration-color: #7f7f7f\">:</span><a href=\"file:///home/jack/miniconda3/envs/sampler/lib/python3.10/site-packages/kedro/io/data_catalog.py#343\" target=\"_blank\"><span style=\"color: #7f7f7f; text-decoration-color: #7f7f7f\">343</span></a>\n",
       "</pre>\n"
      ],
      "text/plain": [
       "\u001b[2;36m                   \u001b[0m\u001b[2;36m \u001b[0m\u001b[34mINFO    \u001b[0m Loading data from \u001b[32m'treatment'\u001b[0m \u001b[1m(\u001b[0mPickleDataSet\u001b[1m)\u001b[0m\u001b[33m...\u001b[0m                   \u001b]8;id=207083;file:///home/jack/miniconda3/envs/sampler/lib/python3.10/site-packages/kedro/io/data_catalog.py\u001b\\\u001b[2mdata_catalog.py\u001b[0m\u001b]8;;\u001b\\\u001b[2m:\u001b[0m\u001b]8;id=157857;file:///home/jack/miniconda3/envs/sampler/lib/python3.10/site-packages/kedro/io/data_catalog.py#343\u001b\\\u001b[2m343\u001b[0m\u001b]8;;\u001b\\\n"
      ]
     },
     "metadata": {},
     "output_type": "display_data"
    }
   ],
   "source": [
    "p = catalog.load('parameters')\n",
    "\n",
    "features=p[\"features\"]\n",
    "targets=p[\"targets\"]\n",
    "additional_values = p[\"additional_values\"]\n",
    "names=p[\"names\"]\n",
    "scaler=catalog.load('scaler')\n",
    "treatment=catalog.load('treatment')"
   ]
  },
  {
   "cell_type": "code",
   "execution_count": 40,
   "id": "6ce5cb60",
   "metadata": {},
   "outputs": [
    {
     "data": {
      "text/html": [
       "<pre style=\"white-space:pre;overflow-x:auto;line-height:normal;font-family:Menlo,'DejaVu Sans Mono',consolas,'Courier New',monospace\"></pre>\n"
      ],
      "text/plain": []
     },
     "metadata": {},
     "output_type": "display_data"
    },
    {
     "data": {
      "text/plain": [
       "\u001b[1m{\u001b[0m\u001b[32m'Pg_f'\u001b[0m: \u001b[1m[\u001b[0m\u001b[1;36m10000000.0\u001b[0m, \u001b[1;36m80000000.0\u001b[0m\u001b[1m]\u001b[0m, \u001b[32m'Tg_Tmax'\u001b[0m: \u001b[1m[\u001b[0m\u001b[1;36m2000\u001b[0m, \u001b[1;36m4500\u001b[0m\u001b[1m]\u001b[0m\u001b[1m}\u001b[0m"
      ]
     },
     "execution_count": 40,
     "metadata": {},
     "output_type": "execute_result"
    }
   ],
   "source": []
  },
  {
   "cell_type": "markdown",
   "id": "7f84e204-367a-41b6-86be-3dad7c6a05cb",
   "metadata": {},
   "source": [
    "# Load the file you want to analyze and describe main components of each column"
   ]
  },
  {
   "cell_type": "code",
   "execution_count": 34,
   "id": "b2f8d46a-f6a4-492e-a369-fa6c9c427876",
   "metadata": {},
   "outputs": [
    {
     "data": {
      "text/html": [
       "<pre style=\"white-space:pre;overflow-x:auto;line-height:normal;font-family:Menlo,'DejaVu Sans Mono',consolas,'Courier New',monospace\"></pre>\n"
      ],
      "text/plain": []
     },
     "metadata": {},
     "output_type": "display_data"
    },
    {
     "data": {
      "text/html": [
       "<div>\n",
       "<style scoped>\n",
       "    .dataframe tbody tr th:only-of-type {\n",
       "        vertical-align: middle;\n",
       "    }\n",
       "\n",
       "    .dataframe tbody tr th {\n",
       "        vertical-align: top;\n",
       "    }\n",
       "\n",
       "    .dataframe thead th {\n",
       "        text-align: right;\n",
       "    }\n",
       "</style>\n",
       "<table border=\"1\" class=\"dataframe\">\n",
       "  <thead>\n",
       "    <tr style=\"text-align: right;\">\n",
       "      <th></th>\n",
       "      <th>r_ext_pAl</th>\n",
       "      <th>r_ext_pMeO</th>\n",
       "      <th>pAl_richness</th>\n",
       "      <th>Pg_f</th>\n",
       "      <th>Tg_Tmax</th>\n",
       "      <th>sim_time</th>\n",
       "      <th>Pg_rate</th>\n",
       "      <th>Y_O2_f</th>\n",
       "    </tr>\n",
       "  </thead>\n",
       "  <tbody>\n",
       "    <tr>\n",
       "      <th>count</th>\n",
       "      <td>1.000000e+02</td>\n",
       "      <td>1.000000e+02</td>\n",
       "      <td>100.000000</td>\n",
       "      <td>1.000000e+02</td>\n",
       "      <td>100.000000</td>\n",
       "      <td>100.000000</td>\n",
       "      <td>1.000000e+02</td>\n",
       "      <td>1.000000e+02</td>\n",
       "    </tr>\n",
       "    <tr>\n",
       "      <th>mean</th>\n",
       "      <td>5.100006e-06</td>\n",
       "      <td>5.101327e-06</td>\n",
       "      <td>2.500256</td>\n",
       "      <td>1.390422e+07</td>\n",
       "      <td>5628.808067</td>\n",
       "      <td>0.704504</td>\n",
       "      <td>7.071171e+11</td>\n",
       "      <td>2.748592e-10</td>\n",
       "    </tr>\n",
       "    <tr>\n",
       "      <th>std</th>\n",
       "      <td>2.842990e-06</td>\n",
       "      <td>2.838460e-06</td>\n",
       "      <td>0.870556</td>\n",
       "      <td>1.322403e+07</td>\n",
       "      <td>887.727155</td>\n",
       "      <td>1.638570</td>\n",
       "      <td>4.599990e+11</td>\n",
       "      <td>1.718692e-09</td>\n",
       "    </tr>\n",
       "    <tr>\n",
       "      <th>min</th>\n",
       "      <td>2.520223e-07</td>\n",
       "      <td>2.367290e-07</td>\n",
       "      <td>1.020161</td>\n",
       "      <td>6.553547e+05</td>\n",
       "      <td>2482.132545</td>\n",
       "      <td>0.129800</td>\n",
       "      <td>2.014092e+10</td>\n",
       "      <td>2.737512e-29</td>\n",
       "    </tr>\n",
       "    <tr>\n",
       "      <th>25%</th>\n",
       "      <td>2.705181e-06</td>\n",
       "      <td>2.677095e-06</td>\n",
       "      <td>1.768298</td>\n",
       "      <td>3.630462e+06</td>\n",
       "      <td>5079.534025</td>\n",
       "      <td>0.222657</td>\n",
       "      <td>3.894366e+11</td>\n",
       "      <td>4.968336e-17</td>\n",
       "    </tr>\n",
       "    <tr>\n",
       "      <th>50%</th>\n",
       "      <td>5.086973e-06</td>\n",
       "      <td>5.078668e-06</td>\n",
       "      <td>2.494886</td>\n",
       "      <td>9.413807e+06</td>\n",
       "      <td>5786.348828</td>\n",
       "      <td>0.323523</td>\n",
       "      <td>6.328359e+11</td>\n",
       "      <td>5.866552e-15</td>\n",
       "    </tr>\n",
       "    <tr>\n",
       "      <th>75%</th>\n",
       "      <td>7.507349e-06</td>\n",
       "      <td>7.538322e-06</td>\n",
       "      <td>3.239614</td>\n",
       "      <td>1.982844e+07</td>\n",
       "      <td>6326.606723</td>\n",
       "      <td>0.394270</td>\n",
       "      <td>9.822917e+11</td>\n",
       "      <td>1.266346e-12</td>\n",
       "    </tr>\n",
       "    <tr>\n",
       "      <th>max</th>\n",
       "      <td>9.939743e-06</td>\n",
       "      <td>9.939773e-06</td>\n",
       "      <td>3.989964</td>\n",
       "      <td>5.287111e+07</td>\n",
       "      <td>7377.948434</td>\n",
       "      <td>10.497417</td>\n",
       "      <td>2.036934e+12</td>\n",
       "      <td>1.662652e-08</td>\n",
       "    </tr>\n",
       "  </tbody>\n",
       "</table>\n",
       "</div>"
      ],
      "text/plain": [
       "\n",
       "          r_ext_pAl    r_ext_pMeO  pAl_richness          Pg_f      Tg_Tmax  \\\n",
       "count  \u001b[1;36m1.000000e+02\u001b[0m  \u001b[1;36m1.000000e+02\u001b[0m    \u001b[1;36m100.000000\u001b[0m  \u001b[1;36m1.000000e+02\u001b[0m   \u001b[1;36m100.000000\u001b[0m   \n",
       "mean   \u001b[1;36m5.100006e-06\u001b[0m  \u001b[1;36m5.101327e-06\u001b[0m      \u001b[1;36m2.500256\u001b[0m  \u001b[1;36m1.390422e+07\u001b[0m  \u001b[1;36m5628.808067\u001b[0m   \n",
       "std    \u001b[1;36m2.842990e-06\u001b[0m  \u001b[1;36m2.838460e-06\u001b[0m      \u001b[1;36m0.870556\u001b[0m  \u001b[1;36m1.322403e+07\u001b[0m   \u001b[1;36m887.727155\u001b[0m   \n",
       "min    \u001b[1;36m2.520223e-07\u001b[0m  \u001b[1;36m2.367290e-07\u001b[0m      \u001b[1;36m1.020161\u001b[0m  \u001b[1;36m6.553547e+05\u001b[0m  \u001b[1;36m2482.132545\u001b[0m   \n",
       "\u001b[1;36m25\u001b[0m%    \u001b[1;36m2.705181e-06\u001b[0m  \u001b[1;36m2.677095e-06\u001b[0m      \u001b[1;36m1.768298\u001b[0m  \u001b[1;36m3.630462e+06\u001b[0m  \u001b[1;36m5079.534025\u001b[0m   \n",
       "\u001b[1;36m50\u001b[0m%    \u001b[1;36m5.086973e-06\u001b[0m  \u001b[1;36m5.078668e-06\u001b[0m      \u001b[1;36m2.494886\u001b[0m  \u001b[1;36m9.413807e+06\u001b[0m  \u001b[1;36m5786.348828\u001b[0m   \n",
       "\u001b[1;36m75\u001b[0m%    \u001b[1;36m7.507349e-06\u001b[0m  \u001b[1;36m7.538322e-06\u001b[0m      \u001b[1;36m3.239614\u001b[0m  \u001b[1;36m1.982844e+07\u001b[0m  \u001b[1;36m6326.606723\u001b[0m   \n",
       "max    \u001b[1;36m9.939743e-06\u001b[0m  \u001b[1;36m9.939773e-06\u001b[0m      \u001b[1;36m3.989964\u001b[0m  \u001b[1;36m5.287111e+07\u001b[0m  \u001b[1;36m7377.948434\u001b[0m   \n",
       "\n",
       "         sim_time       Pg_rate        Y_O2_f  \n",
       "count  \u001b[1;36m100.000000\u001b[0m  \u001b[1;36m1.000000e+02\u001b[0m  \u001b[1;36m1.000000e+02\u001b[0m  \n",
       "mean     \u001b[1;36m0.704504\u001b[0m  \u001b[1;36m7.071171e+11\u001b[0m  \u001b[1;36m2.748592e-10\u001b[0m  \n",
       "std      \u001b[1;36m1.638570\u001b[0m  \u001b[1;36m4.599990e+11\u001b[0m  \u001b[1;36m1.718692e-09\u001b[0m  \n",
       "min      \u001b[1;36m0.129800\u001b[0m  \u001b[1;36m2.014092e+10\u001b[0m  \u001b[1;36m2.737512e-29\u001b[0m  \n",
       "\u001b[1;36m25\u001b[0m%      \u001b[1;36m0.222657\u001b[0m  \u001b[1;36m3.894366e+11\u001b[0m  \u001b[1;36m4.968336e-17\u001b[0m  \n",
       "\u001b[1;36m50\u001b[0m%      \u001b[1;36m0.323523\u001b[0m  \u001b[1;36m6.328359e+11\u001b[0m  \u001b[1;36m5.866552e-15\u001b[0m  \n",
       "\u001b[1;36m75\u001b[0m%      \u001b[1;36m0.394270\u001b[0m  \u001b[1;36m9.822917e+11\u001b[0m  \u001b[1;36m1.266346e-12\u001b[0m  \n",
       "max     \u001b[1;36m10.497417\u001b[0m  \u001b[1;36m2.036934e+12\u001b[0m  \u001b[1;36m1.662652e-08\u001b[0m  "
      ]
     },
     "execution_count": 34,
     "metadata": {},
     "output_type": "execute_result"
    }
   ],
   "source": [
    "path = '/home/jack/sampler/data/02_intermediate/100_initial_data.csv'\n",
    "lhs = pd.read_csv(path)[features+targets+additional_values]\n",
    "lhs.describe()"
   ]
  },
  {
   "cell_type": "markdown",
   "id": "cfa7fbd1-a283-4b23-925f-b21a08fb033a",
   "metadata": {},
   "source": [
    "# Treat data to be in the correct units and have the quality of each point"
   ]
  },
  {
   "cell_type": "code",
   "execution_count": 38,
   "id": "bd1cf751-c85d-4b56-9e1d-6955146e401d",
   "metadata": {},
   "outputs": [
    {
     "data": {
      "text/html": [
       "<pre style=\"white-space:pre;overflow-x:auto;line-height:normal;font-family:Menlo,'DejaVu Sans Mono',consolas,'Courier New',monospace\"></pre>\n"
      ],
      "text/plain": []
     },
     "metadata": {},
     "output_type": "display_data"
    },
    {
     "data": {
      "text/html": [
       "<div>\n",
       "<style scoped>\n",
       "    .dataframe tbody tr th:only-of-type {\n",
       "        vertical-align: middle;\n",
       "    }\n",
       "\n",
       "    .dataframe tbody tr th {\n",
       "        vertical-align: top;\n",
       "    }\n",
       "\n",
       "    .dataframe thead th {\n",
       "        text-align: right;\n",
       "    }\n",
       "</style>\n",
       "<table border=\"1\" class=\"dataframe\">\n",
       "  <thead>\n",
       "    <tr style=\"text-align: right;\">\n",
       "      <th></th>\n",
       "      <th>Al radius [micron]</th>\n",
       "      <th>CuO radius [micron]</th>\n",
       "      <th>Al richness</th>\n",
       "      <th>Final Pressure [MPa]</th>\n",
       "      <th>Combustion Temperature [K]</th>\n",
       "      <th>sim_time</th>\n",
       "      <th>Pg_rate</th>\n",
       "      <th>Y_O2_f</th>\n",
       "      <th>quality</th>\n",
       "    </tr>\n",
       "  </thead>\n",
       "  <tbody>\n",
       "    <tr>\n",
       "      <th>0</th>\n",
       "      <td>9.939743e+06</td>\n",
       "      <td>3.801645e+06</td>\n",
       "      <td>3.498474</td>\n",
       "      <td>0.000004</td>\n",
       "      <td>5286.278589</td>\n",
       "      <td>0.197198</td>\n",
       "      <td>3.278794e+11</td>\n",
       "      <td>3.415117e-16</td>\n",
       "      <td>aberration</td>\n",
       "    </tr>\n",
       "    <tr>\n",
       "      <th>1</th>\n",
       "      <td>6.366370e+06</td>\n",
       "      <td>9.811435e+06</td>\n",
       "      <td>2.467929</td>\n",
       "      <td>0.000010</td>\n",
       "      <td>5977.120731</td>\n",
       "      <td>0.199398</td>\n",
       "      <td>7.574662e+11</td>\n",
       "      <td>2.855142e-13</td>\n",
       "      <td>aberration</td>\n",
       "    </tr>\n",
       "    <tr>\n",
       "      <th>2</th>\n",
       "      <td>4.122036e+06</td>\n",
       "      <td>6.536653e+06</td>\n",
       "      <td>2.953642</td>\n",
       "      <td>0.000005</td>\n",
       "      <td>5593.473796</td>\n",
       "      <td>0.180005</td>\n",
       "      <td>9.653235e+11</td>\n",
       "      <td>1.542503e-15</td>\n",
       "      <td>aberration</td>\n",
       "    </tr>\n",
       "    <tr>\n",
       "      <th>3</th>\n",
       "      <td>1.489345e+06</td>\n",
       "      <td>1.496621e+06</td>\n",
       "      <td>3.817973</td>\n",
       "      <td>0.000002</td>\n",
       "      <td>4329.871091</td>\n",
       "      <td>0.300134</td>\n",
       "      <td>2.729810e+11</td>\n",
       "      <td>8.808587e-21</td>\n",
       "      <td>aberration</td>\n",
       "    </tr>\n",
       "    <tr>\n",
       "      <th>4</th>\n",
       "      <td>6.578382e+05</td>\n",
       "      <td>7.776526e+06</td>\n",
       "      <td>1.289946</td>\n",
       "      <td>0.000019</td>\n",
       "      <td>5970.156467</td>\n",
       "      <td>0.474074</td>\n",
       "      <td>1.647827e+11</td>\n",
       "      <td>4.377249e-15</td>\n",
       "      <td>aberration</td>\n",
       "    </tr>\n",
       "  </tbody>\n",
       "</table>\n",
       "</div>"
      ],
      "text/plain": [
       "\n",
       "   Al radius \u001b[1m[\u001b[0mmicron\u001b[1m]\u001b[0m  CuO radius \u001b[1m[\u001b[0mmicron\u001b[1m]\u001b[0m  Al richness  Final Pressure \u001b[1m[\u001b[0mMPa\u001b[1m]\u001b[0m  \\\n",
       "\u001b[1;36m0\u001b[0m        \u001b[1;36m9.939743e+06\u001b[0m         \u001b[1;36m3.801645e+06\u001b[0m     \u001b[1;36m3.498474\u001b[0m              \u001b[1;36m0.000004\u001b[0m   \n",
       "\u001b[1;36m1\u001b[0m        \u001b[1;36m6.366370e+06\u001b[0m         \u001b[1;36m9.811435e+06\u001b[0m     \u001b[1;36m2.467929\u001b[0m              \u001b[1;36m0.000010\u001b[0m   \n",
       "\u001b[1;36m2\u001b[0m        \u001b[1;36m4.122036e+06\u001b[0m         \u001b[1;36m6.536653e+06\u001b[0m     \u001b[1;36m2.953642\u001b[0m              \u001b[1;36m0.000005\u001b[0m   \n",
       "\u001b[1;36m3\u001b[0m        \u001b[1;36m1.489345e+06\u001b[0m         \u001b[1;36m1.496621e+06\u001b[0m     \u001b[1;36m3.817973\u001b[0m              \u001b[1;36m0.000002\u001b[0m   \n",
       "\u001b[1;36m4\u001b[0m        \u001b[1;36m6.578382e+05\u001b[0m         \u001b[1;36m7.776526e+06\u001b[0m     \u001b[1;36m1.289946\u001b[0m              \u001b[1;36m0.000019\u001b[0m   \n",
       "\n",
       "   Combustion Temperature \u001b[1m[\u001b[0mK\u001b[1m]\u001b[0m  sim_time       Pg_rate        Y_O2_f  \\\n",
       "\u001b[1;36m0\u001b[0m                 \u001b[1;36m5286.278589\u001b[0m  \u001b[1;36m0.197198\u001b[0m  \u001b[1;36m3.278794e+11\u001b[0m  \u001b[1;36m3.415117e-16\u001b[0m   \n",
       "\u001b[1;36m1\u001b[0m                 \u001b[1;36m5977.120731\u001b[0m  \u001b[1;36m0.199398\u001b[0m  \u001b[1;36m7.574662e+11\u001b[0m  \u001b[1;36m2.855142e-13\u001b[0m   \n",
       "\u001b[1;36m2\u001b[0m                 \u001b[1;36m5593.473796\u001b[0m  \u001b[1;36m0.180005\u001b[0m  \u001b[1;36m9.653235e+11\u001b[0m  \u001b[1;36m1.542503e-15\u001b[0m   \n",
       "\u001b[1;36m3\u001b[0m                 \u001b[1;36m4329.871091\u001b[0m  \u001b[1;36m0.300134\u001b[0m  \u001b[1;36m2.729810e+11\u001b[0m  \u001b[1;36m8.808587e-21\u001b[0m   \n",
       "\u001b[1;36m4\u001b[0m                 \u001b[1;36m5970.156467\u001b[0m  \u001b[1;36m0.474074\u001b[0m  \u001b[1;36m1.647827e+11\u001b[0m  \u001b[1;36m4.377249e-15\u001b[0m   \n",
       "\n",
       "      quality  \n",
       "\u001b[1;36m0\u001b[0m  aberration  \n",
       "\u001b[1;36m1\u001b[0m  aberration  \n",
       "\u001b[1;36m2\u001b[0m  aberration  \n",
       "\u001b[1;36m3\u001b[0m  aberration  \n",
       "\u001b[1;36m4\u001b[0m  aberration  "
      ]
     },
     "execution_count": 38,
     "metadata": {},
     "output_type": "execute_result"
    }
   ],
   "source": [
    "from sampler.pipelines.analysis.postprocessing_functions import prepare_benchmark\n",
    "renaming_cols = {v1: v2 for v1, v2 in zip(features + targets, names['features'] + names['targets'])}\n",
    "df = prepare_benchmark(df=lhs, f=features, t=targets, treatment=treatment).rename(columns=renaming_cols)\n",
    "df.head()"
   ]
  },
  {
   "cell_type": "markdown",
   "id": "633d6ce1-4805-4534-b0b2-69de1540e8c3",
   "metadata": {},
   "source": [
    "# Count values for each type of quality points"
   ]
  },
  {
   "cell_type": "code",
   "execution_count": 36,
   "id": "6a20d960-2a2e-4a04-b2fb-20507b452c36",
   "metadata": {},
   "outputs": [
    {
     "data": {
      "text/html": [
       "<pre style=\"white-space:pre;overflow-x:auto;line-height:normal;font-family:Menlo,'DejaVu Sans Mono',consolas,'Courier New',monospace\"></pre>\n"
      ],
      "text/plain": []
     },
     "metadata": {},
     "output_type": "display_data"
    },
    {
     "data": {
      "text/plain": [
       "\n",
       "not_interesting    \u001b[1;36m99\u001b[0m\n",
       "interest            \u001b[1;36m1\u001b[0m\n",
       "Name: quality, dtype: int64"
      ]
     },
     "execution_count": 36,
     "metadata": {},
     "output_type": "execute_result"
    }
   ],
   "source": [
    "lhs['quality'].value_counts()"
   ]
  },
  {
   "cell_type": "markdown",
   "id": "aff342ce-fc59-4856-b77f-08fb0a76cfb7",
   "metadata": {},
   "source": [
    "# Plot 2D for features"
   ]
  },
  {
   "cell_type": "code",
   "execution_count": 43,
   "id": "e802afc7",
   "metadata": {},
   "outputs": [
    {
     "data": {
      "text/html": [
       "<pre style=\"white-space:pre;overflow-x:auto;line-height:normal;font-family:Menlo,'DejaVu Sans Mono',consolas,'Courier New',monospace\"></pre>\n"
      ],
      "text/plain": []
     },
     "metadata": {},
     "output_type": "display_data"
    },
    {
     "data": {
      "text/plain": [
       "\u001b[1m{\u001b[0m\u001b[32m'Pg_f'\u001b[0m: \u001b[1m[\u001b[0m\u001b[1;36m10000000.0\u001b[0m, \u001b[1;36m80000000.0\u001b[0m\u001b[1m]\u001b[0m, \u001b[32m'Tg_Tmax'\u001b[0m: \u001b[1m[\u001b[0m\u001b[1;36m2000\u001b[0m, \u001b[1;36m4500\u001b[0m\u001b[1m]\u001b[0m\u001b[1m}\u001b[0m"
      ]
     },
     "execution_count": 43,
     "metadata": {},
     "output_type": "execute_result"
    }
   ],
   "source": [
    "interest_region = treatment.interest_region\n",
    "interest_region"
   ]
  },
  {
   "cell_type": "code",
   "execution_count": 37,
   "id": "96309588-83f5-4e31-8b28-049150d9adba",
   "metadata": {},
   "outputs": [
    {
     "data": {
      "text/html": [
       "<pre style=\"white-space:pre;overflow-x:auto;line-height:normal;font-family:Menlo,'DejaVu Sans Mono',consolas,'Courier New',monospace\"></pre>\n"
      ],
      "text/plain": []
     },
     "metadata": {},
     "output_type": "display_data"
    },
    {
     "data": {
      "image/png": "[encoded data removed]",
      "text/plain": [
       "\u001b[1m<\u001b[0m\u001b[1;95mFigure\u001b[0m\u001b[39m size 120\u001b[0m\u001b[1;36m0x400\u001b[0m\u001b[39m with \u001b[0m\u001b[1;36m3\u001b[0m\u001b[39m Axes\u001b[0m\u001b[1m>\u001b[0m"
      ]
     },
     "metadata": {},
     "output_type": "display_data"
    }
   ],
   "source": [
    "variables = names['features']\n",
    "v = {\n",
    "    'not_interesting': df[df['quality'] == 'not_interesting'],\n",
    "    'outliers': df[(df['quality'] != 'not_interesting') & (lhs['quality'] != 'interest')],\n",
    "    'interest': df[df['quality'] == 'interest'],\n",
    "}\n",
    "#colors = {'interest': \"#E02401\", 'not_interesting': \"#A9B388\", 'outliers': \"black\"}\n",
    "colors = {'interest': \"green\", 'not_interesting': \"red\", 'outliers': \"black\"}\n",
    "n_rows = len(variables)\n",
    "\n",
    "fig, axs = plt.subplots(1, n_rows, figsize=(4*n_rows, 4))\n",
    "pairs = [(variables[0], variables[1]), (variables[0], variables[2]), (variables[1], variables[2])]\n",
    "for n_row, (x, y) in enumerate(pairs):\n",
    "    axs[n_row].scatter(\n",
    "        x=v['not_interesting'][x], y=v['not_interesting'][y], c=colors['not_interesting'], alpha=1.0, s=5\n",
    "    )\n",
    "    axs[n_row].scatter(\n",
    "        x=v['outliers'][x], y=v['outliers'][y], c=colors['outliers'], marker='x', s=5\n",
    "    )\n",
    "    axs[n_row].scatter(\n",
    "        x=v['interest'][x], y=v['interest'][y], c=colors['interest'], alpha=1.0, s=10\n",
    "    )\n",
    "    axs[n_row].set_xticks(np.arange(11))\n",
    "    axs[n_row].set_xticklabels(['0', '', '2', '', '4', '', '6', '', '8', '', '10'])\n",
    "    if x == 'Al radius [micron]':\n",
    "        axs[n_row].set_xlabel(r'$r_{Al} \\;[\\mu m]$')\n",
    "    else:\n",
    "        axs[n_row].set_xlabel(r'$r_{CuO} \\;[\\mu m]$')\n",
    "    if y == 'CuO radius [micron]':\n",
    "        axs[n_row].set_ylabel(r'$r_{CuO} \\;[\\mu m]$')\n",
    "    else:\n",
    "        axs[n_row].set_ylabel(r'$\\phi$')\n",
    "fig.tight_layout()"
   ]
  },
  {
   "cell_type": "markdown",
   "id": "4b7096c3-786b-4b78-9247-3016b9c5b4d9",
   "metadata": {},
   "source": [
    "# Store file"
   ]
  },
  {
   "cell_type": "code",
   "execution_count": 19,
   "id": "868f7242-d9bb-41c7-b590-92ffba0251d0",
   "metadata": {},
   "outputs": [],
   "source": [
    "fig.savefig('img/name.png')"
   ]
  }
 ],
 "metadata": {
  "kernelspec": {
   "display_name": "Kedro (sampler)",
   "language": "python",
   "name": "kedro_sampler"
  },
  "language_info": {
   "codemirror_mode": {
    "name": "ipython",
    "version": 3
   },
   "file_extension": ".py",
   "mimetype": "text/x-python",
   "name": "python",
   "nbconvert_exporter": "python",
   "pygments_lexer": "ipython3",
   "version": "3.10.13"
  }
 },
 "nbformat": 4,
 "nbformat_minor": 5
}
