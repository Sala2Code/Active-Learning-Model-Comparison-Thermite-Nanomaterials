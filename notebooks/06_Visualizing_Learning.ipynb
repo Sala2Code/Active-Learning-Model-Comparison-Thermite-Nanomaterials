{
 "cells": [
  {
   "cell_type": "code",
   "execution_count": 48,
   "metadata": {},
   "outputs": [],
   "source": [
    "import numpy as np\n",
    "import plotly.graph_objects as go"
   ]
  },
  {
   "cell_type": "code",
   "execution_count": 49,
   "metadata": {},
   "outputs": [
    {
     "data": {
      "application/vnd.plotly.v1+json": {
       "config": {
        "plotlyServerURL": "https://plot.ly"
       },
       "data": [
        {
         "marker": {
          "color": "red",
          "size": 10
         },
         "mode": "markers",
         "type": "scatter3d",
         "x": [],
         "y": [],
         "z": []
        }
       ],
       "frames": [
        {
         "data": [
          {
           "type": "scatter3d",
           "x": [
            0
           ],
           "y": [
            0
           ],
           "z": [
            0
           ]
          }
         ],
         "name": "frame0",
         "traces": [
          0
         ]
        },
        {
         "data": [
          {
           "type": "scatter3d",
           "x": [
            0.1111111111111111
           ],
           "y": [
            0.1111111111111111
           ],
           "z": [
            0.1111111111111111
           ]
          }
         ],
         "name": "frame1",
         "traces": [
          0
         ]
        },
        {
         "data": [
          {
           "type": "scatter3d",
           "x": [
            0.2222222222222222
           ],
           "y": [
            0.2222222222222222
           ],
           "z": [
            0.2222222222222222
           ]
          }
         ],
         "name": "frame2",
         "traces": [
          0
         ]
        },
        {
         "data": [
          {
           "type": "scatter3d",
           "x": [
            0.3333333333333333
           ],
           "y": [
            0.3333333333333333
           ],
           "z": [
            0.3333333333333333
           ]
          }
         ],
         "name": "frame3",
         "traces": [
          0
         ]
        },
        {
         "data": [
          {
           "type": "scatter3d",
           "x": [
            0.4444444444444444
           ],
           "y": [
            0.4444444444444444
           ],
           "z": [
            0.4444444444444444
           ]
          }
         ],
         "name": "frame4",
         "traces": [
          0
         ]
        },
        {
         "data": [
          {
           "type": "scatter3d",
           "x": [
            0.5555555555555556
           ],
           "y": [
            0.5555555555555556
           ],
           "z": [
            0.5555555555555556
           ]
          }
         ],
         "name": "frame5",
         "traces": [
          0
         ]
        },
        {
         "data": [
          {
           "type": "scatter3d",
           "x": [
            0.6666666666666666
           ],
           "y": [
            0.6666666666666666
           ],
           "z": [
            0.6666666666666666
           ]
          }
         ],
         "name": "frame6",
         "traces": [
          0
         ]
        },
        {
         "data": [
          {
           "type": "scatter3d",
           "x": [
            0.7777777777777777
           ],
           "y": [
            0.7777777777777777
           ],
           "z": [
            0.7777777777777777
           ]
          }
         ],
         "name": "frame7",
         "traces": [
          0
         ]
        },
        {
         "data": [
          {
           "type": "scatter3d",
           "x": [
            0.8888888888888888
           ],
           "y": [
            0.8888888888888888
           ],
           "z": [
            0.8888888888888888
           ]
          }
         ],
         "name": "frame8",
         "traces": [
          0
         ]
        },
        {
         "data": [
          {
           "type": "scatter3d",
           "x": [
            1
           ],
           "y": [
            1
           ],
           "z": [
            1
           ]
          }
         ],
         "name": "frame9",
         "traces": [
          0
         ]
        }
       ],
       "layout": {
        "scene": {
         "xaxis": {
          "autorange": false,
          "range": [
           0,
           1
          ]
         },
         "yaxis": {
          "autorange": false,
          "range": [
           0,
           1
          ]
         },
         "zaxis": {
          "autorange": false,
          "range": [
           0,
           1
          ]
         }
        },
        "template": {
         "data": {
          "bar": [
           {
            "error_x": {
             "color": "#2a3f5f"
            },
            "error_y": {
             "color": "#2a3f5f"
            },
            "marker": {
             "line": {
              "color": "#E5ECF6",
              "width": 0.5
             },
             "pattern": {
              "fillmode": "overlay",
              "size": 10,
              "solidity": 0.2
             }
            },
            "type": "bar"
           }
          ],
          "barpolar": [
           {
            "marker": {
             "line": {
              "color": "#E5ECF6",
              "width": 0.5
             },
             "pattern": {
              "fillmode": "overlay",
              "size": 10,
              "solidity": 0.2
             }
            },
            "type": "barpolar"
           }
          ],
          "carpet": [
           {
            "aaxis": {
             "endlinecolor": "#2a3f5f",
             "gridcolor": "white",
             "linecolor": "white",
             "minorgridcolor": "white",
             "startlinecolor": "#2a3f5f"
            },
            "baxis": {
             "endlinecolor": "#2a3f5f",
             "gridcolor": "white",
             "linecolor": "white",
             "minorgridcolor": "white",
             "startlinecolor": "#2a3f5f"
            },
            "type": "carpet"
           }
          ],
          "choropleth": [
           {
            "colorbar": {
             "outlinewidth": 0,
             "ticks": ""
            },
            "type": "choropleth"
           }
          ],
          "contour": [
           {
            "colorbar": {
             "outlinewidth": 0,
             "ticks": ""
            },
            "colorscale": [
             [
              0,
              "#0d0887"
             ],
             [
              0.1111111111111111,
              "#46039f"
             ],
             [
              0.2222222222222222,
              "#7201a8"
             ],
             [
              0.3333333333333333,
              "#9c179e"
             ],
             [
              0.4444444444444444,
              "#bd3786"
             ],
             [
              0.5555555555555556,
              "#d8576b"
             ],
             [
              0.6666666666666666,
              "#ed7953"
             ],
             [
              0.7777777777777778,
              "#fb9f3a"
             ],
             [
              0.8888888888888888,
              "#fdca26"
             ],
             [
              1,
              "#f0f921"
             ]
            ],
            "type": "contour"
           }
          ],
          "contourcarpet": [
           {
            "colorbar": {
             "outlinewidth": 0,
             "ticks": ""
            },
            "type": "contourcarpet"
           }
          ],
          "heatmap": [
           {
            "colorbar": {
             "outlinewidth": 0,
             "ticks": ""
            },
            "colorscale": [
             [
              0,
              "#0d0887"
             ],
             [
              0.1111111111111111,
              "#46039f"
             ],
             [
              0.2222222222222222,
              "#7201a8"
             ],
             [
              0.3333333333333333,
              "#9c179e"
             ],
             [
              0.4444444444444444,
              "#bd3786"
             ],
             [
              0.5555555555555556,
              "#d8576b"
             ],
             [
              0.6666666666666666,
              "#ed7953"
             ],
             [
              0.7777777777777778,
              "#fb9f3a"
             ],
             [
              0.8888888888888888,
              "#fdca26"
             ],
             [
              1,
              "#f0f921"
             ]
            ],
            "type": "heatmap"
           }
          ],
          "heatmapgl": [
           {
            "colorbar": {
             "outlinewidth": 0,
             "ticks": ""
            },
            "colorscale": [
             [
              0,
              "#0d0887"
             ],
             [
              0.1111111111111111,
              "#46039f"
             ],
             [
              0.2222222222222222,
              "#7201a8"
             ],
             [
              0.3333333333333333,
              "#9c179e"
             ],
             [
              0.4444444444444444,
              "#bd3786"
             ],
             [
              0.5555555555555556,
              "#d8576b"
             ],
             [
              0.6666666666666666,
              "#ed7953"
             ],
             [
              0.7777777777777778,
              "#fb9f3a"
             ],
             [
              0.8888888888888888,
              "#fdca26"
             ],
             [
              1,
              "#f0f921"
             ]
            ],
            "type": "heatmapgl"
           }
          ],
          "histogram": [
           {
            "marker": {
             "pattern": {
              "fillmode": "overlay",
              "size": 10,
              "solidity": 0.2
             }
            },
            "type": "histogram"
           }
          ],
          "histogram2d": [
           {
            "colorbar": {
             "outlinewidth": 0,
             "ticks": ""
            },
            "colorscale": [
             [
              0,
              "#0d0887"
             ],
             [
              0.1111111111111111,
              "#46039f"
             ],
             [
              0.2222222222222222,
              "#7201a8"
             ],
             [
              0.3333333333333333,
              "#9c179e"
             ],
             [
              0.4444444444444444,
              "#bd3786"
             ],
             [
              0.5555555555555556,
              "#d8576b"
             ],
             [
              0.6666666666666666,
              "#ed7953"
             ],
             [
              0.7777777777777778,
              "#fb9f3a"
             ],
             [
              0.8888888888888888,
              "#fdca26"
             ],
             [
              1,
              "#f0f921"
             ]
            ],
            "type": "histogram2d"
           }
          ],
          "histogram2dcontour": [
           {
            "colorbar": {
             "outlinewidth": 0,
             "ticks": ""
            },
            "colorscale": [
             [
              0,
              "#0d0887"
             ],
             [
              0.1111111111111111,
              "#46039f"
             ],
             [
              0.2222222222222222,
              "#7201a8"
             ],
             [
              0.3333333333333333,
              "#9c179e"
             ],
             [
              0.4444444444444444,
              "#bd3786"
             ],
             [
              0.5555555555555556,
              "#d8576b"
             ],
             [
              0.6666666666666666,
              "#ed7953"
             ],
             [
              0.7777777777777778,
              "#fb9f3a"
             ],
             [
              0.8888888888888888,
              "#fdca26"
             ],
             [
              1,
              "#f0f921"
             ]
            ],
            "type": "histogram2dcontour"
           }
          ],
          "mesh3d": [
           {
            "colorbar": {
             "outlinewidth": 0,
             "ticks": ""
            },
            "type": "mesh3d"
           }
          ],
          "parcoords": [
           {
            "line": {
             "colorbar": {
              "outlinewidth": 0,
              "ticks": ""
             }
            },
            "type": "parcoords"
           }
          ],
          "pie": [
           {
            "automargin": true,
            "type": "pie"
           }
          ],
          "scatter": [
           {
            "fillpattern": {
             "fillmode": "overlay",
             "size": 10,
             "solidity": 0.2
            },
            "type": "scatter"
           }
          ],
          "scatter3d": [
           {
            "line": {
             "colorbar": {
              "outlinewidth": 0,
              "ticks": ""
             }
            },
            "marker": {
             "colorbar": {
              "outlinewidth": 0,
              "ticks": ""
             }
            },
            "type": "scatter3d"
           }
          ],
          "scattercarpet": [
           {
            "marker": {
             "colorbar": {
              "outlinewidth": 0,
              "ticks": ""
             }
            },
            "type": "scattercarpet"
           }
          ],
          "scattergeo": [
           {
            "marker": {
             "colorbar": {
              "outlinewidth": 0,
              "ticks": ""
             }
            },
            "type": "scattergeo"
           }
          ],
          "scattergl": [
           {
            "marker": {
             "colorbar": {
              "outlinewidth": 0,
              "ticks": ""
             }
            },
            "type": "scattergl"
           }
          ],
          "scattermapbox": [
           {
            "marker": {
             "colorbar": {
              "outlinewidth": 0,
              "ticks": ""
             }
            },
            "type": "scattermapbox"
           }
          ],
          "scatterpolar": [
           {
            "marker": {
             "colorbar": {
              "outlinewidth": 0,
              "ticks": ""
             }
            },
            "type": "scatterpolar"
           }
          ],
          "scatterpolargl": [
           {
            "marker": {
             "colorbar": {
              "outlinewidth": 0,
              "ticks": ""
             }
            },
            "type": "scatterpolargl"
           }
          ],
          "scatterternary": [
           {
            "marker": {
             "colorbar": {
              "outlinewidth": 0,
              "ticks": ""
             }
            },
            "type": "scatterternary"
           }
          ],
          "surface": [
           {
            "colorbar": {
             "outlinewidth": 0,
             "ticks": ""
            },
            "colorscale": [
             [
              0,
              "#0d0887"
             ],
             [
              0.1111111111111111,
              "#46039f"
             ],
             [
              0.2222222222222222,
              "#7201a8"
             ],
             [
              0.3333333333333333,
              "#9c179e"
             ],
             [
              0.4444444444444444,
              "#bd3786"
             ],
             [
              0.5555555555555556,
              "#d8576b"
             ],
             [
              0.6666666666666666,
              "#ed7953"
             ],
             [
              0.7777777777777778,
              "#fb9f3a"
             ],
             [
              0.8888888888888888,
              "#fdca26"
             ],
             [
              1,
              "#f0f921"
             ]
            ],
            "type": "surface"
           }
          ],
          "table": [
           {
            "cells": {
             "fill": {
              "color": "#EBF0F8"
             },
             "line": {
              "color": "white"
             }
            },
            "header": {
             "fill": {
              "color": "#C8D4E3"
             },
             "line": {
              "color": "white"
             }
            },
            "type": "table"
           }
          ]
         },
         "layout": {
          "annotationdefaults": {
           "arrowcolor": "#2a3f5f",
           "arrowhead": 0,
           "arrowwidth": 1
          },
          "autotypenumbers": "strict",
          "coloraxis": {
           "colorbar": {
            "outlinewidth": 0,
            "ticks": ""
           }
          },
          "colorscale": {
           "diverging": [
            [
             0,
             "#8e0152"
            ],
            [
             0.1,
             "#c51b7d"
            ],
            [
             0.2,
             "#de77ae"
            ],
            [
             0.3,
             "#f1b6da"
            ],
            [
             0.4,
             "#fde0ef"
            ],
            [
             0.5,
             "#f7f7f7"
            ],
            [
             0.6,
             "#e6f5d0"
            ],
            [
             0.7,
             "#b8e186"
            ],
            [
             0.8,
             "#7fbc41"
            ],
            [
             0.9,
             "#4d9221"
            ],
            [
             1,
             "#276419"
            ]
           ],
           "sequential": [
            [
             0,
             "#0d0887"
            ],
            [
             0.1111111111111111,
             "#46039f"
            ],
            [
             0.2222222222222222,
             "#7201a8"
            ],
            [
             0.3333333333333333,
             "#9c179e"
            ],
            [
             0.4444444444444444,
             "#bd3786"
            ],
            [
             0.5555555555555556,
             "#d8576b"
            ],
            [
             0.6666666666666666,
             "#ed7953"
            ],
            [
             0.7777777777777778,
             "#fb9f3a"
            ],
            [
             0.8888888888888888,
             "#fdca26"
            ],
            [
             1,
             "#f0f921"
            ]
           ],
           "sequentialminus": [
            [
             0,
             "#0d0887"
            ],
            [
             0.1111111111111111,
             "#46039f"
            ],
            [
             0.2222222222222222,
             "#7201a8"
            ],
            [
             0.3333333333333333,
             "#9c179e"
            ],
            [
             0.4444444444444444,
             "#bd3786"
            ],
            [
             0.5555555555555556,
             "#d8576b"
            ],
            [
             0.6666666666666666,
             "#ed7953"
            ],
            [
             0.7777777777777778,
             "#fb9f3a"
            ],
            [
             0.8888888888888888,
             "#fdca26"
            ],
            [
             1,
             "#f0f921"
            ]
           ]
          },
          "colorway": [
           "#636efa",
           "#EF553B",
           "#00cc96",
           "#ab63fa",
           "#FFA15A",
           "#19d3f3",
           "#FF6692",
           "#B6E880",
           "#FF97FF",
           "#FECB52"
          ],
          "font": {
           "color": "#2a3f5f"
          },
          "geo": {
           "bgcolor": "white",
           "lakecolor": "white",
           "landcolor": "#E5ECF6",
           "showlakes": true,
           "showland": true,
           "subunitcolor": "white"
          },
          "hoverlabel": {
           "align": "left"
          },
          "hovermode": "closest",
          "mapbox": {
           "style": "light"
          },
          "paper_bgcolor": "white",
          "plot_bgcolor": "#E5ECF6",
          "polar": {
           "angularaxis": {
            "gridcolor": "white",
            "linecolor": "white",
            "ticks": ""
           },
           "bgcolor": "#E5ECF6",
           "radialaxis": {
            "gridcolor": "white",
            "linecolor": "white",
            "ticks": ""
           }
          },
          "scene": {
           "xaxis": {
            "backgroundcolor": "#E5ECF6",
            "gridcolor": "white",
            "gridwidth": 2,
            "linecolor": "white",
            "showbackground": true,
            "ticks": "",
            "zerolinecolor": "white"
           },
           "yaxis": {
            "backgroundcolor": "#E5ECF6",
            "gridcolor": "white",
            "gridwidth": 2,
            "linecolor": "white",
            "showbackground": true,
            "ticks": "",
            "zerolinecolor": "white"
           },
           "zaxis": {
            "backgroundcolor": "#E5ECF6",
            "gridcolor": "white",
            "gridwidth": 2,
            "linecolor": "white",
            "showbackground": true,
            "ticks": "",
            "zerolinecolor": "white"
           }
          },
          "shapedefaults": {
           "line": {
            "color": "#2a3f5f"
           }
          },
          "ternary": {
           "aaxis": {
            "gridcolor": "white",
            "linecolor": "white",
            "ticks": ""
           },
           "baxis": {
            "gridcolor": "white",
            "linecolor": "white",
            "ticks": ""
           },
           "bgcolor": "#E5ECF6",
           "caxis": {
            "gridcolor": "white",
            "linecolor": "white",
            "ticks": ""
           }
          },
          "title": {
           "x": 0.05
          },
          "xaxis": {
           "automargin": true,
           "gridcolor": "white",
           "linecolor": "white",
           "ticks": "",
           "title": {
            "standoff": 15
           },
           "zerolinecolor": "white",
           "zerolinewidth": 2
          },
          "yaxis": {
           "automargin": true,
           "gridcolor": "white",
           "linecolor": "white",
           "ticks": "",
           "title": {
            "standoff": 15
           },
           "zerolinecolor": "white",
           "zerolinewidth": 2
          }
         }
        },
        "updatemenus": [
         {
          "buttons": [
           {
            "args": [
             null,
             {
              "frame": {
               "fromcurrent": true,
               "mode": "immediate",
               "redraw": true
              }
             }
            ],
            "label": "Play",
            "method": "animate"
           }
          ],
          "type": "buttons"
         }
        ]
       }
      }
     },
     "metadata": {},
     "output_type": "display_data"
    }
   ],
   "source": [
    "\n",
    "\n",
    "# Interpolate points from 0,0,0 to 1,1,1\n",
    "x,y,z = np.linspace(0,1,10), np.linspace(0,1,10), np.linspace(0,1,10)\n",
    "\n",
    "\n",
    "# Create figure\n",
    "fig = go.Figure(\n",
    "    data=[go.Scatter3d(x=[], y=[], z=[],\n",
    "                     mode=\"markers\",marker=dict(color=\"red\", size=10))])\n",
    "    \n",
    "fig.update_layout(\n",
    "        \n",
    "         scene = dict(\n",
    "        \n",
    "        xaxis=dict(range=[min(x), max(x)], autorange=False),\n",
    "        yaxis=dict(range=[min(y), max(y)], autorange=False),\n",
    "        zaxis=dict(range=[min(z), max(z)], autorange=False),\n",
    "        )),\n",
    "\n",
    "\n",
    "frames = [go.Frame(data= [go.Scatter3d(\n",
    "                                       x=x[[k]], \n",
    "                                       y=y[[k]],\n",
    "                                       z=z[[k]])],\n",
    "                   \n",
    "                   traces= [0],\n",
    "                   name=f'frame{k}'      \n",
    "                  )for k  in  range(len(x))]\n",
    "fig.update(frames=frames),\n",
    "\n",
    "\n",
    "\n",
    "\n",
    "fig.update_layout(updatemenus=[dict(type=\"buttons\",\n",
    "                          buttons=[dict(label=\"Play\",\n",
    "                                        method=\"animate\",\n",
    "                                        args=[None, dict(frame=dict(redraw=True,fromcurrent=True, mode='immediate'))      ])])])\n",
    "\n",
    "\n",
    "fig.show()"
   ]
  },
  {
   "cell_type": "code",
   "execution_count": 64,
   "metadata": {},
   "outputs": [],
   "source": [
    "def plot_std(model):\n",
    "    \"\"\"Plot the standard deviation of the Gaussian Process for a grid of points between 0 and 1.\"\"\"\n",
    "    import numpy as np\n",
    "    import plotly.graph_objects as go\n",
    "    import pandas as pd\n",
    "\n",
    "    n = 100\n",
    "    feat_grid = np.linspace(0, 1, n)\n",
    "    X, Y = np.meshgrid(feat_grid, feat_grid)\n",
    "    Z = np.zeros((n, n))\n",
    "\n",
    "    steps = 3\n",
    "    slider_steps = np.linspace(0, 1, steps)\n",
    "\n",
    "    df = pd.DataFrame()\n",
    "    for s in slider_steps:\n",
    "        for i in range(n):\n",
    "            for j in range(n):\n",
    "                y_hat, y_std = model.predict(np.array([[X[i, j], Y[i, j], s]]), return_std=True)\n",
    "                y_hat0, y_hat1 = y_hat[0]\n",
    "                std0, std1 = y_std[0]\n",
    "                #Z[i, j] = std0\n",
    "                df = df.append({'x': X[i, j], 'y': Y[i, j], 'step': s, 'y_hat0':y_hat0, 'std0': std0, 'y_hat1': y_hat1, 'std1': std1}, ignore_index=True)\n",
    "\n",
    "    return df\n",
    "\n",
    "    # plot_type = 'surface' # surface or contour\n",
    "    # if plot_type == 'surface':\n",
    "    #     fig = go.Figure(data=[go.Surface(z=Z, x=x, y=y)])\n",
    "\n",
    "    #     # Add training points as scatter plot\n",
    "    #     x_train = self.x_train[:, 0]\n",
    "    #     y_train = self.x_train[:, 1]\n",
    "    #     dummy_train = self.x_train.copy()\n",
    "    #     dummy_train[:, 2] = 0\n",
    "    #     _, y_std = self.model.predict(dummy_train, return_std=True)\n",
    "    #     z_train = y_std[:, 0]\n",
    "    #     fig.add_trace(go.Scatter3d(x=x_train, y=y_train, z=z_train, mode='markers', marker=dict(color='green', size=3),\n",
    "    #                         name='Training Points', showlegend=True))\n",
    "\n",
    "    #     fig.update_layout(scene=dict(xaxis_title='X', yaxis_title='Y', zaxis_title='Standard Deviation'))\n",
    "    # elif plot_type == 'contour':\n",
    "    #     fig = go.Figure(data=go.Contour(z=Z, x=x, y=y, contours=dict(coloring='heatmap')))\n",
    "    #     fig.update_layout(coloraxis=dict(colorscale='Viridis'))\n",
    "\n",
    "    # fig.update_layout(legend=dict(yanchor=\"top\", y=0.99, xanchor=\"left\", x=0.01))\n",
    "    # fig.update_layout(height=800, margin=dict(l=0, r=0, b=0, t=0))\n",
    "    # fig.show()\n",
    "\n",
    "    # print(\"Done plotting.\")\n",
    "    "
   ]
  },
  {
   "cell_type": "code",
   "execution_count": 106,
   "metadata": {},
   "outputs": [],
   "source": [
    "import numpy as np\n",
    "import pandas as pd\n",
    "\n",
    "def plot_std(model):\n",
    "    \"\"\"Plot the standard deviation of the Gaussian Process for a grid of points between 0 and 1.\"\"\"\n",
    "    n = 11\n",
    "    feat_grid = np.linspace(0, 1, n)\n",
    "    X, Y = np.meshgrid(feat_grid, feat_grid)\n",
    "\n",
    "    steps = 11\n",
    "    slider_steps = np.linspace(0, 1, steps)\n",
    "\n",
    "    data = []\n",
    "    for s in slider_steps:\n",
    "        y_hats, y_stds = model.predict(np.c_[X.ravel(), Y.ravel(), np.full(X.size, s)], return_std=True)\n",
    "        y_hats = y_hats.reshape(X.shape[0], X.shape[1], -1)\n",
    "        y_stds = y_stds.reshape(X.shape[0], X.shape[1], -1)\n",
    "\n",
    "        for i in range(n):\n",
    "            for j in range(n):\n",
    "                y_hat0, y_hat1 = y_hats[i, j]\n",
    "                std0, std1 = y_stds[i, j]\n",
    "                data.append({'x': X[i, j], 'y': Y[i, j], 'step': s, 'y_hat0': y_hat0, 'std0': std0, 'y_hat1': y_hat1, 'std1': std1})\n",
    "\n",
    "    df = pd.DataFrame(data)\n",
    "    return df"
   ]
  },
  {
   "cell_type": "code",
   "execution_count": 107,
   "metadata": {},
   "outputs": [
    {
     "data": {
      "text/html": [
       "<pre style=\"white-space:pre;overflow-x:auto;line-height:normal;font-family:Menlo,'DejaVu Sans Mono',consolas,'Courier New',monospace\"></pre>\n"
      ],
      "text/plain": []
     },
     "metadata": {},
     "output_type": "display_data"
    },
    {
     "data": {
      "text/html": [
       "<div>\n",
       "<style scoped>\n",
       "    .dataframe tbody tr th:only-of-type {\n",
       "        vertical-align: middle;\n",
       "    }\n",
       "\n",
       "    .dataframe tbody tr th {\n",
       "        vertical-align: top;\n",
       "    }\n",
       "\n",
       "    .dataframe thead th {\n",
       "        text-align: right;\n",
       "    }\n",
       "</style>\n",
       "<table border=\"1\" class=\"dataframe\">\n",
       "  <thead>\n",
       "    <tr style=\"text-align: right;\">\n",
       "      <th></th>\n",
       "      <th>x</th>\n",
       "      <th>y</th>\n",
       "      <th>step</th>\n",
       "      <th>y_hat0</th>\n",
       "      <th>std0</th>\n",
       "      <th>y_hat1</th>\n",
       "      <th>std1</th>\n",
       "    </tr>\n",
       "  </thead>\n",
       "  <tbody>\n",
       "    <tr>\n",
       "      <th>0</th>\n",
       "      <td>0.0</td>\n",
       "      <td>0.0</td>\n",
       "      <td>0.0</td>\n",
       "      <td>0.500000</td>\n",
       "      <td>0.996086</td>\n",
       "      <td>1.000000</td>\n",
       "      <td>0.996086</td>\n",
       "    </tr>\n",
       "    <tr>\n",
       "      <th>1</th>\n",
       "      <td>0.1</td>\n",
       "      <td>0.0</td>\n",
       "      <td>0.0</td>\n",
       "      <td>0.506009</td>\n",
       "      <td>0.995991</td>\n",
       "      <td>1.012018</td>\n",
       "      <td>0.995991</td>\n",
       "    </tr>\n",
       "    <tr>\n",
       "      <th>2</th>\n",
       "      <td>0.2</td>\n",
       "      <td>0.0</td>\n",
       "      <td>0.0</td>\n",
       "      <td>0.511509</td>\n",
       "      <td>0.995903</td>\n",
       "      <td>1.023018</td>\n",
       "      <td>0.995903</td>\n",
       "    </tr>\n",
       "    <tr>\n",
       "      <th>3</th>\n",
       "      <td>0.3</td>\n",
       "      <td>0.0</td>\n",
       "      <td>0.0</td>\n",
       "      <td>0.516462</td>\n",
       "      <td>0.995824</td>\n",
       "      <td>1.032924</td>\n",
       "      <td>0.995824</td>\n",
       "    </tr>\n",
       "    <tr>\n",
       "      <th>4</th>\n",
       "      <td>0.4</td>\n",
       "      <td>0.0</td>\n",
       "      <td>0.0</td>\n",
       "      <td>0.520833</td>\n",
       "      <td>0.995752</td>\n",
       "      <td>1.041667</td>\n",
       "      <td>0.995752</td>\n",
       "    </tr>\n",
       "    <tr>\n",
       "      <th>...</th>\n",
       "      <td>...</td>\n",
       "      <td>...</td>\n",
       "      <td>...</td>\n",
       "      <td>...</td>\n",
       "      <td>...</td>\n",
       "      <td>...</td>\n",
       "      <td>...</td>\n",
       "    </tr>\n",
       "    <tr>\n",
       "      <th>1326</th>\n",
       "      <td>0.6</td>\n",
       "      <td>1.0</td>\n",
       "      <td>1.0</td>\n",
       "      <td>1.117318</td>\n",
       "      <td>0.980300</td>\n",
       "      <td>2.234637</td>\n",
       "      <td>0.980300</td>\n",
       "    </tr>\n",
       "    <tr>\n",
       "      <th>1327</th>\n",
       "      <td>0.7</td>\n",
       "      <td>1.0</td>\n",
       "      <td>1.0</td>\n",
       "      <td>1.128350</td>\n",
       "      <td>0.979905</td>\n",
       "      <td>2.256700</td>\n",
       "      <td>0.979905</td>\n",
       "    </tr>\n",
       "    <tr>\n",
       "      <th>1328</th>\n",
       "      <td>0.8</td>\n",
       "      <td>1.0</td>\n",
       "      <td>1.0</td>\n",
       "      <td>1.136364</td>\n",
       "      <td>0.979615</td>\n",
       "      <td>2.272727</td>\n",
       "      <td>0.979615</td>\n",
       "    </tr>\n",
       "    <tr>\n",
       "      <th>1329</th>\n",
       "      <td>0.9</td>\n",
       "      <td>1.0</td>\n",
       "      <td>1.0</td>\n",
       "      <td>1.141227</td>\n",
       "      <td>0.979439</td>\n",
       "      <td>2.282454</td>\n",
       "      <td>0.979439</td>\n",
       "    </tr>\n",
       "    <tr>\n",
       "      <th>1330</th>\n",
       "      <td>1.0</td>\n",
       "      <td>1.0</td>\n",
       "      <td>1.0</td>\n",
       "      <td>1.142857</td>\n",
       "      <td>0.979379</td>\n",
       "      <td>2.285714</td>\n",
       "      <td>0.979379</td>\n",
       "    </tr>\n",
       "  </tbody>\n",
       "</table>\n",
       "<p>1331 rows × 7 columns</p>\n",
       "</div>"
      ],
      "text/plain": [
       "\n",
       "        x    y  step    y_hat0      std0    y_hat1      std1\n",
       "\u001b[1;36m0\u001b[0m     \u001b[1;36m0.0\u001b[0m  \u001b[1;36m0.0\u001b[0m   \u001b[1;36m0.0\u001b[0m  \u001b[1;36m0.500000\u001b[0m  \u001b[1;36m0.996086\u001b[0m  \u001b[1;36m1.000000\u001b[0m  \u001b[1;36m0.996086\u001b[0m\n",
       "\u001b[1;36m1\u001b[0m     \u001b[1;36m0.1\u001b[0m  \u001b[1;36m0.0\u001b[0m   \u001b[1;36m0.0\u001b[0m  \u001b[1;36m0.506009\u001b[0m  \u001b[1;36m0.995991\u001b[0m  \u001b[1;36m1.012018\u001b[0m  \u001b[1;36m0.995991\u001b[0m\n",
       "\u001b[1;36m2\u001b[0m     \u001b[1;36m0.2\u001b[0m  \u001b[1;36m0.0\u001b[0m   \u001b[1;36m0.0\u001b[0m  \u001b[1;36m0.511509\u001b[0m  \u001b[1;36m0.995903\u001b[0m  \u001b[1;36m1.023018\u001b[0m  \u001b[1;36m0.995903\u001b[0m\n",
       "\u001b[1;36m3\u001b[0m     \u001b[1;36m0.3\u001b[0m  \u001b[1;36m0.0\u001b[0m   \u001b[1;36m0.0\u001b[0m  \u001b[1;36m0.516462\u001b[0m  \u001b[1;36m0.995824\u001b[0m  \u001b[1;36m1.032924\u001b[0m  \u001b[1;36m0.995824\u001b[0m\n",
       "\u001b[1;36m4\u001b[0m     \u001b[1;36m0.4\u001b[0m  \u001b[1;36m0.0\u001b[0m   \u001b[1;36m0.0\u001b[0m  \u001b[1;36m0.520833\u001b[0m  \u001b[1;36m0.995752\u001b[0m  \u001b[1;36m1.041667\u001b[0m  \u001b[1;36m0.995752\u001b[0m\n",
       "\u001b[33m...\u001b[0m   \u001b[33m...\u001b[0m  \u001b[33m...\u001b[0m   \u001b[33m...\u001b[0m       \u001b[33m...\u001b[0m       \u001b[33m...\u001b[0m       \u001b[33m...\u001b[0m       \u001b[33m...\u001b[0m\n",
       "\u001b[1;36m1326\u001b[0m  \u001b[1;36m0.6\u001b[0m  \u001b[1;36m1.0\u001b[0m   \u001b[1;36m1.0\u001b[0m  \u001b[1;36m1.117318\u001b[0m  \u001b[1;36m0.980300\u001b[0m  \u001b[1;36m2.234637\u001b[0m  \u001b[1;36m0.980300\u001b[0m\n",
       "\u001b[1;36m1327\u001b[0m  \u001b[1;36m0.7\u001b[0m  \u001b[1;36m1.0\u001b[0m   \u001b[1;36m1.0\u001b[0m  \u001b[1;36m1.128350\u001b[0m  \u001b[1;36m0.979905\u001b[0m  \u001b[1;36m2.256700\u001b[0m  \u001b[1;36m0.979905\u001b[0m\n",
       "\u001b[1;36m1328\u001b[0m  \u001b[1;36m0.8\u001b[0m  \u001b[1;36m1.0\u001b[0m   \u001b[1;36m1.0\u001b[0m  \u001b[1;36m1.136364\u001b[0m  \u001b[1;36m0.979615\u001b[0m  \u001b[1;36m2.272727\u001b[0m  \u001b[1;36m0.979615\u001b[0m\n",
       "\u001b[1;36m1329\u001b[0m  \u001b[1;36m0.9\u001b[0m  \u001b[1;36m1.0\u001b[0m   \u001b[1;36m1.0\u001b[0m  \u001b[1;36m1.141227\u001b[0m  \u001b[1;36m0.979439\u001b[0m  \u001b[1;36m2.282454\u001b[0m  \u001b[1;36m0.979439\u001b[0m\n",
       "\u001b[1;36m1330\u001b[0m  \u001b[1;36m1.0\u001b[0m  \u001b[1;36m1.0\u001b[0m   \u001b[1;36m1.0\u001b[0m  \u001b[1;36m1.142857\u001b[0m  \u001b[1;36m0.979379\u001b[0m  \u001b[1;36m2.285714\u001b[0m  \u001b[1;36m0.979379\u001b[0m\n",
       "\n",
       "\u001b[1m[\u001b[0m\u001b[1;36m1331\u001b[0m rows x \u001b[1;36m7\u001b[0m columns\u001b[1m]\u001b[0m"
      ]
     },
     "execution_count": 107,
     "metadata": {},
     "output_type": "execute_result"
    }
   ],
   "source": [
    "df = plot_std(model)\n",
    "df"
   ]
  },
  {
   "cell_type": "code",
   "execution_count": 103,
   "metadata": {},
   "outputs": [
    {
     "data": {
      "application/vnd.plotly.v1+json": {
       "config": {
        "plotlyServerURL": "https://plot.ly"
       },
       "data": [
        {
         "type": "surface",
         "z": [
          0.4999999999999999,
          0.5066458170445659,
          0.5126582278481011,
          0.5179856115107913,
          0.5225806451612902,
          0.5264012997562956,
          0.5294117647058822,
          0.5315832649712878,
          0.5328947368421052,
          0.5333333333333332,
          0.5138778747026168,
          0.5209003215434083,
          0.5272579332790887,
          0.5328947368421052,
          0.5377593360995849,
          0.5418060200668895,
          0.544995794785534,
          0.5472972972972971,
          0.548687552921253,
          0.5491525423728812,
          0.527687296416938,
          0.5350949628406275,
          0.5418060200668895,
          0.5477599323753168,
          0.5529010238907849,
          0.5571797076526224,
          0.560553633217993,
          0.5629887054735012,
          0.5644599303135888,
          0.5649520488230164,
          0.5413533834586465,
          0.5491525423728812,
          0.5562231759656651,
          0.5624999999999999,
          0.5679228746713407,
          0.5724381625441695,
          0.5759999999999998,
          0.5785714285714284,
          0.5801253357206803,
          0.5806451612903224,
          0.5547945205479451,
          0.5629887054735012,
          0.5704225352112675,
          0.5770258236865538,
          0.5827338129496401,
          0.5874886672710787,
          0.5912408759124087,
          0.5939505041246561,
          0.5955882352941175,
          0.5961361545538177,
          0.5679228746713408,
          0.5765124555160142,
          0.5843101893597835,
          0.5912408759124087,
          0.5972350230414746,
          0.6022304832713753,
          0.6061739943872777,
          0.6090225563909774,
          0.6107445805843542,
          0.611320754716981,
          0.5806451612903224,
          0.5896269335759781,
          0.5977859778597785,
          0.6050420168067225,
          0.611320754716981,
          0.6165556612749761,
          0.6206896551724137,
          0.6236766121270451,
          0.6254826254826253,
          0.626086956521739,
          0.5928636779505946,
          0.6022304832713753,
          0.6107445805843542,
          0.6183206106870227,
          0.6248794599807135,
          0.630350194552529,
          0.6346718903036238,
          0.637795275590551,
          0.6396841066140176,
          0.6403162055335967,
          0.6044776119402984,
          0.6142180094786729,
          0.623076923076923,
          0.6309639727361245,
          0.637795275590551,
          0.6434955312810327,
          0.6479999999999999,
          0.6512562814070351,
          0.6532258064516128,
          0.6538849646821391,
          0.6153846153846153,
          0.6254826254826253,
          0.6346718903036238,
          0.6428571428571427,
          0.6499498495486458,
          0.6558704453441294,
          0.6605504587155963,
          0.663934426229508,
          0.6659815005138745,
          0.6666666666666665,
          0.5213193885760257,
          0.5285481239804241,
          0.5350949628406275,
          0.5409015025041735,
          0.5459140690817185,
          0.5500848896434635,
          0.5533731853116993,
          0.555746140651801,
          0.5571797076526224,
          0.5576592082616177,
          0.5364238410596026,
          0.544080604534005,
          0.5510204081632651,
          0.5571797076526224,
          0.5624999999999999,
          0.5669291338582676,
          0.5704225352112675,
          0.572944297082228,
          0.5744680851063829,
          0.574977817213842,
          0.5514893617021276,
          0.5595854922279792,
          0.5669291338582676,
          0.5734513274336283,
          0.5790884718498659,
          0.5837837837837837,
          0.5874886672710788,
          0.5901639344262294,
          0.5917808219178081,
          0.5923217550274222,
          0.5664335664335663,
          0.5749778172138419,
          0.5827338129496401,
          0.5896269335759781,
          0.5955882352941175,
          0.6005560704355885,
          0.6044776119402984,
          0.6073102155576381,
          0.6090225563909774,
          0.6095954844778926,
          0.5811659192825112,
          0.5901639344262294,
          0.5983379501385041,
          0.605607476635514,
          0.6118980169971671,
          0.6171428571428571,
          0.6212847555129434,
          0.6242774566473988,
          0.626086956521739,
          0.6266924564796904,
          0.5955882352941175,
          0.6050420168067226,
          0.6136363636363635,
          0.6212847555129434,
          0.6279069767441859,
          0.6334310850439882,
          0.6377952755905512,
          0.6409495548961424,
          0.6428571428571427,
          0.6434955312810327,
          0.6095954844778926,
          0.6195028680688335,
          0.6285160038797283,
          0.636542239685658,
          0.6434955312810327,
          0.6492985971943886,
          0.6538849646821391,
          0.6572008113590262,
          0.6592065106815869,
          0.6598778004073318,
          0.623076923076923,
          0.6334310850439882,
          0.6428571428571427,
          0.6512562814070351,
          0.6585365853658535,
          0.6646153846153845,
          0.6694214876033057,
          0.6728971962616821,
          0.6749999999999999,
          0.6757038581856099,
          0.635917566241413,
          0.6467065868263472,
          0.6565349544072947,
          0.6652977412731005,
          0.6728971962616821,
          0.6792452830188678,
          0.6842661034846884,
          0.6878980891719744,
          0.6900958466453674,
          0.6908315565031982,
          0.6479999999999999,
          0.6592065106815869,
          0.6694214876033057,
          0.6785340314136125,
          0.6864406779661015,
          0.6930481283422459,
          0.6982758620689654,
          0.7020585048754062,
          0.7043478260869563,
          0.7051142546245919,
          0.5436241610738254,
          0.5514893617021276,
          0.5586206896551723,
          0.5649520488230164,
          0.5704225352112675,
          0.574977817213842,
          0.5785714285714285,
          0.5811659192825112,
          0.5827338129496401,
          0.5832583258325832,
          0.5600691443388072,
          0.5684210526315789,
          0.5759999999999998,
          0.5827338129496401,
          0.5885558583106266,
          0.5934065934065933,
          0.5972350230414746,
          0.6,
          0.6016713091922005,
          0.6022304832713754,
          0.5765124555160142,
          0.5853658536585366,
          0.5934065934065933,
          0.6005560704355885,
          0.6067415730337078,
          0.6118980169971671,
          0.6159695817490494,
          0.6189111747851002,
          0.6206896551724137,
          0.6212847555129434,
          0.5928636779505946,
          0.6022304832713753,
          0.6107445805843542,
          0.6183206106870227,
          0.6248794599807135,
          0.630350194552529,
          0.6346718903036238,
          0.637795275590551,
          0.6396841066140176,
          0.6403162055335967,
          0.6090225563909774,
          0.6189111747851002,
          0.6279069767441859,
          0.635917566241413,
          0.6428571428571427,
          0.6486486486486486,
          0.6532258064516129,
          0.6565349544072947,
          0.6585365853658535,
          0.6592065106815869,
          0.6248794599807135,
          0.6352941176470588,
          0.644776119402985,
          0.6532258064516129,
          0.6605504587155963,
          0.6666666666666665,
          0.6715025906735751,
          0.6749999999999999,
          0.6771159874608149,
          0.6778242677824268,
          0.6403162055335967,
          0.6512562814070351,
          0.6612244897959182,
          0.670113753877973,
          0.6778242677824268,
          0.6842661034846884,
          0.6893617021276595,
          0.6930481283422458,
          0.6952789699570815,
          0.6960257787325456,
          0.6552072800808897,
          0.6666666666666665,
          0.6771159874608149,
          0.6864406779661015,
          0.6945337620578776,
          0.7012987012987012,
          0.7066521264994546,
          0.7105263157894736,
          0.7128712871287128,
          0.7136563876651981,
          0.6694214876033057,
          0.6813880126182964,
          0.6923076923076922,
          0.7020585048754062,
          0.7105263157894736,
          0.7176079734219267,
          0.7232142857142857,
          0.7272727272727272,
          0.7297297297297297,
          0.7305524239007891,
          0.6828240252897786,
          0.6952789699570815,
          0.7066521264994546,
          0.7168141592920353,
          0.7256438969764837,
          0.7330316742081447,
          0.7388825541619156,
          0.7431192660550457,
          0.7456846950517835,
          0.7465437788018432,
          0.5669291338582676,
          0.5754884547069271,
          0.5832583258325832,
          0.5901639344262294,
          0.5961361545538177,
          0.6011131725417438,
          0.6050420168067226,
          0.6078799249530956,
          0.6095954844778927,
          0.6101694915254237,
          0.5848375451263537,
          0.5939505041246561,
          0.6022304832713754,
          0.6095954844778927,
          0.6159695817490494,
          0.6212847555129434,
          0.6254826254826253,
          0.6285160038797283,
          0.630350194552529,
          0.6309639727361245,
          0.6027906976744185,
          0.6124763705103969,
          0.6212847555129434,
          0.6291262135922329,
          0.635917566241413,
          0.6415841584158415,
          0.6460618145563309,
          0.6492985971943886,
          0.6512562814070352,
          0.6519114688128772,
          0.6206896551724137,
          0.6309639727361245,
          0.6403162055335967,
          0.6486486486486485,
          0.6558704453441294,
          0.661899897854954,
          0.6666666666666665,
          0.670113753877973,
          0.6721991701244813,
          0.6728971962616821,
          0.6384236453201969,
          0.6492985971943886,
          0.6592065106815869,
          0.6680412371134019,
          0.6757038581856099,
          0.6821052631578945,
          0.6871686108165429,
          0.6908315565031982,
          0.6930481283422459,
          0.6937901498929335,
          0.6558704453441295,
          0.6673532440782698,
          0.6778242677824268,
          0.6871686108165429,
          0.6952789699570815,
          0.7020585048754062,
          0.7074235807860261,
          0.7113062568605927,
          0.7136563876651981,
          0.7144432194046306,
          0.6728971962616821,
          0.6849894291754756,
          0.6960257787325456,
          0.7058823529411763,
          0.7144432194046305,
          0.7216035634743875,
          0.7272727272727272,
          0.7313769751693001,
          0.7338618346545865,
          0.7346938775510202,
          0.6893617021276595,
          0.7020585048754062,
          0.7136563876651981,
          0.724022346368715,
          0.7330316742081446,
          0.7405714285714285,
          0.7465437788018432,
          0.750869061413673,
          0.7534883720930231,
          0.7543655413271243,
          0.7051142546245919,
          0.7184035476718402,
          0.7305524239007891,
          0.7414187643020594,
          0.750869061413673,
          0.7587822014051521,
          0.7650531286894922,
          0.7695961995249404,
          0.7723480333730629,
          0.77326968973747,
          0.7199999999999999,
          0.7338618346545865,
          0.7465437788018432,
          0.7578947368421051,
          0.767772511848341,
          0.7760479041916165,
          0.7826086956521737,
          0.7873633049817738,
          0.7902439024390243,
          0.7912087912087911,
          0.5912408759124087,
          0.6005560704355885,
          0.6090225563909775,
          0.6165556612749762,
          0.623076923076923,
          0.6285160038797284,
          0.6328124999999999,
          0.635917566241413,
          0.6377952755905512,
          0.6384236453201969,
          0.6107445805843543,
          0.6206896551724137,
          0.629737609329446,
          0.6377952755905512,
          0.644776119402985,
          0.6506024096385542,
          0.6552072800808898,
          0.6585365853658536,
          0.6605504587155963,
          0.6612244897959183,
          0.630350194552529,
          0.6409495548961424,
          0.6506024096385542,
          0.659206510681587,
          0.6666666666666666,
          0.6728971962616822,
          0.6778242677824268,
          0.6813880126182964,
          0.6835443037974683,
          0.6842661034846884,
          0.6499498495486459,
          0.6612244897959183,
          0.6715025906735751,
          0.6806722689075629,
          0.6886291179596173,
          0.6952789699570815,
          0.7005405405405404,
          0.7043478260869565,
          0.7066521264994546,
          0.7074235807860262,
          0.6694214876033057,
          0.6813880126182964,
          0.6923076923076923,
          0.7020585048754063,
          0.7105263157894737,
          0.7176079734219268,
          0.7232142857142857,
          0.7272727272727272,
          0.7297297297297297,
          0.7305524239007891,
          0.6886291179596173,
          0.7012987012987012,
          0.7128712871287128,
          0.7232142857142857,
          0.7322033898305085,
          0.7397260273972602,
          0.7456846950517836,
          0.7499999999999998,
          0.7526132404181184,
          0.7534883720930231,
          0.7074235807860262,
          0.7208008898776418,
          0.7330316742081447,
          0.7439724454649828,
          0.7534883720930231,
          0.7614571092831961,
          0.767772511848341,
          0.772348033373063,
          0.7751196172248802,
          0.7760479041916166,
          0.7256438969764838,
          0.7397260273972602,
          0.7526132404181183,
          0.7641509433962262,
          0.7741935483870966,
          0.7826086956521737,
          0.7892813641900119,
          0.7941176470588234,
          0.7970479704797047,
          0.7980295566502462,
          0.7431192660550459,
          0.7578947368421052,
          0.7714285714285712,
          0.7835550181378474,
          0.7941176470588234,
          0.8029739776951671,
          0.8099999999999998,
          0.8150943396226414,
          0.818181818181818,
          0.8192161820480404,
          0.7596717467760842,
          0.7751196172248802,
          0.7892813641900122,
          0.8019801980198019,
          0.8130489335006272,
          0.8223350253807106,
          0.8297055057618437,
          0.8350515463917524,
          0.8382923673997411,
          0.8393782383419687,
          0.6165556612749761,
          0.6266924564796903,
          0.635917566241413,
          0.6441351888667991,
          0.651256281407035,
          0.6572008113590262,
          0.6618998978549538,
          0.6652977412731004,
          0.6673532440782697,
          0.6680412371134019,
          0.637795275590551,
          0.6486486486486485,
          0.6585365853658535,
          0.6673532440782697,
          0.6749999999999998,
          0.6813880126182964,
          0.6864406779661015,
          0.6900958466453673,
          0.6923076923076921,
          0.6930481283422458,
          0.6592065106815868,
          0.6708074534161489,
          0.6813880126182964,
          0.6908315565031982,
          0.6990291262135921,
          0.7058823529411763,
          0.7113062568605926,
          0.71523178807947,
          0.7176079734219267,
          0.7184035476718401,
          0.6806722689075628,
          0.6930481283422458,
          0.7043478260869563,
          0.7144432194046305,
          0.7232142857142855,
          0.730552423900789,
          0.7363636363636361,
          0.7405714285714284,
          0.7431192660550456,
          0.7439724454649826,
          0.7020585048754061,
          0.71523178807947,
          0.7272727272727272,
          0.7380410022779043,
          0.7474048442906573,
          0.755244755244755,
          0.7614571092831959,
          0.7659574468085103,
          0.7686832740213521,
          0.7695961995249403,
          0.7232142857142855,
          0.7372013651877132,
          0.7499999999999998,
          0.7614571092831959,
          0.7714285714285712,
          0.7797833935018048,
          0.786407766990291,
          0.7912087912087908,
          0.7941176470588233,
          0.795092024539877,
          0.7439724454649826,
          0.758782201405152,
          0.7723480333730629,
          0.7845036319612588,
          0.795092024539877,
          0.8039702233250617,
          0.8110137672090109,
          0.8161209068010072,
          0.8192161820480401,
          0.8202531645569617,
          0.7641509433962261,
          0.7797833935018048,
          0.7941176470588232,
          0.8069738480697383,
          0.8181818181818179,
          0.8275862068965514,
          0.8350515463917524,
          0.8404669260700386,
          0.8437499999999997,
          0.844850065189048,
          0.7835550181378474,
          0.7999999999999998,
          0.8150943396226411,
          0.828644501278772,
          0.8404669260700386,
          0.8503937007874013,
          0.8582781456953639,
          0.8639999999999998,
          0.867469879518072,
          0.8686327077747987,
          0.8019801980198016,
          0.8192161820480401,
          0.8350515463917524,
          0.8492791612057665,
          0.8617021276595742,
          0.8721399730820993,
          0.8804347826086953,
          0.8864569083447328,
          0.8901098901098898,
          0.8913342503438786,
          0.6428571428571427,
          0.6538849646821391,
          0.663934426229508,
          0.6728971962616821,
          0.6806722689075628,
          0.6871686108165428,
          0.6923076923076921,
          0.6960257787325455,
          0.6982758620689653,
          0.699029126213592,
          0.6659815005138745,
          0.6778242677824267,
          0.6886291179596172,
          0.6982758620689653,
          0.7066521264994545,
          0.7136563876651981,
          0.7192008879023306,
          0.7232142857142855,
          0.7256438969764836,
          0.7264573991031389,
          0.6893617021276593,
          0.7020585048754061,
          0.7136563876651981,
          0.724022346368715,
          0.7330316742081446,
          0.7405714285714284,
          0.7465437788018431,
          0.7508690614136728,
          0.753488372093023,
          0.7543655413271242,
          0.7128712871287127,
          0.7264573991031389,
          0.7388825541619154,
          0.7499999999999998,
          0.7596717467760841,
          0.7677725118483408,
          0.7741935483870964,
          0.7788461538461535,
          0.7816646562123036,
          0.7826086956521736,
          0.7363636363636361,
          0.7508690614136728,
          0.7641509433962261,
          0.7760479041916165,
          0.786407766990291,
          0.795092024539877,
          0.8019801980198016,
          0.806973848069738,
          0.8099999999999997,
          0.8110137672090109,
          0.7596717467760841,
          0.7751196172248801,
          0.7892813641900118,
          0.8019801980198016,
          0.8130489335006271,
          0.8223350253807103,
          0.8297055057618434,
          0.8350515463917522,
          0.838292367399741,
          0.8393782383419686,
          0.7826086956521736,
          0.7990135635018493,
          0.8140703517587936,
          0.8275862068965514,
          0.8393782383419686,
          0.8492791612057663,
          0.8571428571428567,
          0.8628495339547267,
          0.8663101604278071,
          0.867469879518072,
          0.8049689440993786,
          0.8223350253807103,
          0.8382923673997408,
          0.8526315789473681,
          0.865153538050734,
          0.8756756756756753,
          0.8840381991814459,
          0.8901098901098898,
          0.8937931034482754,
          0.895027624309392,
          0.8265306122448977,
          0.844850065189048,
          0.8617021276595741,
          0.8768606224627871,
          0.8901098901098898,
          0.9012517385257298,
          0.9101123595505614,
          0.9165487977369162,
          0.9204545454545451,
          0.9217638691322899,
          0.8470588235294114,
          0.8663101604278071,
          0.8840381991814459,
          0.8999999999999997,
          0.9139633286318756,
          0.9257142857142854,
          0.9350649350649347,
          0.9418604651162786,
          0.9459854014598537,
          0.9473684210526311,
          0.670113753877973,
          0.6821052631578945,
          0.6930481283422458,
          0.7028199566160519,
          0.7113062568605926,
          0.7184035476718401,
          0.724022346368715,
          0.7280898876404492,
          0.7305524239007891,
          0.7313769751693001,
          0.6952789699570814,
          0.7081967213114753,
          0.7199999999999999,
          0.7305524239007891,
          0.7397260273972601,
          0.7474048442906573,
          0.753488372093023,
          0.757894736842105,
          0.7605633802816899,
          0.7614571092831959,
          0.7208008898776417,
          0.7346938775510202,
          0.7474048442906573,
          0.758782201405152,
          0.7686832740213521,
          0.7769784172661868,
          0.7835550181378474,
          0.7883211678832114,
          0.7912087912087911,
          0.7921760391198042,
          0.7465437788018431,
          0.7614571092831959,
          0.7751196172248801,
          0.7873633049817736,
          0.7980295566502459,
          0.8069738480697383,
          0.8140703517587936,
          0.8192161820480401,
          0.8223350253807103,
          0.8233799237611178,
          0.7723480333730629,
          0.7883211678832114,
          0.802973977695167,
          0.8161209068010072,
          0.8275862068965514,
          0.837209302325581,
          0.844850065189048,
          0.8503937007874013,
          0.8537549407114623,
          0.8548812664907649,
          0.7980295566502461,
          0.8150943396226413,
          0.8307692307692305,
          0.844850065189048,
          0.8571428571428569,
          0.867469879518072,
          0.8756756756756753,
          0.8816326530612242,
          0.8852459016393439,
          0.886456908344733,
          0.8233799237611178,
          0.8415584415584412,
          0.8582781456953639,
          0.8733153638814013,
          0.8864569083447328,
          0.897506925207756,
          0.906293706293706,
          0.9126760563380277,
          0.9165487977369162,
          0.9178470254957504,
          0.8481675392670154,
          0.867469879518072,
          0.8852459016393439,
          0.9012517385257298,
          0.9152542372881354,
          0.9270386266094418,
          0.936416184971098,
          0.9432314410480346,
          0.9473684210526311,
          0.9487554904831622,
          0.8721399730820993,
          0.8925619834710741,
          0.9113924050632909,
          0.9283667621776501,
          0.9432314410480346,
          0.9557522123893804,
          0.9657228017883753,
          0.9729729729729726,
          0.9773755656108593,
          0.9788519637462233,
          0.895027624309392,
          0.9165487977369162,
          0.936416184971098,
          0.954344624447717,
          0.9700598802395206,
          0.9833080424886187,
          0.9938650306748463,
          1.0015455950540955,
          1.0062111801242233,
          1.0077760497667183,
          0.6982758620689653,
          0.7113062568605926,
          0.7232142857142857,
          0.7338618346545865,
          0.7431192660550456,
          0.750869061413673,
          0.7570093457943923,
          0.7614571092831959,
          0.7641509433962261,
          0.765053128689492,
          0.7256438969764837,
          0.7397260273972601,
          0.7526132404181183,
          0.7641509433962261,
          0.7741935483870965,
          0.7826086956521737,
          0.7892813641900119,
          0.7941176470588233,
          0.7970479704797044,
          0.7980295566502461,
          0.753488372093023,
          0.7686832740213521,
          0.7826086956521737,
          0.7950920245398772,
          0.8059701492537311,
          0.8150943396226413,
          0.8223350253807103,
          0.8275862068965514,
          0.8307692307692305,
          0.8318356867779201,
          0.7816646562123037,
          0.7980295566502461,
          0.8130489335006271,
          0.8265306122448977,
          0.838292367399741,
          0.8481675392670154,
          0.8560105680317037,
          0.8617021276595742,
          0.865153538050734,
          0.8663101604278073,
          0.8099999999999997,
          0.8275862068965514,
          0.8437499999999998,
          0.8582781456953641,
          0.8709677419354837,
          0.8816326530612242,
          0.8901098901098898,
          0.8962655601659747,
          0.8999999999999997,
          0.9012517385257298,
          0.838292367399741,
          0.8571428571428569,
          0.8744939271255058,
          0.8901098901098898,
          0.9037656903765688,
          0.9152542372881354,
          0.9243937232524961,
          0.9310344827586203,
          0.9350649350649348,
          0.936416184971098,
          0.8663101604278073,
          0.886456908344733,
          0.9050279329608936,
          0.9217638691322899,
          0.936416184971098,
          0.9487554904831622,
          0.9585798816568043,
          0.9657228017883753,
          0.9700598802395206,
          0.9715142428785605,
          0.8937931034482757,
          0.9152542372881354,
          0.9350649350649347,
          0.9529411764705881,
          0.9686098654708518,
          0.9818181818181815,
          0.9923430321592648,
          0.9999999999999998,
          1.0046511627906973,
          1.0062111801242233,
          0.9204545454545453,
          0.9432314410480348,
          0.9642857142857139,
          0.9833080424886187,
          0.9999999999999998,
          1.0140845070422533,
          1.0253164556962022,
          1.0334928229665068,
          1.038461538461538,
          1.0401284109149276,
          0.9459854014598537,
          0.9700598802395206,
          0.9923430321592648,
          1.0124999999999997,
          1.0302066772655005,
          1.0451612903225804,
          1.057096247960848,
          1.0657894736842102,
          1.0710743801652889,
          1.072847682119205,
          0.7272727272727272,
          0.7414187643020594,
          0.7543655413271243,
          0.7659574468085104,
          0.7760479041916165,
          0.7845036319612588,
          0.7912087912087911,
          0.7960687960687959,
          0.7990135635018494,
          0.7999999999999998,
          0.7570093457943923,
          0.7723480333730629,
          0.7864077669902911,
          0.7990135635018494,
          0.8099999999999998,
          0.8192161820480403,
          0.8265306122448977,
          0.8318356867779201,
          0.8350515463917524,
          0.8361290322580642,
          0.7873633049817738,
          0.8039702233250619,
          0.8192161820480403,
          0.8329048843187659,
          0.844850065189048,
          0.8548812664907649,
          0.8628495339547269,
          0.8686327077747987,
          0.8721399730820995,
          0.8733153638814014,
          0.8181818181818179,
          0.8361290322580642,
          0.8526315789473681,
          0.867469879518072,
          0.8804347826086953,
          0.8913342503438787,
          0.8999999999999997,
          0.906293706293706,
          0.9101123595505616,
          0.9113924050632909,
          0.8492791612057665,
          0.8686327077747987,
          0.886456908344733,
          0.9025069637883005,
          0.9165487977369162,
          0.9283667621776501,
          0.9377713458755425,
          0.9446064139941689,
          0.9487554904831624,
          0.9501466275659822,
          0.8804347826086955,
          0.90125173852573,
          0.9204545454545453,
          0.9377713458755425,
          0.9529411764705881,
          0.9657228017883753,
          0.975903614457831,
          0.9833080424886189,
          0.9878048780487803,
          0.9893129770992365,
          0.9113924050632909,
          0.9337175792507202,
          0.954344624447717,
          0.9729729729729726,
          0.9893129770992363,
          1.003095975232198,
          1.0140845070422533,
          1.0220820189274447,
          1.026941362916006,
          1.0285714285714282,
          0.9418604651162789,
          0.9657228017883753,
          0.9878048780487803,
          1.0077760497667183,
          1.0253164556962022,
          1.0401284109149276,
          1.0519480519480517,
          1.0605564648117836,
          1.0657894736842102,
          1.0675453047775945,
          0.9715142428785605,
          0.9969230769230767,
          1.0204724409448815,
          1.0418006430868165,
          1.0605564648117836,
          1.07641196013289,
          1.0890756302521007,
          1.0983050847457625,
          1.1039182282793865,
          1.1058020477815698,
          0.9999999999999998,
          1.026941362916006,
          1.0519480519480517,
          1.0746268656716416,
          1.0945945945945943,
          1.111492281303602,
          1.1249999999999998,
          1.1348511383537652,
          1.140845070422535,
          1.1428571428571426
         ]
        }
       ],
       "layout": {
        "height": 1000,
        "legend": {
         "x": 0.01,
         "xanchor": "left",
         "y": 0.99,
         "yanchor": "top"
        },
        "margin": {
         "b": 0,
         "l": 0,
         "r": 0,
         "t": 0
        },
        "template": {
         "data": {
          "bar": [
           {
            "error_x": {
             "color": "#2a3f5f"
            },
            "error_y": {
             "color": "#2a3f5f"
            },
            "marker": {
             "line": {
              "color": "#E5ECF6",
              "width": 0.5
             },
             "pattern": {
              "fillmode": "overlay",
              "size": 10,
              "solidity": 0.2
             }
            },
            "type": "bar"
           }
          ],
          "barpolar": [
           {
            "marker": {
             "line": {
              "color": "#E5ECF6",
              "width": 0.5
             },
             "pattern": {
              "fillmode": "overlay",
              "size": 10,
              "solidity": 0.2
             }
            },
            "type": "barpolar"
           }
          ],
          "carpet": [
           {
            "aaxis": {
             "endlinecolor": "#2a3f5f",
             "gridcolor": "white",
             "linecolor": "white",
             "minorgridcolor": "white",
             "startlinecolor": "#2a3f5f"
            },
            "baxis": {
             "endlinecolor": "#2a3f5f",
             "gridcolor": "white",
             "linecolor": "white",
             "minorgridcolor": "white",
             "startlinecolor": "#2a3f5f"
            },
            "type": "carpet"
           }
          ],
          "choropleth": [
           {
            "colorbar": {
             "outlinewidth": 0,
             "ticks": ""
            },
            "type": "choropleth"
           }
          ],
          "contour": [
           {
            "colorbar": {
             "outlinewidth": 0,
             "ticks": ""
            },
            "colorscale": [
             [
              0,
              "#0d0887"
             ],
             [
              0.1111111111111111,
              "#46039f"
             ],
             [
              0.2222222222222222,
              "#7201a8"
             ],
             [
              0.3333333333333333,
              "#9c179e"
             ],
             [
              0.4444444444444444,
              "#bd3786"
             ],
             [
              0.5555555555555556,
              "#d8576b"
             ],
             [
              0.6666666666666666,
              "#ed7953"
             ],
             [
              0.7777777777777778,
              "#fb9f3a"
             ],
             [
              0.8888888888888888,
              "#fdca26"
             ],
             [
              1,
              "#f0f921"
             ]
            ],
            "type": "contour"
           }
          ],
          "contourcarpet": [
           {
            "colorbar": {
             "outlinewidth": 0,
             "ticks": ""
            },
            "type": "contourcarpet"
           }
          ],
          "heatmap": [
           {
            "colorbar": {
             "outlinewidth": 0,
             "ticks": ""
            },
            "colorscale": [
             [
              0,
              "#0d0887"
             ],
             [
              0.1111111111111111,
              "#46039f"
             ],
             [
              0.2222222222222222,
              "#7201a8"
             ],
             [
              0.3333333333333333,
              "#9c179e"
             ],
             [
              0.4444444444444444,
              "#bd3786"
             ],
             [
              0.5555555555555556,
              "#d8576b"
             ],
             [
              0.6666666666666666,
              "#ed7953"
             ],
             [
              0.7777777777777778,
              "#fb9f3a"
             ],
             [
              0.8888888888888888,
              "#fdca26"
             ],
             [
              1,
              "#f0f921"
             ]
            ],
            "type": "heatmap"
           }
          ],
          "heatmapgl": [
           {
            "colorbar": {
             "outlinewidth": 0,
             "ticks": ""
            },
            "colorscale": [
             [
              0,
              "#0d0887"
             ],
             [
              0.1111111111111111,
              "#46039f"
             ],
             [
              0.2222222222222222,
              "#7201a8"
             ],
             [
              0.3333333333333333,
              "#9c179e"
             ],
             [
              0.4444444444444444,
              "#bd3786"
             ],
             [
              0.5555555555555556,
              "#d8576b"
             ],
             [
              0.6666666666666666,
              "#ed7953"
             ],
             [
              0.7777777777777778,
              "#fb9f3a"
             ],
             [
              0.8888888888888888,
              "#fdca26"
             ],
             [
              1,
              "#f0f921"
             ]
            ],
            "type": "heatmapgl"
           }
          ],
          "histogram": [
           {
            "marker": {
             "pattern": {
              "fillmode": "overlay",
              "size": 10,
              "solidity": 0.2
             }
            },
            "type": "histogram"
           }
          ],
          "histogram2d": [
           {
            "colorbar": {
             "outlinewidth": 0,
             "ticks": ""
            },
            "colorscale": [
             [
              0,
              "#0d0887"
             ],
             [
              0.1111111111111111,
              "#46039f"
             ],
             [
              0.2222222222222222,
              "#7201a8"
             ],
             [
              0.3333333333333333,
              "#9c179e"
             ],
             [
              0.4444444444444444,
              "#bd3786"
             ],
             [
              0.5555555555555556,
              "#d8576b"
             ],
             [
              0.6666666666666666,
              "#ed7953"
             ],
             [
              0.7777777777777778,
              "#fb9f3a"
             ],
             [
              0.8888888888888888,
              "#fdca26"
             ],
             [
              1,
              "#f0f921"
             ]
            ],
            "type": "histogram2d"
           }
          ],
          "histogram2dcontour": [
           {
            "colorbar": {
             "outlinewidth": 0,
             "ticks": ""
            },
            "colorscale": [
             [
              0,
              "#0d0887"
             ],
             [
              0.1111111111111111,
              "#46039f"
             ],
             [
              0.2222222222222222,
              "#7201a8"
             ],
             [
              0.3333333333333333,
              "#9c179e"
             ],
             [
              0.4444444444444444,
              "#bd3786"
             ],
             [
              0.5555555555555556,
              "#d8576b"
             ],
             [
              0.6666666666666666,
              "#ed7953"
             ],
             [
              0.7777777777777778,
              "#fb9f3a"
             ],
             [
              0.8888888888888888,
              "#fdca26"
             ],
             [
              1,
              "#f0f921"
             ]
            ],
            "type": "histogram2dcontour"
           }
          ],
          "mesh3d": [
           {
            "colorbar": {
             "outlinewidth": 0,
             "ticks": ""
            },
            "type": "mesh3d"
           }
          ],
          "parcoords": [
           {
            "line": {
             "colorbar": {
              "outlinewidth": 0,
              "ticks": ""
             }
            },
            "type": "parcoords"
           }
          ],
          "pie": [
           {
            "automargin": true,
            "type": "pie"
           }
          ],
          "scatter": [
           {
            "fillpattern": {
             "fillmode": "overlay",
             "size": 10,
             "solidity": 0.2
            },
            "type": "scatter"
           }
          ],
          "scatter3d": [
           {
            "line": {
             "colorbar": {
              "outlinewidth": 0,
              "ticks": ""
             }
            },
            "marker": {
             "colorbar": {
              "outlinewidth": 0,
              "ticks": ""
             }
            },
            "type": "scatter3d"
           }
          ],
          "scattercarpet": [
           {
            "marker": {
             "colorbar": {
              "outlinewidth": 0,
              "ticks": ""
             }
            },
            "type": "scattercarpet"
           }
          ],
          "scattergeo": [
           {
            "marker": {
             "colorbar": {
              "outlinewidth": 0,
              "ticks": ""
             }
            },
            "type": "scattergeo"
           }
          ],
          "scattergl": [
           {
            "marker": {
             "colorbar": {
              "outlinewidth": 0,
              "ticks": ""
             }
            },
            "type": "scattergl"
           }
          ],
          "scattermapbox": [
           {
            "marker": {
             "colorbar": {
              "outlinewidth": 0,
              "ticks": ""
             }
            },
            "type": "scattermapbox"
           }
          ],
          "scatterpolar": [
           {
            "marker": {
             "colorbar": {
              "outlinewidth": 0,
              "ticks": ""
             }
            },
            "type": "scatterpolar"
           }
          ],
          "scatterpolargl": [
           {
            "marker": {
             "colorbar": {
              "outlinewidth": 0,
              "ticks": ""
             }
            },
            "type": "scatterpolargl"
           }
          ],
          "scatterternary": [
           {
            "marker": {
             "colorbar": {
              "outlinewidth": 0,
              "ticks": ""
             }
            },
            "type": "scatterternary"
           }
          ],
          "surface": [
           {
            "colorbar": {
             "outlinewidth": 0,
             "ticks": ""
            },
            "colorscale": [
             [
              0,
              "#0d0887"
             ],
             [
              0.1111111111111111,
              "#46039f"
             ],
             [
              0.2222222222222222,
              "#7201a8"
             ],
             [
              0.3333333333333333,
              "#9c179e"
             ],
             [
              0.4444444444444444,
              "#bd3786"
             ],
             [
              0.5555555555555556,
              "#d8576b"
             ],
             [
              0.6666666666666666,
              "#ed7953"
             ],
             [
              0.7777777777777778,
              "#fb9f3a"
             ],
             [
              0.8888888888888888,
              "#fdca26"
             ],
             [
              1,
              "#f0f921"
             ]
            ],
            "type": "surface"
           }
          ],
          "table": [
           {
            "cells": {
             "fill": {
              "color": "#EBF0F8"
             },
             "line": {
              "color": "white"
             }
            },
            "header": {
             "fill": {
              "color": "#C8D4E3"
             },
             "line": {
              "color": "white"
             }
            },
            "type": "table"
           }
          ]
         },
         "layout": {
          "annotationdefaults": {
           "arrowcolor": "#2a3f5f",
           "arrowhead": 0,
           "arrowwidth": 1
          },
          "autotypenumbers": "strict",
          "coloraxis": {
           "colorbar": {
            "outlinewidth": 0,
            "ticks": ""
           }
          },
          "colorscale": {
           "diverging": [
            [
             0,
             "#8e0152"
            ],
            [
             0.1,
             "#c51b7d"
            ],
            [
             0.2,
             "#de77ae"
            ],
            [
             0.3,
             "#f1b6da"
            ],
            [
             0.4,
             "#fde0ef"
            ],
            [
             0.5,
             "#f7f7f7"
            ],
            [
             0.6,
             "#e6f5d0"
            ],
            [
             0.7,
             "#b8e186"
            ],
            [
             0.8,
             "#7fbc41"
            ],
            [
             0.9,
             "#4d9221"
            ],
            [
             1,
             "#276419"
            ]
           ],
           "sequential": [
            [
             0,
             "#0d0887"
            ],
            [
             0.1111111111111111,
             "#46039f"
            ],
            [
             0.2222222222222222,
             "#7201a8"
            ],
            [
             0.3333333333333333,
             "#9c179e"
            ],
            [
             0.4444444444444444,
             "#bd3786"
            ],
            [
             0.5555555555555556,
             "#d8576b"
            ],
            [
             0.6666666666666666,
             "#ed7953"
            ],
            [
             0.7777777777777778,
             "#fb9f3a"
            ],
            [
             0.8888888888888888,
             "#fdca26"
            ],
            [
             1,
             "#f0f921"
            ]
           ],
           "sequentialminus": [
            [
             0,
             "#0d0887"
            ],
            [
             0.1111111111111111,
             "#46039f"
            ],
            [
             0.2222222222222222,
             "#7201a8"
            ],
            [
             0.3333333333333333,
             "#9c179e"
            ],
            [
             0.4444444444444444,
             "#bd3786"
            ],
            [
             0.5555555555555556,
             "#d8576b"
            ],
            [
             0.6666666666666666,
             "#ed7953"
            ],
            [
             0.7777777777777778,
             "#fb9f3a"
            ],
            [
             0.8888888888888888,
             "#fdca26"
            ],
            [
             1,
             "#f0f921"
            ]
           ]
          },
          "colorway": [
           "#636efa",
           "#EF553B",
           "#00cc96",
           "#ab63fa",
           "#FFA15A",
           "#19d3f3",
           "#FF6692",
           "#B6E880",
           "#FF97FF",
           "#FECB52"
          ],
          "font": {
           "color": "#2a3f5f"
          },
          "geo": {
           "bgcolor": "white",
           "lakecolor": "white",
           "landcolor": "#E5ECF6",
           "showlakes": true,
           "showland": true,
           "subunitcolor": "white"
          },
          "hoverlabel": {
           "align": "left"
          },
          "hovermode": "closest",
          "mapbox": {
           "style": "light"
          },
          "paper_bgcolor": "white",
          "plot_bgcolor": "#E5ECF6",
          "polar": {
           "angularaxis": {
            "gridcolor": "white",
            "linecolor": "white",
            "ticks": ""
           },
           "bgcolor": "#E5ECF6",
           "radialaxis": {
            "gridcolor": "white",
            "linecolor": "white",
            "ticks": ""
           }
          },
          "scene": {
           "xaxis": {
            "backgroundcolor": "#E5ECF6",
            "gridcolor": "white",
            "gridwidth": 2,
            "linecolor": "white",
            "showbackground": true,
            "ticks": "",
            "zerolinecolor": "white"
           },
           "yaxis": {
            "backgroundcolor": "#E5ECF6",
            "gridcolor": "white",
            "gridwidth": 2,
            "linecolor": "white",
            "showbackground": true,
            "ticks": "",
            "zerolinecolor": "white"
           },
           "zaxis": {
            "backgroundcolor": "#E5ECF6",
            "gridcolor": "white",
            "gridwidth": 2,
            "linecolor": "white",
            "showbackground": true,
            "ticks": "",
            "zerolinecolor": "white"
           }
          },
          "shapedefaults": {
           "line": {
            "color": "#2a3f5f"
           }
          },
          "ternary": {
           "aaxis": {
            "gridcolor": "white",
            "linecolor": "white",
            "ticks": ""
           },
           "baxis": {
            "gridcolor": "white",
            "linecolor": "white",
            "ticks": ""
           },
           "bgcolor": "#E5ECF6",
           "caxis": {
            "gridcolor": "white",
            "linecolor": "white",
            "ticks": ""
           }
          },
          "title": {
           "x": 0.05
          },
          "xaxis": {
           "automargin": true,
           "gridcolor": "white",
           "linecolor": "white",
           "ticks": "",
           "title": {
            "standoff": 15
           },
           "zerolinecolor": "white",
           "zerolinewidth": 2
          },
          "yaxis": {
           "automargin": true,
           "gridcolor": "white",
           "linecolor": "white",
           "ticks": "",
           "title": {
            "standoff": 15
           },
           "zerolinecolor": "white",
           "zerolinewidth": 2
          }
         }
        }
       }
      }
     },
     "metadata": {},
     "output_type": "display_data"
    }
   ],
   "source": [
    "import plotly.express as px\n",
    "\n",
    "#df = px.data.gapminder()\n",
    "\n",
    "fig = go.Figure(data=[\n",
    "    go.Surface(z=df['y_hat0'].values),\n",
    "    #go.Surface(z=z2, showscale=False, opacity=0.9),\n",
    "    #go.Surface(z=z3, showscale=False, opacity=0.9)\n",
    "\n",
    "])\n",
    "\n",
    "# fig = px.surface_3d(df, x=\"x\", y='y', z=\"y_hat0\",\n",
    "#                  animation_frame=\"step\",\n",
    "#             #animation_group=\"country\",\n",
    "#            #size=\"pop\",\n",
    "#            #color=\"continent\",\n",
    "#            #hover_name=\"country\",\n",
    "#            #log_x=True,\n",
    "#            #size_max=1,\n",
    "#            #size=[0.1]*300,\n",
    "#            range_x=[-0.1,1.1],\n",
    "#            range_y=[-0.1,1.1],\n",
    "#            range_z=[0,2]\n",
    "#            )\n",
    "\n",
    "#fig[\"layout\"].pop(\"updatemenus\") # optional, drop animation buttons\n",
    "fig.update_layout(legend=dict(yanchor=\"top\", y=0.99, xanchor=\"left\", x=0.01))\n",
    "fig.update_layout(height=1000, margin=dict(l=0, r=0, b=0, t=0))\n",
    "fig.show()"
   ]
  },
  {
   "cell_type": "code",
   "execution_count": 117,
   "metadata": {},
   "outputs": [
    {
     "data": {
      "application/vnd.plotly.v1+json": {
       "config": {
        "plotlyServerURL": "https://plot.ly"
       },
       "data": [
        {
         "cmax": 1,
         "cmin": 0,
         "colorbar": {
          "title": {
           "text": "Counts"
          }
         },
         "colorscale": [
          [
           0,
           "#440154"
          ],
          [
           0.1111111111111111,
           "#482878"
          ],
          [
           0.2222222222222222,
           "#3e4989"
          ],
          [
           0.3333333333333333,
           "#31688e"
          ],
          [
           0.4444444444444444,
           "#26828e"
          ],
          [
           0.5555555555555556,
           "#1f9e89"
          ],
          [
           0.6666666666666666,
           "#35b779"
          ],
          [
           0.7777777777777778,
           "#6ece58"
          ],
          [
           0.8888888888888888,
           "#b5de2b"
          ],
          [
           1,
           "#fde725"
          ]
         ],
         "opacity": 1,
         "type": "surface",
         "x": [
          [
           0,
           0.1111111111111111,
           0.2222222222222222,
           0.3333333333333333,
           0.4444444444444444,
           0.5555555555555556,
           0.6666666666666666,
           0.7777777777777777,
           0.8888888888888888,
           1
          ],
          [
           0,
           0.1111111111111111,
           0.2222222222222222,
           0.3333333333333333,
           0.4444444444444444,
           0.5555555555555556,
           0.6666666666666666,
           0.7777777777777777,
           0.8888888888888888,
           1
          ],
          [
           0,
           0.1111111111111111,
           0.2222222222222222,
           0.3333333333333333,
           0.4444444444444444,
           0.5555555555555556,
           0.6666666666666666,
           0.7777777777777777,
           0.8888888888888888,
           1
          ],
          [
           0,
           0.1111111111111111,
           0.2222222222222222,
           0.3333333333333333,
           0.4444444444444444,
           0.5555555555555556,
           0.6666666666666666,
           0.7777777777777777,
           0.8888888888888888,
           1
          ],
          [
           0,
           0.1111111111111111,
           0.2222222222222222,
           0.3333333333333333,
           0.4444444444444444,
           0.5555555555555556,
           0.6666666666666666,
           0.7777777777777777,
           0.8888888888888888,
           1
          ],
          [
           0,
           0.1111111111111111,
           0.2222222222222222,
           0.3333333333333333,
           0.4444444444444444,
           0.5555555555555556,
           0.6666666666666666,
           0.7777777777777777,
           0.8888888888888888,
           1
          ],
          [
           0,
           0.1111111111111111,
           0.2222222222222222,
           0.3333333333333333,
           0.4444444444444444,
           0.5555555555555556,
           0.6666666666666666,
           0.7777777777777777,
           0.8888888888888888,
           1
          ],
          [
           0,
           0.1111111111111111,
           0.2222222222222222,
           0.3333333333333333,
           0.4444444444444444,
           0.5555555555555556,
           0.6666666666666666,
           0.7777777777777777,
           0.8888888888888888,
           1
          ],
          [
           0,
           0.1111111111111111,
           0.2222222222222222,
           0.3333333333333333,
           0.4444444444444444,
           0.5555555555555556,
           0.6666666666666666,
           0.7777777777777777,
           0.8888888888888888,
           1
          ],
          [
           0,
           0.1111111111111111,
           0.2222222222222222,
           0.3333333333333333,
           0.4444444444444444,
           0.5555555555555556,
           0.6666666666666666,
           0.7777777777777777,
           0.8888888888888888,
           1
          ]
         ],
         "y": [
          [
           0,
           0,
           0,
           0,
           0,
           0,
           0,
           0,
           0,
           0
          ],
          [
           0.1111111111111111,
           0.1111111111111111,
           0.1111111111111111,
           0.1111111111111111,
           0.1111111111111111,
           0.1111111111111111,
           0.1111111111111111,
           0.1111111111111111,
           0.1111111111111111,
           0.1111111111111111
          ],
          [
           0.2222222222222222,
           0.2222222222222222,
           0.2222222222222222,
           0.2222222222222222,
           0.2222222222222222,
           0.2222222222222222,
           0.2222222222222222,
           0.2222222222222222,
           0.2222222222222222,
           0.2222222222222222
          ],
          [
           0.3333333333333333,
           0.3333333333333333,
           0.3333333333333333,
           0.3333333333333333,
           0.3333333333333333,
           0.3333333333333333,
           0.3333333333333333,
           0.3333333333333333,
           0.3333333333333333,
           0.3333333333333333
          ],
          [
           0.4444444444444444,
           0.4444444444444444,
           0.4444444444444444,
           0.4444444444444444,
           0.4444444444444444,
           0.4444444444444444,
           0.4444444444444444,
           0.4444444444444444,
           0.4444444444444444,
           0.4444444444444444
          ],
          [
           0.5555555555555556,
           0.5555555555555556,
           0.5555555555555556,
           0.5555555555555556,
           0.5555555555555556,
           0.5555555555555556,
           0.5555555555555556,
           0.5555555555555556,
           0.5555555555555556,
           0.5555555555555556
          ],
          [
           0.6666666666666666,
           0.6666666666666666,
           0.6666666666666666,
           0.6666666666666666,
           0.6666666666666666,
           0.6666666666666666,
           0.6666666666666666,
           0.6666666666666666,
           0.6666666666666666,
           0.6666666666666666
          ],
          [
           0.7777777777777777,
           0.7777777777777777,
           0.7777777777777777,
           0.7777777777777777,
           0.7777777777777777,
           0.7777777777777777,
           0.7777777777777777,
           0.7777777777777777,
           0.7777777777777777,
           0.7777777777777777
          ],
          [
           0.8888888888888888,
           0.8888888888888888,
           0.8888888888888888,
           0.8888888888888888,
           0.8888888888888888,
           0.8888888888888888,
           0.8888888888888888,
           0.8888888888888888,
           0.8888888888888888,
           0.8888888888888888
          ],
          [
           1,
           1,
           1,
           1,
           1,
           1,
           1,
           1,
           1,
           1
          ]
         ],
         "z": [
          [
           0,
           0.6427876096865393,
           0.984807753012208,
           0.8660254037844387,
           0.3420201433256689,
           -0.34202014332566866,
           -0.8660254037844384,
           -0.9848077530122081,
           -0.6427876096865396,
           -2.4492935982947064e-16
          ],
          [
           0,
           0.6427876096865393,
           0.984807753012208,
           0.8660254037844387,
           0.3420201433256689,
           -0.34202014332566866,
           -0.8660254037844384,
           -0.9848077530122081,
           -0.6427876096865396,
           -2.4492935982947064e-16
          ],
          [
           0,
           0.6427876096865393,
           0.984807753012208,
           0.8660254037844387,
           0.3420201433256689,
           -0.34202014332566866,
           -0.8660254037844384,
           -0.9848077530122081,
           -0.6427876096865396,
           -2.4492935982947064e-16
          ],
          [
           0,
           0.6427876096865393,
           0.984807753012208,
           0.8660254037844387,
           0.3420201433256689,
           -0.34202014332566866,
           -0.8660254037844384,
           -0.9848077530122081,
           -0.6427876096865396,
           -2.4492935982947064e-16
          ],
          [
           0,
           0.6427876096865393,
           0.984807753012208,
           0.8660254037844387,
           0.3420201433256689,
           -0.34202014332566866,
           -0.8660254037844384,
           -0.9848077530122081,
           -0.6427876096865396,
           -2.4492935982947064e-16
          ],
          [
           0,
           0.6427876096865393,
           0.984807753012208,
           0.8660254037844387,
           0.3420201433256689,
           -0.34202014332566866,
           -0.8660254037844384,
           -0.9848077530122081,
           -0.6427876096865396,
           -2.4492935982947064e-16
          ],
          [
           0,
           0.6427876096865393,
           0.984807753012208,
           0.8660254037844387,
           0.3420201433256689,
           -0.34202014332566866,
           -0.8660254037844384,
           -0.9848077530122081,
           -0.6427876096865396,
           -2.4492935982947064e-16
          ],
          [
           0,
           0.6427876096865393,
           0.984807753012208,
           0.8660254037844387,
           0.3420201433256689,
           -0.34202014332566866,
           -0.8660254037844384,
           -0.9848077530122081,
           -0.6427876096865396,
           -2.4492935982947064e-16
          ],
          [
           0,
           0.6427876096865393,
           0.984807753012208,
           0.8660254037844387,
           0.3420201433256689,
           -0.34202014332566866,
           -0.8660254037844384,
           -0.9848077530122081,
           -0.6427876096865396,
           -2.4492935982947064e-16
          ],
          [
           0,
           0.6427876096865393,
           0.984807753012208,
           0.8660254037844387,
           0.3420201433256689,
           -0.34202014332566866,
           -0.8660254037844384,
           -0.9848077530122081,
           -0.6427876096865396,
           -2.4492935982947064e-16
          ]
         ]
        }
       ],
       "frames": [
        {
         "data": [
          {
           "cmax": 1,
           "cmin": 0,
           "colorbar": {
            "title": {
             "text": "Counts"
            }
           },
           "colorscale": [
            [
             0,
             "#440154"
            ],
            [
             0.1111111111111111,
             "#482878"
            ],
            [
             0.2222222222222222,
             "#3e4989"
            ],
            [
             0.3333333333333333,
             "#31688e"
            ],
            [
             0.4444444444444444,
             "#26828e"
            ],
            [
             0.5555555555555556,
             "#1f9e89"
            ],
            [
             0.6666666666666666,
             "#35b779"
            ],
            [
             0.7777777777777778,
             "#6ece58"
            ],
            [
             0.8888888888888888,
             "#b5de2b"
            ],
            [
             1,
             "#fde725"
            ]
           ],
           "opacity": 1,
           "type": "surface",
           "x": [
            [
             0,
             0.1111111111111111,
             0.2222222222222222,
             0.3333333333333333,
             0.4444444444444444,
             0.5555555555555556,
             0.6666666666666666,
             0.7777777777777777,
             0.8888888888888888,
             1
            ],
            [
             0,
             0.1111111111111111,
             0.2222222222222222,
             0.3333333333333333,
             0.4444444444444444,
             0.5555555555555556,
             0.6666666666666666,
             0.7777777777777777,
             0.8888888888888888,
             1
            ],
            [
             0,
             0.1111111111111111,
             0.2222222222222222,
             0.3333333333333333,
             0.4444444444444444,
             0.5555555555555556,
             0.6666666666666666,
             0.7777777777777777,
             0.8888888888888888,
             1
            ],
            [
             0,
             0.1111111111111111,
             0.2222222222222222,
             0.3333333333333333,
             0.4444444444444444,
             0.5555555555555556,
             0.6666666666666666,
             0.7777777777777777,
             0.8888888888888888,
             1
            ],
            [
             0,
             0.1111111111111111,
             0.2222222222222222,
             0.3333333333333333,
             0.4444444444444444,
             0.5555555555555556,
             0.6666666666666666,
             0.7777777777777777,
             0.8888888888888888,
             1
            ],
            [
             0,
             0.1111111111111111,
             0.2222222222222222,
             0.3333333333333333,
             0.4444444444444444,
             0.5555555555555556,
             0.6666666666666666,
             0.7777777777777777,
             0.8888888888888888,
             1
            ],
            [
             0,
             0.1111111111111111,
             0.2222222222222222,
             0.3333333333333333,
             0.4444444444444444,
             0.5555555555555556,
             0.6666666666666666,
             0.7777777777777777,
             0.8888888888888888,
             1
            ],
            [
             0,
             0.1111111111111111,
             0.2222222222222222,
             0.3333333333333333,
             0.4444444444444444,
             0.5555555555555556,
             0.6666666666666666,
             0.7777777777777777,
             0.8888888888888888,
             1
            ],
            [
             0,
             0.1111111111111111,
             0.2222222222222222,
             0.3333333333333333,
             0.4444444444444444,
             0.5555555555555556,
             0.6666666666666666,
             0.7777777777777777,
             0.8888888888888888,
             1
            ],
            [
             0,
             0.1111111111111111,
             0.2222222222222222,
             0.3333333333333333,
             0.4444444444444444,
             0.5555555555555556,
             0.6666666666666666,
             0.7777777777777777,
             0.8888888888888888,
             1
            ]
           ],
           "y": [
            [
             0,
             0,
             0,
             0,
             0,
             0,
             0,
             0,
             0,
             0
            ],
            [
             0.1111111111111111,
             0.1111111111111111,
             0.1111111111111111,
             0.1111111111111111,
             0.1111111111111111,
             0.1111111111111111,
             0.1111111111111111,
             0.1111111111111111,
             0.1111111111111111,
             0.1111111111111111
            ],
            [
             0.2222222222222222,
             0.2222222222222222,
             0.2222222222222222,
             0.2222222222222222,
             0.2222222222222222,
             0.2222222222222222,
             0.2222222222222222,
             0.2222222222222222,
             0.2222222222222222,
             0.2222222222222222
            ],
            [
             0.3333333333333333,
             0.3333333333333333,
             0.3333333333333333,
             0.3333333333333333,
             0.3333333333333333,
             0.3333333333333333,
             0.3333333333333333,
             0.3333333333333333,
             0.3333333333333333,
             0.3333333333333333
            ],
            [
             0.4444444444444444,
             0.4444444444444444,
             0.4444444444444444,
             0.4444444444444444,
             0.4444444444444444,
             0.4444444444444444,
             0.4444444444444444,
             0.4444444444444444,
             0.4444444444444444,
             0.4444444444444444
            ],
            [
             0.5555555555555556,
             0.5555555555555556,
             0.5555555555555556,
             0.5555555555555556,
             0.5555555555555556,
             0.5555555555555556,
             0.5555555555555556,
             0.5555555555555556,
             0.5555555555555556,
             0.5555555555555556
            ],
            [
             0.6666666666666666,
             0.6666666666666666,
             0.6666666666666666,
             0.6666666666666666,
             0.6666666666666666,
             0.6666666666666666,
             0.6666666666666666,
             0.6666666666666666,
             0.6666666666666666,
             0.6666666666666666
            ],
            [
             0.7777777777777777,
             0.7777777777777777,
             0.7777777777777777,
             0.7777777777777777,
             0.7777777777777777,
             0.7777777777777777,
             0.7777777777777777,
             0.7777777777777777,
             0.7777777777777777,
             0.7777777777777777
            ],
            [
             0.8888888888888888,
             0.8888888888888888,
             0.8888888888888888,
             0.8888888888888888,
             0.8888888888888888,
             0.8888888888888888,
             0.8888888888888888,
             0.8888888888888888,
             0.8888888888888888,
             0.8888888888888888
            ],
            [
             1,
             1,
             1,
             1,
             1,
             1,
             1,
             1,
             1,
             1
            ]
           ],
           "z": [
            [
             0,
             0.6427876096865393,
             0.984807753012208,
             0.8660254037844387,
             0.3420201433256689,
             -0.34202014332566866,
             -0.8660254037844384,
             -0.9848077530122081,
             -0.6427876096865396,
             -2.4492935982947064e-16
            ],
            [
             0,
             0.6427876096865393,
             0.984807753012208,
             0.8660254037844387,
             0.3420201433256689,
             -0.34202014332566866,
             -0.8660254037844384,
             -0.9848077530122081,
             -0.6427876096865396,
             -2.4492935982947064e-16
            ],
            [
             0,
             0.6427876096865393,
             0.984807753012208,
             0.8660254037844387,
             0.3420201433256689,
             -0.34202014332566866,
             -0.8660254037844384,
             -0.9848077530122081,
             -0.6427876096865396,
             -2.4492935982947064e-16
            ],
            [
             0,
             0.6427876096865393,
             0.984807753012208,
             0.8660254037844387,
             0.3420201433256689,
             -0.34202014332566866,
             -0.8660254037844384,
             -0.9848077530122081,
             -0.6427876096865396,
             -2.4492935982947064e-16
            ],
            [
             0,
             0.6427876096865393,
             0.984807753012208,
             0.8660254037844387,
             0.3420201433256689,
             -0.34202014332566866,
             -0.8660254037844384,
             -0.9848077530122081,
             -0.6427876096865396,
             -2.4492935982947064e-16
            ],
            [
             0,
             0.6427876096865393,
             0.984807753012208,
             0.8660254037844387,
             0.3420201433256689,
             -0.34202014332566866,
             -0.8660254037844384,
             -0.9848077530122081,
             -0.6427876096865396,
             -2.4492935982947064e-16
            ],
            [
             0,
             0.6427876096865393,
             0.984807753012208,
             0.8660254037844387,
             0.3420201433256689,
             -0.34202014332566866,
             -0.8660254037844384,
             -0.9848077530122081,
             -0.6427876096865396,
             -2.4492935982947064e-16
            ],
            [
             0,
             0.6427876096865393,
             0.984807753012208,
             0.8660254037844387,
             0.3420201433256689,
             -0.34202014332566866,
             -0.8660254037844384,
             -0.9848077530122081,
             -0.6427876096865396,
             -2.4492935982947064e-16
            ],
            [
             0,
             0.6427876096865393,
             0.984807753012208,
             0.8660254037844387,
             0.3420201433256689,
             -0.34202014332566866,
             -0.8660254037844384,
             -0.9848077530122081,
             -0.6427876096865396,
             -2.4492935982947064e-16
            ],
            [
             0,
             0.6427876096865393,
             0.984807753012208,
             0.8660254037844387,
             0.3420201433256689,
             -0.34202014332566866,
             -0.8660254037844384,
             -0.9848077530122081,
             -0.6427876096865396,
             -2.4492935982947064e-16
            ]
           ]
          }
         ],
         "layout": {
          "title": {
           "text": "Frame: 0"
          }
         }
        },
        {
         "data": [
          {
           "cmax": 1,
           "cmin": 0,
           "colorbar": {
            "title": {
             "text": "Counts"
            }
           },
           "colorscale": [
            [
             0,
             "#440154"
            ],
            [
             0.1111111111111111,
             "#482878"
            ],
            [
             0.2222222222222222,
             "#3e4989"
            ],
            [
             0.3333333333333333,
             "#31688e"
            ],
            [
             0.4444444444444444,
             "#26828e"
            ],
            [
             0.5555555555555556,
             "#1f9e89"
            ],
            [
             0.6666666666666666,
             "#35b779"
            ],
            [
             0.7777777777777778,
             "#6ece58"
            ],
            [
             0.8888888888888888,
             "#b5de2b"
            ],
            [
             1,
             "#fde725"
            ]
           ],
           "opacity": 1,
           "type": "surface",
           "x": [
            [
             0,
             0.1111111111111111,
             0.2222222222222222,
             0.3333333333333333,
             0.4444444444444444,
             0.5555555555555556,
             0.6666666666666666,
             0.7777777777777777,
             0.8888888888888888,
             1
            ],
            [
             0,
             0.1111111111111111,
             0.2222222222222222,
             0.3333333333333333,
             0.4444444444444444,
             0.5555555555555556,
             0.6666666666666666,
             0.7777777777777777,
             0.8888888888888888,
             1
            ],
            [
             0,
             0.1111111111111111,
             0.2222222222222222,
             0.3333333333333333,
             0.4444444444444444,
             0.5555555555555556,
             0.6666666666666666,
             0.7777777777777777,
             0.8888888888888888,
             1
            ],
            [
             0,
             0.1111111111111111,
             0.2222222222222222,
             0.3333333333333333,
             0.4444444444444444,
             0.5555555555555556,
             0.6666666666666666,
             0.7777777777777777,
             0.8888888888888888,
             1
            ],
            [
             0,
             0.1111111111111111,
             0.2222222222222222,
             0.3333333333333333,
             0.4444444444444444,
             0.5555555555555556,
             0.6666666666666666,
             0.7777777777777777,
             0.8888888888888888,
             1
            ],
            [
             0,
             0.1111111111111111,
             0.2222222222222222,
             0.3333333333333333,
             0.4444444444444444,
             0.5555555555555556,
             0.6666666666666666,
             0.7777777777777777,
             0.8888888888888888,
             1
            ],
            [
             0,
             0.1111111111111111,
             0.2222222222222222,
             0.3333333333333333,
             0.4444444444444444,
             0.5555555555555556,
             0.6666666666666666,
             0.7777777777777777,
             0.8888888888888888,
             1
            ],
            [
             0,
             0.1111111111111111,
             0.2222222222222222,
             0.3333333333333333,
             0.4444444444444444,
             0.5555555555555556,
             0.6666666666666666,
             0.7777777777777777,
             0.8888888888888888,
             1
            ],
            [
             0,
             0.1111111111111111,
             0.2222222222222222,
             0.3333333333333333,
             0.4444444444444444,
             0.5555555555555556,
             0.6666666666666666,
             0.7777777777777777,
             0.8888888888888888,
             1
            ],
            [
             0,
             0.1111111111111111,
             0.2222222222222222,
             0.3333333333333333,
             0.4444444444444444,
             0.5555555555555556,
             0.6666666666666666,
             0.7777777777777777,
             0.8888888888888888,
             1
            ]
           ],
           "y": [
            [
             0,
             0,
             0,
             0,
             0,
             0,
             0,
             0,
             0,
             0
            ],
            [
             0.1111111111111111,
             0.1111111111111111,
             0.1111111111111111,
             0.1111111111111111,
             0.1111111111111111,
             0.1111111111111111,
             0.1111111111111111,
             0.1111111111111111,
             0.1111111111111111,
             0.1111111111111111
            ],
            [
             0.2222222222222222,
             0.2222222222222222,
             0.2222222222222222,
             0.2222222222222222,
             0.2222222222222222,
             0.2222222222222222,
             0.2222222222222222,
             0.2222222222222222,
             0.2222222222222222,
             0.2222222222222222
            ],
            [
             0.3333333333333333,
             0.3333333333333333,
             0.3333333333333333,
             0.3333333333333333,
             0.3333333333333333,
             0.3333333333333333,
             0.3333333333333333,
             0.3333333333333333,
             0.3333333333333333,
             0.3333333333333333
            ],
            [
             0.4444444444444444,
             0.4444444444444444,
             0.4444444444444444,
             0.4444444444444444,
             0.4444444444444444,
             0.4444444444444444,
             0.4444444444444444,
             0.4444444444444444,
             0.4444444444444444,
             0.4444444444444444
            ],
            [
             0.5555555555555556,
             0.5555555555555556,
             0.5555555555555556,
             0.5555555555555556,
             0.5555555555555556,
             0.5555555555555556,
             0.5555555555555556,
             0.5555555555555556,
             0.5555555555555556,
             0.5555555555555556
            ],
            [
             0.6666666666666666,
             0.6666666666666666,
             0.6666666666666666,
             0.6666666666666666,
             0.6666666666666666,
             0.6666666666666666,
             0.6666666666666666,
             0.6666666666666666,
             0.6666666666666666,
             0.6666666666666666
            ],
            [
             0.7777777777777777,
             0.7777777777777777,
             0.7777777777777777,
             0.7777777777777777,
             0.7777777777777777,
             0.7777777777777777,
             0.7777777777777777,
             0.7777777777777777,
             0.7777777777777777,
             0.7777777777777777
            ],
            [
             0.8888888888888888,
             0.8888888888888888,
             0.8888888888888888,
             0.8888888888888888,
             0.8888888888888888,
             0.8888888888888888,
             0.8888888888888888,
             0.8888888888888888,
             0.8888888888888888,
             0.8888888888888888
            ],
            [
             1,
             1,
             1,
             1,
             1,
             1,
             1,
             1,
             1,
             1
            ]
           ],
           "z": [
            [
             0.8414709848078965,
             0.99190379965505,
             0.6782138028608058,
             0.04718003020117095,
             -0.605929802937221,
             -0.9755183471216419,
             -0.8886510150090674,
             -0.38597399671782934,
             0.2973045442608358,
             0.8414709848078964
            ],
            [
             0.8414709848078965,
             0.99190379965505,
             0.6782138028608058,
             0.04718003020117095,
             -0.605929802937221,
             -0.9755183471216419,
             -0.8886510150090674,
             -0.38597399671782934,
             0.2973045442608358,
             0.8414709848078964
            ],
            [
             0.8414709848078965,
             0.99190379965505,
             0.6782138028608058,
             0.04718003020117095,
             -0.605929802937221,
             -0.9755183471216419,
             -0.8886510150090674,
             -0.38597399671782934,
             0.2973045442608358,
             0.8414709848078964
            ],
            [
             0.8414709848078965,
             0.99190379965505,
             0.6782138028608058,
             0.04718003020117095,
             -0.605929802937221,
             -0.9755183471216419,
             -0.8886510150090674,
             -0.38597399671782934,
             0.2973045442608358,
             0.8414709848078964
            ],
            [
             0.8414709848078965,
             0.99190379965505,
             0.6782138028608058,
             0.04718003020117095,
             -0.605929802937221,
             -0.9755183471216419,
             -0.8886510150090674,
             -0.38597399671782934,
             0.2973045442608358,
             0.8414709848078964
            ],
            [
             0.8414709848078965,
             0.99190379965505,
             0.6782138028608058,
             0.04718003020117095,
             -0.605929802937221,
             -0.9755183471216419,
             -0.8886510150090674,
             -0.38597399671782934,
             0.2973045442608358,
             0.8414709848078964
            ],
            [
             0.8414709848078965,
             0.99190379965505,
             0.6782138028608058,
             0.04718003020117095,
             -0.605929802937221,
             -0.9755183471216419,
             -0.8886510150090674,
             -0.38597399671782934,
             0.2973045442608358,
             0.8414709848078964
            ],
            [
             0.8414709848078965,
             0.99190379965505,
             0.6782138028608058,
             0.04718003020117095,
             -0.605929802937221,
             -0.9755183471216419,
             -0.8886510150090674,
             -0.38597399671782934,
             0.2973045442608358,
             0.8414709848078964
            ],
            [
             0.8414709848078965,
             0.99190379965505,
             0.6782138028608058,
             0.04718003020117095,
             -0.605929802937221,
             -0.9755183471216419,
             -0.8886510150090674,
             -0.38597399671782934,
             0.2973045442608358,
             0.8414709848078964
            ],
            [
             0.8414709848078965,
             0.99190379965505,
             0.6782138028608058,
             0.04718003020117095,
             -0.605929802937221,
             -0.9755183471216419,
             -0.8886510150090674,
             -0.38597399671782934,
             0.2973045442608358,
             0.8414709848078964
            ]
           ]
          }
         ],
         "layout": {
          "title": {
           "text": "Frame: 1"
          }
         }
        },
        {
         "data": [
          {
           "cmax": 1,
           "cmin": 0,
           "colorbar": {
            "title": {
             "text": "Counts"
            }
           },
           "colorscale": [
            [
             0,
             "#440154"
            ],
            [
             0.1111111111111111,
             "#482878"
            ],
            [
             0.2222222222222222,
             "#3e4989"
            ],
            [
             0.3333333333333333,
             "#31688e"
            ],
            [
             0.4444444444444444,
             "#26828e"
            ],
            [
             0.5555555555555556,
             "#1f9e89"
            ],
            [
             0.6666666666666666,
             "#35b779"
            ],
            [
             0.7777777777777778,
             "#6ece58"
            ],
            [
             0.8888888888888888,
             "#b5de2b"
            ],
            [
             1,
             "#fde725"
            ]
           ],
           "opacity": 1,
           "type": "surface",
           "x": [
            [
             0,
             0.1111111111111111,
             0.2222222222222222,
             0.3333333333333333,
             0.4444444444444444,
             0.5555555555555556,
             0.6666666666666666,
             0.7777777777777777,
             0.8888888888888888,
             1
            ],
            [
             0,
             0.1111111111111111,
             0.2222222222222222,
             0.3333333333333333,
             0.4444444444444444,
             0.5555555555555556,
             0.6666666666666666,
             0.7777777777777777,
             0.8888888888888888,
             1
            ],
            [
             0,
             0.1111111111111111,
             0.2222222222222222,
             0.3333333333333333,
             0.4444444444444444,
             0.5555555555555556,
             0.6666666666666666,
             0.7777777777777777,
             0.8888888888888888,
             1
            ],
            [
             0,
             0.1111111111111111,
             0.2222222222222222,
             0.3333333333333333,
             0.4444444444444444,
             0.5555555555555556,
             0.6666666666666666,
             0.7777777777777777,
             0.8888888888888888,
             1
            ],
            [
             0,
             0.1111111111111111,
             0.2222222222222222,
             0.3333333333333333,
             0.4444444444444444,
             0.5555555555555556,
             0.6666666666666666,
             0.7777777777777777,
             0.8888888888888888,
             1
            ],
            [
             0,
             0.1111111111111111,
             0.2222222222222222,
             0.3333333333333333,
             0.4444444444444444,
             0.5555555555555556,
             0.6666666666666666,
             0.7777777777777777,
             0.8888888888888888,
             1
            ],
            [
             0,
             0.1111111111111111,
             0.2222222222222222,
             0.3333333333333333,
             0.4444444444444444,
             0.5555555555555556,
             0.6666666666666666,
             0.7777777777777777,
             0.8888888888888888,
             1
            ],
            [
             0,
             0.1111111111111111,
             0.2222222222222222,
             0.3333333333333333,
             0.4444444444444444,
             0.5555555555555556,
             0.6666666666666666,
             0.7777777777777777,
             0.8888888888888888,
             1
            ],
            [
             0,
             0.1111111111111111,
             0.2222222222222222,
             0.3333333333333333,
             0.4444444444444444,
             0.5555555555555556,
             0.6666666666666666,
             0.7777777777777777,
             0.8888888888888888,
             1
            ],
            [
             0,
             0.1111111111111111,
             0.2222222222222222,
             0.3333333333333333,
             0.4444444444444444,
             0.5555555555555556,
             0.6666666666666666,
             0.7777777777777777,
             0.8888888888888888,
             1
            ]
           ],
           "y": [
            [
             0,
             0,
             0,
             0,
             0,
             0,
             0,
             0,
             0,
             0
            ],
            [
             0.1111111111111111,
             0.1111111111111111,
             0.1111111111111111,
             0.1111111111111111,
             0.1111111111111111,
             0.1111111111111111,
             0.1111111111111111,
             0.1111111111111111,
             0.1111111111111111,
             0.1111111111111111
            ],
            [
             0.2222222222222222,
             0.2222222222222222,
             0.2222222222222222,
             0.2222222222222222,
             0.2222222222222222,
             0.2222222222222222,
             0.2222222222222222,
             0.2222222222222222,
             0.2222222222222222,
             0.2222222222222222
            ],
            [
             0.3333333333333333,
             0.3333333333333333,
             0.3333333333333333,
             0.3333333333333333,
             0.3333333333333333,
             0.3333333333333333,
             0.3333333333333333,
             0.3333333333333333,
             0.3333333333333333,
             0.3333333333333333
            ],
            [
             0.4444444444444444,
             0.4444444444444444,
             0.4444444444444444,
             0.4444444444444444,
             0.4444444444444444,
             0.4444444444444444,
             0.4444444444444444,
             0.4444444444444444,
             0.4444444444444444,
             0.4444444444444444
            ],
            [
             0.5555555555555556,
             0.5555555555555556,
             0.5555555555555556,
             0.5555555555555556,
             0.5555555555555556,
             0.5555555555555556,
             0.5555555555555556,
             0.5555555555555556,
             0.5555555555555556,
             0.5555555555555556
            ],
            [
             0.6666666666666666,
             0.6666666666666666,
             0.6666666666666666,
             0.6666666666666666,
             0.6666666666666666,
             0.6666666666666666,
             0.6666666666666666,
             0.6666666666666666,
             0.6666666666666666,
             0.6666666666666666
            ],
            [
             0.7777777777777777,
             0.7777777777777777,
             0.7777777777777777,
             0.7777777777777777,
             0.7777777777777777,
             0.7777777777777777,
             0.7777777777777777,
             0.7777777777777777,
             0.7777777777777777,
             0.7777777777777777
            ],
            [
             0.8888888888888888,
             0.8888888888888888,
             0.8888888888888888,
             0.8888888888888888,
             0.8888888888888888,
             0.8888888888888888,
             0.8888888888888888,
             0.8888888888888888,
             0.8888888888888888,
             0.8888888888888888
            ],
            [
             1,
             1,
             1,
             1,
             1,
             1,
             1,
             1,
             1,
             1
            ]
           ],
           "z": [
            [
             0.9092974268256817,
             0.42906821061944633,
             -0.25192678989762146,
             -0.8150424455671962,
             -0.9967906827680848,
             -0.7121294814073307,
             -0.09425498125848553,
             0.5677224721486381,
             0.9640562713049515,
             0.9092974268256818
            ],
            [
             0.9092974268256817,
             0.42906821061944633,
             -0.25192678989762146,
             -0.8150424455671962,
             -0.9967906827680848,
             -0.7121294814073307,
             -0.09425498125848553,
             0.5677224721486381,
             0.9640562713049515,
             0.9092974268256818
            ],
            [
             0.9092974268256817,
             0.42906821061944633,
             -0.25192678989762146,
             -0.8150424455671962,
             -0.9967906827680848,
             -0.7121294814073307,
             -0.09425498125848553,
             0.5677224721486381,
             0.9640562713049515,
             0.9092974268256818
            ],
            [
             0.9092974268256817,
             0.42906821061944633,
             -0.25192678989762146,
             -0.8150424455671962,
             -0.9967906827680848,
             -0.7121294814073307,
             -0.09425498125848553,
             0.5677224721486381,
             0.9640562713049515,
             0.9092974268256818
            ],
            [
             0.9092974268256817,
             0.42906821061944633,
             -0.25192678989762146,
             -0.8150424455671962,
             -0.9967906827680848,
             -0.7121294814073307,
             -0.09425498125848553,
             0.5677224721486381,
             0.9640562713049515,
             0.9092974268256818
            ],
            [
             0.9092974268256817,
             0.42906821061944633,
             -0.25192678989762146,
             -0.8150424455671962,
             -0.9967906827680848,
             -0.7121294814073307,
             -0.09425498125848553,
             0.5677224721486381,
             0.9640562713049515,
             0.9092974268256818
            ],
            [
             0.9092974268256817,
             0.42906821061944633,
             -0.25192678989762146,
             -0.8150424455671962,
             -0.9967906827680848,
             -0.7121294814073307,
             -0.09425498125848553,
             0.5677224721486381,
             0.9640562713049515,
             0.9092974268256818
            ],
            [
             0.9092974268256817,
             0.42906821061944633,
             -0.25192678989762146,
             -0.8150424455671962,
             -0.9967906827680848,
             -0.7121294814073307,
             -0.09425498125848553,
             0.5677224721486381,
             0.9640562713049515,
             0.9092974268256818
            ],
            [
             0.9092974268256817,
             0.42906821061944633,
             -0.25192678989762146,
             -0.8150424455671962,
             -0.9967906827680848,
             -0.7121294814073307,
             -0.09425498125848553,
             0.5677224721486381,
             0.9640562713049515,
             0.9092974268256818
            ],
            [
             0.9092974268256817,
             0.42906821061944633,
             -0.25192678989762146,
             -0.8150424455671962,
             -0.9967906827680848,
             -0.7121294814073307,
             -0.09425498125848553,
             0.5677224721486381,
             0.9640562713049515,
             0.9092974268256818
            ]
           ]
          }
         ],
         "layout": {
          "title": {
           "text": "Frame: 2"
          }
         }
        },
        {
         "data": [
          {
           "cmax": 1,
           "cmin": 0,
           "colorbar": {
            "title": {
             "text": "Counts"
            }
           },
           "colorscale": [
            [
             0,
             "#440154"
            ],
            [
             0.1111111111111111,
             "#482878"
            ],
            [
             0.2222222222222222,
             "#3e4989"
            ],
            [
             0.3333333333333333,
             "#31688e"
            ],
            [
             0.4444444444444444,
             "#26828e"
            ],
            [
             0.5555555555555556,
             "#1f9e89"
            ],
            [
             0.6666666666666666,
             "#35b779"
            ],
            [
             0.7777777777777778,
             "#6ece58"
            ],
            [
             0.8888888888888888,
             "#b5de2b"
            ],
            [
             1,
             "#fde725"
            ]
           ],
           "opacity": 1,
           "type": "surface",
           "x": [
            [
             0,
             0.1111111111111111,
             0.2222222222222222,
             0.3333333333333333,
             0.4444444444444444,
             0.5555555555555556,
             0.6666666666666666,
             0.7777777777777777,
             0.8888888888888888,
             1
            ],
            [
             0,
             0.1111111111111111,
             0.2222222222222222,
             0.3333333333333333,
             0.4444444444444444,
             0.5555555555555556,
             0.6666666666666666,
             0.7777777777777777,
             0.8888888888888888,
             1
            ],
            [
             0,
             0.1111111111111111,
             0.2222222222222222,
             0.3333333333333333,
             0.4444444444444444,
             0.5555555555555556,
             0.6666666666666666,
             0.7777777777777777,
             0.8888888888888888,
             1
            ],
            [
             0,
             0.1111111111111111,
             0.2222222222222222,
             0.3333333333333333,
             0.4444444444444444,
             0.5555555555555556,
             0.6666666666666666,
             0.7777777777777777,
             0.8888888888888888,
             1
            ],
            [
             0,
             0.1111111111111111,
             0.2222222222222222,
             0.3333333333333333,
             0.4444444444444444,
             0.5555555555555556,
             0.6666666666666666,
             0.7777777777777777,
             0.8888888888888888,
             1
            ],
            [
             0,
             0.1111111111111111,
             0.2222222222222222,
             0.3333333333333333,
             0.4444444444444444,
             0.5555555555555556,
             0.6666666666666666,
             0.7777777777777777,
             0.8888888888888888,
             1
            ],
            [
             0,
             0.1111111111111111,
             0.2222222222222222,
             0.3333333333333333,
             0.4444444444444444,
             0.5555555555555556,
             0.6666666666666666,
             0.7777777777777777,
             0.8888888888888888,
             1
            ],
            [
             0,
             0.1111111111111111,
             0.2222222222222222,
             0.3333333333333333,
             0.4444444444444444,
             0.5555555555555556,
             0.6666666666666666,
             0.7777777777777777,
             0.8888888888888888,
             1
            ],
            [
             0,
             0.1111111111111111,
             0.2222222222222222,
             0.3333333333333333,
             0.4444444444444444,
             0.5555555555555556,
             0.6666666666666666,
             0.7777777777777777,
             0.8888888888888888,
             1
            ],
            [
             0,
             0.1111111111111111,
             0.2222222222222222,
             0.3333333333333333,
             0.4444444444444444,
             0.5555555555555556,
             0.6666666666666666,
             0.7777777777777777,
             0.8888888888888888,
             1
            ]
           ],
           "y": [
            [
             0,
             0,
             0,
             0,
             0,
             0,
             0,
             0,
             0,
             0
            ],
            [
             0.1111111111111111,
             0.1111111111111111,
             0.1111111111111111,
             0.1111111111111111,
             0.1111111111111111,
             0.1111111111111111,
             0.1111111111111111,
             0.1111111111111111,
             0.1111111111111111,
             0.1111111111111111
            ],
            [
             0.2222222222222222,
             0.2222222222222222,
             0.2222222222222222,
             0.2222222222222222,
             0.2222222222222222,
             0.2222222222222222,
             0.2222222222222222,
             0.2222222222222222,
             0.2222222222222222,
             0.2222222222222222
            ],
            [
             0.3333333333333333,
             0.3333333333333333,
             0.3333333333333333,
             0.3333333333333333,
             0.3333333333333333,
             0.3333333333333333,
             0.3333333333333333,
             0.3333333333333333,
             0.3333333333333333,
             0.3333333333333333
            ],
            [
             0.4444444444444444,
             0.4444444444444444,
             0.4444444444444444,
             0.4444444444444444,
             0.4444444444444444,
             0.4444444444444444,
             0.4444444444444444,
             0.4444444444444444,
             0.4444444444444444,
             0.4444444444444444
            ],
            [
             0.5555555555555556,
             0.5555555555555556,
             0.5555555555555556,
             0.5555555555555556,
             0.5555555555555556,
             0.5555555555555556,
             0.5555555555555556,
             0.5555555555555556,
             0.5555555555555556,
             0.5555555555555556
            ],
            [
             0.6666666666666666,
             0.6666666666666666,
             0.6666666666666666,
             0.6666666666666666,
             0.6666666666666666,
             0.6666666666666666,
             0.6666666666666666,
             0.6666666666666666,
             0.6666666666666666,
             0.6666666666666666
            ],
            [
             0.7777777777777777,
             0.7777777777777777,
             0.7777777777777777,
             0.7777777777777777,
             0.7777777777777777,
             0.7777777777777777,
             0.7777777777777777,
             0.7777777777777777,
             0.7777777777777777,
             0.7777777777777777
            ],
            [
             0.8888888888888888,
             0.8888888888888888,
             0.8888888888888888,
             0.8888888888888888,
             0.8888888888888888,
             0.8888888888888888,
             0.8888888888888888,
             0.8888888888888888,
             0.8888888888888888,
             0.8888888888888888
            ],
            [
             1,
             1,
             1,
             1,
             1,
             1,
             1,
             1,
             1,
             1
            ]
           ],
           "z": [
            [
             0.1411200080598672,
             -0.5282507125102431,
             -0.9504470538440923,
             -0.9279186556418991,
             -0.47120680579772584,
             0.2059879453595153,
             0.7867986475820314,
             0.9994575183079693,
             0.7444591084845761,
             0.14112000805986746
            ],
            [
             0.1411200080598672,
             -0.5282507125102431,
             -0.9504470538440923,
             -0.9279186556418991,
             -0.47120680579772584,
             0.2059879453595153,
             0.7867986475820314,
             0.9994575183079693,
             0.7444591084845761,
             0.14112000805986746
            ],
            [
             0.1411200080598672,
             -0.5282507125102431,
             -0.9504470538440923,
             -0.9279186556418991,
             -0.47120680579772584,
             0.2059879453595153,
             0.7867986475820314,
             0.9994575183079693,
             0.7444591084845761,
             0.14112000805986746
            ],
            [
             0.1411200080598672,
             -0.5282507125102431,
             -0.9504470538440923,
             -0.9279186556418991,
             -0.47120680579772584,
             0.2059879453595153,
             0.7867986475820314,
             0.9994575183079693,
             0.7444591084845761,
             0.14112000805986746
            ],
            [
             0.1411200080598672,
             -0.5282507125102431,
             -0.9504470538440923,
             -0.9279186556418991,
             -0.47120680579772584,
             0.2059879453595153,
             0.7867986475820314,
             0.9994575183079693,
             0.7444591084845761,
             0.14112000805986746
            ],
            [
             0.1411200080598672,
             -0.5282507125102431,
             -0.9504470538440923,
             -0.9279186556418991,
             -0.47120680579772584,
             0.2059879453595153,
             0.7867986475820314,
             0.9994575183079693,
             0.7444591084845761,
             0.14112000805986746
            ],
            [
             0.1411200080598672,
             -0.5282507125102431,
             -0.9504470538440923,
             -0.9279186556418991,
             -0.47120680579772584,
             0.2059879453595153,
             0.7867986475820314,
             0.9994575183079693,
             0.7444591084845761,
             0.14112000805986746
            ],
            [
             0.1411200080598672,
             -0.5282507125102431,
             -0.9504470538440923,
             -0.9279186556418991,
             -0.47120680579772584,
             0.2059879453595153,
             0.7867986475820314,
             0.9994575183079693,
             0.7444591084845761,
             0.14112000805986746
            ],
            [
             0.1411200080598672,
             -0.5282507125102431,
             -0.9504470538440923,
             -0.9279186556418991,
             -0.47120680579772584,
             0.2059879453595153,
             0.7867986475820314,
             0.9994575183079693,
             0.7444591084845761,
             0.14112000805986746
            ],
            [
             0.1411200080598672,
             -0.5282507125102431,
             -0.9504470538440923,
             -0.9279186556418991,
             -0.47120680579772584,
             0.2059879453595153,
             0.7867986475820314,
             0.9994575183079693,
             0.7444591084845761,
             0.14112000805986746
            ]
           ]
          }
         ],
         "layout": {
          "title": {
           "text": "Frame: 3"
          }
         }
        },
        {
         "data": [
          {
           "cmax": 1,
           "cmin": 0,
           "colorbar": {
            "title": {
             "text": "Counts"
            }
           },
           "colorscale": [
            [
             0,
             "#440154"
            ],
            [
             0.1111111111111111,
             "#482878"
            ],
            [
             0.2222222222222222,
             "#3e4989"
            ],
            [
             0.3333333333333333,
             "#31688e"
            ],
            [
             0.4444444444444444,
             "#26828e"
            ],
            [
             0.5555555555555556,
             "#1f9e89"
            ],
            [
             0.6666666666666666,
             "#35b779"
            ],
            [
             0.7777777777777778,
             "#6ece58"
            ],
            [
             0.8888888888888888,
             "#b5de2b"
            ],
            [
             1,
             "#fde725"
            ]
           ],
           "opacity": 1,
           "type": "surface",
           "x": [
            [
             0,
             0.1111111111111111,
             0.2222222222222222,
             0.3333333333333333,
             0.4444444444444444,
             0.5555555555555556,
             0.6666666666666666,
             0.7777777777777777,
             0.8888888888888888,
             1
            ],
            [
             0,
             0.1111111111111111,
             0.2222222222222222,
             0.3333333333333333,
             0.4444444444444444,
             0.5555555555555556,
             0.6666666666666666,
             0.7777777777777777,
             0.8888888888888888,
             1
            ],
            [
             0,
             0.1111111111111111,
             0.2222222222222222,
             0.3333333333333333,
             0.4444444444444444,
             0.5555555555555556,
             0.6666666666666666,
             0.7777777777777777,
             0.8888888888888888,
             1
            ],
            [
             0,
             0.1111111111111111,
             0.2222222222222222,
             0.3333333333333333,
             0.4444444444444444,
             0.5555555555555556,
             0.6666666666666666,
             0.7777777777777777,
             0.8888888888888888,
             1
            ],
            [
             0,
             0.1111111111111111,
             0.2222222222222222,
             0.3333333333333333,
             0.4444444444444444,
             0.5555555555555556,
             0.6666666666666666,
             0.7777777777777777,
             0.8888888888888888,
             1
            ],
            [
             0,
             0.1111111111111111,
             0.2222222222222222,
             0.3333333333333333,
             0.4444444444444444,
             0.5555555555555556,
             0.6666666666666666,
             0.7777777777777777,
             0.8888888888888888,
             1
            ],
            [
             0,
             0.1111111111111111,
             0.2222222222222222,
             0.3333333333333333,
             0.4444444444444444,
             0.5555555555555556,
             0.6666666666666666,
             0.7777777777777777,
             0.8888888888888888,
             1
            ],
            [
             0,
             0.1111111111111111,
             0.2222222222222222,
             0.3333333333333333,
             0.4444444444444444,
             0.5555555555555556,
             0.6666666666666666,
             0.7777777777777777,
             0.8888888888888888,
             1
            ],
            [
             0,
             0.1111111111111111,
             0.2222222222222222,
             0.3333333333333333,
             0.4444444444444444,
             0.5555555555555556,
             0.6666666666666666,
             0.7777777777777777,
             0.8888888888888888,
             1
            ],
            [
             0,
             0.1111111111111111,
             0.2222222222222222,
             0.3333333333333333,
             0.4444444444444444,
             0.5555555555555556,
             0.6666666666666666,
             0.7777777777777777,
             0.8888888888888888,
             1
            ]
           ],
           "y": [
            [
             0,
             0,
             0,
             0,
             0,
             0,
             0,
             0,
             0,
             0
            ],
            [
             0.1111111111111111,
             0.1111111111111111,
             0.1111111111111111,
             0.1111111111111111,
             0.1111111111111111,
             0.1111111111111111,
             0.1111111111111111,
             0.1111111111111111,
             0.1111111111111111,
             0.1111111111111111
            ],
            [
             0.2222222222222222,
             0.2222222222222222,
             0.2222222222222222,
             0.2222222222222222,
             0.2222222222222222,
             0.2222222222222222,
             0.2222222222222222,
             0.2222222222222222,
             0.2222222222222222,
             0.2222222222222222
            ],
            [
             0.3333333333333333,
             0.3333333333333333,
             0.3333333333333333,
             0.3333333333333333,
             0.3333333333333333,
             0.3333333333333333,
             0.3333333333333333,
             0.3333333333333333,
             0.3333333333333333,
             0.3333333333333333
            ],
            [
             0.4444444444444444,
             0.4444444444444444,
             0.4444444444444444,
             0.4444444444444444,
             0.4444444444444444,
             0.4444444444444444,
             0.4444444444444444,
             0.4444444444444444,
             0.4444444444444444,
             0.4444444444444444
            ],
            [
             0.5555555555555556,
             0.5555555555555556,
             0.5555555555555556,
             0.5555555555555556,
             0.5555555555555556,
             0.5555555555555556,
             0.5555555555555556,
             0.5555555555555556,
             0.5555555555555556,
             0.5555555555555556
            ],
            [
             0.6666666666666666,
             0.6666666666666666,
             0.6666666666666666,
             0.6666666666666666,
             0.6666666666666666,
             0.6666666666666666,
             0.6666666666666666,
             0.6666666666666666,
             0.6666666666666666,
             0.6666666666666666
            ],
            [
             0.7777777777777777,
             0.7777777777777777,
             0.7777777777777777,
             0.7777777777777777,
             0.7777777777777777,
             0.7777777777777777,
             0.7777777777777777,
             0.7777777777777777,
             0.7777777777777777,
             0.7777777777777777
            ],
            [
             0.8888888888888888,
             0.8888888888888888,
             0.8888888888888888,
             0.8888888888888888,
             0.8888888888888888,
             0.8888888888888888,
             0.8888888888888888,
             0.8888888888888888,
             0.8888888888888888,
             0.8888888888888888
            ],
            [
             1,
             1,
             1,
             1,
             1,
             1,
             1,
             1,
             1,
             1
            ]
           ],
           "z": [
            [
             -0.7568024953079282,
             -0.9998983667109905,
             -0.7751306796974645,
             -0.18767073303556858,
             0.48760243534154085,
             0.9347210051249036,
             0.9444732283434966,
             0.5122959313694503,
             -0.15959032542743978,
             -0.7568024953079281
            ],
            [
             -0.7568024953079282,
             -0.9998983667109905,
             -0.7751306796974645,
             -0.18767073303556858,
             0.48760243534154085,
             0.9347210051249036,
             0.9444732283434966,
             0.5122959313694503,
             -0.15959032542743978,
             -0.7568024953079281
            ],
            [
             -0.7568024953079282,
             -0.9998983667109905,
             -0.7751306796974645,
             -0.18767073303556858,
             0.48760243534154085,
             0.9347210051249036,
             0.9444732283434966,
             0.5122959313694503,
             -0.15959032542743978,
             -0.7568024953079281
            ],
            [
             -0.7568024953079282,
             -0.9998983667109905,
             -0.7751306796974645,
             -0.18767073303556858,
             0.48760243534154085,
             0.9347210051249036,
             0.9444732283434966,
             0.5122959313694503,
             -0.15959032542743978,
             -0.7568024953079281
            ],
            [
             -0.7568024953079282,
             -0.9998983667109905,
             -0.7751306796974645,
             -0.18767073303556858,
             0.48760243534154085,
             0.9347210051249036,
             0.9444732283434966,
             0.5122959313694503,
             -0.15959032542743978,
             -0.7568024953079281
            ],
            [
             -0.7568024953079282,
             -0.9998983667109905,
             -0.7751306796974645,
             -0.18767073303556858,
             0.48760243534154085,
             0.9347210051249036,
             0.9444732283434966,
             0.5122959313694503,
             -0.15959032542743978,
             -0.7568024953079281
            ],
            [
             -0.7568024953079282,
             -0.9998983667109905,
             -0.7751306796974645,
             -0.18767073303556858,
             0.48760243534154085,
             0.9347210051249036,
             0.9444732283434966,
             0.5122959313694503,
             -0.15959032542743978,
             -0.7568024953079281
            ],
            [
             -0.7568024953079282,
             -0.9998983667109905,
             -0.7751306796974645,
             -0.18767073303556858,
             0.48760243534154085,
             0.9347210051249036,
             0.9444732283434966,
             0.5122959313694503,
             -0.15959032542743978,
             -0.7568024953079281
            ],
            [
             -0.7568024953079282,
             -0.9998983667109905,
             -0.7751306796974645,
             -0.18767073303556858,
             0.48760243534154085,
             0.9347210051249036,
             0.9444732283434966,
             0.5122959313694503,
             -0.15959032542743978,
             -0.7568024953079281
            ],
            [
             -0.7568024953079282,
             -0.9998983667109905,
             -0.7751306796974645,
             -0.18767073303556858,
             0.48760243534154085,
             0.9347210051249036,
             0.9444732283434966,
             0.5122959313694503,
             -0.15959032542743978,
             -0.7568024953079281
            ]
           ]
          }
         ],
         "layout": {
          "title": {
           "text": "Frame: 4"
          }
         }
        },
        {
         "data": [
          {
           "cmax": 1,
           "cmin": 0,
           "colorbar": {
            "title": {
             "text": "Counts"
            }
           },
           "colorscale": [
            [
             0,
             "#440154"
            ],
            [
             0.1111111111111111,
             "#482878"
            ],
            [
             0.2222222222222222,
             "#3e4989"
            ],
            [
             0.3333333333333333,
             "#31688e"
            ],
            [
             0.4444444444444444,
             "#26828e"
            ],
            [
             0.5555555555555556,
             "#1f9e89"
            ],
            [
             0.6666666666666666,
             "#35b779"
            ],
            [
             0.7777777777777778,
             "#6ece58"
            ],
            [
             0.8888888888888888,
             "#b5de2b"
            ],
            [
             1,
             "#fde725"
            ]
           ],
           "opacity": 1,
           "type": "surface",
           "x": [
            [
             0,
             0.1111111111111111,
             0.2222222222222222,
             0.3333333333333333,
             0.4444444444444444,
             0.5555555555555556,
             0.6666666666666666,
             0.7777777777777777,
             0.8888888888888888,
             1
            ],
            [
             0,
             0.1111111111111111,
             0.2222222222222222,
             0.3333333333333333,
             0.4444444444444444,
             0.5555555555555556,
             0.6666666666666666,
             0.7777777777777777,
             0.8888888888888888,
             1
            ],
            [
             0,
             0.1111111111111111,
             0.2222222222222222,
             0.3333333333333333,
             0.4444444444444444,
             0.5555555555555556,
             0.6666666666666666,
             0.7777777777777777,
             0.8888888888888888,
             1
            ],
            [
             0,
             0.1111111111111111,
             0.2222222222222222,
             0.3333333333333333,
             0.4444444444444444,
             0.5555555555555556,
             0.6666666666666666,
             0.7777777777777777,
             0.8888888888888888,
             1
            ],
            [
             0,
             0.1111111111111111,
             0.2222222222222222,
             0.3333333333333333,
             0.4444444444444444,
             0.5555555555555556,
             0.6666666666666666,
             0.7777777777777777,
             0.8888888888888888,
             1
            ],
            [
             0,
             0.1111111111111111,
             0.2222222222222222,
             0.3333333333333333,
             0.4444444444444444,
             0.5555555555555556,
             0.6666666666666666,
             0.7777777777777777,
             0.8888888888888888,
             1
            ],
            [
             0,
             0.1111111111111111,
             0.2222222222222222,
             0.3333333333333333,
             0.4444444444444444,
             0.5555555555555556,
             0.6666666666666666,
             0.7777777777777777,
             0.8888888888888888,
             1
            ],
            [
             0,
             0.1111111111111111,
             0.2222222222222222,
             0.3333333333333333,
             0.4444444444444444,
             0.5555555555555556,
             0.6666666666666666,
             0.7777777777777777,
             0.8888888888888888,
             1
            ],
            [
             0,
             0.1111111111111111,
             0.2222222222222222,
             0.3333333333333333,
             0.4444444444444444,
             0.5555555555555556,
             0.6666666666666666,
             0.7777777777777777,
             0.8888888888888888,
             1
            ],
            [
             0,
             0.1111111111111111,
             0.2222222222222222,
             0.3333333333333333,
             0.4444444444444444,
             0.5555555555555556,
             0.6666666666666666,
             0.7777777777777777,
             0.8888888888888888,
             1
            ]
           ],
           "y": [
            [
             0,
             0,
             0,
             0,
             0,
             0,
             0,
             0,
             0,
             0
            ],
            [
             0.1111111111111111,
             0.1111111111111111,
             0.1111111111111111,
             0.1111111111111111,
             0.1111111111111111,
             0.1111111111111111,
             0.1111111111111111,
             0.1111111111111111,
             0.1111111111111111,
             0.1111111111111111
            ],
            [
             0.2222222222222222,
             0.2222222222222222,
             0.2222222222222222,
             0.2222222222222222,
             0.2222222222222222,
             0.2222222222222222,
             0.2222222222222222,
             0.2222222222222222,
             0.2222222222222222,
             0.2222222222222222
            ],
            [
             0.3333333333333333,
             0.3333333333333333,
             0.3333333333333333,
             0.3333333333333333,
             0.3333333333333333,
             0.3333333333333333,
             0.3333333333333333,
             0.3333333333333333,
             0.3333333333333333,
             0.3333333333333333
            ],
            [
             0.4444444444444444,
             0.4444444444444444,
             0.4444444444444444,
             0.4444444444444444,
             0.4444444444444444,
             0.4444444444444444,
             0.4444444444444444,
             0.4444444444444444,
             0.4444444444444444,
             0.4444444444444444
            ],
            [
             0.5555555555555556,
             0.5555555555555556,
             0.5555555555555556,
             0.5555555555555556,
             0.5555555555555556,
             0.5555555555555556,
             0.5555555555555556,
             0.5555555555555556,
             0.5555555555555556,
             0.5555555555555556
            ],
            [
             0.6666666666666666,
             0.6666666666666666,
             0.6666666666666666,
             0.6666666666666666,
             0.6666666666666666,
             0.6666666666666666,
             0.6666666666666666,
             0.6666666666666666,
             0.6666666666666666,
             0.6666666666666666
            ],
            [
             0.7777777777777777,
             0.7777777777777777,
             0.7777777777777777,
             0.7777777777777777,
             0.7777777777777777,
             0.7777777777777777,
             0.7777777777777777,
             0.7777777777777777,
             0.7777777777777777,
             0.7777777777777777
            ],
            [
             0.8888888888888888,
             0.8888888888888888,
             0.8888888888888888,
             0.8888888888888888,
             0.8888888888888888,
             0.8888888888888888,
             0.8888888888888888,
             0.8888888888888888,
             0.8888888888888888,
             0.8888888888888888
            ],
            [
             1,
             1,
             1,
             1,
             1,
             1,
             1,
             1,
             1,
             1
            ]
           ],
           "z": [
            [
             -0.9589242746631385,
             -0.5522440738252268,
             0.11283726666473524,
             0.7251207960357356,
             0.998112246121636,
             0.8040758834652261,
             0.2338034786274037,
             -0.44586817229640874,
             -0.9169131501299611,
             -0.9589242746631386
            ],
            [
             -0.9589242746631385,
             -0.5522440738252268,
             0.11283726666473524,
             0.7251207960357356,
             0.998112246121636,
             0.8040758834652261,
             0.2338034786274037,
             -0.44586817229640874,
             -0.9169131501299611,
             -0.9589242746631386
            ],
            [
             -0.9589242746631385,
             -0.5522440738252268,
             0.11283726666473524,
             0.7251207960357356,
             0.998112246121636,
             0.8040758834652261,
             0.2338034786274037,
             -0.44586817229640874,
             -0.9169131501299611,
             -0.9589242746631386
            ],
            [
             -0.9589242746631385,
             -0.5522440738252268,
             0.11283726666473524,
             0.7251207960357356,
             0.998112246121636,
             0.8040758834652261,
             0.2338034786274037,
             -0.44586817229640874,
             -0.9169131501299611,
             -0.9589242746631386
            ],
            [
             -0.9589242746631385,
             -0.5522440738252268,
             0.11283726666473524,
             0.7251207960357356,
             0.998112246121636,
             0.8040758834652261,
             0.2338034786274037,
             -0.44586817229640874,
             -0.9169131501299611,
             -0.9589242746631386
            ],
            [
             -0.9589242746631385,
             -0.5522440738252268,
             0.11283726666473524,
             0.7251207960357356,
             0.998112246121636,
             0.8040758834652261,
             0.2338034786274037,
             -0.44586817229640874,
             -0.9169131501299611,
             -0.9589242746631386
            ],
            [
             -0.9589242746631385,
             -0.5522440738252268,
             0.11283726666473524,
             0.7251207960357356,
             0.998112246121636,
             0.8040758834652261,
             0.2338034786274037,
             -0.44586817229640874,
             -0.9169131501299611,
             -0.9589242746631386
            ],
            [
             -0.9589242746631385,
             -0.5522440738252268,
             0.11283726666473524,
             0.7251207960357356,
             0.998112246121636,
             0.8040758834652261,
             0.2338034786274037,
             -0.44586817229640874,
             -0.9169131501299611,
             -0.9589242746631386
            ],
            [
             -0.9589242746631385,
             -0.5522440738252268,
             0.11283726666473524,
             0.7251207960357356,
             0.998112246121636,
             0.8040758834652261,
             0.2338034786274037,
             -0.44586817229640874,
             -0.9169131501299611,
             -0.9589242746631386
            ],
            [
             -0.9589242746631385,
             -0.5522440738252268,
             0.11283726666473524,
             0.7251207960357356,
             0.998112246121636,
             0.8040758834652261,
             0.2338034786274037,
             -0.44586817229640874,
             -0.9169131501299611,
             -0.9589242746631386
            ]
           ]
          }
         ],
         "layout": {
          "title": {
           "text": "Frame: 5"
          }
         }
        },
        {
         "data": [
          {
           "cmax": 1,
           "cmin": 0,
           "colorbar": {
            "title": {
             "text": "Counts"
            }
           },
           "colorscale": [
            [
             0,
             "#440154"
            ],
            [
             0.1111111111111111,
             "#482878"
            ],
            [
             0.2222222222222222,
             "#3e4989"
            ],
            [
             0.3333333333333333,
             "#31688e"
            ],
            [
             0.4444444444444444,
             "#26828e"
            ],
            [
             0.5555555555555556,
             "#1f9e89"
            ],
            [
             0.6666666666666666,
             "#35b779"
            ],
            [
             0.7777777777777778,
             "#6ece58"
            ],
            [
             0.8888888888888888,
             "#b5de2b"
            ],
            [
             1,
             "#fde725"
            ]
           ],
           "opacity": 1,
           "type": "surface",
           "x": [
            [
             0,
             0.1111111111111111,
             0.2222222222222222,
             0.3333333333333333,
             0.4444444444444444,
             0.5555555555555556,
             0.6666666666666666,
             0.7777777777777777,
             0.8888888888888888,
             1
            ],
            [
             0,
             0.1111111111111111,
             0.2222222222222222,
             0.3333333333333333,
             0.4444444444444444,
             0.5555555555555556,
             0.6666666666666666,
             0.7777777777777777,
             0.8888888888888888,
             1
            ],
            [
             0,
             0.1111111111111111,
             0.2222222222222222,
             0.3333333333333333,
             0.4444444444444444,
             0.5555555555555556,
             0.6666666666666666,
             0.7777777777777777,
             0.8888888888888888,
             1
            ],
            [
             0,
             0.1111111111111111,
             0.2222222222222222,
             0.3333333333333333,
             0.4444444444444444,
             0.5555555555555556,
             0.6666666666666666,
             0.7777777777777777,
             0.8888888888888888,
             1
            ],
            [
             0,
             0.1111111111111111,
             0.2222222222222222,
             0.3333333333333333,
             0.4444444444444444,
             0.5555555555555556,
             0.6666666666666666,
             0.7777777777777777,
             0.8888888888888888,
             1
            ],
            [
             0,
             0.1111111111111111,
             0.2222222222222222,
             0.3333333333333333,
             0.4444444444444444,
             0.5555555555555556,
             0.6666666666666666,
             0.7777777777777777,
             0.8888888888888888,
             1
            ],
            [
             0,
             0.1111111111111111,
             0.2222222222222222,
             0.3333333333333333,
             0.4444444444444444,
             0.5555555555555556,
             0.6666666666666666,
             0.7777777777777777,
             0.8888888888888888,
             1
            ],
            [
             0,
             0.1111111111111111,
             0.2222222222222222,
             0.3333333333333333,
             0.4444444444444444,
             0.5555555555555556,
             0.6666666666666666,
             0.7777777777777777,
             0.8888888888888888,
             1
            ],
            [
             0,
             0.1111111111111111,
             0.2222222222222222,
             0.3333333333333333,
             0.4444444444444444,
             0.5555555555555556,
             0.6666666666666666,
             0.7777777777777777,
             0.8888888888888888,
             1
            ],
            [
             0,
             0.1111111111111111,
             0.2222222222222222,
             0.3333333333333333,
             0.4444444444444444,
             0.5555555555555556,
             0.6666666666666666,
             0.7777777777777777,
             0.8888888888888888,
             1
            ]
           ],
           "y": [
            [
             0,
             0,
             0,
             0,
             0,
             0,
             0,
             0,
             0,
             0
            ],
            [
             0.1111111111111111,
             0.1111111111111111,
             0.1111111111111111,
             0.1111111111111111,
             0.1111111111111111,
             0.1111111111111111,
             0.1111111111111111,
             0.1111111111111111,
             0.1111111111111111,
             0.1111111111111111
            ],
            [
             0.2222222222222222,
             0.2222222222222222,
             0.2222222222222222,
             0.2222222222222222,
             0.2222222222222222,
             0.2222222222222222,
             0.2222222222222222,
             0.2222222222222222,
             0.2222222222222222,
             0.2222222222222222
            ],
            [
             0.3333333333333333,
             0.3333333333333333,
             0.3333333333333333,
             0.3333333333333333,
             0.3333333333333333,
             0.3333333333333333,
             0.3333333333333333,
             0.3333333333333333,
             0.3333333333333333,
             0.3333333333333333
            ],
            [
             0.4444444444444444,
             0.4444444444444444,
             0.4444444444444444,
             0.4444444444444444,
             0.4444444444444444,
             0.4444444444444444,
             0.4444444444444444,
             0.4444444444444444,
             0.4444444444444444,
             0.4444444444444444
            ],
            [
             0.5555555555555556,
             0.5555555555555556,
             0.5555555555555556,
             0.5555555555555556,
             0.5555555555555556,
             0.5555555555555556,
             0.5555555555555556,
             0.5555555555555556,
             0.5555555555555556,
             0.5555555555555556
            ],
            [
             0.6666666666666666,
             0.6666666666666666,
             0.6666666666666666,
             0.6666666666666666,
             0.6666666666666666,
             0.6666666666666666,
             0.6666666666666666,
             0.6666666666666666,
             0.6666666666666666,
             0.6666666666666666
            ],
            [
             0.7777777777777777,
             0.7777777777777777,
             0.7777777777777777,
             0.7777777777777777,
             0.7777777777777777,
             0.7777777777777777,
             0.7777777777777777,
             0.7777777777777777,
             0.7777777777777777,
             0.7777777777777777
            ],
            [
             0.8888888888888888,
             0.8888888888888888,
             0.8888888888888888,
             0.8888888888888888,
             0.8888888888888888,
             0.8888888888888888,
             0.8888888888888888,
             0.8888888888888888,
             0.8888888888888888,
             0.8888888888888888
            ],
            [
             1,
             1,
             1,
             1,
             1,
             1,
             1,
             1,
             1,
             1
            ]
           ],
           "z": [
            [
             -0.27941549819892586,
             0.40314087373142016,
             0.8970631504310937,
             0.9712396092976665,
             0.5909622608479553,
             -0.06583289726645718,
             -0.6918241110987395,
             -0.9941031345793756,
             -0.8312302531646357,
             -0.2794154981989261
            ],
            [
             -0.27941549819892586,
             0.40314087373142016,
             0.8970631504310937,
             0.9712396092976665,
             0.5909622608479553,
             -0.06583289726645718,
             -0.6918241110987395,
             -0.9941031345793756,
             -0.8312302531646357,
             -0.2794154981989261
            ],
            [
             -0.27941549819892586,
             0.40314087373142016,
             0.8970631504310937,
             0.9712396092976665,
             0.5909622608479553,
             -0.06583289726645718,
             -0.6918241110987395,
             -0.9941031345793756,
             -0.8312302531646357,
             -0.2794154981989261
            ],
            [
             -0.27941549819892586,
             0.40314087373142016,
             0.8970631504310937,
             0.9712396092976665,
             0.5909622608479553,
             -0.06583289726645718,
             -0.6918241110987395,
             -0.9941031345793756,
             -0.8312302531646357,
             -0.2794154981989261
            ],
            [
             -0.27941549819892586,
             0.40314087373142016,
             0.8970631504310937,
             0.9712396092976665,
             0.5909622608479553,
             -0.06583289726645718,
             -0.6918241110987395,
             -0.9941031345793756,
             -0.8312302531646357,
             -0.2794154981989261
            ],
            [
             -0.27941549819892586,
             0.40314087373142016,
             0.8970631504310937,
             0.9712396092976665,
             0.5909622608479553,
             -0.06583289726645718,
             -0.6918241110987395,
             -0.9941031345793756,
             -0.8312302531646357,
             -0.2794154981989261
            ],
            [
             -0.27941549819892586,
             0.40314087373142016,
             0.8970631504310937,
             0.9712396092976665,
             0.5909622608479553,
             -0.06583289726645718,
             -0.6918241110987395,
             -0.9941031345793756,
             -0.8312302531646357,
             -0.2794154981989261
            ],
            [
             -0.27941549819892586,
             0.40314087373142016,
             0.8970631504310937,
             0.9712396092976665,
             0.5909622608479553,
             -0.06583289726645718,
             -0.6918241110987395,
             -0.9941031345793756,
             -0.8312302531646357,
             -0.2794154981989261
            ],
            [
             -0.27941549819892586,
             0.40314087373142016,
             0.8970631504310937,
             0.9712396092976665,
             0.5909622608479553,
             -0.06583289726645718,
             -0.6918241110987395,
             -0.9941031345793756,
             -0.8312302531646357,
             -0.2794154981989261
            ],
            [
             -0.27941549819892586,
             0.40314087373142016,
             0.8970631504310937,
             0.9712396092976665,
             0.5909622608479553,
             -0.06583289726645718,
             -0.6918241110987395,
             -0.9941031345793756,
             -0.8312302531646357,
             -0.2794154981989261
            ]
           ]
          }
         ],
         "layout": {
          "title": {
           "text": "Frame: 6"
          }
         }
        },
        {
         "data": [
          {
           "cmax": 1,
           "cmin": 0,
           "colorbar": {
            "title": {
             "text": "Counts"
            }
           },
           "colorscale": [
            [
             0,
             "#440154"
            ],
            [
             0.1111111111111111,
             "#482878"
            ],
            [
             0.2222222222222222,
             "#3e4989"
            ],
            [
             0.3333333333333333,
             "#31688e"
            ],
            [
             0.4444444444444444,
             "#26828e"
            ],
            [
             0.5555555555555556,
             "#1f9e89"
            ],
            [
             0.6666666666666666,
             "#35b779"
            ],
            [
             0.7777777777777778,
             "#6ece58"
            ],
            [
             0.8888888888888888,
             "#b5de2b"
            ],
            [
             1,
             "#fde725"
            ]
           ],
           "opacity": 1,
           "type": "surface",
           "x": [
            [
             0,
             0.1111111111111111,
             0.2222222222222222,
             0.3333333333333333,
             0.4444444444444444,
             0.5555555555555556,
             0.6666666666666666,
             0.7777777777777777,
             0.8888888888888888,
             1
            ],
            [
             0,
             0.1111111111111111,
             0.2222222222222222,
             0.3333333333333333,
             0.4444444444444444,
             0.5555555555555556,
             0.6666666666666666,
             0.7777777777777777,
             0.8888888888888888,
             1
            ],
            [
             0,
             0.1111111111111111,
             0.2222222222222222,
             0.3333333333333333,
             0.4444444444444444,
             0.5555555555555556,
             0.6666666666666666,
             0.7777777777777777,
             0.8888888888888888,
             1
            ],
            [
             0,
             0.1111111111111111,
             0.2222222222222222,
             0.3333333333333333,
             0.4444444444444444,
             0.5555555555555556,
             0.6666666666666666,
             0.7777777777777777,
             0.8888888888888888,
             1
            ],
            [
             0,
             0.1111111111111111,
             0.2222222222222222,
             0.3333333333333333,
             0.4444444444444444,
             0.5555555555555556,
             0.6666666666666666,
             0.7777777777777777,
             0.8888888888888888,
             1
            ],
            [
             0,
             0.1111111111111111,
             0.2222222222222222,
             0.3333333333333333,
             0.4444444444444444,
             0.5555555555555556,
             0.6666666666666666,
             0.7777777777777777,
             0.8888888888888888,
             1
            ],
            [
             0,
             0.1111111111111111,
             0.2222222222222222,
             0.3333333333333333,
             0.4444444444444444,
             0.5555555555555556,
             0.6666666666666666,
             0.7777777777777777,
             0.8888888888888888,
             1
            ],
            [
             0,
             0.1111111111111111,
             0.2222222222222222,
             0.3333333333333333,
             0.4444444444444444,
             0.5555555555555556,
             0.6666666666666666,
             0.7777777777777777,
             0.8888888888888888,
             1
            ],
            [
             0,
             0.1111111111111111,
             0.2222222222222222,
             0.3333333333333333,
             0.4444444444444444,
             0.5555555555555556,
             0.6666666666666666,
             0.7777777777777777,
             0.8888888888888888,
             1
            ],
            [
             0,
             0.1111111111111111,
             0.2222222222222222,
             0.3333333333333333,
             0.4444444444444444,
             0.5555555555555556,
             0.6666666666666666,
             0.7777777777777777,
             0.8888888888888888,
             1
            ]
           ],
           "y": [
            [
             0,
             0,
             0,
             0,
             0,
             0,
             0,
             0,
             0,
             0
            ],
            [
             0.1111111111111111,
             0.1111111111111111,
             0.1111111111111111,
             0.1111111111111111,
             0.1111111111111111,
             0.1111111111111111,
             0.1111111111111111,
             0.1111111111111111,
             0.1111111111111111,
             0.1111111111111111
            ],
            [
             0.2222222222222222,
             0.2222222222222222,
             0.2222222222222222,
             0.2222222222222222,
             0.2222222222222222,
             0.2222222222222222,
             0.2222222222222222,
             0.2222222222222222,
             0.2222222222222222,
             0.2222222222222222
            ],
            [
             0.3333333333333333,
             0.3333333333333333,
             0.3333333333333333,
             0.3333333333333333,
             0.3333333333333333,
             0.3333333333333333,
             0.3333333333333333,
             0.3333333333333333,
             0.3333333333333333,
             0.3333333333333333
            ],
            [
             0.4444444444444444,
             0.4444444444444444,
             0.4444444444444444,
             0.4444444444444444,
             0.4444444444444444,
             0.4444444444444444,
             0.4444444444444444,
             0.4444444444444444,
             0.4444444444444444,
             0.4444444444444444
            ],
            [
             0.5555555555555556,
             0.5555555555555556,
             0.5555555555555556,
             0.5555555555555556,
             0.5555555555555556,
             0.5555555555555556,
             0.5555555555555556,
             0.5555555555555556,
             0.5555555555555556,
             0.5555555555555556
            ],
            [
             0.6666666666666666,
             0.6666666666666666,
             0.6666666666666666,
             0.6666666666666666,
             0.6666666666666666,
             0.6666666666666666,
             0.6666666666666666,
             0.6666666666666666,
             0.6666666666666666,
             0.6666666666666666
            ],
            [
             0.7777777777777777,
             0.7777777777777777,
             0.7777777777777777,
             0.7777777777777777,
             0.7777777777777777,
             0.7777777777777777,
             0.7777777777777777,
             0.7777777777777777,
             0.7777777777777777,
             0.7777777777777777
            ],
            [
             0.8888888888888888,
             0.8888888888888888,
             0.8888888888888888,
             0.8888888888888888,
             0.8888888888888888,
             0.8888888888888888,
             0.8888888888888888,
             0.8888888888888888,
             0.8888888888888888,
             0.8888888888888888
            ],
            [
             1,
             1,
             1,
             1,
             1,
             1,
             1,
             1,
             1,
             1
            ]
           ],
           "z": [
            [
             0.6569865987187891,
             0.9878799611587925,
             0.8565333107097804,
             0.32440520487226504,
             -0.3595157016872373,
             -0.8752152158553204,
             -0.9813918035910537,
             -0.6283642594715557,
             0.01868190514554065,
             0.656986598718789
            ],
            [
             0.6569865987187891,
             0.9878799611587925,
             0.8565333107097804,
             0.32440520487226504,
             -0.3595157016872373,
             -0.8752152158553204,
             -0.9813918035910537,
             -0.6283642594715557,
             0.01868190514554065,
             0.656986598718789
            ],
            [
             0.6569865987187891,
             0.9878799611587925,
             0.8565333107097804,
             0.32440520487226504,
             -0.3595157016872373,
             -0.8752152158553204,
             -0.9813918035910537,
             -0.6283642594715557,
             0.01868190514554065,
             0.656986598718789
            ],
            [
             0.6569865987187891,
             0.9878799611587925,
             0.8565333107097804,
             0.32440520487226504,
             -0.3595157016872373,
             -0.8752152158553204,
             -0.9813918035910537,
             -0.6283642594715557,
             0.01868190514554065,
             0.656986598718789
            ],
            [
             0.6569865987187891,
             0.9878799611587925,
             0.8565333107097804,
             0.32440520487226504,
             -0.3595157016872373,
             -0.8752152158553204,
             -0.9813918035910537,
             -0.6283642594715557,
             0.01868190514554065,
             0.656986598718789
            ],
            [
             0.6569865987187891,
             0.9878799611587925,
             0.8565333107097804,
             0.32440520487226504,
             -0.3595157016872373,
             -0.8752152158553204,
             -0.9813918035910537,
             -0.6283642594715557,
             0.01868190514554065,
             0.656986598718789
            ],
            [
             0.6569865987187891,
             0.9878799611587925,
             0.8565333107097804,
             0.32440520487226504,
             -0.3595157016872373,
             -0.8752152158553204,
             -0.9813918035910537,
             -0.6283642594715557,
             0.01868190514554065,
             0.656986598718789
            ],
            [
             0.6569865987187891,
             0.9878799611587925,
             0.8565333107097804,
             0.32440520487226504,
             -0.3595157016872373,
             -0.8752152158553204,
             -0.9813918035910537,
             -0.6283642594715557,
             0.01868190514554065,
             0.656986598718789
            ],
            [
             0.6569865987187891,
             0.9878799611587925,
             0.8565333107097804,
             0.32440520487226504,
             -0.3595157016872373,
             -0.8752152158553204,
             -0.9813918035910537,
             -0.6283642594715557,
             0.01868190514554065,
             0.656986598718789
            ],
            [
             0.6569865987187891,
             0.9878799611587925,
             0.8565333107097804,
             0.32440520487226504,
             -0.3595157016872373,
             -0.8752152158553204,
             -0.9813918035910537,
             -0.6283642594715557,
             0.01868190514554065,
             0.656986598718789
            ]
           ]
          }
         ],
         "layout": {
          "title": {
           "text": "Frame: 7"
          }
         }
        },
        {
         "data": [
          {
           "cmax": 1,
           "cmin": 0,
           "colorbar": {
            "title": {
             "text": "Counts"
            }
           },
           "colorscale": [
            [
             0,
             "#440154"
            ],
            [
             0.1111111111111111,
             "#482878"
            ],
            [
             0.2222222222222222,
             "#3e4989"
            ],
            [
             0.3333333333333333,
             "#31688e"
            ],
            [
             0.4444444444444444,
             "#26828e"
            ],
            [
             0.5555555555555556,
             "#1f9e89"
            ],
            [
             0.6666666666666666,
             "#35b779"
            ],
            [
             0.7777777777777778,
             "#6ece58"
            ],
            [
             0.8888888888888888,
             "#b5de2b"
            ],
            [
             1,
             "#fde725"
            ]
           ],
           "opacity": 1,
           "type": "surface",
           "x": [
            [
             0,
             0.1111111111111111,
             0.2222222222222222,
             0.3333333333333333,
             0.4444444444444444,
             0.5555555555555556,
             0.6666666666666666,
             0.7777777777777777,
             0.8888888888888888,
             1
            ],
            [
             0,
             0.1111111111111111,
             0.2222222222222222,
             0.3333333333333333,
             0.4444444444444444,
             0.5555555555555556,
             0.6666666666666666,
             0.7777777777777777,
             0.8888888888888888,
             1
            ],
            [
             0,
             0.1111111111111111,
             0.2222222222222222,
             0.3333333333333333,
             0.4444444444444444,
             0.5555555555555556,
             0.6666666666666666,
             0.7777777777777777,
             0.8888888888888888,
             1
            ],
            [
             0,
             0.1111111111111111,
             0.2222222222222222,
             0.3333333333333333,
             0.4444444444444444,
             0.5555555555555556,
             0.6666666666666666,
             0.7777777777777777,
             0.8888888888888888,
             1
            ],
            [
             0,
             0.1111111111111111,
             0.2222222222222222,
             0.3333333333333333,
             0.4444444444444444,
             0.5555555555555556,
             0.6666666666666666,
             0.7777777777777777,
             0.8888888888888888,
             1
            ],
            [
             0,
             0.1111111111111111,
             0.2222222222222222,
             0.3333333333333333,
             0.4444444444444444,
             0.5555555555555556,
             0.6666666666666666,
             0.7777777777777777,
             0.8888888888888888,
             1
            ],
            [
             0,
             0.1111111111111111,
             0.2222222222222222,
             0.3333333333333333,
             0.4444444444444444,
             0.5555555555555556,
             0.6666666666666666,
             0.7777777777777777,
             0.8888888888888888,
             1
            ],
            [
             0,
             0.1111111111111111,
             0.2222222222222222,
             0.3333333333333333,
             0.4444444444444444,
             0.5555555555555556,
             0.6666666666666666,
             0.7777777777777777,
             0.8888888888888888,
             1
            ],
            [
             0,
             0.1111111111111111,
             0.2222222222222222,
             0.3333333333333333,
             0.4444444444444444,
             0.5555555555555556,
             0.6666666666666666,
             0.7777777777777777,
             0.8888888888888888,
             1
            ],
            [
             0,
             0.1111111111111111,
             0.2222222222222222,
             0.3333333333333333,
             0.4444444444444444,
             0.5555555555555556,
             0.6666666666666666,
             0.7777777777777777,
             0.8888888888888888,
             1
            ]
           ],
           "y": [
            [
             0,
             0,
             0,
             0,
             0,
             0,
             0,
             0,
             0,
             0
            ],
            [
             0.1111111111111111,
             0.1111111111111111,
             0.1111111111111111,
             0.1111111111111111,
             0.1111111111111111,
             0.1111111111111111,
             0.1111111111111111,
             0.1111111111111111,
             0.1111111111111111,
             0.1111111111111111
            ],
            [
             0.2222222222222222,
             0.2222222222222222,
             0.2222222222222222,
             0.2222222222222222,
             0.2222222222222222,
             0.2222222222222222,
             0.2222222222222222,
             0.2222222222222222,
             0.2222222222222222,
             0.2222222222222222
            ],
            [
             0.3333333333333333,
             0.3333333333333333,
             0.3333333333333333,
             0.3333333333333333,
             0.3333333333333333,
             0.3333333333333333,
             0.3333333333333333,
             0.3333333333333333,
             0.3333333333333333,
             0.3333333333333333
            ],
            [
             0.4444444444444444,
             0.4444444444444444,
             0.4444444444444444,
             0.4444444444444444,
             0.4444444444444444,
             0.4444444444444444,
             0.4444444444444444,
             0.4444444444444444,
             0.4444444444444444,
             0.4444444444444444
            ],
            [
             0.5555555555555556,
             0.5555555555555556,
             0.5555555555555556,
             0.5555555555555556,
             0.5555555555555556,
             0.5555555555555556,
             0.5555555555555556,
             0.5555555555555556,
             0.5555555555555556,
             0.5555555555555556
            ],
            [
             0.6666666666666666,
             0.6666666666666666,
             0.6666666666666666,
             0.6666666666666666,
             0.6666666666666666,
             0.6666666666666666,
             0.6666666666666666,
             0.6666666666666666,
             0.6666666666666666,
             0.6666666666666666
            ],
            [
             0.7777777777777777,
             0.7777777777777777,
             0.7777777777777777,
             0.7777777777777777,
             0.7777777777777777,
             0.7777777777777777,
             0.7777777777777777,
             0.7777777777777777,
             0.7777777777777777,
             0.7777777777777777
            ],
            [
             0.8888888888888888,
             0.8888888888888888,
             0.8888888888888888,
             0.8888888888888888,
             0.8888888888888888,
             0.8888888888888888,
             0.8888888888888888,
             0.8888888888888888,
             0.8888888888888888,
             0.8888888888888888
            ],
            [
             1,
             1,
             1,
             1,
             1,
             1,
             1,
             1,
             1,
             1
            ]
           ],
           "z": [
            [
             0.9893582466233818,
             0.6643667681386283,
             0.028510695227638556,
             -0.6206858488414444,
             -0.9794565860827884,
             -0.8799287012485654,
             -0.36867239778193817,
             0.3150898179441603,
             0.8514180060209267,
             0.9893582466233818
            ],
            [
             0.9893582466233818,
             0.6643667681386283,
             0.028510695227638556,
             -0.6206858488414444,
             -0.9794565860827884,
             -0.8799287012485654,
             -0.36867239778193817,
             0.3150898179441603,
             0.8514180060209267,
             0.9893582466233818
            ],
            [
             0.9893582466233818,
             0.6643667681386283,
             0.028510695227638556,
             -0.6206858488414444,
             -0.9794565860827884,
             -0.8799287012485654,
             -0.36867239778193817,
             0.3150898179441603,
             0.8514180060209267,
             0.9893582466233818
            ],
            [
             0.9893582466233818,
             0.6643667681386283,
             0.028510695227638556,
             -0.6206858488414444,
             -0.9794565860827884,
             -0.8799287012485654,
             -0.36867239778193817,
             0.3150898179441603,
             0.8514180060209267,
             0.9893582466233818
            ],
            [
             0.9893582466233818,
             0.6643667681386283,
             0.028510695227638556,
             -0.6206858488414444,
             -0.9794565860827884,
             -0.8799287012485654,
             -0.36867239778193817,
             0.3150898179441603,
             0.8514180060209267,
             0.9893582466233818
            ],
            [
             0.9893582466233818,
             0.6643667681386283,
             0.028510695227638556,
             -0.6206858488414444,
             -0.9794565860827884,
             -0.8799287012485654,
             -0.36867239778193817,
             0.3150898179441603,
             0.8514180060209267,
             0.9893582466233818
            ],
            [
             0.9893582466233818,
             0.6643667681386283,
             0.028510695227638556,
             -0.6206858488414444,
             -0.9794565860827884,
             -0.8799287012485654,
             -0.36867239778193817,
             0.3150898179441603,
             0.8514180060209267,
             0.9893582466233818
            ],
            [
             0.9893582466233818,
             0.6643667681386283,
             0.028510695227638556,
             -0.6206858488414444,
             -0.9794565860827884,
             -0.8799287012485654,
             -0.36867239778193817,
             0.3150898179441603,
             0.8514180060209267,
             0.9893582466233818
            ],
            [
             0.9893582466233818,
             0.6643667681386283,
             0.028510695227638556,
             -0.6206858488414444,
             -0.9794565860827884,
             -0.8799287012485654,
             -0.36867239778193817,
             0.3150898179441603,
             0.8514180060209267,
             0.9893582466233818
            ],
            [
             0.9893582466233818,
             0.6643667681386283,
             0.028510695227638556,
             -0.6206858488414444,
             -0.9794565860827884,
             -0.8799287012485654,
             -0.36867239778193817,
             0.3150898179441603,
             0.8514180060209267,
             0.9893582466233818
            ]
           ]
          }
         ],
         "layout": {
          "title": {
           "text": "Frame: 8"
          }
         }
        },
        {
         "data": [
          {
           "cmax": 1,
           "cmin": 0,
           "colorbar": {
            "title": {
             "text": "Counts"
            }
           },
           "colorscale": [
            [
             0,
             "#440154"
            ],
            [
             0.1111111111111111,
             "#482878"
            ],
            [
             0.2222222222222222,
             "#3e4989"
            ],
            [
             0.3333333333333333,
             "#31688e"
            ],
            [
             0.4444444444444444,
             "#26828e"
            ],
            [
             0.5555555555555556,
             "#1f9e89"
            ],
            [
             0.6666666666666666,
             "#35b779"
            ],
            [
             0.7777777777777778,
             "#6ece58"
            ],
            [
             0.8888888888888888,
             "#b5de2b"
            ],
            [
             1,
             "#fde725"
            ]
           ],
           "opacity": 1,
           "type": "surface",
           "x": [
            [
             0,
             0.1111111111111111,
             0.2222222222222222,
             0.3333333333333333,
             0.4444444444444444,
             0.5555555555555556,
             0.6666666666666666,
             0.7777777777777777,
             0.8888888888888888,
             1
            ],
            [
             0,
             0.1111111111111111,
             0.2222222222222222,
             0.3333333333333333,
             0.4444444444444444,
             0.5555555555555556,
             0.6666666666666666,
             0.7777777777777777,
             0.8888888888888888,
             1
            ],
            [
             0,
             0.1111111111111111,
             0.2222222222222222,
             0.3333333333333333,
             0.4444444444444444,
             0.5555555555555556,
             0.6666666666666666,
             0.7777777777777777,
             0.8888888888888888,
             1
            ],
            [
             0,
             0.1111111111111111,
             0.2222222222222222,
             0.3333333333333333,
             0.4444444444444444,
             0.5555555555555556,
             0.6666666666666666,
             0.7777777777777777,
             0.8888888888888888,
             1
            ],
            [
             0,
             0.1111111111111111,
             0.2222222222222222,
             0.3333333333333333,
             0.4444444444444444,
             0.5555555555555556,
             0.6666666666666666,
             0.7777777777777777,
             0.8888888888888888,
             1
            ],
            [
             0,
             0.1111111111111111,
             0.2222222222222222,
             0.3333333333333333,
             0.4444444444444444,
             0.5555555555555556,
             0.6666666666666666,
             0.7777777777777777,
             0.8888888888888888,
             1
            ],
            [
             0,
             0.1111111111111111,
             0.2222222222222222,
             0.3333333333333333,
             0.4444444444444444,
             0.5555555555555556,
             0.6666666666666666,
             0.7777777777777777,
             0.8888888888888888,
             1
            ],
            [
             0,
             0.1111111111111111,
             0.2222222222222222,
             0.3333333333333333,
             0.4444444444444444,
             0.5555555555555556,
             0.6666666666666666,
             0.7777777777777777,
             0.8888888888888888,
             1
            ],
            [
             0,
             0.1111111111111111,
             0.2222222222222222,
             0.3333333333333333,
             0.4444444444444444,
             0.5555555555555556,
             0.6666666666666666,
             0.7777777777777777,
             0.8888888888888888,
             1
            ],
            [
             0,
             0.1111111111111111,
             0.2222222222222222,
             0.3333333333333333,
             0.4444444444444444,
             0.5555555555555556,
             0.6666666666666666,
             0.7777777777777777,
             0.8888888888888888,
             1
            ]
           ],
           "y": [
            [
             0,
             0,
             0,
             0,
             0,
             0,
             0,
             0,
             0,
             0
            ],
            [
             0.1111111111111111,
             0.1111111111111111,
             0.1111111111111111,
             0.1111111111111111,
             0.1111111111111111,
             0.1111111111111111,
             0.1111111111111111,
             0.1111111111111111,
             0.1111111111111111,
             0.1111111111111111
            ],
            [
             0.2222222222222222,
             0.2222222222222222,
             0.2222222222222222,
             0.2222222222222222,
             0.2222222222222222,
             0.2222222222222222,
             0.2222222222222222,
             0.2222222222222222,
             0.2222222222222222,
             0.2222222222222222
            ],
            [
             0.3333333333333333,
             0.3333333333333333,
             0.3333333333333333,
             0.3333333333333333,
             0.3333333333333333,
             0.3333333333333333,
             0.3333333333333333,
             0.3333333333333333,
             0.3333333333333333,
             0.3333333333333333
            ],
            [
             0.4444444444444444,
             0.4444444444444444,
             0.4444444444444444,
             0.4444444444444444,
             0.4444444444444444,
             0.4444444444444444,
             0.4444444444444444,
             0.4444444444444444,
             0.4444444444444444,
             0.4444444444444444
            ],
            [
             0.5555555555555556,
             0.5555555555555556,
             0.5555555555555556,
             0.5555555555555556,
             0.5555555555555556,
             0.5555555555555556,
             0.5555555555555556,
             0.5555555555555556,
             0.5555555555555556,
             0.5555555555555556
            ],
            [
             0.6666666666666666,
             0.6666666666666666,
             0.6666666666666666,
             0.6666666666666666,
             0.6666666666666666,
             0.6666666666666666,
             0.6666666666666666,
             0.6666666666666666,
             0.6666666666666666,
             0.6666666666666666
            ],
            [
             0.7777777777777777,
             0.7777777777777777,
             0.7777777777777777,
             0.7777777777777777,
             0.7777777777777777,
             0.7777777777777777,
             0.7777777777777777,
             0.7777777777777777,
             0.7777777777777777,
             0.7777777777777777
            ],
            [
             0.8888888888888888,
             0.8888888888888888,
             0.8888888888888888,
             0.8888888888888888,
             0.8888888888888888,
             0.8888888888888888,
             0.8888888888888888,
             0.8888888888888888,
             0.8888888888888888,
             0.8888888888888888
            ],
            [
             1,
             1,
             1,
             1,
             1,
             1,
             1,
             1,
             1,
             1
            ]
           ],
           "z": [
            [
             0.4121184852417566,
             -0.26996216762386316,
             -0.8257245219629867,
             -0.9951211955697771,
             -0.6988896022292961,
             -0.07563979671299416,
             0.5830027103280193,
             0.9688517698531601,
             0.90136431867598,
             0.4121184852417568
            ],
            [
             0.4121184852417566,
             -0.26996216762386316,
             -0.8257245219629867,
             -0.9951211955697771,
             -0.6988896022292961,
             -0.07563979671299416,
             0.5830027103280193,
             0.9688517698531601,
             0.90136431867598,
             0.4121184852417568
            ],
            [
             0.4121184852417566,
             -0.26996216762386316,
             -0.8257245219629867,
             -0.9951211955697771,
             -0.6988896022292961,
             -0.07563979671299416,
             0.5830027103280193,
             0.9688517698531601,
             0.90136431867598,
             0.4121184852417568
            ],
            [
             0.4121184852417566,
             -0.26996216762386316,
             -0.8257245219629867,
             -0.9951211955697771,
             -0.6988896022292961,
             -0.07563979671299416,
             0.5830027103280193,
             0.9688517698531601,
             0.90136431867598,
             0.4121184852417568
            ],
            [
             0.4121184852417566,
             -0.26996216762386316,
             -0.8257245219629867,
             -0.9951211955697771,
             -0.6988896022292961,
             -0.07563979671299416,
             0.5830027103280193,
             0.9688517698531601,
             0.90136431867598,
             0.4121184852417568
            ],
            [
             0.4121184852417566,
             -0.26996216762386316,
             -0.8257245219629867,
             -0.9951211955697771,
             -0.6988896022292961,
             -0.07563979671299416,
             0.5830027103280193,
             0.9688517698531601,
             0.90136431867598,
             0.4121184852417568
            ],
            [
             0.4121184852417566,
             -0.26996216762386316,
             -0.8257245219629867,
             -0.9951211955697771,
             -0.6988896022292961,
             -0.07563979671299416,
             0.5830027103280193,
             0.9688517698531601,
             0.90136431867598,
             0.4121184852417568
            ],
            [
             0.4121184852417566,
             -0.26996216762386316,
             -0.8257245219629867,
             -0.9951211955697771,
             -0.6988896022292961,
             -0.07563979671299416,
             0.5830027103280193,
             0.9688517698531601,
             0.90136431867598,
             0.4121184852417568
            ],
            [
             0.4121184852417566,
             -0.26996216762386316,
             -0.8257245219629867,
             -0.9951211955697771,
             -0.6988896022292961,
             -0.07563979671299416,
             0.5830027103280193,
             0.9688517698531601,
             0.90136431867598,
             0.4121184852417568
            ],
            [
             0.4121184852417566,
             -0.26996216762386316,
             -0.8257245219629867,
             -0.9951211955697771,
             -0.6988896022292961,
             -0.07563979671299416,
             0.5830027103280193,
             0.9688517698531601,
             0.90136431867598,
             0.4121184852417568
            ]
           ]
          }
         ],
         "layout": {
          "title": {
           "text": "Frame: 9"
          }
         }
        }
       ],
       "layout": {
        "autosize": false,
        "height": 800,
        "margin": {
         "b": 65,
         "l": 65,
         "r": 50,
         "t": 90
        },
        "paper_bgcolor": "rgba(0,0,0,0)",
        "plot_bgcolor": "rgba(0,0,0,0)",
        "scene": {
         "aspectratio": {
          "x": 0.54,
          "y": 0.54,
          "z": 0.3375
         },
         "camera": {
          "eye": {
           "x": 0.1,
           "y": 0.4,
           "z": 0.25
          }
         },
         "xaxis": {
          "nticks": 20
         },
         "zaxis": {
          "nticks": 4
         }
        },
        "template": {
         "data": {
          "bar": [
           {
            "error_x": {
             "color": "#2a3f5f"
            },
            "error_y": {
             "color": "#2a3f5f"
            },
            "marker": {
             "line": {
              "color": "#E5ECF6",
              "width": 0.5
             },
             "pattern": {
              "fillmode": "overlay",
              "size": 10,
              "solidity": 0.2
             }
            },
            "type": "bar"
           }
          ],
          "barpolar": [
           {
            "marker": {
             "line": {
              "color": "#E5ECF6",
              "width": 0.5
             },
             "pattern": {
              "fillmode": "overlay",
              "size": 10,
              "solidity": 0.2
             }
            },
            "type": "barpolar"
           }
          ],
          "carpet": [
           {
            "aaxis": {
             "endlinecolor": "#2a3f5f",
             "gridcolor": "white",
             "linecolor": "white",
             "minorgridcolor": "white",
             "startlinecolor": "#2a3f5f"
            },
            "baxis": {
             "endlinecolor": "#2a3f5f",
             "gridcolor": "white",
             "linecolor": "white",
             "minorgridcolor": "white",
             "startlinecolor": "#2a3f5f"
            },
            "type": "carpet"
           }
          ],
          "choropleth": [
           {
            "colorbar": {
             "outlinewidth": 0,
             "ticks": ""
            },
            "type": "choropleth"
           }
          ],
          "contour": [
           {
            "colorbar": {
             "outlinewidth": 0,
             "ticks": ""
            },
            "colorscale": [
             [
              0,
              "#0d0887"
             ],
             [
              0.1111111111111111,
              "#46039f"
             ],
             [
              0.2222222222222222,
              "#7201a8"
             ],
             [
              0.3333333333333333,
              "#9c179e"
             ],
             [
              0.4444444444444444,
              "#bd3786"
             ],
             [
              0.5555555555555556,
              "#d8576b"
             ],
             [
              0.6666666666666666,
              "#ed7953"
             ],
             [
              0.7777777777777778,
              "#fb9f3a"
             ],
             [
              0.8888888888888888,
              "#fdca26"
             ],
             [
              1,
              "#f0f921"
             ]
            ],
            "type": "contour"
           }
          ],
          "contourcarpet": [
           {
            "colorbar": {
             "outlinewidth": 0,
             "ticks": ""
            },
            "type": "contourcarpet"
           }
          ],
          "heatmap": [
           {
            "colorbar": {
             "outlinewidth": 0,
             "ticks": ""
            },
            "colorscale": [
             [
              0,
              "#0d0887"
             ],
             [
              0.1111111111111111,
              "#46039f"
             ],
             [
              0.2222222222222222,
              "#7201a8"
             ],
             [
              0.3333333333333333,
              "#9c179e"
             ],
             [
              0.4444444444444444,
              "#bd3786"
             ],
             [
              0.5555555555555556,
              "#d8576b"
             ],
             [
              0.6666666666666666,
              "#ed7953"
             ],
             [
              0.7777777777777778,
              "#fb9f3a"
             ],
             [
              0.8888888888888888,
              "#fdca26"
             ],
             [
              1,
              "#f0f921"
             ]
            ],
            "type": "heatmap"
           }
          ],
          "heatmapgl": [
           {
            "colorbar": {
             "outlinewidth": 0,
             "ticks": ""
            },
            "colorscale": [
             [
              0,
              "#0d0887"
             ],
             [
              0.1111111111111111,
              "#46039f"
             ],
             [
              0.2222222222222222,
              "#7201a8"
             ],
             [
              0.3333333333333333,
              "#9c179e"
             ],
             [
              0.4444444444444444,
              "#bd3786"
             ],
             [
              0.5555555555555556,
              "#d8576b"
             ],
             [
              0.6666666666666666,
              "#ed7953"
             ],
             [
              0.7777777777777778,
              "#fb9f3a"
             ],
             [
              0.8888888888888888,
              "#fdca26"
             ],
             [
              1,
              "#f0f921"
             ]
            ],
            "type": "heatmapgl"
           }
          ],
          "histogram": [
           {
            "marker": {
             "pattern": {
              "fillmode": "overlay",
              "size": 10,
              "solidity": 0.2
             }
            },
            "type": "histogram"
           }
          ],
          "histogram2d": [
           {
            "colorbar": {
             "outlinewidth": 0,
             "ticks": ""
            },
            "colorscale": [
             [
              0,
              "#0d0887"
             ],
             [
              0.1111111111111111,
              "#46039f"
             ],
             [
              0.2222222222222222,
              "#7201a8"
             ],
             [
              0.3333333333333333,
              "#9c179e"
             ],
             [
              0.4444444444444444,
              "#bd3786"
             ],
             [
              0.5555555555555556,
              "#d8576b"
             ],
             [
              0.6666666666666666,
              "#ed7953"
             ],
             [
              0.7777777777777778,
              "#fb9f3a"
             ],
             [
              0.8888888888888888,
              "#fdca26"
             ],
             [
              1,
              "#f0f921"
             ]
            ],
            "type": "histogram2d"
           }
          ],
          "histogram2dcontour": [
           {
            "colorbar": {
             "outlinewidth": 0,
             "ticks": ""
            },
            "colorscale": [
             [
              0,
              "#0d0887"
             ],
             [
              0.1111111111111111,
              "#46039f"
             ],
             [
              0.2222222222222222,
              "#7201a8"
             ],
             [
              0.3333333333333333,
              "#9c179e"
             ],
             [
              0.4444444444444444,
              "#bd3786"
             ],
             [
              0.5555555555555556,
              "#d8576b"
             ],
             [
              0.6666666666666666,
              "#ed7953"
             ],
             [
              0.7777777777777778,
              "#fb9f3a"
             ],
             [
              0.8888888888888888,
              "#fdca26"
             ],
             [
              1,
              "#f0f921"
             ]
            ],
            "type": "histogram2dcontour"
           }
          ],
          "mesh3d": [
           {
            "colorbar": {
             "outlinewidth": 0,
             "ticks": ""
            },
            "type": "mesh3d"
           }
          ],
          "parcoords": [
           {
            "line": {
             "colorbar": {
              "outlinewidth": 0,
              "ticks": ""
             }
            },
            "type": "parcoords"
           }
          ],
          "pie": [
           {
            "automargin": true,
            "type": "pie"
           }
          ],
          "scatter": [
           {
            "fillpattern": {
             "fillmode": "overlay",
             "size": 10,
             "solidity": 0.2
            },
            "type": "scatter"
           }
          ],
          "scatter3d": [
           {
            "line": {
             "colorbar": {
              "outlinewidth": 0,
              "ticks": ""
             }
            },
            "marker": {
             "colorbar": {
              "outlinewidth": 0,
              "ticks": ""
             }
            },
            "type": "scatter3d"
           }
          ],
          "scattercarpet": [
           {
            "marker": {
             "colorbar": {
              "outlinewidth": 0,
              "ticks": ""
             }
            },
            "type": "scattercarpet"
           }
          ],
          "scattergeo": [
           {
            "marker": {
             "colorbar": {
              "outlinewidth": 0,
              "ticks": ""
             }
            },
            "type": "scattergeo"
           }
          ],
          "scattergl": [
           {
            "marker": {
             "colorbar": {
              "outlinewidth": 0,
              "ticks": ""
             }
            },
            "type": "scattergl"
           }
          ],
          "scattermapbox": [
           {
            "marker": {
             "colorbar": {
              "outlinewidth": 0,
              "ticks": ""
             }
            },
            "type": "scattermapbox"
           }
          ],
          "scatterpolar": [
           {
            "marker": {
             "colorbar": {
              "outlinewidth": 0,
              "ticks": ""
             }
            },
            "type": "scatterpolar"
           }
          ],
          "scatterpolargl": [
           {
            "marker": {
             "colorbar": {
              "outlinewidth": 0,
              "ticks": ""
             }
            },
            "type": "scatterpolargl"
           }
          ],
          "scatterternary": [
           {
            "marker": {
             "colorbar": {
              "outlinewidth": 0,
              "ticks": ""
             }
            },
            "type": "scatterternary"
           }
          ],
          "surface": [
           {
            "colorbar": {
             "outlinewidth": 0,
             "ticks": ""
            },
            "colorscale": [
             [
              0,
              "#0d0887"
             ],
             [
              0.1111111111111111,
              "#46039f"
             ],
             [
              0.2222222222222222,
              "#7201a8"
             ],
             [
              0.3333333333333333,
              "#9c179e"
             ],
             [
              0.4444444444444444,
              "#bd3786"
             ],
             [
              0.5555555555555556,
              "#d8576b"
             ],
             [
              0.6666666666666666,
              "#ed7953"
             ],
             [
              0.7777777777777778,
              "#fb9f3a"
             ],
             [
              0.8888888888888888,
              "#fdca26"
             ],
             [
              1,
              "#f0f921"
             ]
            ],
            "type": "surface"
           }
          ],
          "table": [
           {
            "cells": {
             "fill": {
              "color": "#EBF0F8"
             },
             "line": {
              "color": "white"
             }
            },
            "header": {
             "fill": {
              "color": "#C8D4E3"
             },
             "line": {
              "color": "white"
             }
            },
            "type": "table"
           }
          ]
         },
         "layout": {
          "annotationdefaults": {
           "arrowcolor": "#2a3f5f",
           "arrowhead": 0,
           "arrowwidth": 1
          },
          "autotypenumbers": "strict",
          "coloraxis": {
           "colorbar": {
            "outlinewidth": 0,
            "ticks": ""
           }
          },
          "colorscale": {
           "diverging": [
            [
             0,
             "#8e0152"
            ],
            [
             0.1,
             "#c51b7d"
            ],
            [
             0.2,
             "#de77ae"
            ],
            [
             0.3,
             "#f1b6da"
            ],
            [
             0.4,
             "#fde0ef"
            ],
            [
             0.5,
             "#f7f7f7"
            ],
            [
             0.6,
             "#e6f5d0"
            ],
            [
             0.7,
             "#b8e186"
            ],
            [
             0.8,
             "#7fbc41"
            ],
            [
             0.9,
             "#4d9221"
            ],
            [
             1,
             "#276419"
            ]
           ],
           "sequential": [
            [
             0,
             "#0d0887"
            ],
            [
             0.1111111111111111,
             "#46039f"
            ],
            [
             0.2222222222222222,
             "#7201a8"
            ],
            [
             0.3333333333333333,
             "#9c179e"
            ],
            [
             0.4444444444444444,
             "#bd3786"
            ],
            [
             0.5555555555555556,
             "#d8576b"
            ],
            [
             0.6666666666666666,
             "#ed7953"
            ],
            [
             0.7777777777777778,
             "#fb9f3a"
            ],
            [
             0.8888888888888888,
             "#fdca26"
            ],
            [
             1,
             "#f0f921"
            ]
           ],
           "sequentialminus": [
            [
             0,
             "#0d0887"
            ],
            [
             0.1111111111111111,
             "#46039f"
            ],
            [
             0.2222222222222222,
             "#7201a8"
            ],
            [
             0.3333333333333333,
             "#9c179e"
            ],
            [
             0.4444444444444444,
             "#bd3786"
            ],
            [
             0.5555555555555556,
             "#d8576b"
            ],
            [
             0.6666666666666666,
             "#ed7953"
            ],
            [
             0.7777777777777778,
             "#fb9f3a"
            ],
            [
             0.8888888888888888,
             "#fdca26"
            ],
            [
             1,
             "#f0f921"
            ]
           ]
          },
          "colorway": [
           "#636efa",
           "#EF553B",
           "#00cc96",
           "#ab63fa",
           "#FFA15A",
           "#19d3f3",
           "#FF6692",
           "#B6E880",
           "#FF97FF",
           "#FECB52"
          ],
          "font": {
           "color": "#2a3f5f"
          },
          "geo": {
           "bgcolor": "white",
           "lakecolor": "white",
           "landcolor": "#E5ECF6",
           "showlakes": true,
           "showland": true,
           "subunitcolor": "white"
          },
          "hoverlabel": {
           "align": "left"
          },
          "hovermode": "closest",
          "mapbox": {
           "style": "light"
          },
          "paper_bgcolor": "white",
          "plot_bgcolor": "#E5ECF6",
          "polar": {
           "angularaxis": {
            "gridcolor": "white",
            "linecolor": "white",
            "ticks": ""
           },
           "bgcolor": "#E5ECF6",
           "radialaxis": {
            "gridcolor": "white",
            "linecolor": "white",
            "ticks": ""
           }
          },
          "scene": {
           "xaxis": {
            "backgroundcolor": "#E5ECF6",
            "gridcolor": "white",
            "gridwidth": 2,
            "linecolor": "white",
            "showbackground": true,
            "ticks": "",
            "zerolinecolor": "white"
           },
           "yaxis": {
            "backgroundcolor": "#E5ECF6",
            "gridcolor": "white",
            "gridwidth": 2,
            "linecolor": "white",
            "showbackground": true,
            "ticks": "",
            "zerolinecolor": "white"
           },
           "zaxis": {
            "backgroundcolor": "#E5ECF6",
            "gridcolor": "white",
            "gridwidth": 2,
            "linecolor": "white",
            "showbackground": true,
            "ticks": "",
            "zerolinecolor": "white"
           }
          },
          "shapedefaults": {
           "line": {
            "color": "#2a3f5f"
           }
          },
          "ternary": {
           "aaxis": {
            "gridcolor": "white",
            "linecolor": "white",
            "ticks": ""
           },
           "baxis": {
            "gridcolor": "white",
            "linecolor": "white",
            "ticks": ""
           },
           "bgcolor": "#E5ECF6",
           "caxis": {
            "gridcolor": "white",
            "linecolor": "white",
            "ticks": ""
           }
          },
          "title": {
           "x": 0.05
          },
          "xaxis": {
           "automargin": true,
           "gridcolor": "white",
           "linecolor": "white",
           "ticks": "",
           "title": {
            "standoff": 15
           },
           "zerolinecolor": "white",
           "zerolinewidth": 2
          },
          "yaxis": {
           "automargin": true,
           "gridcolor": "white",
           "linecolor": "white",
           "ticks": "",
           "title": {
            "standoff": 15
           },
           "zerolinecolor": "white",
           "zerolinewidth": 2
          }
         }
        },
        "updatemenus": [
         {
          "buttons": [
           {
            "args": [
             null,
             {
              "frame": {
               "duration": 500,
               "redraw": true
              },
              "fromcurrent": true,
              "transition": {
               "duration": 0
              }
             }
            ],
            "label": "Play",
            "method": "animate"
           }
          ],
          "type": "buttons"
         }
        ],
        "width": 800
       }
      }
     },
     "metadata": {},
     "output_type": "display_data"
    }
   ],
   "source": [
    "import plotly.graph_objects as go\n",
    "from plotly.graph_objs import *\n",
    "import numpy as np\n",
    "\n",
    "n = 100\n",
    "x = np.linspace(0, 1, n)\n",
    "y = np.linspace(0, 1, n)\n",
    "z = np.sin(x ** 2 + y ** 2)\n",
    "#data =  np.random.rand(10, 10, 10)\n",
    "\n",
    "steps = 10\n",
    "fr = np.arange(steps)\n",
    "\n",
    "layout = go.Layout(\n",
    "    paper_bgcolor='rgba(0,0,0,0)',\n",
    "    plot_bgcolor='rgba(0,0,0,0)',\n",
    "    sliders=[{\n",
    "        \"active\": 0,\n",
    "        \"steps\": [{\"args\": [[f], {\"frame\": {\"duration\": 300, \"redraw\": True}, \"mode\": \"immediate\", \"transition\": {\"duration\": 300}}],\n",
    "                   \"label\": f,\n",
    "                   \"method\": \"animate\"} for f in fr.tolist()],\n",
    "        \"currentvalue\": {\"visible\": True, \"prefix\": \"Frame: \"},\n",
    "        \"transition\": {\"duration\": 300, \"easing\": \"cubic-in-out\"},\n",
    "        \"x\": 0,\n",
    "        \"y\": 0,\n",
    "        \"len\": 1\n",
    "                }]\n",
    ")\n",
    "\n",
    "fig = go.Figure(layout=layout)\n",
    "\n",
    "fig = go.Figure(layout=layout)\n",
    "\n",
    "frames = []\n",
    "\n",
    "X, Y = np.meshgrid(x, y)\n",
    "\n",
    "for i in range(steps):\n",
    "    z = np.sin(X*6*np.pi + i/3) + np.cos(Y*6*np.pi + i/3)\n",
    "    \n",
    "    trace = go.Surface(\n",
    "        z=z,\n",
    "        x=X,\n",
    "        y=Y,\n",
    "        opacity=1,\n",
    "        colorscale=\"Viridis\",\n",
    "        colorbar=dict(title=\"Counts\"),\n",
    "        cmin=0,\n",
    "        cmax=1\n",
    "    )\n",
    "    \n",
    "    frame = go.Frame(data=[trace], layout=go.Layout(title=f\"Frame: {fr[i]}\"))\n",
    "    frames.append(frame)\n",
    "    \n",
    "    #fig.add_trace(trace)\n",
    "    #fig.frames = frames\n",
    "\n",
    "fig.add_trace(frames[0]['data'][0])\n",
    "fig.frames = frames\n",
    "\n",
    "\n",
    "fig.update_layout(\n",
    "    autosize=False,\n",
    "    width=800,\n",
    "    height=800,\n",
    "    margin=dict(l=65, r=50, b=65, t=90)\n",
    ")\n",
    "\n",
    "zoom = 1.35\n",
    "\n",
    "fig.update_layout(\n",
    "    scene={\n",
    "        \"xaxis\": {\"nticks\": 20},\n",
    "        \"zaxis\": {\"nticks\": 4},\n",
    "        \"camera_eye\": {\"x\": 0.1, \"y\": 0.4, \"z\": 0.25},\n",
    "        \"aspectratio\": {\"x\": 0.4 * zoom, \"y\": 0.4 * zoom, \"z\": 0.25 * zoom}\n",
    "    }\n",
    ")\n",
    "\n",
    "fig.update_layout(\n",
    "    updatemenus=[\n",
    "        {\n",
    "            \"buttons\": [\n",
    "                {\n",
    "                    \"args\": [None, {\"frame\": {\"duration\": 500, \"redraw\": True}, \"fromcurrent\": True}],\n",
    "                    \"label\": \"Play\",\n",
    "                    \"method\": \"animate\"\n",
    "                },\n",
    "                {\n",
    "                    \"args\": [[None], {\"frame\": {\"duration\": 0, \"redraw\": True}, \"mode\": \"immediate\", \"transition\": {\"duration\": 0}}],\n",
    "                    \"label\": \"Pause\",\n",
    "                    \"method\": \"animate\"\n",
    "                }\n",
    "            ],\n",
    "            \"direction\": \"left\",\n",
    "            \"pad\": {\"r\": 10, \"t\": 87},\n",
    "            \"showactive\": False,\n",
    "            \"type\": \"buttons\",\n",
    "            \"x\": 0.1,\n",
    "            \"xanchor\": \"right\",\n",
    "            \"y\": 0,\n",
    "            \"yanchor\": \"top\"\n",
    "        }\n",
    "    ]\n",
    ")\n",
    "\n",
    "\n",
    "fig.show()\n"
   ]
  },
  {
   "cell_type": "code",
   "execution_count": 83,
   "metadata": {},
   "outputs": [
    {
     "data": {
      "text/html": [
       "<pre style=\"white-space:pre;overflow-x:auto;line-height:normal;font-family:Menlo,'DejaVu Sans Mono',consolas,'Courier New',monospace\"></pre>\n"
      ],
      "text/plain": []
     },
     "metadata": {},
     "output_type": "display_data"
    },
    {
     "data": {
      "text/html": [
       "<div>\n",
       "<style scoped>\n",
       "    .dataframe tbody tr th:only-of-type {\n",
       "        vertical-align: middle;\n",
       "    }\n",
       "\n",
       "    .dataframe tbody tr th {\n",
       "        vertical-align: top;\n",
       "    }\n",
       "\n",
       "    .dataframe thead tr th {\n",
       "        text-align: left;\n",
       "    }\n",
       "\n",
       "    .dataframe thead tr:last-of-type th {\n",
       "        text-align: right;\n",
       "    }\n",
       "</style>\n",
       "<table border=\"1\" class=\"dataframe\">\n",
       "  <thead>\n",
       "    <tr>\n",
       "      <th></th>\n",
       "      <th colspan=\"8\" halign=\"left\">x</th>\n",
       "      <th colspan=\"2\" halign=\"left\">y</th>\n",
       "      <th>...</th>\n",
       "      <th colspan=\"2\" halign=\"left\">y_hat1</th>\n",
       "      <th colspan=\"8\" halign=\"left\">std1</th>\n",
       "    </tr>\n",
       "    <tr>\n",
       "      <th></th>\n",
       "      <th>count</th>\n",
       "      <th>mean</th>\n",
       "      <th>std</th>\n",
       "      <th>min</th>\n",
       "      <th>25%</th>\n",
       "      <th>50%</th>\n",
       "      <th>75%</th>\n",
       "      <th>max</th>\n",
       "      <th>count</th>\n",
       "      <th>mean</th>\n",
       "      <th>...</th>\n",
       "      <th>75%</th>\n",
       "      <th>max</th>\n",
       "      <th>count</th>\n",
       "      <th>mean</th>\n",
       "      <th>std</th>\n",
       "      <th>min</th>\n",
       "      <th>25%</th>\n",
       "      <th>50%</th>\n",
       "      <th>75%</th>\n",
       "      <th>max</th>\n",
       "    </tr>\n",
       "    <tr>\n",
       "      <th>step</th>\n",
       "      <th></th>\n",
       "      <th></th>\n",
       "      <th></th>\n",
       "      <th></th>\n",
       "      <th></th>\n",
       "      <th></th>\n",
       "      <th></th>\n",
       "      <th></th>\n",
       "      <th></th>\n",
       "      <th></th>\n",
       "      <th></th>\n",
       "      <th></th>\n",
       "      <th></th>\n",
       "      <th></th>\n",
       "      <th></th>\n",
       "      <th></th>\n",
       "      <th></th>\n",
       "      <th></th>\n",
       "      <th></th>\n",
       "      <th></th>\n",
       "      <th></th>\n",
       "    </tr>\n",
       "  </thead>\n",
       "  <tbody>\n",
       "    <tr>\n",
       "      <th>0.0</th>\n",
       "      <td>100.0</td>\n",
       "      <td>0.5</td>\n",
       "      <td>0.32075</td>\n",
       "      <td>0.0</td>\n",
       "      <td>0.222222</td>\n",
       "      <td>0.5</td>\n",
       "      <td>0.777778</td>\n",
       "      <td>1.0</td>\n",
       "      <td>100.0</td>\n",
       "      <td>0.5</td>\n",
       "      <td>...</td>\n",
       "      <td>1.246454</td>\n",
       "      <td>1.333333</td>\n",
       "      <td>100.0</td>\n",
       "      <td>0.994572</td>\n",
       "      <td>0.000801</td>\n",
       "      <td>0.993031</td>\n",
       "      <td>0.993913</td>\n",
       "      <td>0.994573</td>\n",
       "      <td>0.995277</td>\n",
       "      <td>0.996086</td>\n",
       "    </tr>\n",
       "    <tr>\n",
       "      <th>0.5</th>\n",
       "      <td>100.0</td>\n",
       "      <td>0.5</td>\n",
       "      <td>0.32075</td>\n",
       "      <td>0.0</td>\n",
       "      <td>0.222222</td>\n",
       "      <td>0.5</td>\n",
       "      <td>0.777778</td>\n",
       "      <td>1.0</td>\n",
       "      <td>100.0</td>\n",
       "      <td>0.5</td>\n",
       "      <td>...</td>\n",
       "      <td>1.586292</td>\n",
       "      <td>1.729730</td>\n",
       "      <td>100.0</td>\n",
       "      <td>0.991412</td>\n",
       "      <td>0.001587</td>\n",
       "      <td>0.988244</td>\n",
       "      <td>0.990122</td>\n",
       "      <td>0.991457</td>\n",
       "      <td>0.992814</td>\n",
       "      <td>0.994288</td>\n",
       "    </tr>\n",
       "    <tr>\n",
       "      <th>1.0</th>\n",
       "      <td>100.0</td>\n",
       "      <td>0.5</td>\n",
       "      <td>0.32075</td>\n",
       "      <td>0.0</td>\n",
       "      <td>0.222222</td>\n",
       "      <td>0.5</td>\n",
       "      <td>0.777778</td>\n",
       "      <td>1.0</td>\n",
       "      <td>100.0</td>\n",
       "      <td>0.5</td>\n",
       "      <td>...</td>\n",
       "      <td>2.041750</td>\n",
       "      <td>2.285714</td>\n",
       "      <td>100.0</td>\n",
       "      <td>0.986153</td>\n",
       "      <td>0.003236</td>\n",
       "      <td>0.979379</td>\n",
       "      <td>0.983581</td>\n",
       "      <td>0.986363</td>\n",
       "      <td>0.989016</td>\n",
       "      <td>0.991701</td>\n",
       "    </tr>\n",
       "  </tbody>\n",
       "</table>\n",
       "<p>3 rows × 48 columns</p>\n",
       "</div>"
      ],
      "text/plain": [
       "\n",
       "          x                                                       y       \u001b[33m...\u001b[0m  \\\n",
       "      count mean      std  min       \u001b[1;36m25\u001b[0m%  \u001b[1;36m50\u001b[0m%       \u001b[1;36m75\u001b[0m%  max  count mean  \u001b[33m...\u001b[0m   \n",
       "step                                                                      \u001b[33m...\u001b[0m   \n",
       "\u001b[1;36m0.0\u001b[0m   \u001b[1;36m100.0\u001b[0m  \u001b[1;36m0.5\u001b[0m  \u001b[1;36m0.32075\u001b[0m  \u001b[1;36m0.0\u001b[0m  \u001b[1;36m0.222222\u001b[0m  \u001b[1;36m0.5\u001b[0m  \u001b[1;36m0.777778\u001b[0m  \u001b[1;36m1.0\u001b[0m  \u001b[1;36m100.0\u001b[0m  \u001b[1;36m0.5\u001b[0m  \u001b[33m...\u001b[0m   \n",
       "\u001b[1;36m0.5\u001b[0m   \u001b[1;36m100.0\u001b[0m  \u001b[1;36m0.5\u001b[0m  \u001b[1;36m0.32075\u001b[0m  \u001b[1;36m0.0\u001b[0m  \u001b[1;36m0.222222\u001b[0m  \u001b[1;36m0.5\u001b[0m  \u001b[1;36m0.777778\u001b[0m  \u001b[1;36m1.0\u001b[0m  \u001b[1;36m100.0\u001b[0m  \u001b[1;36m0.5\u001b[0m  \u001b[33m...\u001b[0m   \n",
       "\u001b[1;36m1.0\u001b[0m   \u001b[1;36m100.0\u001b[0m  \u001b[1;36m0.5\u001b[0m  \u001b[1;36m0.32075\u001b[0m  \u001b[1;36m0.0\u001b[0m  \u001b[1;36m0.222222\u001b[0m  \u001b[1;36m0.5\u001b[0m  \u001b[1;36m0.777778\u001b[0m  \u001b[1;36m1.0\u001b[0m  \u001b[1;36m100.0\u001b[0m  \u001b[1;36m0.5\u001b[0m  \u001b[33m...\u001b[0m   \n",
       "\n",
       "        y_hat1             std1                                          \\\n",
       "           \u001b[1;36m75\u001b[0m%       max  count      mean       std       min       \u001b[1;36m25\u001b[0m%   \n",
       "step                                                                      \n",
       "\u001b[1;36m0.0\u001b[0m   \u001b[1;36m1.246454\u001b[0m  \u001b[1;36m1.333333\u001b[0m  \u001b[1;36m100.0\u001b[0m  \u001b[1;36m0.994572\u001b[0m  \u001b[1;36m0.000801\u001b[0m  \u001b[1;36m0.993031\u001b[0m  \u001b[1;36m0.993913\u001b[0m   \n",
       "\u001b[1;36m0.5\u001b[0m   \u001b[1;36m1.586292\u001b[0m  \u001b[1;36m1.729730\u001b[0m  \u001b[1;36m100.0\u001b[0m  \u001b[1;36m0.991412\u001b[0m  \u001b[1;36m0.001587\u001b[0m  \u001b[1;36m0.988244\u001b[0m  \u001b[1;36m0.990122\u001b[0m   \n",
       "\u001b[1;36m1.0\u001b[0m   \u001b[1;36m2.041750\u001b[0m  \u001b[1;36m2.285714\u001b[0m  \u001b[1;36m100.0\u001b[0m  \u001b[1;36m0.986153\u001b[0m  \u001b[1;36m0.003236\u001b[0m  \u001b[1;36m0.979379\u001b[0m  \u001b[1;36m0.983581\u001b[0m   \n",
       "\n",
       "                                    \n",
       "           \u001b[1;36m50\u001b[0m%       \u001b[1;36m75\u001b[0m%       max  \n",
       "step                                \n",
       "\u001b[1;36m0.0\u001b[0m   \u001b[1;36m0.994573\u001b[0m  \u001b[1;36m0.995277\u001b[0m  \u001b[1;36m0.996086\u001b[0m  \n",
       "\u001b[1;36m0.5\u001b[0m   \u001b[1;36m0.991457\u001b[0m  \u001b[1;36m0.992814\u001b[0m  \u001b[1;36m0.994288\u001b[0m  \n",
       "\u001b[1;36m1.0\u001b[0m   \u001b[1;36m0.986363\u001b[0m  \u001b[1;36m0.989016\u001b[0m  \u001b[1;36m0.991701\u001b[0m  \n",
       "\n",
       "\u001b[1m[\u001b[0m\u001b[1;36m3\u001b[0m rows x \u001b[1;36m48\u001b[0m columns\u001b[1m]\u001b[0m"
      ]
     },
     "execution_count": 83,
     "metadata": {},
     "output_type": "execute_result"
    }
   ],
   "source": [
    "df.groupby('step').describe()"
   ]
  },
  {
   "cell_type": "code",
   "execution_count": null,
   "metadata": {},
   "outputs": [],
   "source": []
  }
 ],
 "metadata": {
  "kernelspec": {
   "display_name": "Kedro (sampler)",
   "language": "python",
   "name": "kedro_sampler"
  },
  "language_info": {
   "codemirror_mode": {
    "name": "ipython",
    "version": 3
   },
   "file_extension": ".py",
   "mimetype": "text/x-python",
   "name": "python",
   "nbconvert_exporter": "python",
   "pygments_lexer": "ipython3",
   "version": "3.10.13"
  }
 },
 "nbformat": 4,
 "nbformat_minor": 2
}
