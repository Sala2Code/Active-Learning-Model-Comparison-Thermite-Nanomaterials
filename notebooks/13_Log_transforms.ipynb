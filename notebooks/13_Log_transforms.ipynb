{
 "cells": [
  {
   "cell_type": "code",
   "execution_count": 1,
   "metadata": {},
   "outputs": [],
   "source": [
    "import numpy as np"
   ]
  },
  {
   "cell_type": "code",
   "execution_count": null,
   "metadata": {},
   "outputs": [],
   "source": [
    "import numpy as np\n",
    "import plotly.graph_objs as go\n",
    "from plotly.subplots import make_subplots\n",
    "\n",
    "# Create grid of 2D points\n",
    "# x = np.linspace(2e-7, 1e-5, 20)  # specify bounds for x\n",
    "# y = np.linspace(2e-7, 1e-5, 20)  # specify bounds for y\n",
    "x = np.linspace(2e5, 1.5e8, 20)  # specify bounds for x\n",
    "y = np.linspace(600, 7500, 20)  # specify bounds for y\n",
    "X, Y = np.meshgrid(x, y)\n",
    "points = np.vstack([X.ravel(), Y.ravel()]).T\n",
    "\n",
    "bounds =[40e6, 56e6]\n",
    "\n",
    "# Apply logarithm to each dimension\n",
    "#log_points = np.array([np.log(points[:, 0]), points[:, 1]]).reshape(-1, 2)\n",
    "X, Y = np.meshgrid(np.log(x), y)\n",
    "log_points = np.vstack([X.ravel(), Y.ravel()]).T\n",
    "log_bounds = [np.log(bounds[0]), np.log(bounds[1])]\n",
    "\n",
    "# Create subplots\n",
    "fig = make_subplots(rows=1, cols=2, subplot_titles=(\"Original Points\", \"Log-Transformed Points\"))\n",
    "\n",
    "# Add original points subplot\n",
    "fig.add_trace(go.Scatter(x=points[:, 0], y=points[:, 1], mode='markers', name='Original Points'), row=1, col=1)\n",
    "\n",
    "fig.add_shape(type=\"line\", x0=bounds[0], y0=600, x1=bounds[0], y1=7500, line=dict(color=\"red\", width=3), row=1, col=1)\n",
    "fig.add_shape(type=\"line\", x0=bounds[1], y0=600, x1=bounds[1], y1=7500, line=dict(color=\"red\", width=3), row=1, col=1)\n",
    "\n",
    "# Add log-transformed points subplot\n",
    "fig.add_trace(go.Scatter(x=log_points[:, 0], y=log_points[:, 1], mode='markers', name='Log-Transformed Points'), row=1, col=2)\n",
    "\n",
    "fig.add_shape(type=\"line\", x0=log_bounds[0], y0=600, x1=log_bounds[0], y1=7500, line=dict(color=\"blue\", width=3), row=1, col=2)\n",
    "fig.add_shape(type=\"line\", x0=log_bounds[1], y0=600, x1=log_bounds[1], y1=7500, line=dict(color=\"blue\", width=3), row=1, col=2)\n",
    "\n",
    "# Update layout\n",
    "fig.update_layout(height=600, width=1200, title_text=\"Original and Log-Transformed Points\")\n",
    "#fig.update_xaxes(constrain='domain')  \n",
    "#fig.update_yaxes(scaleanchor= 'x')\n",
    "# Show plot\n",
    "fig.show()\n"
   ]
  },
  {
   "cell_type": "code",
   "execution_count": 5,
   "metadata": {},
   "outputs": [],
   "source": [
    "import numpy as np\n",
    "import warnings"
   ]
  },
  {
   "cell_type": "code",
   "execution_count": 6,
   "metadata": {},
   "outputs": [
    {
     "data": {
      "text/html": [
       "<pre style=\"white-space:pre;overflow-x:auto;line-height:normal;font-family:Menlo,'DejaVu Sans Mono',consolas,'Courier New',monospace\"><span style=\"color: #7fbfbf; text-decoration-color: #7fbfbf\">[03/13/24 22:27:38] </span><span style=\"color: #000080; text-decoration-color: #000080\">INFO    </span> Loading data from <span style=\"color: #008000; text-decoration-color: #008000\">'parameters'</span> <span style=\"font-weight: bold\">(</span>MemoryDataSet<span style=\"font-weight: bold\">)</span><span style=\"color: #808000; text-decoration-color: #808000\">...</span>                  <a href=\"file:///home/jack/miniconda3/envs/sampler/lib/python3.10/site-packages/kedro/io/data_catalog.py\" target=\"_blank\"><span style=\"color: #7f7f7f; text-decoration-color: #7f7f7f\">data_catalog.py</span></a><span style=\"color: #7f7f7f; text-decoration-color: #7f7f7f\">:</span><a href=\"file:///home/jack/miniconda3/envs/sampler/lib/python3.10/site-packages/kedro/io/data_catalog.py#343\" target=\"_blank\"><span style=\"color: #7f7f7f; text-decoration-color: #7f7f7f\">343</span></a>\n",
       "</pre>\n"
      ],
      "text/plain": [
       "\u001b[2;36m[03/13/24 22:27:38]\u001b[0m\u001b[2;36m \u001b[0m\u001b[34mINFO    \u001b[0m Loading data from \u001b[32m'parameters'\u001b[0m \u001b[1m(\u001b[0mMemoryDataSet\u001b[1m)\u001b[0m\u001b[33m...\u001b[0m                  \u001b]8;id=328833;file:///home/jack/miniconda3/envs/sampler/lib/python3.10/site-packages/kedro/io/data_catalog.py\u001b\\\u001b[2mdata_catalog.py\u001b[0m\u001b]8;;\u001b\\\u001b[2m:\u001b[0m\u001b]8;id=74553;file:///home/jack/miniconda3/envs/sampler/lib/python3.10/site-packages/kedro/io/data_catalog.py#343\u001b\\\u001b[2m343\u001b[0m\u001b]8;;\u001b\\\n"
      ]
     },
     "metadata": {},
     "output_type": "display_data"
    },
    {
     "data": {
      "text/html": [
       "<pre style=\"white-space:pre;overflow-x:auto;line-height:normal;font-family:Menlo,'DejaVu Sans Mono',consolas,'Courier New',monospace\"><span style=\"color: #7fbfbf; text-decoration-color: #7fbfbf\">                    </span><span style=\"color: #000080; text-decoration-color: #000080\">INFO    </span> Loading data from <span style=\"color: #008000; text-decoration-color: #008000\">'scaler'</span> <span style=\"font-weight: bold\">(</span>PickleDataSet<span style=\"font-weight: bold\">)</span><span style=\"color: #808000; text-decoration-color: #808000\">...</span>                      <a href=\"file:///home/jack/miniconda3/envs/sampler/lib/python3.10/site-packages/kedro/io/data_catalog.py\" target=\"_blank\"><span style=\"color: #7f7f7f; text-decoration-color: #7f7f7f\">data_catalog.py</span></a><span style=\"color: #7f7f7f; text-decoration-color: #7f7f7f\">:</span><a href=\"file:///home/jack/miniconda3/envs/sampler/lib/python3.10/site-packages/kedro/io/data_catalog.py#343\" target=\"_blank\"><span style=\"color: #7f7f7f; text-decoration-color: #7f7f7f\">343</span></a>\n",
       "</pre>\n"
      ],
      "text/plain": [
       "\u001b[2;36m                   \u001b[0m\u001b[2;36m \u001b[0m\u001b[34mINFO    \u001b[0m Loading data from \u001b[32m'scaler'\u001b[0m \u001b[1m(\u001b[0mPickleDataSet\u001b[1m)\u001b[0m\u001b[33m...\u001b[0m                      \u001b]8;id=524812;file:///home/jack/miniconda3/envs/sampler/lib/python3.10/site-packages/kedro/io/data_catalog.py\u001b\\\u001b[2mdata_catalog.py\u001b[0m\u001b]8;;\u001b\\\u001b[2m:\u001b[0m\u001b]8;id=776559;file:///home/jack/miniconda3/envs/sampler/lib/python3.10/site-packages/kedro/io/data_catalog.py#343\u001b\\\u001b[2m343\u001b[0m\u001b]8;;\u001b\\\n"
      ]
     },
     "metadata": {},
     "output_type": "display_data"
    },
    {
     "data": {
      "text/html": [
       "<pre style=\"white-space:pre;overflow-x:auto;line-height:normal;font-family:Menlo,'DejaVu Sans Mono',consolas,'Courier New',monospace\"><span style=\"color: #7fbfbf; text-decoration-color: #7fbfbf\">                    </span><span style=\"color: #000080; text-decoration-color: #000080\">INFO    </span> Loading data from <span style=\"color: #008000; text-decoration-color: #008000\">'treatment'</span> <span style=\"font-weight: bold\">(</span>PickleDataSet<span style=\"font-weight: bold\">)</span><span style=\"color: #808000; text-decoration-color: #808000\">...</span>                   <a href=\"file:///home/jack/miniconda3/envs/sampler/lib/python3.10/site-packages/kedro/io/data_catalog.py\" target=\"_blank\"><span style=\"color: #7f7f7f; text-decoration-color: #7f7f7f\">data_catalog.py</span></a><span style=\"color: #7f7f7f; text-decoration-color: #7f7f7f\">:</span><a href=\"file:///home/jack/miniconda3/envs/sampler/lib/python3.10/site-packages/kedro/io/data_catalog.py#343\" target=\"_blank\"><span style=\"color: #7f7f7f; text-decoration-color: #7f7f7f\">343</span></a>\n",
       "</pre>\n"
      ],
      "text/plain": [
       "\u001b[2;36m                   \u001b[0m\u001b[2;36m \u001b[0m\u001b[34mINFO    \u001b[0m Loading data from \u001b[32m'treatment'\u001b[0m \u001b[1m(\u001b[0mPickleDataSet\u001b[1m)\u001b[0m\u001b[33m...\u001b[0m                   \u001b]8;id=10693;file:///home/jack/miniconda3/envs/sampler/lib/python3.10/site-packages/kedro/io/data_catalog.py\u001b\\\u001b[2mdata_catalog.py\u001b[0m\u001b]8;;\u001b\\\u001b[2m:\u001b[0m\u001b]8;id=153495;file:///home/jack/miniconda3/envs/sampler/lib/python3.10/site-packages/kedro/io/data_catalog.py#343\u001b\\\u001b[2m343\u001b[0m\u001b]8;;\u001b\\\n"
      ]
     },
     "metadata": {},
     "output_type": "display_data"
    }
   ],
   "source": [
    "# Load kedro scaler\n",
    "p = catalog.load('parameters')\n",
    "\n",
    "features=p[\"features\"]\n",
    "targets=p[\"targets\"]\n",
    "additional_values = p[\"additional_values\"]\n",
    "names=p[\"names\"]\n",
    "\n",
    "scaler=catalog.load('scaler')\n",
    "treatment=catalog.load('treatment')"
   ]
  },
  {
   "cell_type": "code",
   "execution_count": 20,
   "metadata": {},
   "outputs": [],
   "source": [
    "from pyDOE import lhs\n",
    "\n",
    "# Number of samples\n",
    "num_samples = 100\n",
    "\n",
    "# Get bounds from treatment\n",
    "bounds = np.array([treatment.variables_ranges[f]['bounds'] for f in features])\n",
    "\n",
    "# Generate Latin Hypercube Samples\n",
    "samples = lhs(n=3, samples=num_samples)\n",
    "\n"
   ]
  },
  {
   "cell_type": "code",
   "execution_count": 21,
   "metadata": {},
   "outputs": [
    {
     "data": {
      "text/html": [
       "<pre style=\"white-space:pre;overflow-x:auto;line-height:normal;font-family:Menlo,'DejaVu Sans Mono',consolas,'Courier New',monospace\"><span style=\"color: #7fbfbf; text-decoration-color: #7fbfbf\">[03/13/24 22:31:43] </span><span style=\"color: #800000; text-decoration-color: #800000\">WARNING </span> <span style=\"color: #800080; text-decoration-color: #800080\">/tmp/ipykernel_169076/</span><span style=\"color: #ff00ff; text-decoration-color: #ff00ff\">2200028520.py</span>:<span style=\"color: #008080; text-decoration-color: #008080; font-weight: bold\">1</span>: UserWarning:                    <a href=\"file:///home/jack/miniconda3/envs/sampler/lib/python3.10/warnings.py\" target=\"_blank\"><span style=\"color: #7f7f7f; text-decoration-color: #7f7f7f\">warnings.py</span></a><span style=\"color: #7f7f7f; text-decoration-color: #7f7f7f\">:</span><a href=\"file:///home/jack/miniconda3/envs/sampler/lib/python3.10/warnings.py#109\" target=\"_blank\"><span style=\"color: #7f7f7f; text-decoration-color: #7f7f7f\">109</span></a>\n",
       "<span style=\"color: #7fbfbf; text-decoration-color: #7fbfbf\">                    </span>                                                                                <span style=\"color: #7f7f7f; text-decoration-color: #7f7f7f\">               </span>\n",
       "<span style=\"color: #7fbfbf; text-decoration-color: #7fbfbf\">                    </span>         Using LHS for sampling! Sampling points of dim <span style=\"font-weight: bold\">(</span><span style=\"color: #008080; text-decoration-color: #008080; font-weight: bold\">100</span>, <span style=\"color: #008080; text-decoration-color: #008080; font-weight: bold\">3</span><span style=\"font-weight: bold\">)</span>                <span style=\"color: #7f7f7f; text-decoration-color: #7f7f7f\">               </span>\n",
       "<span style=\"color: #7fbfbf; text-decoration-color: #7fbfbf\">                    </span>                                                                                <span style=\"color: #7f7f7f; text-decoration-color: #7f7f7f\">               </span>\n",
       "<span style=\"color: #7fbfbf; text-decoration-color: #7fbfbf\">                    </span>                                                                                <span style=\"color: #7f7f7f; text-decoration-color: #7f7f7f\">               </span>\n",
       "</pre>\n"
      ],
      "text/plain": [
       "\u001b[2;36m[03/13/24 22:31:43]\u001b[0m\u001b[2;36m \u001b[0m\u001b[31mWARNING \u001b[0m \u001b[35m/tmp/ipykernel_169076/\u001b[0m\u001b[95m2200028520.py\u001b[0m:\u001b[1;36m1\u001b[0m: UserWarning:                    \u001b]8;id=643263;file:///home/jack/miniconda3/envs/sampler/lib/python3.10/warnings.py\u001b\\\u001b[2mwarnings.py\u001b[0m\u001b]8;;\u001b\\\u001b[2m:\u001b[0m\u001b]8;id=316179;file:///home/jack/miniconda3/envs/sampler/lib/python3.10/warnings.py#109\u001b\\\u001b[2m109\u001b[0m\u001b]8;;\u001b\\\n",
       "\u001b[2;36m                    \u001b[0m                                                                                \u001b[2m               \u001b[0m\n",
       "\u001b[2;36m                    \u001b[0m         Using LHS for sampling! Sampling points of dim \u001b[1m(\u001b[0m\u001b[1;36m100\u001b[0m, \u001b[1;36m3\u001b[0m\u001b[1m)\u001b[0m                \u001b[2m               \u001b[0m\n",
       "\u001b[2;36m                    \u001b[0m                                                                                \u001b[2m               \u001b[0m\n",
       "\u001b[2;36m                    \u001b[0m                                                                                \u001b[2m               \u001b[0m\n"
      ]
     },
     "metadata": {},
     "output_type": "display_data"
    }
   ],
   "source": [
    "warnings.warn(\"Using LHS for sampling! Sampling points of dim {}\".format(samples.shape))\n",
    "\n",
    "# Scale samples to the specified bounds for each dimension\n",
    "#samples = np.zeros(samples.shape)\n",
    "new_samples = np.zeros(samples.shape)\n",
    "for i in range(len(bounds)):\n",
    "    new_samples[:, i] = bounds[i, 0] + samples[:, i] * (bounds[i, 1] - bounds[i, 0])\n",
    "\n",
    "# Scale samples down again using the treatment scaler (some variables may be log-scaled)\n",
    "new_samples = treatment.scaler.transform_features(new_samples)"
   ]
  },
  {
   "cell_type": "code",
   "execution_count": 27,
   "metadata": {},
   "outputs": [
    {
     "data": {
      "application/vnd.plotly.v1+json": {
       "config": {
        "plotlyServerURL": "https://plot.ly"
       },
       "data": [
        {
         "mode": "markers",
         "type": "scatter",
         "x": [
          0.03472327939859565,
          0.21876803641048484,
          0.08197233315173973,
          0.1811138198062848,
          0.6365218662075529,
          0.9646462649483075,
          0.3620817101567407,
          0.20409125723146387,
          0.11242766655283006,
          0.013738013594842122,
          0.9047670084256715,
          0.26893317886283025,
          0.27197791702434176,
          0.9384767241944861,
          0.4550184947811151,
          0.517245520206706,
          0.808672461489052,
          0.8450377757769212,
          0.877308411618488,
          0.6293182322649788,
          0.6069526954601584,
          0.3389890382430597,
          0.7883635022471819,
          0.709065091417154,
          0.5987462197598309,
          0.8609342893609153,
          0.2815490333084897,
          0.9484017887906442,
          0.7433181306301824,
          0.7214575512393046,
          0.47813009011502033,
          0.3495494369605771,
          0.37544221352208307,
          0.22903653226708473,
          0.305766904689157,
          0.4060242207100788,
          0.007493942486566841,
          0.16656208369954859,
          0.6664353160087059,
          0.0952289591408076,
          0.3830746647614791,
          0.3193656310010216,
          0.9562714821071953,
          0.055830997718891426,
          0.3965804946680722,
          0.07639726897808691,
          0.4178828419444648,
          0.3501458628278874,
          0.716175273525749,
          0.047489545157685206,
          0.9895707433801277,
          0.14427235866199292,
          0.8543151028513171,
          0.6738866656603049,
          0.4462383863222798,
          0.13089288866257914,
          0.5893000313227367,
          0.23110810057730635,
          0.4999380254631487,
          0.5324359401310207,
          0.9956254478883713,
          0.524621804847058,
          0.24729499810978248,
          0.5700767937542475,
          0.8303907618281968,
          0.6819880653049548,
          0.5632240762633256,
          0.4379476483481628,
          0.6931100885797432,
          0.027001415917153646,
          0.12517685050839203,
          0.7518936126083892,
          0.924117839653561,
          0.7622797059084653,
          0.19916955754056456,
          0.06266200190142485,
          0.8241132906971493,
          0.8110568644335797,
          0.9711725678370909,
          0.4602299227764012,
          0.420900510405196,
          0.5030399385214952,
          0.7300218957043466,
          0.5426411979555132,
          0.7754718027041284,
          0.9158887583867144,
          0.648691193838135,
          0.6166266840630038,
          0.1760712642677589,
          0.557122067632931,
          0.7990580897422034,
          0.65594257943469,
          0.8873377331897131,
          0.15466314695626973,
          0.10972875785546969,
          0.2554887560159374,
          0.8990483455878556,
          0.48011814509317147,
          0.3298737386515881,
          0.29245764815768727
         ],
         "y": [
          0.5345941412458637,
          0.1891391821564135,
          0.7712634498901196,
          0.639392391847749,
          0.072759180921254,
          0.8028749897231034,
          0.3457268333843997,
          0.9497846611989696,
          0.45677660617790833,
          0.36201614784233527,
          0.8918190140926053,
          0.1950720690454345,
          0.6259083463826024,
          0.5000512324492927,
          0.2884920338208026,
          0.16851699689393881,
          0.8736293349223384,
          0.21576441978524785,
          0.2324838848675074,
          0.40632705656061585,
          0.9063366544624475,
          0.7945509029600284,
          0.475070534180041,
          0.4802710267728466,
          0.1784391350208208,
          0.05072541857396319,
          0.3869825476490391,
          0.4318793337970566,
          0.9818492654925433,
          0.5757226805473039,
          0.2536394013732616,
          0.37723803631151304,
          0.5998920530291341,
          0.3064544018239984,
          0.832960009306123,
          0.51708377313755,
          0.6749819921610727,
          0.023290302460413723,
          0.061238958696674235,
          0.13202288590200262,
          0.7887361848953433,
          0.925050324690612,
          0.24031047947885237,
          0.2659177435383188,
          0.2957550486397478,
          0.7251457244953664,
          0.3983628427811461,
          0.15956227172585571,
          0.5552938475256585,
          0.08138812824364042,
          0.3372802507483052,
          0.6948539237980441,
          0.9929744030213474,
          0.6148174352799822,
          0.9790511129648162,
          0.8821542712632751,
          0.4114650183638294,
          0.09983599942441819,
          0.7098526093671536,
          0.12126575792701003,
          0.353886516196209,
          0.4441839142715727,
          0.7482112591215792,
          0.5402189955060259,
          0.7164088949883521,
          0.46791182289201616,
          0.000587589922343813,
          0.584845174203424,
          0.3217156337745285,
          0.858343883512231,
          0.5269389617620734,
          0.2728521163926398,
          0.10717784140009655,
          0.4213276020161567,
          0.7537701398739112,
          0.3192140637371576,
          0.8271361982433888,
          0.4993065755524705,
          0.9560126022527022,
          0.20084000557767911,
          0.014417497092751391,
          0.04093615586577813,
          0.8444016048999287,
          0.8150256969657474,
          0.6414811410190709,
          0.9615164654556424,
          0.733284554949477,
          0.8646165141024826,
          0.5676322670054487,
          0.22846222277848313,
          0.7683051388565586,
          0.6001600375739495,
          0.9162571855475947,
          0.688903777330048,
          0.6619010121732876,
          0.03942053660250925,
          0.11013990460350662,
          0.6561266004587374,
          0.931547949933126,
          0.1441937295391757
         ]
        },
        {
         "marker": {
          "color": "red"
         },
         "mode": "markers",
         "type": "scatter",
         "x": [
          0.03472327939859565,
          0.21876803641048487,
          0.08197233315173974,
          0.18111381980628483,
          0.6365218662075529,
          0.9646462649483075,
          0.3620817101567406,
          0.20409125723146387,
          0.11242766655283007,
          0.013738013594842124,
          0.9047670084256715,
          0.26893317886283025,
          0.2719779170243417,
          0.9384767241944861,
          0.45501849478111506,
          0.517245520206706,
          0.808672461489052,
          0.8450377757769211,
          0.877308411618488,
          0.6293182322649788,
          0.6069526954601584,
          0.33898903824305965,
          0.7883635022471819,
          0.709065091417154,
          0.5987462197598309,
          0.8609342893609153,
          0.2815490333084897,
          0.9484017887906442,
          0.7433181306301824,
          0.7214575512393046,
          0.47813009011502033,
          0.3495494369605771,
          0.375442213522083,
          0.22903653226708473,
          0.305766904689157,
          0.40602422071007876,
          0.007493942486566842,
          0.1665620836995486,
          0.6664353160087059,
          0.0952289591408076,
          0.38307466476147906,
          0.3193656310010216,
          0.9562714821071953,
          0.05583099771889144,
          0.3965804946680722,
          0.07639726897808691,
          0.4178828419444648,
          0.3501458628278874,
          0.716175273525749,
          0.047489545157685206,
          0.9895707433801277,
          0.14427235866199292,
          0.854315102851317,
          0.6738866656603049,
          0.44623838632227975,
          0.13089288866257917,
          0.5893000313227367,
          0.23110810057730638,
          0.4999380254631487,
          0.5324359401310207,
          0.9956254478883713,
          0.524621804847058,
          0.24729499810978253,
          0.5700767937542475,
          0.8303907618281968,
          0.6819880653049548,
          0.5632240762633256,
          0.4379476483481628,
          0.6931100885797432,
          0.02700141591715365,
          0.12517685050839203,
          0.7518936126083892,
          0.9241178396535609,
          0.7622797059084653,
          0.1991695575405646,
          0.06266200190142485,
          0.8241132906971493,
          0.8110568644335796,
          0.9711725678370909,
          0.4602299227764012,
          0.42090051040519594,
          0.5030399385214951,
          0.7300218957043466,
          0.5426411979555132,
          0.7754718027041285,
          0.9158887583867144,
          0.648691193838135,
          0.6166266840630038,
          0.1760712642677589,
          0.557122067632931,
          0.7990580897422034,
          0.65594257943469,
          0.8873377331897131,
          0.15466314695626973,
          0.1097287578554697,
          0.25548875601593735,
          0.8990483455878556,
          0.4801181450931714,
          0.3298737386515881,
          0.29245764815768727
         ],
         "y": [
          0.5345941412458637,
          0.1891391821564135,
          0.7712634498901196,
          0.6393923918477491,
          0.072759180921254,
          0.8028749897231033,
          0.34572683338439963,
          0.9497846611989698,
          0.45677660617790833,
          0.3620161478423352,
          0.8918190140926054,
          0.19507206904543456,
          0.6259083463826023,
          0.5000512324492927,
          0.2884920338208025,
          0.1685169968939388,
          0.8736293349223383,
          0.2157644197852478,
          0.23248388486750743,
          0.4063270565606158,
          0.9063366544624476,
          0.7945509029600284,
          0.475070534180041,
          0.48027102677284655,
          0.1784391350208207,
          0.05072541857396318,
          0.386982547649039,
          0.43187933379705673,
          0.9818492654925433,
          0.5757226805473039,
          0.25363940137326163,
          0.37723803631151304,
          0.5998920530291341,
          0.30645440182399836,
          0.8329600093061231,
          0.5170837731375502,
          0.6749819921610727,
          0.023290302460413692,
          0.06123895869667423,
          0.13202288590200267,
          0.7887361848953434,
          0.9250503246906121,
          0.24031047947885237,
          0.2659177435383188,
          0.2957550486397477,
          0.7251457244953665,
          0.39836284278114614,
          0.15956227172585574,
          0.5552938475256586,
          0.08138812824364039,
          0.3372802507483052,
          0.6948539237980442,
          0.9929744030213474,
          0.6148174352799822,
          0.9790511129648161,
          0.8821542712632751,
          0.4114650183638295,
          0.09983599942441818,
          0.7098526093671536,
          0.12126575792701005,
          0.35388651619620887,
          0.4441839142715727,
          0.748211259121579,
          0.5402189955060259,
          0.716408894988352,
          0.4679118228920161,
          0.0005875899223438119,
          0.584845174203424,
          0.32171563377452844,
          0.858343883512231,
          0.5269389617620734,
          0.2728521163926398,
          0.10717784140009656,
          0.42132760201615665,
          0.7537701398739112,
          0.3192140637371576,
          0.8271361982433889,
          0.49930657555247054,
          0.9560126022527022,
          0.20084000557767906,
          0.014417497092751363,
          0.040936155865778145,
          0.8444016048999285,
          0.8150256969657474,
          0.641481141019071,
          0.9615164654556423,
          0.7332845549494771,
          0.8646165141024826,
          0.5676322670054488,
          0.2284622227784831,
          0.7683051388565587,
          0.6001600375739495,
          0.9162571855475947,
          0.6889037773300479,
          0.6619010121732876,
          0.03942053660250927,
          0.11013990460350659,
          0.6561266004587374,
          0.9315479499331258,
          0.1441937295391757
         ]
        }
       ],
       "layout": {
        "template": {
         "data": {
          "bar": [
           {
            "error_x": {
             "color": "#2a3f5f"
            },
            "error_y": {
             "color": "#2a3f5f"
            },
            "marker": {
             "line": {
              "color": "#E5ECF6",
              "width": 0.5
             },
             "pattern": {
              "fillmode": "overlay",
              "size": 10,
              "solidity": 0.2
             }
            },
            "type": "bar"
           }
          ],
          "barpolar": [
           {
            "marker": {
             "line": {
              "color": "#E5ECF6",
              "width": 0.5
             },
             "pattern": {
              "fillmode": "overlay",
              "size": 10,
              "solidity": 0.2
             }
            },
            "type": "barpolar"
           }
          ],
          "carpet": [
           {
            "aaxis": {
             "endlinecolor": "#2a3f5f",
             "gridcolor": "white",
             "linecolor": "white",
             "minorgridcolor": "white",
             "startlinecolor": "#2a3f5f"
            },
            "baxis": {
             "endlinecolor": "#2a3f5f",
             "gridcolor": "white",
             "linecolor": "white",
             "minorgridcolor": "white",
             "startlinecolor": "#2a3f5f"
            },
            "type": "carpet"
           }
          ],
          "choropleth": [
           {
            "colorbar": {
             "outlinewidth": 0,
             "ticks": ""
            },
            "type": "choropleth"
           }
          ],
          "contour": [
           {
            "colorbar": {
             "outlinewidth": 0,
             "ticks": ""
            },
            "colorscale": [
             [
              0,
              "#0d0887"
             ],
             [
              0.1111111111111111,
              "#46039f"
             ],
             [
              0.2222222222222222,
              "#7201a8"
             ],
             [
              0.3333333333333333,
              "#9c179e"
             ],
             [
              0.4444444444444444,
              "#bd3786"
             ],
             [
              0.5555555555555556,
              "#d8576b"
             ],
             [
              0.6666666666666666,
              "#ed7953"
             ],
             [
              0.7777777777777778,
              "#fb9f3a"
             ],
             [
              0.8888888888888888,
              "#fdca26"
             ],
             [
              1,
              "#f0f921"
             ]
            ],
            "type": "contour"
           }
          ],
          "contourcarpet": [
           {
            "colorbar": {
             "outlinewidth": 0,
             "ticks": ""
            },
            "type": "contourcarpet"
           }
          ],
          "heatmap": [
           {
            "colorbar": {
             "outlinewidth": 0,
             "ticks": ""
            },
            "colorscale": [
             [
              0,
              "#0d0887"
             ],
             [
              0.1111111111111111,
              "#46039f"
             ],
             [
              0.2222222222222222,
              "#7201a8"
             ],
             [
              0.3333333333333333,
              "#9c179e"
             ],
             [
              0.4444444444444444,
              "#bd3786"
             ],
             [
              0.5555555555555556,
              "#d8576b"
             ],
             [
              0.6666666666666666,
              "#ed7953"
             ],
             [
              0.7777777777777778,
              "#fb9f3a"
             ],
             [
              0.8888888888888888,
              "#fdca26"
             ],
             [
              1,
              "#f0f921"
             ]
            ],
            "type": "heatmap"
           }
          ],
          "heatmapgl": [
           {
            "colorbar": {
             "outlinewidth": 0,
             "ticks": ""
            },
            "colorscale": [
             [
              0,
              "#0d0887"
             ],
             [
              0.1111111111111111,
              "#46039f"
             ],
             [
              0.2222222222222222,
              "#7201a8"
             ],
             [
              0.3333333333333333,
              "#9c179e"
             ],
             [
              0.4444444444444444,
              "#bd3786"
             ],
             [
              0.5555555555555556,
              "#d8576b"
             ],
             [
              0.6666666666666666,
              "#ed7953"
             ],
             [
              0.7777777777777778,
              "#fb9f3a"
             ],
             [
              0.8888888888888888,
              "#fdca26"
             ],
             [
              1,
              "#f0f921"
             ]
            ],
            "type": "heatmapgl"
           }
          ],
          "histogram": [
           {
            "marker": {
             "pattern": {
              "fillmode": "overlay",
              "size": 10,
              "solidity": 0.2
             }
            },
            "type": "histogram"
           }
          ],
          "histogram2d": [
           {
            "colorbar": {
             "outlinewidth": 0,
             "ticks": ""
            },
            "colorscale": [
             [
              0,
              "#0d0887"
             ],
             [
              0.1111111111111111,
              "#46039f"
             ],
             [
              0.2222222222222222,
              "#7201a8"
             ],
             [
              0.3333333333333333,
              "#9c179e"
             ],
             [
              0.4444444444444444,
              "#bd3786"
             ],
             [
              0.5555555555555556,
              "#d8576b"
             ],
             [
              0.6666666666666666,
              "#ed7953"
             ],
             [
              0.7777777777777778,
              "#fb9f3a"
             ],
             [
              0.8888888888888888,
              "#fdca26"
             ],
             [
              1,
              "#f0f921"
             ]
            ],
            "type": "histogram2d"
           }
          ],
          "histogram2dcontour": [
           {
            "colorbar": {
             "outlinewidth": 0,
             "ticks": ""
            },
            "colorscale": [
             [
              0,
              "#0d0887"
             ],
             [
              0.1111111111111111,
              "#46039f"
             ],
             [
              0.2222222222222222,
              "#7201a8"
             ],
             [
              0.3333333333333333,
              "#9c179e"
             ],
             [
              0.4444444444444444,
              "#bd3786"
             ],
             [
              0.5555555555555556,
              "#d8576b"
             ],
             [
              0.6666666666666666,
              "#ed7953"
             ],
             [
              0.7777777777777778,
              "#fb9f3a"
             ],
             [
              0.8888888888888888,
              "#fdca26"
             ],
             [
              1,
              "#f0f921"
             ]
            ],
            "type": "histogram2dcontour"
           }
          ],
          "mesh3d": [
           {
            "colorbar": {
             "outlinewidth": 0,
             "ticks": ""
            },
            "type": "mesh3d"
           }
          ],
          "parcoords": [
           {
            "line": {
             "colorbar": {
              "outlinewidth": 0,
              "ticks": ""
             }
            },
            "type": "parcoords"
           }
          ],
          "pie": [
           {
            "automargin": true,
            "type": "pie"
           }
          ],
          "scatter": [
           {
            "fillpattern": {
             "fillmode": "overlay",
             "size": 10,
             "solidity": 0.2
            },
            "type": "scatter"
           }
          ],
          "scatter3d": [
           {
            "line": {
             "colorbar": {
              "outlinewidth": 0,
              "ticks": ""
             }
            },
            "marker": {
             "colorbar": {
              "outlinewidth": 0,
              "ticks": ""
             }
            },
            "type": "scatter3d"
           }
          ],
          "scattercarpet": [
           {
            "marker": {
             "colorbar": {
              "outlinewidth": 0,
              "ticks": ""
             }
            },
            "type": "scattercarpet"
           }
          ],
          "scattergeo": [
           {
            "marker": {
             "colorbar": {
              "outlinewidth": 0,
              "ticks": ""
             }
            },
            "type": "scattergeo"
           }
          ],
          "scattergl": [
           {
            "marker": {
             "colorbar": {
              "outlinewidth": 0,
              "ticks": ""
             }
            },
            "type": "scattergl"
           }
          ],
          "scattermapbox": [
           {
            "marker": {
             "colorbar": {
              "outlinewidth": 0,
              "ticks": ""
             }
            },
            "type": "scattermapbox"
           }
          ],
          "scatterpolar": [
           {
            "marker": {
             "colorbar": {
              "outlinewidth": 0,
              "ticks": ""
             }
            },
            "type": "scatterpolar"
           }
          ],
          "scatterpolargl": [
           {
            "marker": {
             "colorbar": {
              "outlinewidth": 0,
              "ticks": ""
             }
            },
            "type": "scatterpolargl"
           }
          ],
          "scatterternary": [
           {
            "marker": {
             "colorbar": {
              "outlinewidth": 0,
              "ticks": ""
             }
            },
            "type": "scatterternary"
           }
          ],
          "surface": [
           {
            "colorbar": {
             "outlinewidth": 0,
             "ticks": ""
            },
            "colorscale": [
             [
              0,
              "#0d0887"
             ],
             [
              0.1111111111111111,
              "#46039f"
             ],
             [
              0.2222222222222222,
              "#7201a8"
             ],
             [
              0.3333333333333333,
              "#9c179e"
             ],
             [
              0.4444444444444444,
              "#bd3786"
             ],
             [
              0.5555555555555556,
              "#d8576b"
             ],
             [
              0.6666666666666666,
              "#ed7953"
             ],
             [
              0.7777777777777778,
              "#fb9f3a"
             ],
             [
              0.8888888888888888,
              "#fdca26"
             ],
             [
              1,
              "#f0f921"
             ]
            ],
            "type": "surface"
           }
          ],
          "table": [
           {
            "cells": {
             "fill": {
              "color": "#EBF0F8"
             },
             "line": {
              "color": "white"
             }
            },
            "header": {
             "fill": {
              "color": "#C8D4E3"
             },
             "line": {
              "color": "white"
             }
            },
            "type": "table"
           }
          ]
         },
         "layout": {
          "annotationdefaults": {
           "arrowcolor": "#2a3f5f",
           "arrowhead": 0,
           "arrowwidth": 1
          },
          "autotypenumbers": "strict",
          "coloraxis": {
           "colorbar": {
            "outlinewidth": 0,
            "ticks": ""
           }
          },
          "colorscale": {
           "diverging": [
            [
             0,
             "#8e0152"
            ],
            [
             0.1,
             "#c51b7d"
            ],
            [
             0.2,
             "#de77ae"
            ],
            [
             0.3,
             "#f1b6da"
            ],
            [
             0.4,
             "#fde0ef"
            ],
            [
             0.5,
             "#f7f7f7"
            ],
            [
             0.6,
             "#e6f5d0"
            ],
            [
             0.7,
             "#b8e186"
            ],
            [
             0.8,
             "#7fbc41"
            ],
            [
             0.9,
             "#4d9221"
            ],
            [
             1,
             "#276419"
            ]
           ],
           "sequential": [
            [
             0,
             "#0d0887"
            ],
            [
             0.1111111111111111,
             "#46039f"
            ],
            [
             0.2222222222222222,
             "#7201a8"
            ],
            [
             0.3333333333333333,
             "#9c179e"
            ],
            [
             0.4444444444444444,
             "#bd3786"
            ],
            [
             0.5555555555555556,
             "#d8576b"
            ],
            [
             0.6666666666666666,
             "#ed7953"
            ],
            [
             0.7777777777777778,
             "#fb9f3a"
            ],
            [
             0.8888888888888888,
             "#fdca26"
            ],
            [
             1,
             "#f0f921"
            ]
           ],
           "sequentialminus": [
            [
             0,
             "#0d0887"
            ],
            [
             0.1111111111111111,
             "#46039f"
            ],
            [
             0.2222222222222222,
             "#7201a8"
            ],
            [
             0.3333333333333333,
             "#9c179e"
            ],
            [
             0.4444444444444444,
             "#bd3786"
            ],
            [
             0.5555555555555556,
             "#d8576b"
            ],
            [
             0.6666666666666666,
             "#ed7953"
            ],
            [
             0.7777777777777778,
             "#fb9f3a"
            ],
            [
             0.8888888888888888,
             "#fdca26"
            ],
            [
             1,
             "#f0f921"
            ]
           ]
          },
          "colorway": [
           "#636efa",
           "#EF553B",
           "#00cc96",
           "#ab63fa",
           "#FFA15A",
           "#19d3f3",
           "#FF6692",
           "#B6E880",
           "#FF97FF",
           "#FECB52"
          ],
          "font": {
           "color": "#2a3f5f"
          },
          "geo": {
           "bgcolor": "white",
           "lakecolor": "white",
           "landcolor": "#E5ECF6",
           "showlakes": true,
           "showland": true,
           "subunitcolor": "white"
          },
          "hoverlabel": {
           "align": "left"
          },
          "hovermode": "closest",
          "mapbox": {
           "style": "light"
          },
          "paper_bgcolor": "white",
          "plot_bgcolor": "#E5ECF6",
          "polar": {
           "angularaxis": {
            "gridcolor": "white",
            "linecolor": "white",
            "ticks": ""
           },
           "bgcolor": "#E5ECF6",
           "radialaxis": {
            "gridcolor": "white",
            "linecolor": "white",
            "ticks": ""
           }
          },
          "scene": {
           "xaxis": {
            "backgroundcolor": "#E5ECF6",
            "gridcolor": "white",
            "gridwidth": 2,
            "linecolor": "white",
            "showbackground": true,
            "ticks": "",
            "zerolinecolor": "white"
           },
           "yaxis": {
            "backgroundcolor": "#E5ECF6",
            "gridcolor": "white",
            "gridwidth": 2,
            "linecolor": "white",
            "showbackground": true,
            "ticks": "",
            "zerolinecolor": "white"
           },
           "zaxis": {
            "backgroundcolor": "#E5ECF6",
            "gridcolor": "white",
            "gridwidth": 2,
            "linecolor": "white",
            "showbackground": true,
            "ticks": "",
            "zerolinecolor": "white"
           }
          },
          "shapedefaults": {
           "line": {
            "color": "#2a3f5f"
           }
          },
          "ternary": {
           "aaxis": {
            "gridcolor": "white",
            "linecolor": "white",
            "ticks": ""
           },
           "baxis": {
            "gridcolor": "white",
            "linecolor": "white",
            "ticks": ""
           },
           "bgcolor": "#E5ECF6",
           "caxis": {
            "gridcolor": "white",
            "linecolor": "white",
            "ticks": ""
           }
          },
          "title": {
           "x": 0.05
          },
          "xaxis": {
           "automargin": true,
           "gridcolor": "white",
           "linecolor": "white",
           "ticks": "",
           "title": {
            "standoff": 15
           },
           "zerolinecolor": "white",
           "zerolinewidth": 2
          },
          "yaxis": {
           "automargin": true,
           "gridcolor": "white",
           "linecolor": "white",
           "ticks": "",
           "title": {
            "standoff": 15
           },
           "zerolinecolor": "white",
           "zerolinewidth": 2
          }
         }
        }
       }
      }
     },
     "metadata": {},
     "output_type": "display_data"
    }
   ],
   "source": [
    "# plot 2d samples using plotly\n",
    "import plotly.graph_objects as go\n",
    "import plotly.express as px\n",
    "\n",
    "fig = go.Figure()\n",
    "\n",
    "fig.add_trace(go.Scatter(x=samples[:, 0], y=samples[:, 2], mode='markers'))\n",
    "fig.add_trace(go.Scatter(x=new_samples[:, 0], y=new_samples[:, 2], mode='markers', marker=dict(color='red')))\n",
    "fig.show()\n"
   ]
  },
  {
   "cell_type": "code",
   "execution_count": 50,
   "metadata": {},
   "outputs": [
    {
     "data": {
      "text/html": [
       "<pre style=\"white-space:pre;overflow-x:auto;line-height:normal;font-family:Menlo,'DejaVu Sans Mono',consolas,'Courier New',monospace\"></pre>\n"
      ],
      "text/plain": []
     },
     "metadata": {},
     "output_type": "display_data"
    },
    {
     "data": {
      "text/html": [
       "<div>\n",
       "<style scoped>\n",
       "    .dataframe tbody tr th:only-of-type {\n",
       "        vertical-align: middle;\n",
       "    }\n",
       "\n",
       "    .dataframe tbody tr th {\n",
       "        vertical-align: top;\n",
       "    }\n",
       "\n",
       "    .dataframe thead th {\n",
       "        text-align: right;\n",
       "    }\n",
       "</style>\n",
       "<table border=\"1\" class=\"dataframe\">\n",
       "  <thead>\n",
       "    <tr style=\"text-align: right;\">\n",
       "      <th></th>\n",
       "      <th>r_ext_pAl</th>\n",
       "      <th>r_ext_pMeO</th>\n",
       "      <th>pAl_richness</th>\n",
       "    </tr>\n",
       "  </thead>\n",
       "  <tbody>\n",
       "    <tr>\n",
       "      <th>0</th>\n",
       "      <td>0.030924</td>\n",
       "      <td>0.133746</td>\n",
       "      <td>0.504685</td>\n",
       "    </tr>\n",
       "    <tr>\n",
       "      <th>1</th>\n",
       "      <td>0.189274</td>\n",
       "      <td>0.735465</td>\n",
       "      <td>0.381894</td>\n",
       "    </tr>\n",
       "    <tr>\n",
       "      <th>2</th>\n",
       "      <td>0.310786</td>\n",
       "      <td>0.238767</td>\n",
       "      <td>0.162763</td>\n",
       "    </tr>\n",
       "    <tr>\n",
       "      <th>3</th>\n",
       "      <td>0.626804</td>\n",
       "      <td>0.673606</td>\n",
       "      <td>0.948136</td>\n",
       "    </tr>\n",
       "    <tr>\n",
       "      <th>4</th>\n",
       "      <td>0.496128</td>\n",
       "      <td>0.538352</td>\n",
       "      <td>0.898604</td>\n",
       "    </tr>\n",
       "    <tr>\n",
       "      <th>...</th>\n",
       "      <td>...</td>\n",
       "      <td>...</td>\n",
       "      <td>...</td>\n",
       "    </tr>\n",
       "    <tr>\n",
       "      <th>95</th>\n",
       "      <td>0.716376</td>\n",
       "      <td>0.162881</td>\n",
       "      <td>0.290646</td>\n",
       "    </tr>\n",
       "    <tr>\n",
       "      <th>96</th>\n",
       "      <td>0.087966</td>\n",
       "      <td>0.970158</td>\n",
       "      <td>0.417442</td>\n",
       "    </tr>\n",
       "    <tr>\n",
       "      <th>97</th>\n",
       "      <td>0.158067</td>\n",
       "      <td>0.436741</td>\n",
       "      <td>0.208169</td>\n",
       "    </tr>\n",
       "    <tr>\n",
       "      <th>98</th>\n",
       "      <td>0.805028</td>\n",
       "      <td>0.091185</td>\n",
       "      <td>0.535617</td>\n",
       "    </tr>\n",
       "    <tr>\n",
       "      <th>99</th>\n",
       "      <td>0.837215</td>\n",
       "      <td>0.047359</td>\n",
       "      <td>0.799006</td>\n",
       "    </tr>\n",
       "  </tbody>\n",
       "</table>\n",
       "<p>100 rows × 3 columns</p>\n",
       "</div>"
      ],
      "text/plain": [
       "\n",
       "    r_ext_pAl  r_ext_pMeO  pAl_richness\n",
       "\u001b[1;36m0\u001b[0m    \u001b[1;36m0.030924\u001b[0m    \u001b[1;36m0.133746\u001b[0m      \u001b[1;36m0.504685\u001b[0m\n",
       "\u001b[1;36m1\u001b[0m    \u001b[1;36m0.189274\u001b[0m    \u001b[1;36m0.735465\u001b[0m      \u001b[1;36m0.381894\u001b[0m\n",
       "\u001b[1;36m2\u001b[0m    \u001b[1;36m0.310786\u001b[0m    \u001b[1;36m0.238767\u001b[0m      \u001b[1;36m0.162763\u001b[0m\n",
       "\u001b[1;36m3\u001b[0m    \u001b[1;36m0.626804\u001b[0m    \u001b[1;36m0.673606\u001b[0m      \u001b[1;36m0.948136\u001b[0m\n",
       "\u001b[1;36m4\u001b[0m    \u001b[1;36m0.496128\u001b[0m    \u001b[1;36m0.538352\u001b[0m      \u001b[1;36m0.898604\u001b[0m\n",
       "..        \u001b[33m...\u001b[0m         \u001b[33m...\u001b[0m           \u001b[33m...\u001b[0m\n",
       "\u001b[1;36m95\u001b[0m   \u001b[1;36m0.716376\u001b[0m    \u001b[1;36m0.162881\u001b[0m      \u001b[1;36m0.290646\u001b[0m\n",
       "\u001b[1;36m96\u001b[0m   \u001b[1;36m0.087966\u001b[0m    \u001b[1;36m0.970158\u001b[0m      \u001b[1;36m0.417442\u001b[0m\n",
       "\u001b[1;36m97\u001b[0m   \u001b[1;36m0.158067\u001b[0m    \u001b[1;36m0.436741\u001b[0m      \u001b[1;36m0.208169\u001b[0m\n",
       "\u001b[1;36m98\u001b[0m   \u001b[1;36m0.805028\u001b[0m    \u001b[1;36m0.091185\u001b[0m      \u001b[1;36m0.535617\u001b[0m\n",
       "\u001b[1;36m99\u001b[0m   \u001b[1;36m0.837215\u001b[0m    \u001b[1;36m0.047359\u001b[0m      \u001b[1;36m0.799006\u001b[0m\n",
       "\n",
       "\u001b[1m[\u001b[0m\u001b[1;36m100\u001b[0m rows x \u001b[1;36m3\u001b[0m columns\u001b[1m]\u001b[0m"
      ]
     },
     "execution_count": 50,
     "metadata": {},
     "output_type": "execute_result"
    }
   ],
   "source": [
    "import pandas as pd\n",
    "\n",
    "path = \"../data/05_model_input/100_linear_LHS.csv\"\n",
    "df = pd.read_csv(path)\n",
    "df = df[features]\n",
    "df"
   ]
  },
  {
   "cell_type": "code",
   "execution_count": 43,
   "metadata": {},
   "outputs": [
    {
     "data": {
      "application/vnd.plotly.v1+json": {
       "config": {
        "plotlyServerURL": "https://plot.ly"
       },
       "data": [
        {
         "mode": "markers",
         "type": "scatter",
         "x": [
          0.5345941412458637,
          0.1891391821564135,
          0.7712634498901196,
          0.639392391847749,
          0.072759180921254,
          0.8028749897231034,
          0.3457268333843997,
          0.9497846611989696,
          0.45677660617790833,
          0.36201614784233527,
          0.8918190140926053,
          0.1950720690454345,
          0.6259083463826024,
          0.5000512324492927,
          0.2884920338208026,
          0.16851699689393881,
          0.8736293349223384,
          0.21576441978524785,
          0.2324838848675074,
          0.40632705656061585,
          0.9063366544624475,
          0.7945509029600284,
          0.475070534180041,
          0.4802710267728466,
          0.1784391350208208,
          0.05072541857396319,
          0.3869825476490391,
          0.4318793337970566,
          0.9818492654925433,
          0.5757226805473039,
          0.2536394013732616,
          0.37723803631151304,
          0.5998920530291341,
          0.3064544018239984,
          0.832960009306123,
          0.51708377313755,
          0.6749819921610727,
          0.023290302460413723,
          0.061238958696674235,
          0.13202288590200262,
          0.7887361848953433,
          0.925050324690612,
          0.24031047947885237,
          0.2659177435383188,
          0.2957550486397478,
          0.7251457244953664,
          0.3983628427811461,
          0.15956227172585571,
          0.5552938475256585,
          0.08138812824364042,
          0.3372802507483052,
          0.6948539237980441,
          0.9929744030213474,
          0.6148174352799822,
          0.9790511129648162,
          0.8821542712632751,
          0.4114650183638294,
          0.09983599942441819,
          0.7098526093671536,
          0.12126575792701003,
          0.353886516196209,
          0.4441839142715727,
          0.7482112591215792,
          0.5402189955060259,
          0.7164088949883521,
          0.46791182289201616,
          0.000587589922343813,
          0.584845174203424,
          0.3217156337745285,
          0.858343883512231,
          0.5269389617620734,
          0.2728521163926398,
          0.10717784140009655,
          0.4213276020161567,
          0.7537701398739112,
          0.3192140637371576,
          0.8271361982433888,
          0.4993065755524705,
          0.9560126022527022,
          0.20084000557767911,
          0.014417497092751391,
          0.04093615586577813,
          0.8444016048999287,
          0.8150256969657474,
          0.6414811410190709,
          0.9615164654556424,
          0.733284554949477,
          0.8646165141024826,
          0.5676322670054487,
          0.22846222277848313,
          0.7683051388565586,
          0.6001600375739495,
          0.9162571855475947,
          0.688903777330048,
          0.6619010121732876,
          0.03942053660250925,
          0.11013990460350662,
          0.6561266004587374,
          0.931547949933126,
          0.1441937295391757
         ],
         "y": [
          0.03472327939859565,
          0.21876803641048484,
          0.08197233315173973,
          0.1811138198062848,
          0.6365218662075529,
          0.9646462649483075,
          0.3620817101567407,
          0.20409125723146387,
          0.11242766655283006,
          0.013738013594842122,
          0.9047670084256715,
          0.26893317886283025,
          0.27197791702434176,
          0.9384767241944861,
          0.4550184947811151,
          0.517245520206706,
          0.808672461489052,
          0.8450377757769212,
          0.877308411618488,
          0.6293182322649788,
          0.6069526954601584,
          0.3389890382430597,
          0.7883635022471819,
          0.709065091417154,
          0.5987462197598309,
          0.8609342893609153,
          0.2815490333084897,
          0.9484017887906442,
          0.7433181306301824,
          0.7214575512393046,
          0.47813009011502033,
          0.3495494369605771,
          0.37544221352208307,
          0.22903653226708473,
          0.305766904689157,
          0.4060242207100788,
          0.007493942486566841,
          0.16656208369954859,
          0.6664353160087059,
          0.0952289591408076,
          0.3830746647614791,
          0.3193656310010216,
          0.9562714821071953,
          0.055830997718891426,
          0.3965804946680722,
          0.07639726897808691,
          0.4178828419444648,
          0.3501458628278874,
          0.716175273525749,
          0.047489545157685206,
          0.9895707433801277,
          0.14427235866199292,
          0.8543151028513171,
          0.6738866656603049,
          0.4462383863222798,
          0.13089288866257914,
          0.5893000313227367,
          0.23110810057730635,
          0.4999380254631487,
          0.5324359401310207,
          0.9956254478883713,
          0.524621804847058,
          0.24729499810978248,
          0.5700767937542475,
          0.8303907618281968,
          0.6819880653049548,
          0.5632240762633256,
          0.4379476483481628,
          0.6931100885797432,
          0.027001415917153646,
          0.12517685050839203,
          0.7518936126083892,
          0.924117839653561,
          0.7622797059084653,
          0.19916955754056456,
          0.06266200190142485,
          0.8241132906971493,
          0.8110568644335797,
          0.9711725678370909,
          0.4602299227764012,
          0.420900510405196,
          0.5030399385214952,
          0.7300218957043466,
          0.5426411979555132,
          0.7754718027041284,
          0.9158887583867144,
          0.648691193838135,
          0.6166266840630038,
          0.1760712642677589,
          0.557122067632931,
          0.7990580897422034,
          0.65594257943469,
          0.8873377331897131,
          0.15466314695626973,
          0.10972875785546969,
          0.2554887560159374,
          0.8990483455878556,
          0.48011814509317147,
          0.3298737386515881,
          0.29245764815768727
         ]
        },
        {
         "marker": {
          "color": "red"
         },
         "mode": "markers",
         "type": "scatter",
         "x": [
          0.0309235194022438,
          0.1892737976121891,
          0.3107863445026927,
          0.6268040240767705,
          0.4961279283839893,
          0.5978841534533291,
          0.5251829260178821,
          0.1066528500474232,
          0.0290022802833411,
          0.3979120258271326,
          0.6012179710135208,
          0.8442295996067151,
          0.8871425450558458,
          0.250296973291118,
          0.6704522141489547,
          0.0080028283943132,
          0.4861187100326198,
          0.0700210727248334,
          0.6493531380290853,
          0.7296614733137315,
          0.2634453708987441,
          0.246834034381839,
          0.549665543737579,
          0.9031725635989388,
          0.5021868504530698,
          0.1230979549208145,
          0.2347519099881322,
          0.1330742621399715,
          0.9480026975504552,
          0.5675104086944518,
          0.0973925520481163,
          0.5888964097250191,
          0.5734764316062024,
          0.4062872553872634,
          0.6622419686748006,
          0.4521265575014233,
          0.8935410757962882,
          0.6934661608925765,
          0.7694821115732068,
          0.9145897257067892,
          0.2002227714478621,
          0.426921715442485,
          0.9573052053000328,
          0.1691178650920478,
          0.2171582634299787,
          0.8157015951006985,
          0.6890894915633247,
          0.9767769673055888,
          0.3360701057224246,
          0.3213636078108832,
          0.9962834571224692,
          0.8549680229372792,
          0.747110688143846,
          0.967719321988207,
          0.3026909639058597,
          0.7341943942594065,
          0.5363706851238084,
          0.9325104511205544,
          0.3619266171036066,
          0.2966638251037078,
          0.8206319831423146,
          0.280586486812478,
          0.7017861177388335,
          0.5103368779338279,
          0.2202819057657203,
          0.4628371816165783,
          0.654264151884399,
          0.0507651012051465,
          0.1980518964618534,
          0.7784679895142239,
          0.4754845725742954,
          0.7939844248074875,
          0.3446245206106465,
          0.0157756593991971,
          0.9231945937320416,
          0.9866516975312396,
          0.2716631377783339,
          0.5586621922045902,
          0.1415691791846948,
          0.87187568865782,
          0.384726091807586,
          0.780269608755336,
          0.0605391344117136,
          0.6172961497620237,
          0.0452151356375749,
          0.3516459526901144,
          0.7540268530509563,
          0.1750030658283531,
          0.8623492273207748,
          0.4441958677935654,
          0.1181955589696513,
          0.6347422612644328,
          0.3715035362907398,
          0.4132187604870082,
          0.4393808390812937,
          0.7163764361258026,
          0.0879662674997875,
          0.1580673329792795,
          0.8050284697807384,
          0.8372148794527512
         ],
         "y": [
          0.5046854003953927,
          0.3818941660114262,
          0.1627630710930092,
          0.9481359459136414,
          0.898603637706392,
          0.4059496475946404,
          0.2774839847212282,
          0.1090110739773893,
          0.9363183295099382,
          0.8224257901210772,
          0.456862698046587,
          0.6763328913585214,
          0.6316182179614442,
          0.5422676262115471,
          0.1956043468858906,
          0.703642141782922,
          0.922639494828499,
          0.8321923518032246,
          0.1574994500906902,
          0.6217542572019337,
          0.1252905193935001,
          0.2623637054109959,
          0.9040591740258124,
          0.9646935135011268,
          0.8717962899197882,
          0.6942033961279197,
          0.3716002367791876,
          0.4662472285933414,
          0.5927898527208264,
          0.8497654295979269,
          0.4291681998346511,
          0.3618828002797277,
          0.3178129404551204,
          0.1864720205707028,
          0.4959807598187042,
          0.0879248941147237,
          0.761005835228326,
          0.7420132804989346,
          0.0118048932799545,
          0.2210502304881725,
          0.6437750563928104,
          0.1132411355044724,
          0.9583398312022144,
          0.3936570392727096,
          0.1778813670019559,
          0.3011176902040763,
          0.4874340978347939,
          0.0541827353080056,
          0.2550062169907203,
          0.286759107281522,
          0.8558139244957761,
          0.7290442775845554,
          0.7392429210773057,
          0.5831380068418153,
          0.0747584869572329,
          0.3342779452909196,
          0.6516125867380953,
          0.022029454494278,
          0.989115390358618,
          0.9154638422554268,
          0.6189032144472411,
          0.7831431676603688,
          0.2445399238481618,
          0.5580531941360225,
          0.2392008631627463,
          0.8190902046057267,
          0.2111233016916929,
          0.0315881931402393,
          0.8008034164986413,
          0.0016228271628532,
          0.524368724852887,
          0.5150801783184455,
          0.886456079009794,
          0.6832234197341542,
          0.7144633892720085,
          0.7749297689497878,
          0.6045788152264633,
          0.0689461111825313,
          0.3506281275742774,
          0.6681902521599183,
          0.1336229926642533,
          0.4751897071595564,
          0.9989911534338296,
          0.4331080016566694,
          0.976889176950337,
          0.1425942404799136,
          0.8677699083262416,
          0.3465433645330448,
          0.0459358169645617,
          0.0993478431428345,
          0.4493923762735096,
          0.5718490677859813,
          0.3280347339006406,
          0.5664154560359933,
          0.7582978523935429,
          0.2906460915641235,
          0.4174415579440461,
          0.208169322350792,
          0.535617248266756,
          0.799006272118149
         ]
        }
       ],
       "layout": {
        "template": {
         "data": {
          "bar": [
           {
            "error_x": {
             "color": "#2a3f5f"
            },
            "error_y": {
             "color": "#2a3f5f"
            },
            "marker": {
             "line": {
              "color": "#E5ECF6",
              "width": 0.5
             },
             "pattern": {
              "fillmode": "overlay",
              "size": 10,
              "solidity": 0.2
             }
            },
            "type": "bar"
           }
          ],
          "barpolar": [
           {
            "marker": {
             "line": {
              "color": "#E5ECF6",
              "width": 0.5
             },
             "pattern": {
              "fillmode": "overlay",
              "size": 10,
              "solidity": 0.2
             }
            },
            "type": "barpolar"
           }
          ],
          "carpet": [
           {
            "aaxis": {
             "endlinecolor": "#2a3f5f",
             "gridcolor": "white",
             "linecolor": "white",
             "minorgridcolor": "white",
             "startlinecolor": "#2a3f5f"
            },
            "baxis": {
             "endlinecolor": "#2a3f5f",
             "gridcolor": "white",
             "linecolor": "white",
             "minorgridcolor": "white",
             "startlinecolor": "#2a3f5f"
            },
            "type": "carpet"
           }
          ],
          "choropleth": [
           {
            "colorbar": {
             "outlinewidth": 0,
             "ticks": ""
            },
            "type": "choropleth"
           }
          ],
          "contour": [
           {
            "colorbar": {
             "outlinewidth": 0,
             "ticks": ""
            },
            "colorscale": [
             [
              0,
              "#0d0887"
             ],
             [
              0.1111111111111111,
              "#46039f"
             ],
             [
              0.2222222222222222,
              "#7201a8"
             ],
             [
              0.3333333333333333,
              "#9c179e"
             ],
             [
              0.4444444444444444,
              "#bd3786"
             ],
             [
              0.5555555555555556,
              "#d8576b"
             ],
             [
              0.6666666666666666,
              "#ed7953"
             ],
             [
              0.7777777777777778,
              "#fb9f3a"
             ],
             [
              0.8888888888888888,
              "#fdca26"
             ],
             [
              1,
              "#f0f921"
             ]
            ],
            "type": "contour"
           }
          ],
          "contourcarpet": [
           {
            "colorbar": {
             "outlinewidth": 0,
             "ticks": ""
            },
            "type": "contourcarpet"
           }
          ],
          "heatmap": [
           {
            "colorbar": {
             "outlinewidth": 0,
             "ticks": ""
            },
            "colorscale": [
             [
              0,
              "#0d0887"
             ],
             [
              0.1111111111111111,
              "#46039f"
             ],
             [
              0.2222222222222222,
              "#7201a8"
             ],
             [
              0.3333333333333333,
              "#9c179e"
             ],
             [
              0.4444444444444444,
              "#bd3786"
             ],
             [
              0.5555555555555556,
              "#d8576b"
             ],
             [
              0.6666666666666666,
              "#ed7953"
             ],
             [
              0.7777777777777778,
              "#fb9f3a"
             ],
             [
              0.8888888888888888,
              "#fdca26"
             ],
             [
              1,
              "#f0f921"
             ]
            ],
            "type": "heatmap"
           }
          ],
          "heatmapgl": [
           {
            "colorbar": {
             "outlinewidth": 0,
             "ticks": ""
            },
            "colorscale": [
             [
              0,
              "#0d0887"
             ],
             [
              0.1111111111111111,
              "#46039f"
             ],
             [
              0.2222222222222222,
              "#7201a8"
             ],
             [
              0.3333333333333333,
              "#9c179e"
             ],
             [
              0.4444444444444444,
              "#bd3786"
             ],
             [
              0.5555555555555556,
              "#d8576b"
             ],
             [
              0.6666666666666666,
              "#ed7953"
             ],
             [
              0.7777777777777778,
              "#fb9f3a"
             ],
             [
              0.8888888888888888,
              "#fdca26"
             ],
             [
              1,
              "#f0f921"
             ]
            ],
            "type": "heatmapgl"
           }
          ],
          "histogram": [
           {
            "marker": {
             "pattern": {
              "fillmode": "overlay",
              "size": 10,
              "solidity": 0.2
             }
            },
            "type": "histogram"
           }
          ],
          "histogram2d": [
           {
            "colorbar": {
             "outlinewidth": 0,
             "ticks": ""
            },
            "colorscale": [
             [
              0,
              "#0d0887"
             ],
             [
              0.1111111111111111,
              "#46039f"
             ],
             [
              0.2222222222222222,
              "#7201a8"
             ],
             [
              0.3333333333333333,
              "#9c179e"
             ],
             [
              0.4444444444444444,
              "#bd3786"
             ],
             [
              0.5555555555555556,
              "#d8576b"
             ],
             [
              0.6666666666666666,
              "#ed7953"
             ],
             [
              0.7777777777777778,
              "#fb9f3a"
             ],
             [
              0.8888888888888888,
              "#fdca26"
             ],
             [
              1,
              "#f0f921"
             ]
            ],
            "type": "histogram2d"
           }
          ],
          "histogram2dcontour": [
           {
            "colorbar": {
             "outlinewidth": 0,
             "ticks": ""
            },
            "colorscale": [
             [
              0,
              "#0d0887"
             ],
             [
              0.1111111111111111,
              "#46039f"
             ],
             [
              0.2222222222222222,
              "#7201a8"
             ],
             [
              0.3333333333333333,
              "#9c179e"
             ],
             [
              0.4444444444444444,
              "#bd3786"
             ],
             [
              0.5555555555555556,
              "#d8576b"
             ],
             [
              0.6666666666666666,
              "#ed7953"
             ],
             [
              0.7777777777777778,
              "#fb9f3a"
             ],
             [
              0.8888888888888888,
              "#fdca26"
             ],
             [
              1,
              "#f0f921"
             ]
            ],
            "type": "histogram2dcontour"
           }
          ],
          "mesh3d": [
           {
            "colorbar": {
             "outlinewidth": 0,
             "ticks": ""
            },
            "type": "mesh3d"
           }
          ],
          "parcoords": [
           {
            "line": {
             "colorbar": {
              "outlinewidth": 0,
              "ticks": ""
             }
            },
            "type": "parcoords"
           }
          ],
          "pie": [
           {
            "automargin": true,
            "type": "pie"
           }
          ],
          "scatter": [
           {
            "fillpattern": {
             "fillmode": "overlay",
             "size": 10,
             "solidity": 0.2
            },
            "type": "scatter"
           }
          ],
          "scatter3d": [
           {
            "line": {
             "colorbar": {
              "outlinewidth": 0,
              "ticks": ""
             }
            },
            "marker": {
             "colorbar": {
              "outlinewidth": 0,
              "ticks": ""
             }
            },
            "type": "scatter3d"
           }
          ],
          "scattercarpet": [
           {
            "marker": {
             "colorbar": {
              "outlinewidth": 0,
              "ticks": ""
             }
            },
            "type": "scattercarpet"
           }
          ],
          "scattergeo": [
           {
            "marker": {
             "colorbar": {
              "outlinewidth": 0,
              "ticks": ""
             }
            },
            "type": "scattergeo"
           }
          ],
          "scattergl": [
           {
            "marker": {
             "colorbar": {
              "outlinewidth": 0,
              "ticks": ""
             }
            },
            "type": "scattergl"
           }
          ],
          "scattermapbox": [
           {
            "marker": {
             "colorbar": {
              "outlinewidth": 0,
              "ticks": ""
             }
            },
            "type": "scattermapbox"
           }
          ],
          "scatterpolar": [
           {
            "marker": {
             "colorbar": {
              "outlinewidth": 0,
              "ticks": ""
             }
            },
            "type": "scatterpolar"
           }
          ],
          "scatterpolargl": [
           {
            "marker": {
             "colorbar": {
              "outlinewidth": 0,
              "ticks": ""
             }
            },
            "type": "scatterpolargl"
           }
          ],
          "scatterternary": [
           {
            "marker": {
             "colorbar": {
              "outlinewidth": 0,
              "ticks": ""
             }
            },
            "type": "scatterternary"
           }
          ],
          "surface": [
           {
            "colorbar": {
             "outlinewidth": 0,
             "ticks": ""
            },
            "colorscale": [
             [
              0,
              "#0d0887"
             ],
             [
              0.1111111111111111,
              "#46039f"
             ],
             [
              0.2222222222222222,
              "#7201a8"
             ],
             [
              0.3333333333333333,
              "#9c179e"
             ],
             [
              0.4444444444444444,
              "#bd3786"
             ],
             [
              0.5555555555555556,
              "#d8576b"
             ],
             [
              0.6666666666666666,
              "#ed7953"
             ],
             [
              0.7777777777777778,
              "#fb9f3a"
             ],
             [
              0.8888888888888888,
              "#fdca26"
             ],
             [
              1,
              "#f0f921"
             ]
            ],
            "type": "surface"
           }
          ],
          "table": [
           {
            "cells": {
             "fill": {
              "color": "#EBF0F8"
             },
             "line": {
              "color": "white"
             }
            },
            "header": {
             "fill": {
              "color": "#C8D4E3"
             },
             "line": {
              "color": "white"
             }
            },
            "type": "table"
           }
          ]
         },
         "layout": {
          "annotationdefaults": {
           "arrowcolor": "#2a3f5f",
           "arrowhead": 0,
           "arrowwidth": 1
          },
          "autotypenumbers": "strict",
          "coloraxis": {
           "colorbar": {
            "outlinewidth": 0,
            "ticks": ""
           }
          },
          "colorscale": {
           "diverging": [
            [
             0,
             "#8e0152"
            ],
            [
             0.1,
             "#c51b7d"
            ],
            [
             0.2,
             "#de77ae"
            ],
            [
             0.3,
             "#f1b6da"
            ],
            [
             0.4,
             "#fde0ef"
            ],
            [
             0.5,
             "#f7f7f7"
            ],
            [
             0.6,
             "#e6f5d0"
            ],
            [
             0.7,
             "#b8e186"
            ],
            [
             0.8,
             "#7fbc41"
            ],
            [
             0.9,
             "#4d9221"
            ],
            [
             1,
             "#276419"
            ]
           ],
           "sequential": [
            [
             0,
             "#0d0887"
            ],
            [
             0.1111111111111111,
             "#46039f"
            ],
            [
             0.2222222222222222,
             "#7201a8"
            ],
            [
             0.3333333333333333,
             "#9c179e"
            ],
            [
             0.4444444444444444,
             "#bd3786"
            ],
            [
             0.5555555555555556,
             "#d8576b"
            ],
            [
             0.6666666666666666,
             "#ed7953"
            ],
            [
             0.7777777777777778,
             "#fb9f3a"
            ],
            [
             0.8888888888888888,
             "#fdca26"
            ],
            [
             1,
             "#f0f921"
            ]
           ],
           "sequentialminus": [
            [
             0,
             "#0d0887"
            ],
            [
             0.1111111111111111,
             "#46039f"
            ],
            [
             0.2222222222222222,
             "#7201a8"
            ],
            [
             0.3333333333333333,
             "#9c179e"
            ],
            [
             0.4444444444444444,
             "#bd3786"
            ],
            [
             0.5555555555555556,
             "#d8576b"
            ],
            [
             0.6666666666666666,
             "#ed7953"
            ],
            [
             0.7777777777777778,
             "#fb9f3a"
            ],
            [
             0.8888888888888888,
             "#fdca26"
            ],
            [
             1,
             "#f0f921"
            ]
           ]
          },
          "colorway": [
           "#636efa",
           "#EF553B",
           "#00cc96",
           "#ab63fa",
           "#FFA15A",
           "#19d3f3",
           "#FF6692",
           "#B6E880",
           "#FF97FF",
           "#FECB52"
          ],
          "font": {
           "color": "#2a3f5f"
          },
          "geo": {
           "bgcolor": "white",
           "lakecolor": "white",
           "landcolor": "#E5ECF6",
           "showlakes": true,
           "showland": true,
           "subunitcolor": "white"
          },
          "hoverlabel": {
           "align": "left"
          },
          "hovermode": "closest",
          "mapbox": {
           "style": "light"
          },
          "paper_bgcolor": "white",
          "plot_bgcolor": "#E5ECF6",
          "polar": {
           "angularaxis": {
            "gridcolor": "white",
            "linecolor": "white",
            "ticks": ""
           },
           "bgcolor": "#E5ECF6",
           "radialaxis": {
            "gridcolor": "white",
            "linecolor": "white",
            "ticks": ""
           }
          },
          "scene": {
           "xaxis": {
            "backgroundcolor": "#E5ECF6",
            "gridcolor": "white",
            "gridwidth": 2,
            "linecolor": "white",
            "showbackground": true,
            "ticks": "",
            "zerolinecolor": "white"
           },
           "yaxis": {
            "backgroundcolor": "#E5ECF6",
            "gridcolor": "white",
            "gridwidth": 2,
            "linecolor": "white",
            "showbackground": true,
            "ticks": "",
            "zerolinecolor": "white"
           },
           "zaxis": {
            "backgroundcolor": "#E5ECF6",
            "gridcolor": "white",
            "gridwidth": 2,
            "linecolor": "white",
            "showbackground": true,
            "ticks": "",
            "zerolinecolor": "white"
           }
          },
          "shapedefaults": {
           "line": {
            "color": "#2a3f5f"
           }
          },
          "ternary": {
           "aaxis": {
            "gridcolor": "white",
            "linecolor": "white",
            "ticks": ""
           },
           "baxis": {
            "gridcolor": "white",
            "linecolor": "white",
            "ticks": ""
           },
           "bgcolor": "#E5ECF6",
           "caxis": {
            "gridcolor": "white",
            "linecolor": "white",
            "ticks": ""
           }
          },
          "title": {
           "x": 0.05
          },
          "xaxis": {
           "automargin": true,
           "gridcolor": "white",
           "linecolor": "white",
           "ticks": "",
           "title": {
            "standoff": 15
           },
           "zerolinecolor": "white",
           "zerolinewidth": 2
          },
          "yaxis": {
           "automargin": true,
           "gridcolor": "white",
           "linecolor": "white",
           "ticks": "",
           "title": {
            "standoff": 15
           },
           "zerolinecolor": "white",
           "zerolinewidth": 2
          }
         }
        }
       }
      }
     },
     "metadata": {},
     "output_type": "display_data"
    }
   ],
   "source": [
    "# plot 2d samples using plotly\n",
    "import plotly.graph_objects as go\n",
    "import plotly.express as px\n",
    "\n",
    "fig = go.Figure()\n",
    "\n",
    "fig.add_trace(go.Scatter(x=df.values[:, 0], y=df.values[:, 2], mode='markers', marker=dict(color='red')))\n",
    "fig.show()"
   ]
  },
  {
   "cell_type": "code",
   "execution_count": 55,
   "metadata": {},
   "outputs": [
    {
     "data": {
      "text/html": [
       "<pre style=\"white-space:pre;overflow-x:auto;line-height:normal;font-family:Menlo,'DejaVu Sans Mono',consolas,'Courier New',monospace\"></pre>\n"
      ],
      "text/plain": []
     },
     "metadata": {},
     "output_type": "display_data"
    },
    {
     "data": {
      "text/html": [
       "<div>\n",
       "<style scoped>\n",
       "    .dataframe tbody tr th:only-of-type {\n",
       "        vertical-align: middle;\n",
       "    }\n",
       "\n",
       "    .dataframe tbody tr th {\n",
       "        vertical-align: top;\n",
       "    }\n",
       "\n",
       "    .dataframe thead th {\n",
       "        text-align: right;\n",
       "    }\n",
       "</style>\n",
       "<table border=\"1\" class=\"dataframe\">\n",
       "  <thead>\n",
       "    <tr style=\"text-align: right;\">\n",
       "      <th></th>\n",
       "      <th>r_ext_pAl</th>\n",
       "      <th>r_ext_pMeO</th>\n",
       "      <th>pAl_richness</th>\n",
       "    </tr>\n",
       "  </thead>\n",
       "  <tbody>\n",
       "    <tr>\n",
       "      <th>0</th>\n",
       "      <td>5.030505e-07</td>\n",
       "      <td>1.510715e-06</td>\n",
       "      <td>2.514056</td>\n",
       "    </tr>\n",
       "    <tr>\n",
       "      <th>1</th>\n",
       "      <td>2.054883e-06</td>\n",
       "      <td>7.407555e-06</td>\n",
       "      <td>2.145682</td>\n",
       "    </tr>\n",
       "    <tr>\n",
       "      <th>2</th>\n",
       "      <td>3.245706e-06</td>\n",
       "      <td>2.539921e-06</td>\n",
       "      <td>1.488289</td>\n",
       "    </tr>\n",
       "    <tr>\n",
       "      <th>3</th>\n",
       "      <td>6.342679e-06</td>\n",
       "      <td>6.801342e-06</td>\n",
       "      <td>3.844408</td>\n",
       "    </tr>\n",
       "    <tr>\n",
       "      <th>4</th>\n",
       "      <td>5.062054e-06</td>\n",
       "      <td>5.475850e-06</td>\n",
       "      <td>3.695811</td>\n",
       "    </tr>\n",
       "    <tr>\n",
       "      <th>...</th>\n",
       "      <td>...</td>\n",
       "      <td>...</td>\n",
       "      <td>...</td>\n",
       "    </tr>\n",
       "    <tr>\n",
       "      <th>95</th>\n",
       "      <td>7.220489e-06</td>\n",
       "      <td>1.796238e-06</td>\n",
       "      <td>1.871938</td>\n",
       "    </tr>\n",
       "    <tr>\n",
       "      <th>96</th>\n",
       "      <td>1.062069e-06</td>\n",
       "      <td>9.707552e-06</td>\n",
       "      <td>2.252325</td>\n",
       "    </tr>\n",
       "    <tr>\n",
       "      <th>97</th>\n",
       "      <td>1.749060e-06</td>\n",
       "      <td>4.480061e-06</td>\n",
       "      <td>1.624508</td>\n",
       "    </tr>\n",
       "    <tr>\n",
       "      <th>98</th>\n",
       "      <td>8.089279e-06</td>\n",
       "      <td>1.093618e-06</td>\n",
       "      <td>2.606852</td>\n",
       "    </tr>\n",
       "    <tr>\n",
       "      <th>99</th>\n",
       "      <td>8.404706e-06</td>\n",
       "      <td>6.641161e-07</td>\n",
       "      <td>3.397019</td>\n",
       "    </tr>\n",
       "  </tbody>\n",
       "</table>\n",
       "<p>100 rows × 3 columns</p>\n",
       "</div>"
      ],
      "text/plain": [
       "\n",
       "       r_ext_pAl    r_ext_pMeO  pAl_richness\n",
       "\u001b[1;36m0\u001b[0m   \u001b[1;36m5.030505e-07\u001b[0m  \u001b[1;36m1.510715e-06\u001b[0m      \u001b[1;36m2.514056\u001b[0m\n",
       "\u001b[1;36m1\u001b[0m   \u001b[1;36m2.054883e-06\u001b[0m  \u001b[1;36m7.407555e-06\u001b[0m      \u001b[1;36m2.145682\u001b[0m\n",
       "\u001b[1;36m2\u001b[0m   \u001b[1;36m3.245706e-06\u001b[0m  \u001b[1;36m2.539921e-06\u001b[0m      \u001b[1;36m1.488289\u001b[0m\n",
       "\u001b[1;36m3\u001b[0m   \u001b[1;36m6.342679e-06\u001b[0m  \u001b[1;36m6.801342e-06\u001b[0m      \u001b[1;36m3.844408\u001b[0m\n",
       "\u001b[1;36m4\u001b[0m   \u001b[1;36m5.062054e-06\u001b[0m  \u001b[1;36m5.475850e-06\u001b[0m      \u001b[1;36m3.695811\u001b[0m\n",
       "..           \u001b[33m...\u001b[0m           \u001b[33m...\u001b[0m           \u001b[33m...\u001b[0m\n",
       "\u001b[1;36m95\u001b[0m  \u001b[1;36m7.220489e-06\u001b[0m  \u001b[1;36m1.796238e-06\u001b[0m      \u001b[1;36m1.871938\u001b[0m\n",
       "\u001b[1;36m96\u001b[0m  \u001b[1;36m1.062069e-06\u001b[0m  \u001b[1;36m9.707552e-06\u001b[0m      \u001b[1;36m2.252325\u001b[0m\n",
       "\u001b[1;36m97\u001b[0m  \u001b[1;36m1.749060e-06\u001b[0m  \u001b[1;36m4.480061e-06\u001b[0m      \u001b[1;36m1.624508\u001b[0m\n",
       "\u001b[1;36m98\u001b[0m  \u001b[1;36m8.089279e-06\u001b[0m  \u001b[1;36m1.093618e-06\u001b[0m      \u001b[1;36m2.606852\u001b[0m\n",
       "\u001b[1;36m99\u001b[0m  \u001b[1;36m8.404706e-06\u001b[0m  \u001b[1;36m6.641161e-07\u001b[0m      \u001b[1;36m3.397019\u001b[0m\n",
       "\n",
       "\u001b[1m[\u001b[0m\u001b[1;36m100\u001b[0m rows x \u001b[1;36m3\u001b[0m columns\u001b[1m]\u001b[0m"
      ]
     },
     "execution_count": 55,
     "metadata": {},
     "output_type": "execute_result"
    }
   ],
   "source": [
    "path = \"../data/02_intermediate/100_linear_LHS_physical.csv\"\n",
    "df_physical = pd.read_csv(path)\n",
    "df_physical = df_physical[features]\n",
    "df_physical"
   ]
  },
  {
   "cell_type": "code",
   "execution_count": 57,
   "metadata": {},
   "outputs": [],
   "source": [
    "physical_rescaled = treatment.scaler.transform_features(df_physical.values)"
   ]
  },
  {
   "cell_type": "code",
   "execution_count": null,
   "metadata": {},
   "outputs": [],
   "source": []
  },
  {
   "cell_type": "code",
   "execution_count": 59,
   "metadata": {},
   "outputs": [
    {
     "data": {
      "application/vnd.plotly.v1+json": {
       "config": {
        "plotlyServerURL": "https://plot.ly"
       },
       "data": [
        {
         "marker": {
          "color": "blue"
         },
         "mode": "markers",
         "type": "scatter",
         "x": [
          0.0309235194022438,
          0.1892737976121891,
          0.3107863445026927,
          0.6268040240767705,
          0.4961279283839893,
          0.5978841534533291,
          0.5251829260178821,
          0.1066528500474232,
          0.0290022802833411,
          0.3979120258271326,
          0.6012179710135208,
          0.8442295996067151,
          0.8871425450558458,
          0.250296973291118,
          0.6704522141489547,
          0.0080028283943132,
          0.4861187100326198,
          0.0700210727248334,
          0.6493531380290853,
          0.7296614733137315,
          0.2634453708987441,
          0.246834034381839,
          0.549665543737579,
          0.9031725635989388,
          0.5021868504530698,
          0.1230979549208145,
          0.2347519099881322,
          0.1330742621399715,
          0.9480026975504552,
          0.5675104086944518,
          0.0973925520481163,
          0.5888964097250191,
          0.5734764316062024,
          0.4062872553872634,
          0.6622419686748006,
          0.4521265575014233,
          0.8935410757962882,
          0.6934661608925765,
          0.7694821115732068,
          0.9145897257067892,
          0.2002227714478621,
          0.426921715442485,
          0.9573052053000328,
          0.1691178650920478,
          0.2171582634299787,
          0.8157015951006985,
          0.6890894915633247,
          0.9767769673055888,
          0.3360701057224246,
          0.3213636078108832,
          0.9962834571224692,
          0.8549680229372792,
          0.747110688143846,
          0.967719321988207,
          0.3026909639058597,
          0.7341943942594065,
          0.5363706851238084,
          0.9325104511205544,
          0.3619266171036066,
          0.2966638251037078,
          0.8206319831423146,
          0.280586486812478,
          0.7017861177388335,
          0.5103368779338279,
          0.2202819057657203,
          0.4628371816165783,
          0.654264151884399,
          0.0507651012051465,
          0.1980518964618534,
          0.7784679895142239,
          0.4754845725742954,
          0.7939844248074875,
          0.3446245206106465,
          0.0157756593991971,
          0.9231945937320416,
          0.9866516975312396,
          0.2716631377783339,
          0.5586621922045902,
          0.1415691791846948,
          0.87187568865782,
          0.384726091807586,
          0.780269608755336,
          0.0605391344117136,
          0.6172961497620237,
          0.0452151356375749,
          0.3516459526901144,
          0.7540268530509563,
          0.1750030658283531,
          0.8623492273207748,
          0.4441958677935654,
          0.1181955589696513,
          0.6347422612644328,
          0.3715035362907398,
          0.4132187604870082,
          0.4393808390812937,
          0.7163764361258026,
          0.0879662674997875,
          0.1580673329792795,
          0.8050284697807384,
          0.8372148794527512
         ],
         "y": [
          0.5046854003953927,
          0.3818941660114262,
          0.1627630710930092,
          0.9481359459136414,
          0.898603637706392,
          0.4059496475946404,
          0.2774839847212282,
          0.1090110739773893,
          0.9363183295099382,
          0.8224257901210772,
          0.456862698046587,
          0.6763328913585214,
          0.6316182179614442,
          0.5422676262115471,
          0.1956043468858906,
          0.703642141782922,
          0.922639494828499,
          0.8321923518032246,
          0.1574994500906902,
          0.6217542572019337,
          0.1252905193935001,
          0.2623637054109959,
          0.9040591740258124,
          0.9646935135011268,
          0.8717962899197882,
          0.6942033961279197,
          0.3716002367791876,
          0.4662472285933414,
          0.5927898527208264,
          0.8497654295979269,
          0.4291681998346511,
          0.3618828002797277,
          0.3178129404551204,
          0.1864720205707028,
          0.4959807598187042,
          0.0879248941147237,
          0.761005835228326,
          0.7420132804989346,
          0.0118048932799545,
          0.2210502304881725,
          0.6437750563928104,
          0.1132411355044724,
          0.9583398312022144,
          0.3936570392727096,
          0.1778813670019559,
          0.3011176902040763,
          0.4874340978347939,
          0.0541827353080056,
          0.2550062169907203,
          0.286759107281522,
          0.8558139244957761,
          0.7290442775845554,
          0.7392429210773057,
          0.5831380068418153,
          0.0747584869572329,
          0.3342779452909196,
          0.6516125867380953,
          0.022029454494278,
          0.989115390358618,
          0.9154638422554268,
          0.6189032144472411,
          0.7831431676603688,
          0.2445399238481618,
          0.5580531941360225,
          0.2392008631627463,
          0.8190902046057267,
          0.2111233016916929,
          0.0315881931402393,
          0.8008034164986413,
          0.0016228271628532,
          0.524368724852887,
          0.5150801783184455,
          0.886456079009794,
          0.6832234197341542,
          0.7144633892720085,
          0.7749297689497878,
          0.6045788152264633,
          0.0689461111825313,
          0.3506281275742774,
          0.6681902521599183,
          0.1336229926642533,
          0.4751897071595564,
          0.9989911534338296,
          0.4331080016566694,
          0.976889176950337,
          0.1425942404799136,
          0.8677699083262416,
          0.3465433645330448,
          0.0459358169645617,
          0.0993478431428345,
          0.4493923762735096,
          0.5718490677859813,
          0.3280347339006406,
          0.5664154560359933,
          0.7582978523935429,
          0.2906460915641235,
          0.4174415579440461,
          0.208169322350792,
          0.535617248266756,
          0.799006272118149
         ]
        },
        {
         "marker": {
          "color": "red"
         },
         "mode": "markers",
         "type": "scatter",
         "x": [
          0.0309235194022438,
          0.18927379761218913,
          0.3107863445026927,
          0.6268040240767705,
          0.49612792838398934,
          0.5978841534533291,
          0.5251829260178821,
          0.1066528500474232,
          0.029002280283341102,
          0.39791202582713264,
          0.6012179710135208,
          0.8442295996067151,
          0.8871425450558458,
          0.250296973291118,
          0.6704522141489547,
          0.0080028283943132,
          0.48611871003261986,
          0.0700210727248334,
          0.6493531380290853,
          0.7296614733137315,
          0.2634453708987441,
          0.246834034381839,
          0.549665543737579,
          0.9031725635989389,
          0.5021868504530698,
          0.12309795492081452,
          0.23475190998813225,
          0.1330742621399715,
          0.9480026975504551,
          0.5675104086944518,
          0.09739255204811638,
          0.5888964097250191,
          0.5734764316062024,
          0.4062872553872634,
          0.6622419686748006,
          0.45212655750142333,
          0.8935410757962882,
          0.6934661608925765,
          0.7694821115732068,
          0.9145897257067893,
          0.20022277144786213,
          0.426921715442485,
          0.9573052053000328,
          0.16911786509204788,
          0.21715826342997874,
          0.8157015951006985,
          0.6890894915633247,
          0.9767769673055889,
          0.3360701057224246,
          0.32136360781088325,
          0.9962834571224692,
          0.8549680229372792,
          0.747110688143846,
          0.967719321988207,
          0.3026909639058597,
          0.7341943942594065,
          0.5363706851238084,
          0.9325104511205545,
          0.3619266171036066,
          0.2966638251037078,
          0.8206319831423146,
          0.280586486812478,
          0.7017861177388335,
          0.5103368779338279,
          0.2202819057657203,
          0.4628371816165783,
          0.654264151884399,
          0.050765101205146504,
          0.19805189646185348,
          0.7784679895142239,
          0.4754845725742954,
          0.7939844248074875,
          0.3446245206106465,
          0.015775659399197107,
          0.9231945937320415,
          0.9866516975312396,
          0.2716631377783339,
          0.5586621922045902,
          0.1415691791846948,
          0.87187568865782,
          0.384726091807586,
          0.780269608755336,
          0.0605391344117136,
          0.6172961497620237,
          0.0452151356375749,
          0.35164595269011445,
          0.7540268530509563,
          0.1750030658283531,
          0.8623492273207748,
          0.4441958677935654,
          0.11819555896965131,
          0.6347422612644328,
          0.3715035362907398,
          0.4132187604870082,
          0.4393808390812937,
          0.7163764361258026,
          0.08796626749978752,
          0.15806733297927958,
          0.8050284697807384,
          0.8372148794527512
         ],
         "y": [
          0.5046854003953927,
          0.3818941660114262,
          0.1627630710930092,
          0.9481359459136414,
          0.898603637706392,
          0.4059496475946404,
          0.2774839847212282,
          0.10901107397738935,
          0.9363183295099382,
          0.8224257901210772,
          0.456862698046587,
          0.6763328913585214,
          0.6316182179614442,
          0.5422676262115471,
          0.19560434688589062,
          0.703642141782922,
          0.922639494828499,
          0.8321923518032246,
          0.15749945009069027,
          0.6217542572019337,
          0.1252905193935001,
          0.2623637054109959,
          0.9040591740258124,
          0.9646935135011268,
          0.8717962899197882,
          0.6942033961279197,
          0.3716002367791876,
          0.4662472285933414,
          0.5927898527208264,
          0.8497654295979269,
          0.4291681998346511,
          0.3618828002797277,
          0.3178129404551204,
          0.18647202057070283,
          0.4959807598187042,
          0.0879248941147237,
          0.761005835228326,
          0.7420132804989346,
          0.011804893279954543,
          0.22105023048817257,
          0.6437750563928104,
          0.1132411355044724,
          0.9583398312022144,
          0.3936570392727096,
          0.17788136700195595,
          0.30111769020407636,
          0.4874340978347939,
          0.0541827353080056,
          0.2550062169907203,
          0.28675910728152204,
          0.8558139244957761,
          0.7290442775845554,
          0.7392429210773057,
          0.5831380068418153,
          0.07475848695723292,
          0.33427794529091964,
          0.6516125867380953,
          0.02202945449427801,
          0.9891153903586181,
          0.9154638422554267,
          0.6189032144472411,
          0.7831431676603688,
          0.24453992384816187,
          0.5580531941360225,
          0.2392008631627463,
          0.8190902046057267,
          0.21112330169169297,
          0.03158819314023931,
          0.8008034164986413,
          0.0016228271628532798,
          0.524368724852887,
          0.5150801783184455,
          0.886456079009794,
          0.6832234197341542,
          0.7144633892720085,
          0.7749297689497878,
          0.6045788152264633,
          0.0689461111825313,
          0.35062812757427747,
          0.6681902521599183,
          0.13362299266425332,
          0.4751897071595564,
          0.9989911534338296,
          0.43310800165666946,
          0.976889176950337,
          0.1425942404799136,
          0.8677699083262416,
          0.34654336453304485,
          0.04593581696456178,
          0.09934784314283451,
          0.44939237627350964,
          0.5718490677859813,
          0.3280347339006406,
          0.5664154560359933,
          0.7582978523935429,
          0.2906460915641235,
          0.4174415579440461,
          0.20816932235079205,
          0.535617248266756,
          0.799006272118149
         ]
        }
       ],
       "layout": {
        "template": {
         "data": {
          "bar": [
           {
            "error_x": {
             "color": "#2a3f5f"
            },
            "error_y": {
             "color": "#2a3f5f"
            },
            "marker": {
             "line": {
              "color": "#E5ECF6",
              "width": 0.5
             },
             "pattern": {
              "fillmode": "overlay",
              "size": 10,
              "solidity": 0.2
             }
            },
            "type": "bar"
           }
          ],
          "barpolar": [
           {
            "marker": {
             "line": {
              "color": "#E5ECF6",
              "width": 0.5
             },
             "pattern": {
              "fillmode": "overlay",
              "size": 10,
              "solidity": 0.2
             }
            },
            "type": "barpolar"
           }
          ],
          "carpet": [
           {
            "aaxis": {
             "endlinecolor": "#2a3f5f",
             "gridcolor": "white",
             "linecolor": "white",
             "minorgridcolor": "white",
             "startlinecolor": "#2a3f5f"
            },
            "baxis": {
             "endlinecolor": "#2a3f5f",
             "gridcolor": "white",
             "linecolor": "white",
             "minorgridcolor": "white",
             "startlinecolor": "#2a3f5f"
            },
            "type": "carpet"
           }
          ],
          "choropleth": [
           {
            "colorbar": {
             "outlinewidth": 0,
             "ticks": ""
            },
            "type": "choropleth"
           }
          ],
          "contour": [
           {
            "colorbar": {
             "outlinewidth": 0,
             "ticks": ""
            },
            "colorscale": [
             [
              0,
              "#0d0887"
             ],
             [
              0.1111111111111111,
              "#46039f"
             ],
             [
              0.2222222222222222,
              "#7201a8"
             ],
             [
              0.3333333333333333,
              "#9c179e"
             ],
             [
              0.4444444444444444,
              "#bd3786"
             ],
             [
              0.5555555555555556,
              "#d8576b"
             ],
             [
              0.6666666666666666,
              "#ed7953"
             ],
             [
              0.7777777777777778,
              "#fb9f3a"
             ],
             [
              0.8888888888888888,
              "#fdca26"
             ],
             [
              1,
              "#f0f921"
             ]
            ],
            "type": "contour"
           }
          ],
          "contourcarpet": [
           {
            "colorbar": {
             "outlinewidth": 0,
             "ticks": ""
            },
            "type": "contourcarpet"
           }
          ],
          "heatmap": [
           {
            "colorbar": {
             "outlinewidth": 0,
             "ticks": ""
            },
            "colorscale": [
             [
              0,
              "#0d0887"
             ],
             [
              0.1111111111111111,
              "#46039f"
             ],
             [
              0.2222222222222222,
              "#7201a8"
             ],
             [
              0.3333333333333333,
              "#9c179e"
             ],
             [
              0.4444444444444444,
              "#bd3786"
             ],
             [
              0.5555555555555556,
              "#d8576b"
             ],
             [
              0.6666666666666666,
              "#ed7953"
             ],
             [
              0.7777777777777778,
              "#fb9f3a"
             ],
             [
              0.8888888888888888,
              "#fdca26"
             ],
             [
              1,
              "#f0f921"
             ]
            ],
            "type": "heatmap"
           }
          ],
          "heatmapgl": [
           {
            "colorbar": {
             "outlinewidth": 0,
             "ticks": ""
            },
            "colorscale": [
             [
              0,
              "#0d0887"
             ],
             [
              0.1111111111111111,
              "#46039f"
             ],
             [
              0.2222222222222222,
              "#7201a8"
             ],
             [
              0.3333333333333333,
              "#9c179e"
             ],
             [
              0.4444444444444444,
              "#bd3786"
             ],
             [
              0.5555555555555556,
              "#d8576b"
             ],
             [
              0.6666666666666666,
              "#ed7953"
             ],
             [
              0.7777777777777778,
              "#fb9f3a"
             ],
             [
              0.8888888888888888,
              "#fdca26"
             ],
             [
              1,
              "#f0f921"
             ]
            ],
            "type": "heatmapgl"
           }
          ],
          "histogram": [
           {
            "marker": {
             "pattern": {
              "fillmode": "overlay",
              "size": 10,
              "solidity": 0.2
             }
            },
            "type": "histogram"
           }
          ],
          "histogram2d": [
           {
            "colorbar": {
             "outlinewidth": 0,
             "ticks": ""
            },
            "colorscale": [
             [
              0,
              "#0d0887"
             ],
             [
              0.1111111111111111,
              "#46039f"
             ],
             [
              0.2222222222222222,
              "#7201a8"
             ],
             [
              0.3333333333333333,
              "#9c179e"
             ],
             [
              0.4444444444444444,
              "#bd3786"
             ],
             [
              0.5555555555555556,
              "#d8576b"
             ],
             [
              0.6666666666666666,
              "#ed7953"
             ],
             [
              0.7777777777777778,
              "#fb9f3a"
             ],
             [
              0.8888888888888888,
              "#fdca26"
             ],
             [
              1,
              "#f0f921"
             ]
            ],
            "type": "histogram2d"
           }
          ],
          "histogram2dcontour": [
           {
            "colorbar": {
             "outlinewidth": 0,
             "ticks": ""
            },
            "colorscale": [
             [
              0,
              "#0d0887"
             ],
             [
              0.1111111111111111,
              "#46039f"
             ],
             [
              0.2222222222222222,
              "#7201a8"
             ],
             [
              0.3333333333333333,
              "#9c179e"
             ],
             [
              0.4444444444444444,
              "#bd3786"
             ],
             [
              0.5555555555555556,
              "#d8576b"
             ],
             [
              0.6666666666666666,
              "#ed7953"
             ],
             [
              0.7777777777777778,
              "#fb9f3a"
             ],
             [
              0.8888888888888888,
              "#fdca26"
             ],
             [
              1,
              "#f0f921"
             ]
            ],
            "type": "histogram2dcontour"
           }
          ],
          "mesh3d": [
           {
            "colorbar": {
             "outlinewidth": 0,
             "ticks": ""
            },
            "type": "mesh3d"
           }
          ],
          "parcoords": [
           {
            "line": {
             "colorbar": {
              "outlinewidth": 0,
              "ticks": ""
             }
            },
            "type": "parcoords"
           }
          ],
          "pie": [
           {
            "automargin": true,
            "type": "pie"
           }
          ],
          "scatter": [
           {
            "fillpattern": {
             "fillmode": "overlay",
             "size": 10,
             "solidity": 0.2
            },
            "type": "scatter"
           }
          ],
          "scatter3d": [
           {
            "line": {
             "colorbar": {
              "outlinewidth": 0,
              "ticks": ""
             }
            },
            "marker": {
             "colorbar": {
              "outlinewidth": 0,
              "ticks": ""
             }
            },
            "type": "scatter3d"
           }
          ],
          "scattercarpet": [
           {
            "marker": {
             "colorbar": {
              "outlinewidth": 0,
              "ticks": ""
             }
            },
            "type": "scattercarpet"
           }
          ],
          "scattergeo": [
           {
            "marker": {
             "colorbar": {
              "outlinewidth": 0,
              "ticks": ""
             }
            },
            "type": "scattergeo"
           }
          ],
          "scattergl": [
           {
            "marker": {
             "colorbar": {
              "outlinewidth": 0,
              "ticks": ""
             }
            },
            "type": "scattergl"
           }
          ],
          "scattermapbox": [
           {
            "marker": {
             "colorbar": {
              "outlinewidth": 0,
              "ticks": ""
             }
            },
            "type": "scattermapbox"
           }
          ],
          "scatterpolar": [
           {
            "marker": {
             "colorbar": {
              "outlinewidth": 0,
              "ticks": ""
             }
            },
            "type": "scatterpolar"
           }
          ],
          "scatterpolargl": [
           {
            "marker": {
             "colorbar": {
              "outlinewidth": 0,
              "ticks": ""
             }
            },
            "type": "scatterpolargl"
           }
          ],
          "scatterternary": [
           {
            "marker": {
             "colorbar": {
              "outlinewidth": 0,
              "ticks": ""
             }
            },
            "type": "scatterternary"
           }
          ],
          "surface": [
           {
            "colorbar": {
             "outlinewidth": 0,
             "ticks": ""
            },
            "colorscale": [
             [
              0,
              "#0d0887"
             ],
             [
              0.1111111111111111,
              "#46039f"
             ],
             [
              0.2222222222222222,
              "#7201a8"
             ],
             [
              0.3333333333333333,
              "#9c179e"
             ],
             [
              0.4444444444444444,
              "#bd3786"
             ],
             [
              0.5555555555555556,
              "#d8576b"
             ],
             [
              0.6666666666666666,
              "#ed7953"
             ],
             [
              0.7777777777777778,
              "#fb9f3a"
             ],
             [
              0.8888888888888888,
              "#fdca26"
             ],
             [
              1,
              "#f0f921"
             ]
            ],
            "type": "surface"
           }
          ],
          "table": [
           {
            "cells": {
             "fill": {
              "color": "#EBF0F8"
             },
             "line": {
              "color": "white"
             }
            },
            "header": {
             "fill": {
              "color": "#C8D4E3"
             },
             "line": {
              "color": "white"
             }
            },
            "type": "table"
           }
          ]
         },
         "layout": {
          "annotationdefaults": {
           "arrowcolor": "#2a3f5f",
           "arrowhead": 0,
           "arrowwidth": 1
          },
          "autotypenumbers": "strict",
          "coloraxis": {
           "colorbar": {
            "outlinewidth": 0,
            "ticks": ""
           }
          },
          "colorscale": {
           "diverging": [
            [
             0,
             "#8e0152"
            ],
            [
             0.1,
             "#c51b7d"
            ],
            [
             0.2,
             "#de77ae"
            ],
            [
             0.3,
             "#f1b6da"
            ],
            [
             0.4,
             "#fde0ef"
            ],
            [
             0.5,
             "#f7f7f7"
            ],
            [
             0.6,
             "#e6f5d0"
            ],
            [
             0.7,
             "#b8e186"
            ],
            [
             0.8,
             "#7fbc41"
            ],
            [
             0.9,
             "#4d9221"
            ],
            [
             1,
             "#276419"
            ]
           ],
           "sequential": [
            [
             0,
             "#0d0887"
            ],
            [
             0.1111111111111111,
             "#46039f"
            ],
            [
             0.2222222222222222,
             "#7201a8"
            ],
            [
             0.3333333333333333,
             "#9c179e"
            ],
            [
             0.4444444444444444,
             "#bd3786"
            ],
            [
             0.5555555555555556,
             "#d8576b"
            ],
            [
             0.6666666666666666,
             "#ed7953"
            ],
            [
             0.7777777777777778,
             "#fb9f3a"
            ],
            [
             0.8888888888888888,
             "#fdca26"
            ],
            [
             1,
             "#f0f921"
            ]
           ],
           "sequentialminus": [
            [
             0,
             "#0d0887"
            ],
            [
             0.1111111111111111,
             "#46039f"
            ],
            [
             0.2222222222222222,
             "#7201a8"
            ],
            [
             0.3333333333333333,
             "#9c179e"
            ],
            [
             0.4444444444444444,
             "#bd3786"
            ],
            [
             0.5555555555555556,
             "#d8576b"
            ],
            [
             0.6666666666666666,
             "#ed7953"
            ],
            [
             0.7777777777777778,
             "#fb9f3a"
            ],
            [
             0.8888888888888888,
             "#fdca26"
            ],
            [
             1,
             "#f0f921"
            ]
           ]
          },
          "colorway": [
           "#636efa",
           "#EF553B",
           "#00cc96",
           "#ab63fa",
           "#FFA15A",
           "#19d3f3",
           "#FF6692",
           "#B6E880",
           "#FF97FF",
           "#FECB52"
          ],
          "font": {
           "color": "#2a3f5f"
          },
          "geo": {
           "bgcolor": "white",
           "lakecolor": "white",
           "landcolor": "#E5ECF6",
           "showlakes": true,
           "showland": true,
           "subunitcolor": "white"
          },
          "hoverlabel": {
           "align": "left"
          },
          "hovermode": "closest",
          "mapbox": {
           "style": "light"
          },
          "paper_bgcolor": "white",
          "plot_bgcolor": "#E5ECF6",
          "polar": {
           "angularaxis": {
            "gridcolor": "white",
            "linecolor": "white",
            "ticks": ""
           },
           "bgcolor": "#E5ECF6",
           "radialaxis": {
            "gridcolor": "white",
            "linecolor": "white",
            "ticks": ""
           }
          },
          "scene": {
           "xaxis": {
            "backgroundcolor": "#E5ECF6",
            "gridcolor": "white",
            "gridwidth": 2,
            "linecolor": "white",
            "showbackground": true,
            "ticks": "",
            "zerolinecolor": "white"
           },
           "yaxis": {
            "backgroundcolor": "#E5ECF6",
            "gridcolor": "white",
            "gridwidth": 2,
            "linecolor": "white",
            "showbackground": true,
            "ticks": "",
            "zerolinecolor": "white"
           },
           "zaxis": {
            "backgroundcolor": "#E5ECF6",
            "gridcolor": "white",
            "gridwidth": 2,
            "linecolor": "white",
            "showbackground": true,
            "ticks": "",
            "zerolinecolor": "white"
           }
          },
          "shapedefaults": {
           "line": {
            "color": "#2a3f5f"
           }
          },
          "ternary": {
           "aaxis": {
            "gridcolor": "white",
            "linecolor": "white",
            "ticks": ""
           },
           "baxis": {
            "gridcolor": "white",
            "linecolor": "white",
            "ticks": ""
           },
           "bgcolor": "#E5ECF6",
           "caxis": {
            "gridcolor": "white",
            "linecolor": "white",
            "ticks": ""
           }
          },
          "title": {
           "x": 0.05
          },
          "xaxis": {
           "automargin": true,
           "gridcolor": "white",
           "linecolor": "white",
           "ticks": "",
           "title": {
            "standoff": 15
           },
           "zerolinecolor": "white",
           "zerolinewidth": 2
          },
          "yaxis": {
           "automargin": true,
           "gridcolor": "white",
           "linecolor": "white",
           "ticks": "",
           "title": {
            "standoff": 15
           },
           "zerolinecolor": "white",
           "zerolinewidth": 2
          }
         }
        }
       }
      }
     },
     "metadata": {},
     "output_type": "display_data"
    }
   ],
   "source": [
    "# plot 2d samples using plotly\n",
    "import plotly.graph_objects as go\n",
    "import plotly.express as px\n",
    "\n",
    "fig = go.Figure()\n",
    "\n",
    "fig.add_trace(go.Scatter(x=df.values[:, 0], y=df.values[:, 2], mode='markers', marker=dict(color='blue')))\n",
    "fig.add_trace(go.Scatter(x=physical_rescaled[:, 0], y=physical_rescaled[:, 2], mode='markers', marker=dict(color='red')))\n",
    "\n",
    "fig.show()"
   ]
  },
  {
   "cell_type": "code",
   "execution_count": null,
   "metadata": {},
   "outputs": [],
   "source": []
  }
 ],
 "metadata": {
  "kernelspec": {
   "display_name": "Kedro (sampler)",
   "language": "python",
   "name": "kedro_sampler"
  },
  "language_info": {
   "codemirror_mode": {
    "name": "ipython",
    "version": 3
   },
   "file_extension": ".py",
   "mimetype": "text/x-python",
   "name": "python",
   "nbconvert_exporter": "python",
   "pygments_lexer": "ipython3",
   "version": "3.10.13"
  }
 },
 "nbformat": 4,
 "nbformat_minor": 2
}
