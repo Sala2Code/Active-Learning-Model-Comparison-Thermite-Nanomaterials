{
 "cells": [
  {
   "cell_type": "code",
   "execution_count": 5,
   "metadata": {},
   "outputs": [],
   "source": [
    "import numpy as np"
   ]
  },
  {
   "cell_type": "code",
   "execution_count": 13,
   "metadata": {},
   "outputs": [],
   "source": [
    "# interest_region = {'Pg_f': [1000000.0, 2000000.0],\n",
    "#                    'Tg_Tmax': [2000, 4500]}\n",
    "\n",
    "interest_region = {'Pg_f': [0.2, 0.3],\n",
    "                   'Tg_Tmax': [0.4, 0.7]}\n",
    "\n",
    "coefficients = {\n",
    "                'value': 1\n",
    "                }\n",
    "a, c = [30, 10]"
   ]
  },
  {
   "cell_type": "code",
   "execution_count": 14,
   "metadata": {},
   "outputs": [],
   "source": [
    "def interest(y_hat: np.ndarray) -> float:\n",
    "    res = 1\n",
    "    for t, val in enumerate(interest_region.values()):\n",
    "        ll, ul = val\n",
    "        if y_hat.shape == (1, 2):\n",
    "            v = -0.5 + (y_hat[0][t] - ll) / (ul - ll)\n",
    "        else:\n",
    "            v = -0.5 + (y_hat[t] - ll) / (ul - ll)\n",
    "        partial_res = coefficients['value'] + (1 / (1 + np.exp(c - a * v ** 2)))\n",
    "        res = res * partial_res\n",
    "    return res"
   ]
  },
  {
   "cell_type": "code",
   "execution_count": 46,
   "metadata": {},
   "outputs": [],
   "source": []
  },
  {
   "cell_type": "code",
   "execution_count": 47,
   "metadata": {},
   "outputs": [
    {
     "data": {
      "text/html": [
       "<pre style=\"white-space:pre;overflow-x:auto;line-height:normal;font-family:Menlo,'DejaVu Sans Mono',consolas,'Courier New',monospace\"></pre>\n"
      ],
      "text/plain": []
     },
     "metadata": {},
     "output_type": "display_data"
    },
    {
     "data": {
      "text/plain": [
       "\u001b[1;36m0.04800000000000001\u001b[0m"
      ]
     },
     "execution_count": 47,
     "metadata": {},
     "output_type": "execute_result"
    }
   ],
   "source": [
    "x = np.array([1, 1])\n",
    "\n",
    "interest(x)"
   ]
  },
  {
   "cell_type": "code",
   "execution_count": 65,
   "metadata": {},
   "outputs": [],
   "source": [
    "from networkx import sigma\n",
    "\n",
    "\n",
    "def interest(y_hat: np.ndarray) -> float:\n",
    "    interest_region = {'Pg_f': [0.2, 0.3],\n",
    "                       'Tg_Tmax': [0.4, 0.7]}\n",
    "\n",
    "    center = np.array([np.mean(interest_region[ir]) for ir in interest_region.keys()])\n",
    "    sigma = np.diag([(interest_region[ir][1] - interest_region[ir][0]) / 2 for ir in interest_region.keys()])\n",
    "\n",
    "    if y_hat.shape == (2,):\n",
    "        v = np.linalg.solve(sigma, (y_hat - center).reshape(-1, 1))\n",
    "    else:\n",
    "        v = np.linalg.solve(sigma, (y_hat - center).reshape(-1, 1)).flatten()\n",
    "\n",
    "    return 1 - np.exp(-0.5 * np.dot(v.T, v))"
   ]
  },
  {
   "cell_type": "code",
   "execution_count": 101,
   "metadata": {},
   "outputs": [],
   "source": [
    "def interest(y_hat: np.ndarray) -> float:\n",
    "    interest_region = {'Pg_f': [0.2, 0.3],\n",
    "                       'Tg_Tmax': [0.4, 0.7]}\n",
    "\n",
    "    center = np.array([np.mean(interest_region[ir]) for ir in interest_region.keys()])\n",
    "    sigma = np.diag([(interest_region[ir][1] - interest_region[ir][0]) / 2 for ir in interest_region.keys()])\n",
    "\n",
    "    if y_hat.shape == (2,):\n",
    "        v = np.linalg.solve(sigma, (y_hat - center).reshape(-1, 1))\n",
    "    else:\n",
    "        v = np.linalg.solve(sigma, (y_hat - center).reshape(-1, 1)).flatten()\n",
    "\n",
    "    width_factors = np.array([0.2, 0.8])  # Adjust these factors for each dimension\n",
    "\n",
    "    # Calculate the squared Mahalanobis distance for each dimension\n",
    "    mahalanobis_distance_sq = np.dot(v.T * width_factors, v)\n",
    "\n",
    "    # Bell-shaped curve: Use a quadratic function with dimension-specific width adjustments\n",
    "    bell_curve = np.exp(-0.5 * mahalanobis_distance_sq)\n",
    "\n",
    "    # Scale and shift the bell curve to have values between 0 and 1\n",
    "    scaled_bell_curve = 1 / (1 + bell_curve)\n",
    "\n",
    "    return scaled_bell_curve\n"
   ]
  },
  {
   "cell_type": "code",
   "execution_count": null,
   "metadata": {},
   "outputs": [],
   "source": []
  },
  {
   "cell_type": "code",
   "execution_count": 102,
   "metadata": {},
   "outputs": [],
   "source": [
    "# Make 2d grid of values in range 0 to 1\n",
    "x = np.linspace(0, 1, 100)\n",
    "y = np.linspace(0, 1, 100)\n",
    "X, Y = np.meshgrid(x, y)\n",
    "\n",
    "# Calculate interest for each value in grid\n",
    "Z = np.zeros(X.shape)\n",
    "\n",
    "for i in range(X.shape[0]):\n",
    "    for j in range(X.shape[1]):\n",
    "        Z[i, j] = interest(np.array([X[i, j], Y[i, j]]))"
   ]
  },
  {
   "cell_type": "code",
   "execution_count": 103,
   "metadata": {},
   "outputs": [],
   "source": [
    "import plotly.graph_objects as go\n",
    "from cProfile import label\n",
    "import plotly.io as pio\n",
    "\n",
    "pio.renderers.default = \"browser\"\n"
   ]
  },
  {
   "cell_type": "code",
   "execution_count": 104,
   "metadata": {},
   "outputs": [],
   "source": [
    "fig = go.Figure(data=[go.Surface(z=Z, x=X, y=Y)], layout=go.Layout(scene=dict(xaxis_title='Pg_f', yaxis_title='Tg_Tmax', zaxis_title='Interest')))\n",
    "fig.show()\n",
    "\n"
   ]
  },
  {
   "cell_type": "code",
   "execution_count": null,
   "metadata": {},
   "outputs": [],
   "source": []
  },
  {
   "cell_type": "code",
   "execution_count": null,
   "metadata": {},
   "outputs": [],
   "source": []
  }
 ],
 "metadata": {
  "kernelspec": {
   "display_name": "Kedro (sampler)",
   "language": "python",
   "name": "kedro_sampler"
  },
  "language_info": {
   "codemirror_mode": {
    "name": "ipython",
    "version": 3
   },
   "file_extension": ".py",
   "mimetype": "text/x-python",
   "name": "python",
   "nbconvert_exporter": "python",
   "pygments_lexer": "ipython3",
   "version": "3.10.13"
  }
 },
 "nbformat": 4,
 "nbformat_minor": 2
}
