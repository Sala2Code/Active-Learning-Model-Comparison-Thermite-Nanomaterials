{
 "cells": [
  {
   "cell_type": "code",
   "execution_count": 7,
   "metadata": {},
   "outputs": [
    {
     "data": {
      "text/html": [
       "<pre style=\"white-space:pre;overflow-x:auto;line-height:normal;font-family:Menlo,'DejaVu Sans Mono',consolas,'Courier New',monospace\"></pre>\n"
      ],
      "text/plain": []
     },
     "metadata": {},
     "output_type": "display_data"
    },
    {
     "data": {
      "text/html": [
       "<div>\n",
       "<style scoped>\n",
       "    .dataframe tbody tr th:only-of-type {\n",
       "        vertical-align: middle;\n",
       "    }\n",
       "\n",
       "    .dataframe tbody tr th {\n",
       "        vertical-align: top;\n",
       "    }\n",
       "\n",
       "    .dataframe thead th {\n",
       "        text-align: right;\n",
       "    }\n",
       "</style>\n",
       "<table border=\"1\" class=\"dataframe\">\n",
       "  <thead>\n",
       "    <tr style=\"text-align: right;\">\n",
       "      <th></th>\n",
       "      <th>r_ext_pAl</th>\n",
       "      <th>r_ext_pMeO</th>\n",
       "      <th>pAl_richness</th>\n",
       "      <th>Pg_f</th>\n",
       "      <th>Tg_Tmax</th>\n",
       "      <th>sim_time</th>\n",
       "      <th>Pg_f_hat</th>\n",
       "      <th>Tg_Tmax_hat</th>\n",
       "      <th>std</th>\n",
       "      <th>interest</th>\n",
       "      <th>coverage</th>\n",
       "    </tr>\n",
       "  </thead>\n",
       "  <tbody>\n",
       "    <tr>\n",
       "      <th>295</th>\n",
       "      <td>0.070500</td>\n",
       "      <td>0.814139</td>\n",
       "      <td>0.208426</td>\n",
       "      <td>0.287017</td>\n",
       "      <td>0.650126</td>\n",
       "      <td>25.000575</td>\n",
       "      <td>0.293472</td>\n",
       "      <td>0.637852</td>\n",
       "      <td>0.684524</td>\n",
       "      <td>0.114383</td>\n",
       "      <td>0.0</td>\n",
       "    </tr>\n",
       "    <tr>\n",
       "      <th>296</th>\n",
       "      <td>0.071742</td>\n",
       "      <td>0.465603</td>\n",
       "      <td>0.183253</td>\n",
       "      <td>0.312714</td>\n",
       "      <td>0.663947</td>\n",
       "      <td>25.000818</td>\n",
       "      <td>0.295406</td>\n",
       "      <td>0.605133</td>\n",
       "      <td>0.619962</td>\n",
       "      <td>0.162088</td>\n",
       "      <td>0.0</td>\n",
       "    </tr>\n",
       "    <tr>\n",
       "      <th>297</th>\n",
       "      <td>0.133646</td>\n",
       "      <td>0.531250</td>\n",
       "      <td>0.482029</td>\n",
       "      <td>0.247170</td>\n",
       "      <td>0.624225</td>\n",
       "      <td>25.000320</td>\n",
       "      <td>0.262173</td>\n",
       "      <td>0.612996</td>\n",
       "      <td>0.465825</td>\n",
       "      <td>0.278873</td>\n",
       "      <td>0.0</td>\n",
       "    </tr>\n",
       "    <tr>\n",
       "      <th>298</th>\n",
       "      <td>0.174916</td>\n",
       "      <td>0.462056</td>\n",
       "      <td>0.518675</td>\n",
       "      <td>0.284974</td>\n",
       "      <td>0.644785</td>\n",
       "      <td>25.000053</td>\n",
       "      <td>0.285395</td>\n",
       "      <td>0.643081</td>\n",
       "      <td>0.365401</td>\n",
       "      <td>0.309209</td>\n",
       "      <td>0.0</td>\n",
       "    </tr>\n",
       "    <tr>\n",
       "      <th>299</th>\n",
       "      <td>0.234837</td>\n",
       "      <td>0.432848</td>\n",
       "      <td>0.625000</td>\n",
       "      <td>0.292023</td>\n",
       "      <td>0.668388</td>\n",
       "      <td>25.000216</td>\n",
       "      <td>0.288788</td>\n",
       "      <td>0.654127</td>\n",
       "      <td>0.332093</td>\n",
       "      <td>0.328055</td>\n",
       "      <td>0.0</td>\n",
       "    </tr>\n",
       "  </tbody>\n",
       "</table>\n",
       "</div>"
      ],
      "text/plain": [
       "\n",
       "     r_ext_pAl  r_ext_pMeO  pAl_richness      Pg_f   Tg_Tmax   sim_time  \\\n",
       "\u001b[1;36m295\u001b[0m   \u001b[1;36m0.070500\u001b[0m    \u001b[1;36m0.814139\u001b[0m      \u001b[1;36m0.208426\u001b[0m  \u001b[1;36m0.287017\u001b[0m  \u001b[1;36m0.650126\u001b[0m  \u001b[1;36m25.000575\u001b[0m   \n",
       "\u001b[1;36m296\u001b[0m   \u001b[1;36m0.071742\u001b[0m    \u001b[1;36m0.465603\u001b[0m      \u001b[1;36m0.183253\u001b[0m  \u001b[1;36m0.312714\u001b[0m  \u001b[1;36m0.663947\u001b[0m  \u001b[1;36m25.000818\u001b[0m   \n",
       "\u001b[1;36m297\u001b[0m   \u001b[1;36m0.133646\u001b[0m    \u001b[1;36m0.531250\u001b[0m      \u001b[1;36m0.482029\u001b[0m  \u001b[1;36m0.247170\u001b[0m  \u001b[1;36m0.624225\u001b[0m  \u001b[1;36m25.000320\u001b[0m   \n",
       "\u001b[1;36m298\u001b[0m   \u001b[1;36m0.174916\u001b[0m    \u001b[1;36m0.462056\u001b[0m      \u001b[1;36m0.518675\u001b[0m  \u001b[1;36m0.284974\u001b[0m  \u001b[1;36m0.644785\u001b[0m  \u001b[1;36m25.000053\u001b[0m   \n",
       "\u001b[1;36m299\u001b[0m   \u001b[1;36m0.234837\u001b[0m    \u001b[1;36m0.432848\u001b[0m      \u001b[1;36m0.625000\u001b[0m  \u001b[1;36m0.292023\u001b[0m  \u001b[1;36m0.668388\u001b[0m  \u001b[1;36m25.000216\u001b[0m   \n",
       "\n",
       "     Pg_f_hat  Tg_Tmax_hat       std  interest  coverage  \n",
       "\u001b[1;36m295\u001b[0m  \u001b[1;36m0.293472\u001b[0m     \u001b[1;36m0.637852\u001b[0m  \u001b[1;36m0.684524\u001b[0m  \u001b[1;36m0.114383\u001b[0m       \u001b[1;36m0.0\u001b[0m  \n",
       "\u001b[1;36m296\u001b[0m  \u001b[1;36m0.295406\u001b[0m     \u001b[1;36m0.605133\u001b[0m  \u001b[1;36m0.619962\u001b[0m  \u001b[1;36m0.162088\u001b[0m       \u001b[1;36m0.0\u001b[0m  \n",
       "\u001b[1;36m297\u001b[0m  \u001b[1;36m0.262173\u001b[0m     \u001b[1;36m0.612996\u001b[0m  \u001b[1;36m0.465825\u001b[0m  \u001b[1;36m0.278873\u001b[0m       \u001b[1;36m0.0\u001b[0m  \n",
       "\u001b[1;36m298\u001b[0m  \u001b[1;36m0.285395\u001b[0m     \u001b[1;36m0.643081\u001b[0m  \u001b[1;36m0.365401\u001b[0m  \u001b[1;36m0.309209\u001b[0m       \u001b[1;36m0.0\u001b[0m  \n",
       "\u001b[1;36m299\u001b[0m  \u001b[1;36m0.288788\u001b[0m     \u001b[1;36m0.654127\u001b[0m  \u001b[1;36m0.332093\u001b[0m  \u001b[1;36m0.328055\u001b[0m       \u001b[1;36m0.0\u001b[0m  "
      ]
     },
     "execution_count": 7,
     "metadata": {},
     "output_type": "execute_result"
    }
   ],
   "source": [
    "#path = '/home/jack/sampler/data/08_reporting/11 - Simulator 200 points with Interest + Coverage (normalized)/increased_data.csv'\n",
    "path = '/home/jack/sampler/data/08_reporting/12 - Simulator 100 points with p(interest) * Std (lots of outliers)/increased_data.csv'\n",
    "\n",
    "# Load the data into a pandas dataframe\n",
    "data = pd.read_csv(path)\n",
    "\n",
    "data.tail()"
   ]
  },
  {
   "cell_type": "code",
   "execution_count": 8,
   "metadata": {},
   "outputs": [
    {
     "data": {
      "text/html": [
       "<pre style=\"white-space:pre;overflow-x:auto;line-height:normal;font-family:Menlo,'DejaVu Sans Mono',consolas,'Courier New',monospace\"><span style=\"color: #7fbfbf; text-decoration-color: #7fbfbf\">[02/19/24 13:29:20] </span><span style=\"color: #000080; text-decoration-color: #000080\">INFO    </span> Loading data from <span style=\"color: #008000; text-decoration-color: #008000\">'parameters'</span> <span style=\"font-weight: bold\">(</span>MemoryDataSet<span style=\"font-weight: bold\">)</span><span style=\"color: #808000; text-decoration-color: #808000\">...</span>                  <a href=\"file:///home/jack/miniconda3/envs/sampler/lib/python3.10/site-packages/kedro/io/data_catalog.py\" target=\"_blank\"><span style=\"color: #7f7f7f; text-decoration-color: #7f7f7f\">data_catalog.py</span></a><span style=\"color: #7f7f7f; text-decoration-color: #7f7f7f\">:</span><a href=\"file:///home/jack/miniconda3/envs/sampler/lib/python3.10/site-packages/kedro/io/data_catalog.py#343\" target=\"_blank\"><span style=\"color: #7f7f7f; text-decoration-color: #7f7f7f\">343</span></a>\n",
       "</pre>\n"
      ],
      "text/plain": [
       "\u001b[2;36m[02/19/24 13:29:20]\u001b[0m\u001b[2;36m \u001b[0m\u001b[34mINFO    \u001b[0m Loading data from \u001b[32m'parameters'\u001b[0m \u001b[1m(\u001b[0mMemoryDataSet\u001b[1m)\u001b[0m\u001b[33m...\u001b[0m                  \u001b]8;id=524404;file:///home/jack/miniconda3/envs/sampler/lib/python3.10/site-packages/kedro/io/data_catalog.py\u001b\\\u001b[2mdata_catalog.py\u001b[0m\u001b]8;;\u001b\\\u001b[2m:\u001b[0m\u001b]8;id=245583;file:///home/jack/miniconda3/envs/sampler/lib/python3.10/site-packages/kedro/io/data_catalog.py#343\u001b\\\u001b[2m343\u001b[0m\u001b]8;;\u001b\\\n"
      ]
     },
     "metadata": {},
     "output_type": "display_data"
    },
    {
     "data": {
      "text/html": [
       "<pre style=\"white-space:pre;overflow-x:auto;line-height:normal;font-family:Menlo,'DejaVu Sans Mono',consolas,'Courier New',monospace\"><span style=\"color: #7fbfbf; text-decoration-color: #7fbfbf\">                    </span><span style=\"color: #000080; text-decoration-color: #000080\">INFO    </span> Loading data from <span style=\"color: #008000; text-decoration-color: #008000\">'scaler'</span> <span style=\"font-weight: bold\">(</span>PickleDataSet<span style=\"font-weight: bold\">)</span><span style=\"color: #808000; text-decoration-color: #808000\">...</span>                      <a href=\"file:///home/jack/miniconda3/envs/sampler/lib/python3.10/site-packages/kedro/io/data_catalog.py\" target=\"_blank\"><span style=\"color: #7f7f7f; text-decoration-color: #7f7f7f\">data_catalog.py</span></a><span style=\"color: #7f7f7f; text-decoration-color: #7f7f7f\">:</span><a href=\"file:///home/jack/miniconda3/envs/sampler/lib/python3.10/site-packages/kedro/io/data_catalog.py#343\" target=\"_blank\"><span style=\"color: #7f7f7f; text-decoration-color: #7f7f7f\">343</span></a>\n",
       "</pre>\n"
      ],
      "text/plain": [
       "\u001b[2;36m                   \u001b[0m\u001b[2;36m \u001b[0m\u001b[34mINFO    \u001b[0m Loading data from \u001b[32m'scaler'\u001b[0m \u001b[1m(\u001b[0mPickleDataSet\u001b[1m)\u001b[0m\u001b[33m...\u001b[0m                      \u001b]8;id=769784;file:///home/jack/miniconda3/envs/sampler/lib/python3.10/site-packages/kedro/io/data_catalog.py\u001b\\\u001b[2mdata_catalog.py\u001b[0m\u001b]8;;\u001b\\\u001b[2m:\u001b[0m\u001b]8;id=903197;file:///home/jack/miniconda3/envs/sampler/lib/python3.10/site-packages/kedro/io/data_catalog.py#343\u001b\\\u001b[2m343\u001b[0m\u001b]8;;\u001b\\\n"
      ]
     },
     "metadata": {},
     "output_type": "display_data"
    },
    {
     "data": {
      "text/html": [
       "<pre style=\"white-space:pre;overflow-x:auto;line-height:normal;font-family:Menlo,'DejaVu Sans Mono',consolas,'Courier New',monospace\"><span style=\"color: #7fbfbf; text-decoration-color: #7fbfbf\">                    </span><span style=\"color: #000080; text-decoration-color: #000080\">INFO    </span> Loading data from <span style=\"color: #008000; text-decoration-color: #008000\">'treatment'</span> <span style=\"font-weight: bold\">(</span>PickleDataSet<span style=\"font-weight: bold\">)</span><span style=\"color: #808000; text-decoration-color: #808000\">...</span>                   <a href=\"file:///home/jack/miniconda3/envs/sampler/lib/python3.10/site-packages/kedro/io/data_catalog.py\" target=\"_blank\"><span style=\"color: #7f7f7f; text-decoration-color: #7f7f7f\">data_catalog.py</span></a><span style=\"color: #7f7f7f; text-decoration-color: #7f7f7f\">:</span><a href=\"file:///home/jack/miniconda3/envs/sampler/lib/python3.10/site-packages/kedro/io/data_catalog.py#343\" target=\"_blank\"><span style=\"color: #7f7f7f; text-decoration-color: #7f7f7f\">343</span></a>\n",
       "</pre>\n"
      ],
      "text/plain": [
       "\u001b[2;36m                   \u001b[0m\u001b[2;36m \u001b[0m\u001b[34mINFO    \u001b[0m Loading data from \u001b[32m'treatment'\u001b[0m \u001b[1m(\u001b[0mPickleDataSet\u001b[1m)\u001b[0m\u001b[33m...\u001b[0m                   \u001b]8;id=26636;file:///home/jack/miniconda3/envs/sampler/lib/python3.10/site-packages/kedro/io/data_catalog.py\u001b\\\u001b[2mdata_catalog.py\u001b[0m\u001b]8;;\u001b\\\u001b[2m:\u001b[0m\u001b]8;id=538816;file:///home/jack/miniconda3/envs/sampler/lib/python3.10/site-packages/kedro/io/data_catalog.py#343\u001b\\\u001b[2m343\u001b[0m\u001b]8;;\u001b\\\n"
      ]
     },
     "metadata": {},
     "output_type": "display_data"
    }
   ],
   "source": [
    "p = catalog.load('parameters')\n",
    "\n",
    "features=p[\"features\"]\n",
    "targets=p[\"targets\"]\n",
    "additional_values = p[\"additional_values\"]\n",
    "names=p[\"names\"]\n",
    "\n",
    "scaler=catalog.load('scaler')\n",
    "treatment=catalog.load('treatment')"
   ]
  },
  {
   "cell_type": "code",
   "execution_count": 9,
   "metadata": {},
   "outputs": [
    {
     "data": {
      "text/html": [
       "<pre style=\"white-space:pre;overflow-x:auto;line-height:normal;font-family:Menlo,'DejaVu Sans Mono',consolas,'Courier New',monospace\"></pre>\n"
      ],
      "text/plain": []
     },
     "metadata": {},
     "output_type": "display_data"
    },
    {
     "data": {
      "text/plain": [
       "\u001b[1m{\u001b[0m\u001b[32m'Pg_f'\u001b[0m: \u001b[1m[\u001b[0m\u001b[1;36m1000000.0\u001b[0m, \u001b[1;36m2000000.0\u001b[0m\u001b[1m]\u001b[0m, \u001b[32m'Tg_Tmax'\u001b[0m: \u001b[1m[\u001b[0m\u001b[1;36m2000\u001b[0m, \u001b[1;36m4500\u001b[0m\u001b[1m]\u001b[0m\u001b[1m}\u001b[0m"
      ]
     },
     "execution_count": 9,
     "metadata": {},
     "output_type": "execute_result"
    }
   ],
   "source": [
    "interest_region = p['interest_region']\n",
    "interest_region"
   ]
  },
  {
   "cell_type": "code",
   "execution_count": 10,
   "metadata": {},
   "outputs": [],
   "source": [
    "from sampler.common.data_treatment import scale_interest_region"
   ]
  },
  {
   "cell_type": "code",
   "execution_count": 11,
   "metadata": {},
   "outputs": [
    {
     "data": {
      "text/html": [
       "<pre style=\"white-space:pre;overflow-x:auto;line-height:normal;font-family:Menlo,'DejaVu Sans Mono',consolas,'Courier New',monospace\"></pre>\n"
      ],
      "text/plain": []
     },
     "metadata": {},
     "output_type": "display_data"
    },
    {
     "data": {
      "text/plain": [
       "\n",
       "\u001b[1m{\u001b[0m\n",
       "    \u001b[32m'Pg_f'\u001b[0m: \u001b[1m[\u001b[0m\u001b[1;36m0.24311482097304826\u001b[0m, \u001b[1;36m0.34781867528634947\u001b[0m\u001b[1m]\u001b[0m,\n",
       "    \u001b[32m'Tg_Tmax'\u001b[0m: \u001b[1m[\u001b[0m\u001b[1;36m0.4766833551336145\u001b[0m, \u001b[1;36m0.7977511856164203\u001b[0m\u001b[1m]\u001b[0m\n",
       "\u001b[1m}\u001b[0m"
      ]
     },
     "execution_count": 11,
     "metadata": {},
     "output_type": "execute_result"
    }
   ],
   "source": [
    "scaled_interest_region = scale_interest_region(features, interest_region, scaler)\n",
    "scaled_interest_region"
   ]
  },
  {
   "cell_type": "code",
   "execution_count": 13,
   "metadata": {},
   "outputs": [],
   "source": [
    "# Add column 'interest' with True if the row is in the interest region\n",
    "data['is_interest_point'] = (data['Pg_f'] >= scaled_interest_region['Pg_f'][0]) & \\\n",
    "                            (data['Pg_f'] <= scaled_interest_region['Pg_f'][1]) & \\\n",
    "                            (data['Tg_Tmax'] >= scaled_interest_region['Tg_Tmax'][0]) & \\\n",
    "                            (data['Tg_Tmax'] <= scaled_interest_region['Tg_Tmax'][1])"
   ]
  },
  {
   "cell_type": "code",
   "execution_count": 14,
   "metadata": {},
   "outputs": [
    {
     "data": {
      "text/html": [
       "<pre style=\"white-space:pre;overflow-x:auto;line-height:normal;font-family:Menlo,'DejaVu Sans Mono',consolas,'Courier New',monospace\"></pre>\n"
      ],
      "text/plain": []
     },
     "metadata": {},
     "output_type": "display_data"
    },
    {
     "data": {
      "text/html": [
       "<div>\n",
       "<style scoped>\n",
       "    .dataframe tbody tr th:only-of-type {\n",
       "        vertical-align: middle;\n",
       "    }\n",
       "\n",
       "    .dataframe tbody tr th {\n",
       "        vertical-align: top;\n",
       "    }\n",
       "\n",
       "    .dataframe thead th {\n",
       "        text-align: right;\n",
       "    }\n",
       "</style>\n",
       "<table border=\"1\" class=\"dataframe\">\n",
       "  <thead>\n",
       "    <tr style=\"text-align: right;\">\n",
       "      <th></th>\n",
       "      <th>r_ext_pAl</th>\n",
       "      <th>r_ext_pMeO</th>\n",
       "      <th>pAl_richness</th>\n",
       "      <th>Pg_f</th>\n",
       "      <th>Tg_Tmax</th>\n",
       "      <th>sim_time</th>\n",
       "      <th>Pg_f_hat</th>\n",
       "      <th>Tg_Tmax_hat</th>\n",
       "      <th>std</th>\n",
       "      <th>interest</th>\n",
       "      <th>coverage</th>\n",
       "      <th>is_interest_point</th>\n",
       "    </tr>\n",
       "  </thead>\n",
       "  <tbody>\n",
       "    <tr>\n",
       "      <th>0</th>\n",
       "      <td>0.998455</td>\n",
       "      <td>0.752775</td>\n",
       "      <td>0.832825</td>\n",
       "      <td>0.439480</td>\n",
       "      <td>0.861510</td>\n",
       "      <td>NaN</td>\n",
       "      <td>NaN</td>\n",
       "      <td>NaN</td>\n",
       "      <td>NaN</td>\n",
       "      <td>NaN</td>\n",
       "      <td>NaN</td>\n",
       "      <td>False</td>\n",
       "    </tr>\n",
       "    <tr>\n",
       "      <th>1</th>\n",
       "      <td>0.884572</td>\n",
       "      <td>0.995134</td>\n",
       "      <td>0.489310</td>\n",
       "      <td>0.590641</td>\n",
       "      <td>0.910139</td>\n",
       "      <td>NaN</td>\n",
       "      <td>NaN</td>\n",
       "      <td>NaN</td>\n",
       "      <td>NaN</td>\n",
       "      <td>NaN</td>\n",
       "      <td>NaN</td>\n",
       "      <td>False</td>\n",
       "    </tr>\n",
       "    <tr>\n",
       "      <th>2</th>\n",
       "      <td>0.773458</td>\n",
       "      <td>0.891320</td>\n",
       "      <td>0.651214</td>\n",
       "      <td>0.499086</td>\n",
       "      <td>0.883874</td>\n",
       "      <td>NaN</td>\n",
       "      <td>NaN</td>\n",
       "      <td>NaN</td>\n",
       "      <td>NaN</td>\n",
       "      <td>NaN</td>\n",
       "      <td>NaN</td>\n",
       "      <td>False</td>\n",
       "    </tr>\n",
       "    <tr>\n",
       "      <th>3</th>\n",
       "      <td>0.513232</td>\n",
       "      <td>0.514477</td>\n",
       "      <td>0.939324</td>\n",
       "      <td>0.321652</td>\n",
       "      <td>0.782492</td>\n",
       "      <td>NaN</td>\n",
       "      <td>NaN</td>\n",
       "      <td>NaN</td>\n",
       "      <td>NaN</td>\n",
       "      <td>NaN</td>\n",
       "      <td>NaN</td>\n",
       "      <td>True</td>\n",
       "    </tr>\n",
       "    <tr>\n",
       "      <th>4</th>\n",
       "      <td>0.304354</td>\n",
       "      <td>0.935717</td>\n",
       "      <td>0.096649</td>\n",
       "      <td>0.685096</td>\n",
       "      <td>0.909678</td>\n",
       "      <td>NaN</td>\n",
       "      <td>NaN</td>\n",
       "      <td>NaN</td>\n",
       "      <td>NaN</td>\n",
       "      <td>NaN</td>\n",
       "      <td>NaN</td>\n",
       "      <td>False</td>\n",
       "    </tr>\n",
       "    <tr>\n",
       "      <th>...</th>\n",
       "      <td>...</td>\n",
       "      <td>...</td>\n",
       "      <td>...</td>\n",
       "      <td>...</td>\n",
       "      <td>...</td>\n",
       "      <td>...</td>\n",
       "      <td>...</td>\n",
       "      <td>...</td>\n",
       "      <td>...</td>\n",
       "      <td>...</td>\n",
       "      <td>...</td>\n",
       "      <td>...</td>\n",
       "    </tr>\n",
       "    <tr>\n",
       "      <th>295</th>\n",
       "      <td>0.070500</td>\n",
       "      <td>0.814139</td>\n",
       "      <td>0.208426</td>\n",
       "      <td>0.287017</td>\n",
       "      <td>0.650126</td>\n",
       "      <td>25.000575</td>\n",
       "      <td>0.293472</td>\n",
       "      <td>0.637852</td>\n",
       "      <td>0.684524</td>\n",
       "      <td>0.114383</td>\n",
       "      <td>0.0</td>\n",
       "      <td>True</td>\n",
       "    </tr>\n",
       "    <tr>\n",
       "      <th>296</th>\n",
       "      <td>0.071742</td>\n",
       "      <td>0.465603</td>\n",
       "      <td>0.183253</td>\n",
       "      <td>0.312714</td>\n",
       "      <td>0.663947</td>\n",
       "      <td>25.000818</td>\n",
       "      <td>0.295406</td>\n",
       "      <td>0.605133</td>\n",
       "      <td>0.619962</td>\n",
       "      <td>0.162088</td>\n",
       "      <td>0.0</td>\n",
       "      <td>True</td>\n",
       "    </tr>\n",
       "    <tr>\n",
       "      <th>297</th>\n",
       "      <td>0.133646</td>\n",
       "      <td>0.531250</td>\n",
       "      <td>0.482029</td>\n",
       "      <td>0.247170</td>\n",
       "      <td>0.624225</td>\n",
       "      <td>25.000320</td>\n",
       "      <td>0.262173</td>\n",
       "      <td>0.612996</td>\n",
       "      <td>0.465825</td>\n",
       "      <td>0.278873</td>\n",
       "      <td>0.0</td>\n",
       "      <td>True</td>\n",
       "    </tr>\n",
       "    <tr>\n",
       "      <th>298</th>\n",
       "      <td>0.174916</td>\n",
       "      <td>0.462056</td>\n",
       "      <td>0.518675</td>\n",
       "      <td>0.284974</td>\n",
       "      <td>0.644785</td>\n",
       "      <td>25.000053</td>\n",
       "      <td>0.285395</td>\n",
       "      <td>0.643081</td>\n",
       "      <td>0.365401</td>\n",
       "      <td>0.309209</td>\n",
       "      <td>0.0</td>\n",
       "      <td>True</td>\n",
       "    </tr>\n",
       "    <tr>\n",
       "      <th>299</th>\n",
       "      <td>0.234837</td>\n",
       "      <td>0.432848</td>\n",
       "      <td>0.625000</td>\n",
       "      <td>0.292023</td>\n",
       "      <td>0.668388</td>\n",
       "      <td>25.000216</td>\n",
       "      <td>0.288788</td>\n",
       "      <td>0.654127</td>\n",
       "      <td>0.332093</td>\n",
       "      <td>0.328055</td>\n",
       "      <td>0.0</td>\n",
       "      <td>True</td>\n",
       "    </tr>\n",
       "  </tbody>\n",
       "</table>\n",
       "<p>300 rows × 12 columns</p>\n",
       "</div>"
      ],
      "text/plain": [
       "\n",
       "     r_ext_pAl  r_ext_pMeO  pAl_richness      Pg_f   Tg_Tmax   sim_time  \\\n",
       "\u001b[1;36m0\u001b[0m     \u001b[1;36m0.998455\u001b[0m    \u001b[1;36m0.752775\u001b[0m      \u001b[1;36m0.832825\u001b[0m  \u001b[1;36m0.439480\u001b[0m  \u001b[1;36m0.861510\u001b[0m        NaN   \n",
       "\u001b[1;36m1\u001b[0m     \u001b[1;36m0.884572\u001b[0m    \u001b[1;36m0.995134\u001b[0m      \u001b[1;36m0.489310\u001b[0m  \u001b[1;36m0.590641\u001b[0m  \u001b[1;36m0.910139\u001b[0m        NaN   \n",
       "\u001b[1;36m2\u001b[0m     \u001b[1;36m0.773458\u001b[0m    \u001b[1;36m0.891320\u001b[0m      \u001b[1;36m0.651214\u001b[0m  \u001b[1;36m0.499086\u001b[0m  \u001b[1;36m0.883874\u001b[0m        NaN   \n",
       "\u001b[1;36m3\u001b[0m     \u001b[1;36m0.513232\u001b[0m    \u001b[1;36m0.514477\u001b[0m      \u001b[1;36m0.939324\u001b[0m  \u001b[1;36m0.321652\u001b[0m  \u001b[1;36m0.782492\u001b[0m        NaN   \n",
       "\u001b[1;36m4\u001b[0m     \u001b[1;36m0.304354\u001b[0m    \u001b[1;36m0.935717\u001b[0m      \u001b[1;36m0.096649\u001b[0m  \u001b[1;36m0.685096\u001b[0m  \u001b[1;36m0.909678\u001b[0m        NaN   \n",
       "..         \u001b[33m...\u001b[0m         \u001b[33m...\u001b[0m           \u001b[33m...\u001b[0m       \u001b[33m...\u001b[0m       \u001b[33m...\u001b[0m        \u001b[33m...\u001b[0m   \n",
       "\u001b[1;36m295\u001b[0m   \u001b[1;36m0.070500\u001b[0m    \u001b[1;36m0.814139\u001b[0m      \u001b[1;36m0.208426\u001b[0m  \u001b[1;36m0.287017\u001b[0m  \u001b[1;36m0.650126\u001b[0m  \u001b[1;36m25.000575\u001b[0m   \n",
       "\u001b[1;36m296\u001b[0m   \u001b[1;36m0.071742\u001b[0m    \u001b[1;36m0.465603\u001b[0m      \u001b[1;36m0.183253\u001b[0m  \u001b[1;36m0.312714\u001b[0m  \u001b[1;36m0.663947\u001b[0m  \u001b[1;36m25.000818\u001b[0m   \n",
       "\u001b[1;36m297\u001b[0m   \u001b[1;36m0.133646\u001b[0m    \u001b[1;36m0.531250\u001b[0m      \u001b[1;36m0.482029\u001b[0m  \u001b[1;36m0.247170\u001b[0m  \u001b[1;36m0.624225\u001b[0m  \u001b[1;36m25.000320\u001b[0m   \n",
       "\u001b[1;36m298\u001b[0m   \u001b[1;36m0.174916\u001b[0m    \u001b[1;36m0.462056\u001b[0m      \u001b[1;36m0.518675\u001b[0m  \u001b[1;36m0.284974\u001b[0m  \u001b[1;36m0.644785\u001b[0m  \u001b[1;36m25.000053\u001b[0m   \n",
       "\u001b[1;36m299\u001b[0m   \u001b[1;36m0.234837\u001b[0m    \u001b[1;36m0.432848\u001b[0m      \u001b[1;36m0.625000\u001b[0m  \u001b[1;36m0.292023\u001b[0m  \u001b[1;36m0.668388\u001b[0m  \u001b[1;36m25.000216\u001b[0m   \n",
       "\n",
       "     Pg_f_hat  Tg_Tmax_hat       std  interest  coverage  is_interest_point  \n",
       "\u001b[1;36m0\u001b[0m         NaN          NaN       NaN       NaN       NaN              \u001b[3;91mFalse\u001b[0m  \n",
       "\u001b[1;36m1\u001b[0m         NaN          NaN       NaN       NaN       NaN              \u001b[3;91mFalse\u001b[0m  \n",
       "\u001b[1;36m2\u001b[0m         NaN          NaN       NaN       NaN       NaN              \u001b[3;91mFalse\u001b[0m  \n",
       "\u001b[1;36m3\u001b[0m         NaN          NaN       NaN       NaN       NaN               \u001b[3;92mTrue\u001b[0m  \n",
       "\u001b[1;36m4\u001b[0m         NaN          NaN       NaN       NaN       NaN              \u001b[3;91mFalse\u001b[0m  \n",
       "..        \u001b[33m...\u001b[0m          \u001b[33m...\u001b[0m       \u001b[33m...\u001b[0m       \u001b[33m...\u001b[0m       \u001b[33m...\u001b[0m                \u001b[33m...\u001b[0m  \n",
       "\u001b[1;36m295\u001b[0m  \u001b[1;36m0.293472\u001b[0m     \u001b[1;36m0.637852\u001b[0m  \u001b[1;36m0.684524\u001b[0m  \u001b[1;36m0.114383\u001b[0m       \u001b[1;36m0.0\u001b[0m               \u001b[3;92mTrue\u001b[0m  \n",
       "\u001b[1;36m296\u001b[0m  \u001b[1;36m0.295406\u001b[0m     \u001b[1;36m0.605133\u001b[0m  \u001b[1;36m0.619962\u001b[0m  \u001b[1;36m0.162088\u001b[0m       \u001b[1;36m0.0\u001b[0m               \u001b[3;92mTrue\u001b[0m  \n",
       "\u001b[1;36m297\u001b[0m  \u001b[1;36m0.262173\u001b[0m     \u001b[1;36m0.612996\u001b[0m  \u001b[1;36m0.465825\u001b[0m  \u001b[1;36m0.278873\u001b[0m       \u001b[1;36m0.0\u001b[0m               \u001b[3;92mTrue\u001b[0m  \n",
       "\u001b[1;36m298\u001b[0m  \u001b[1;36m0.285395\u001b[0m     \u001b[1;36m0.643081\u001b[0m  \u001b[1;36m0.365401\u001b[0m  \u001b[1;36m0.309209\u001b[0m       \u001b[1;36m0.0\u001b[0m               \u001b[3;92mTrue\u001b[0m  \n",
       "\u001b[1;36m299\u001b[0m  \u001b[1;36m0.288788\u001b[0m     \u001b[1;36m0.654127\u001b[0m  \u001b[1;36m0.332093\u001b[0m  \u001b[1;36m0.328055\u001b[0m       \u001b[1;36m0.0\u001b[0m               \u001b[3;92mTrue\u001b[0m  \n",
       "\n",
       "\u001b[1m[\u001b[0m\u001b[1;36m300\u001b[0m rows x \u001b[1;36m12\u001b[0m columns\u001b[1m]\u001b[0m"
      ]
     },
     "execution_count": 14,
     "metadata": {},
     "output_type": "execute_result"
    }
   ],
   "source": [
    "data"
   ]
  },
  {
   "cell_type": "code",
   "execution_count": 17,
   "metadata": {},
   "outputs": [
    {
     "data": {
      "text/html": [
       "<pre style=\"white-space:pre;overflow-x:auto;line-height:normal;font-family:Menlo,'DejaVu Sans Mono',consolas,'Courier New',monospace\"></pre>\n"
      ],
      "text/plain": []
     },
     "metadata": {},
     "output_type": "display_data"
    },
    {
     "data": {
      "text/html": [
       "<div>\n",
       "<style scoped>\n",
       "    .dataframe tbody tr th:only-of-type {\n",
       "        vertical-align: middle;\n",
       "    }\n",
       "\n",
       "    .dataframe tbody tr th {\n",
       "        vertical-align: top;\n",
       "    }\n",
       "\n",
       "    .dataframe thead th {\n",
       "        text-align: right;\n",
       "    }\n",
       "</style>\n",
       "<table border=\"1\" class=\"dataframe\">\n",
       "  <thead>\n",
       "    <tr style=\"text-align: right;\">\n",
       "      <th></th>\n",
       "      <th>r_ext_pAl</th>\n",
       "      <th>r_ext_pMeO</th>\n",
       "      <th>pAl_richness</th>\n",
       "      <th>Pg_f</th>\n",
       "      <th>Tg_Tmax</th>\n",
       "      <th>sim_time</th>\n",
       "      <th>Pg_f_hat</th>\n",
       "      <th>Tg_Tmax_hat</th>\n",
       "      <th>std</th>\n",
       "      <th>interest</th>\n",
       "      <th>coverage</th>\n",
       "      <th>is_interest_point</th>\n",
       "    </tr>\n",
       "  </thead>\n",
       "  <tbody>\n",
       "    <tr>\n",
       "      <th>109</th>\n",
       "      <td>0.401399</td>\n",
       "      <td>1.000000</td>\n",
       "      <td>0.990153</td>\n",
       "      <td>0.267700</td>\n",
       "      <td>0.703047</td>\n",
       "      <td>25.000292</td>\n",
       "      <td>0.274722</td>\n",
       "      <td>0.759037</td>\n",
       "      <td>0.530698</td>\n",
       "      <td>0.265654</td>\n",
       "      <td>0.0</td>\n",
       "      <td>True</td>\n",
       "    </tr>\n",
       "    <tr>\n",
       "      <th>113</th>\n",
       "      <td>0.125000</td>\n",
       "      <td>0.812500</td>\n",
       "      <td>0.342983</td>\n",
       "      <td>0.319843</td>\n",
       "      <td>0.660493</td>\n",
       "      <td>25.000055</td>\n",
       "      <td>0.296328</td>\n",
       "      <td>0.570261</td>\n",
       "      <td>0.585267</td>\n",
       "      <td>0.042667</td>\n",
       "      <td>0.0</td>\n",
       "      <td>True</td>\n",
       "    </tr>\n",
       "    <tr>\n",
       "      <th>126</th>\n",
       "      <td>0.102206</td>\n",
       "      <td>0.713869</td>\n",
       "      <td>0.289240</td>\n",
       "      <td>0.323731</td>\n",
       "      <td>0.662119</td>\n",
       "      <td>25.000344</td>\n",
       "      <td>0.293789</td>\n",
       "      <td>0.617429</td>\n",
       "      <td>0.771600</td>\n",
       "      <td>0.001817</td>\n",
       "      <td>0.0</td>\n",
       "      <td>True</td>\n",
       "    </tr>\n",
       "    <tr>\n",
       "      <th>127</th>\n",
       "      <td>0.104261</td>\n",
       "      <td>0.656250</td>\n",
       "      <td>0.279882</td>\n",
       "      <td>0.332806</td>\n",
       "      <td>0.665805</td>\n",
       "      <td>25.000170</td>\n",
       "      <td>0.293749</td>\n",
       "      <td>0.580156</td>\n",
       "      <td>0.771114</td>\n",
       "      <td>0.001857</td>\n",
       "      <td>0.0</td>\n",
       "      <td>True</td>\n",
       "    </tr>\n",
       "    <tr>\n",
       "      <th>128</th>\n",
       "      <td>0.146413</td>\n",
       "      <td>0.562500</td>\n",
       "      <td>0.437500</td>\n",
       "      <td>0.293592</td>\n",
       "      <td>0.648911</td>\n",
       "      <td>25.000072</td>\n",
       "      <td>0.277744</td>\n",
       "      <td>0.597922</td>\n",
       "      <td>0.793363</td>\n",
       "      <td>0.008184</td>\n",
       "      <td>0.0</td>\n",
       "      <td>True</td>\n",
       "    </tr>\n",
       "    <tr>\n",
       "      <th>...</th>\n",
       "      <td>...</td>\n",
       "      <td>...</td>\n",
       "      <td>...</td>\n",
       "      <td>...</td>\n",
       "      <td>...</td>\n",
       "      <td>...</td>\n",
       "      <td>...</td>\n",
       "      <td>...</td>\n",
       "      <td>...</td>\n",
       "      <td>...</td>\n",
       "      <td>...</td>\n",
       "      <td>...</td>\n",
       "    </tr>\n",
       "    <tr>\n",
       "      <th>295</th>\n",
       "      <td>0.070500</td>\n",
       "      <td>0.814139</td>\n",
       "      <td>0.208426</td>\n",
       "      <td>0.287017</td>\n",
       "      <td>0.650126</td>\n",
       "      <td>25.000575</td>\n",
       "      <td>0.293472</td>\n",
       "      <td>0.637852</td>\n",
       "      <td>0.684524</td>\n",
       "      <td>0.114383</td>\n",
       "      <td>0.0</td>\n",
       "      <td>True</td>\n",
       "    </tr>\n",
       "    <tr>\n",
       "      <th>296</th>\n",
       "      <td>0.071742</td>\n",
       "      <td>0.465603</td>\n",
       "      <td>0.183253</td>\n",
       "      <td>0.312714</td>\n",
       "      <td>0.663947</td>\n",
       "      <td>25.000818</td>\n",
       "      <td>0.295406</td>\n",
       "      <td>0.605133</td>\n",
       "      <td>0.619962</td>\n",
       "      <td>0.162088</td>\n",
       "      <td>0.0</td>\n",
       "      <td>True</td>\n",
       "    </tr>\n",
       "    <tr>\n",
       "      <th>297</th>\n",
       "      <td>0.133646</td>\n",
       "      <td>0.531250</td>\n",
       "      <td>0.482029</td>\n",
       "      <td>0.247170</td>\n",
       "      <td>0.624225</td>\n",
       "      <td>25.000320</td>\n",
       "      <td>0.262173</td>\n",
       "      <td>0.612996</td>\n",
       "      <td>0.465825</td>\n",
       "      <td>0.278873</td>\n",
       "      <td>0.0</td>\n",
       "      <td>True</td>\n",
       "    </tr>\n",
       "    <tr>\n",
       "      <th>298</th>\n",
       "      <td>0.174916</td>\n",
       "      <td>0.462056</td>\n",
       "      <td>0.518675</td>\n",
       "      <td>0.284974</td>\n",
       "      <td>0.644785</td>\n",
       "      <td>25.000053</td>\n",
       "      <td>0.285395</td>\n",
       "      <td>0.643081</td>\n",
       "      <td>0.365401</td>\n",
       "      <td>0.309209</td>\n",
       "      <td>0.0</td>\n",
       "      <td>True</td>\n",
       "    </tr>\n",
       "    <tr>\n",
       "      <th>299</th>\n",
       "      <td>0.234837</td>\n",
       "      <td>0.432848</td>\n",
       "      <td>0.625000</td>\n",
       "      <td>0.292023</td>\n",
       "      <td>0.668388</td>\n",
       "      <td>25.000216</td>\n",
       "      <td>0.288788</td>\n",
       "      <td>0.654127</td>\n",
       "      <td>0.332093</td>\n",
       "      <td>0.328055</td>\n",
       "      <td>0.0</td>\n",
       "      <td>True</td>\n",
       "    </tr>\n",
       "  </tbody>\n",
       "</table>\n",
       "<p>133 rows × 12 columns</p>\n",
       "</div>"
      ],
      "text/plain": [
       "\n",
       "     r_ext_pAl  r_ext_pMeO  pAl_richness      Pg_f   Tg_Tmax   sim_time  \\\n",
       "\u001b[1;36m109\u001b[0m   \u001b[1;36m0.401399\u001b[0m    \u001b[1;36m1.000000\u001b[0m      \u001b[1;36m0.990153\u001b[0m  \u001b[1;36m0.267700\u001b[0m  \u001b[1;36m0.703047\u001b[0m  \u001b[1;36m25.000292\u001b[0m   \n",
       "\u001b[1;36m113\u001b[0m   \u001b[1;36m0.125000\u001b[0m    \u001b[1;36m0.812500\u001b[0m      \u001b[1;36m0.342983\u001b[0m  \u001b[1;36m0.319843\u001b[0m  \u001b[1;36m0.660493\u001b[0m  \u001b[1;36m25.000055\u001b[0m   \n",
       "\u001b[1;36m126\u001b[0m   \u001b[1;36m0.102206\u001b[0m    \u001b[1;36m0.713869\u001b[0m      \u001b[1;36m0.289240\u001b[0m  \u001b[1;36m0.323731\u001b[0m  \u001b[1;36m0.662119\u001b[0m  \u001b[1;36m25.000344\u001b[0m   \n",
       "\u001b[1;36m127\u001b[0m   \u001b[1;36m0.104261\u001b[0m    \u001b[1;36m0.656250\u001b[0m      \u001b[1;36m0.279882\u001b[0m  \u001b[1;36m0.332806\u001b[0m  \u001b[1;36m0.665805\u001b[0m  \u001b[1;36m25.000170\u001b[0m   \n",
       "\u001b[1;36m128\u001b[0m   \u001b[1;36m0.146413\u001b[0m    \u001b[1;36m0.562500\u001b[0m      \u001b[1;36m0.437500\u001b[0m  \u001b[1;36m0.293592\u001b[0m  \u001b[1;36m0.648911\u001b[0m  \u001b[1;36m25.000072\u001b[0m   \n",
       "..         \u001b[33m...\u001b[0m         \u001b[33m...\u001b[0m           \u001b[33m...\u001b[0m       \u001b[33m...\u001b[0m       \u001b[33m...\u001b[0m        \u001b[33m...\u001b[0m   \n",
       "\u001b[1;36m295\u001b[0m   \u001b[1;36m0.070500\u001b[0m    \u001b[1;36m0.814139\u001b[0m      \u001b[1;36m0.208426\u001b[0m  \u001b[1;36m0.287017\u001b[0m  \u001b[1;36m0.650126\u001b[0m  \u001b[1;36m25.000575\u001b[0m   \n",
       "\u001b[1;36m296\u001b[0m   \u001b[1;36m0.071742\u001b[0m    \u001b[1;36m0.465603\u001b[0m      \u001b[1;36m0.183253\u001b[0m  \u001b[1;36m0.312714\u001b[0m  \u001b[1;36m0.663947\u001b[0m  \u001b[1;36m25.000818\u001b[0m   \n",
       "\u001b[1;36m297\u001b[0m   \u001b[1;36m0.133646\u001b[0m    \u001b[1;36m0.531250\u001b[0m      \u001b[1;36m0.482029\u001b[0m  \u001b[1;36m0.247170\u001b[0m  \u001b[1;36m0.624225\u001b[0m  \u001b[1;36m25.000320\u001b[0m   \n",
       "\u001b[1;36m298\u001b[0m   \u001b[1;36m0.174916\u001b[0m    \u001b[1;36m0.462056\u001b[0m      \u001b[1;36m0.518675\u001b[0m  \u001b[1;36m0.284974\u001b[0m  \u001b[1;36m0.644785\u001b[0m  \u001b[1;36m25.000053\u001b[0m   \n",
       "\u001b[1;36m299\u001b[0m   \u001b[1;36m0.234837\u001b[0m    \u001b[1;36m0.432848\u001b[0m      \u001b[1;36m0.625000\u001b[0m  \u001b[1;36m0.292023\u001b[0m  \u001b[1;36m0.668388\u001b[0m  \u001b[1;36m25.000216\u001b[0m   \n",
       "\n",
       "     Pg_f_hat  Tg_Tmax_hat       std  interest  coverage  is_interest_point  \n",
       "\u001b[1;36m109\u001b[0m  \u001b[1;36m0.274722\u001b[0m     \u001b[1;36m0.759037\u001b[0m  \u001b[1;36m0.530698\u001b[0m  \u001b[1;36m0.265654\u001b[0m       \u001b[1;36m0.0\u001b[0m               \u001b[3;92mTrue\u001b[0m  \n",
       "\u001b[1;36m113\u001b[0m  \u001b[1;36m0.296328\u001b[0m     \u001b[1;36m0.570261\u001b[0m  \u001b[1;36m0.585267\u001b[0m  \u001b[1;36m0.042667\u001b[0m       \u001b[1;36m0.0\u001b[0m               \u001b[3;92mTrue\u001b[0m  \n",
       "\u001b[1;36m126\u001b[0m  \u001b[1;36m0.293789\u001b[0m     \u001b[1;36m0.617429\u001b[0m  \u001b[1;36m0.771600\u001b[0m  \u001b[1;36m0.001817\u001b[0m       \u001b[1;36m0.0\u001b[0m               \u001b[3;92mTrue\u001b[0m  \n",
       "\u001b[1;36m127\u001b[0m  \u001b[1;36m0.293749\u001b[0m     \u001b[1;36m0.580156\u001b[0m  \u001b[1;36m0.771114\u001b[0m  \u001b[1;36m0.001857\u001b[0m       \u001b[1;36m0.0\u001b[0m               \u001b[3;92mTrue\u001b[0m  \n",
       "\u001b[1;36m128\u001b[0m  \u001b[1;36m0.277744\u001b[0m     \u001b[1;36m0.597922\u001b[0m  \u001b[1;36m0.793363\u001b[0m  \u001b[1;36m0.008184\u001b[0m       \u001b[1;36m0.0\u001b[0m               \u001b[3;92mTrue\u001b[0m  \n",
       "..        \u001b[33m...\u001b[0m          \u001b[33m...\u001b[0m       \u001b[33m...\u001b[0m       \u001b[33m...\u001b[0m       \u001b[33m...\u001b[0m                \u001b[33m...\u001b[0m  \n",
       "\u001b[1;36m295\u001b[0m  \u001b[1;36m0.293472\u001b[0m     \u001b[1;36m0.637852\u001b[0m  \u001b[1;36m0.684524\u001b[0m  \u001b[1;36m0.114383\u001b[0m       \u001b[1;36m0.0\u001b[0m               \u001b[3;92mTrue\u001b[0m  \n",
       "\u001b[1;36m296\u001b[0m  \u001b[1;36m0.295406\u001b[0m     \u001b[1;36m0.605133\u001b[0m  \u001b[1;36m0.619962\u001b[0m  \u001b[1;36m0.162088\u001b[0m       \u001b[1;36m0.0\u001b[0m               \u001b[3;92mTrue\u001b[0m  \n",
       "\u001b[1;36m297\u001b[0m  \u001b[1;36m0.262173\u001b[0m     \u001b[1;36m0.612996\u001b[0m  \u001b[1;36m0.465825\u001b[0m  \u001b[1;36m0.278873\u001b[0m       \u001b[1;36m0.0\u001b[0m               \u001b[3;92mTrue\u001b[0m  \n",
       "\u001b[1;36m298\u001b[0m  \u001b[1;36m0.285395\u001b[0m     \u001b[1;36m0.643081\u001b[0m  \u001b[1;36m0.365401\u001b[0m  \u001b[1;36m0.309209\u001b[0m       \u001b[1;36m0.0\u001b[0m               \u001b[3;92mTrue\u001b[0m  \n",
       "\u001b[1;36m299\u001b[0m  \u001b[1;36m0.288788\u001b[0m     \u001b[1;36m0.654127\u001b[0m  \u001b[1;36m0.332093\u001b[0m  \u001b[1;36m0.328055\u001b[0m       \u001b[1;36m0.0\u001b[0m               \u001b[3;92mTrue\u001b[0m  \n",
       "\n",
       "\u001b[1m[\u001b[0m\u001b[1;36m133\u001b[0m rows x \u001b[1;36m12\u001b[0m columns\u001b[1m]\u001b[0m"
      ]
     },
     "execution_count": 17,
     "metadata": {},
     "output_type": "execute_result"
    }
   ],
   "source": [
    "data[(data['is_interest_point'] == True) & (data['sim_time'] > 25)]"
   ]
  },
  {
   "cell_type": "code",
   "execution_count": 18,
   "metadata": {},
   "outputs": [
    {
     "data": {
      "text/html": [
       "<pre style=\"white-space:pre;overflow-x:auto;line-height:normal;font-family:Menlo,'DejaVu Sans Mono',consolas,'Courier New',monospace\"></pre>\n"
      ],
      "text/plain": []
     },
     "metadata": {},
     "output_type": "display_data"
    },
    {
     "data": {
      "text/html": [
       "<div>\n",
       "<style scoped>\n",
       "    .dataframe tbody tr th:only-of-type {\n",
       "        vertical-align: middle;\n",
       "    }\n",
       "\n",
       "    .dataframe tbody tr th {\n",
       "        vertical-align: top;\n",
       "    }\n",
       "\n",
       "    .dataframe thead th {\n",
       "        text-align: right;\n",
       "    }\n",
       "</style>\n",
       "<table border=\"1\" class=\"dataframe\">\n",
       "  <thead>\n",
       "    <tr style=\"text-align: right;\">\n",
       "      <th></th>\n",
       "      <th>r_ext_pAl</th>\n",
       "      <th>r_ext_pMeO</th>\n",
       "      <th>pAl_richness</th>\n",
       "      <th>Pg_f</th>\n",
       "      <th>Tg_Tmax</th>\n",
       "      <th>sim_time</th>\n",
       "      <th>Pg_f_hat</th>\n",
       "      <th>Tg_Tmax_hat</th>\n",
       "      <th>std</th>\n",
       "      <th>interest</th>\n",
       "      <th>coverage</th>\n",
       "      <th>is_interest_point</th>\n",
       "    </tr>\n",
       "  </thead>\n",
       "  <tbody>\n",
       "    <tr>\n",
       "      <th>100</th>\n",
       "      <td>0.281360</td>\n",
       "      <td>0.875000</td>\n",
       "      <td>0.750000</td>\n",
       "      <td>0.279198</td>\n",
       "      <td>0.675718</td>\n",
       "      <td>9.649067</td>\n",
       "      <td>0.278098</td>\n",
       "      <td>0.716604</td>\n",
       "      <td>0.869652</td>\n",
       "      <td>0.002753</td>\n",
       "      <td>0.0</td>\n",
       "      <td>True</td>\n",
       "    </tr>\n",
       "    <tr>\n",
       "      <th>102</th>\n",
       "      <td>0.237305</td>\n",
       "      <td>1.000000</td>\n",
       "      <td>0.687500</td>\n",
       "      <td>0.271329</td>\n",
       "      <td>0.651600</td>\n",
       "      <td>11.136867</td>\n",
       "      <td>0.282267</td>\n",
       "      <td>0.708161</td>\n",
       "      <td>0.831927</td>\n",
       "      <td>0.006889</td>\n",
       "      <td>0.0</td>\n",
       "      <td>True</td>\n",
       "    </tr>\n",
       "    <tr>\n",
       "      <th>103</th>\n",
       "      <td>0.437484</td>\n",
       "      <td>0.686521</td>\n",
       "      <td>1.000000</td>\n",
       "      <td>0.278129</td>\n",
       "      <td>0.721351</td>\n",
       "      <td>7.214238</td>\n",
       "      <td>0.278602</td>\n",
       "      <td>0.749832</td>\n",
       "      <td>0.854351</td>\n",
       "      <td>0.005708</td>\n",
       "      <td>0.0</td>\n",
       "      <td>True</td>\n",
       "    </tr>\n",
       "    <tr>\n",
       "      <th>104</th>\n",
       "      <td>0.437500</td>\n",
       "      <td>0.686507</td>\n",
       "      <td>1.000000</td>\n",
       "      <td>0.278106</td>\n",
       "      <td>0.721433</td>\n",
       "      <td>7.211467</td>\n",
       "      <td>0.278607</td>\n",
       "      <td>0.749838</td>\n",
       "      <td>0.854356</td>\n",
       "      <td>0.005703</td>\n",
       "      <td>0.0</td>\n",
       "      <td>True</td>\n",
       "    </tr>\n",
       "    <tr>\n",
       "      <th>107</th>\n",
       "      <td>0.339388</td>\n",
       "      <td>0.753602</td>\n",
       "      <td>0.895023</td>\n",
       "      <td>0.266900</td>\n",
       "      <td>0.682699</td>\n",
       "      <td>14.462489</td>\n",
       "      <td>0.269641</td>\n",
       "      <td>0.699022</td>\n",
       "      <td>0.922530</td>\n",
       "      <td>0.000334</td>\n",
       "      <td>0.0</td>\n",
       "      <td>True</td>\n",
       "    </tr>\n",
       "    <tr>\n",
       "      <th>116</th>\n",
       "      <td>0.216419</td>\n",
       "      <td>0.250000</td>\n",
       "      <td>0.500000</td>\n",
       "      <td>0.332207</td>\n",
       "      <td>0.686868</td>\n",
       "      <td>22.307778</td>\n",
       "      <td>0.298610</td>\n",
       "      <td>0.578032</td>\n",
       "      <td>0.323627</td>\n",
       "      <td>0.155420</td>\n",
       "      <td>0.0</td>\n",
       "      <td>True</td>\n",
       "    </tr>\n",
       "    <tr>\n",
       "      <th>122</th>\n",
       "      <td>0.201385</td>\n",
       "      <td>0.622621</td>\n",
       "      <td>0.468750</td>\n",
       "      <td>0.334004</td>\n",
       "      <td>0.692495</td>\n",
       "      <td>24.671186</td>\n",
       "      <td>0.296331</td>\n",
       "      <td>0.635764</td>\n",
       "      <td>0.411904</td>\n",
       "      <td>0.147548</td>\n",
       "      <td>0.0</td>\n",
       "      <td>True</td>\n",
       "    </tr>\n",
       "    <tr>\n",
       "      <th>123</th>\n",
       "      <td>0.207190</td>\n",
       "      <td>0.582388</td>\n",
       "      <td>0.500000</td>\n",
       "      <td>0.323594</td>\n",
       "      <td>0.686493</td>\n",
       "      <td>24.591614</td>\n",
       "      <td>0.295462</td>\n",
       "      <td>0.643843</td>\n",
       "      <td>0.389692</td>\n",
       "      <td>0.156871</td>\n",
       "      <td>0.0</td>\n",
       "      <td>True</td>\n",
       "    </tr>\n",
       "    <tr>\n",
       "      <th>124</th>\n",
       "      <td>0.211175</td>\n",
       "      <td>0.625000</td>\n",
       "      <td>0.500000</td>\n",
       "      <td>0.327322</td>\n",
       "      <td>0.691114</td>\n",
       "      <td>24.081994</td>\n",
       "      <td>0.295423</td>\n",
       "      <td>0.647482</td>\n",
       "      <td>0.393150</td>\n",
       "      <td>0.155553</td>\n",
       "      <td>0.0</td>\n",
       "      <td>True</td>\n",
       "    </tr>\n",
       "    <tr>\n",
       "      <th>125</th>\n",
       "      <td>0.218750</td>\n",
       "      <td>0.506093</td>\n",
       "      <td>0.579675</td>\n",
       "      <td>0.297514</td>\n",
       "      <td>0.668588</td>\n",
       "      <td>24.748486</td>\n",
       "      <td>0.289277</td>\n",
       "      <td>0.662802</td>\n",
       "      <td>0.355822</td>\n",
       "      <td>0.173973</td>\n",
       "      <td>0.0</td>\n",
       "      <td>True</td>\n",
       "    </tr>\n",
       "    <tr>\n",
       "      <th>131</th>\n",
       "      <td>0.268903</td>\n",
       "      <td>0.687500</td>\n",
       "      <td>0.684449</td>\n",
       "      <td>0.294009</td>\n",
       "      <td>0.685011</td>\n",
       "      <td>19.054680</td>\n",
       "      <td>0.292545</td>\n",
       "      <td>0.709910</td>\n",
       "      <td>0.609238</td>\n",
       "      <td>0.045654</td>\n",
       "      <td>0.0</td>\n",
       "      <td>True</td>\n",
       "    </tr>\n",
       "    <tr>\n",
       "      <th>132</th>\n",
       "      <td>0.301104</td>\n",
       "      <td>0.500000</td>\n",
       "      <td>0.730168</td>\n",
       "      <td>0.298181</td>\n",
       "      <td>0.698134</td>\n",
       "      <td>17.730585</td>\n",
       "      <td>0.294836</td>\n",
       "      <td>0.726483</td>\n",
       "      <td>0.571254</td>\n",
       "      <td>0.068429</td>\n",
       "      <td>0.0</td>\n",
       "      <td>True</td>\n",
       "    </tr>\n",
       "  </tbody>\n",
       "</table>\n",
       "</div>"
      ],
      "text/plain": [
       "\n",
       "     r_ext_pAl  r_ext_pMeO  pAl_richness      Pg_f   Tg_Tmax   sim_time  \\\n",
       "\u001b[1;36m100\u001b[0m   \u001b[1;36m0.281360\u001b[0m    \u001b[1;36m0.875000\u001b[0m      \u001b[1;36m0.750000\u001b[0m  \u001b[1;36m0.279198\u001b[0m  \u001b[1;36m0.675718\u001b[0m   \u001b[1;36m9.649067\u001b[0m   \n",
       "\u001b[1;36m102\u001b[0m   \u001b[1;36m0.237305\u001b[0m    \u001b[1;36m1.000000\u001b[0m      \u001b[1;36m0.687500\u001b[0m  \u001b[1;36m0.271329\u001b[0m  \u001b[1;36m0.651600\u001b[0m  \u001b[1;36m11.136867\u001b[0m   \n",
       "\u001b[1;36m103\u001b[0m   \u001b[1;36m0.437484\u001b[0m    \u001b[1;36m0.686521\u001b[0m      \u001b[1;36m1.000000\u001b[0m  \u001b[1;36m0.278129\u001b[0m  \u001b[1;36m0.721351\u001b[0m   \u001b[1;36m7.214238\u001b[0m   \n",
       "\u001b[1;36m104\u001b[0m   \u001b[1;36m0.437500\u001b[0m    \u001b[1;36m0.686507\u001b[0m      \u001b[1;36m1.000000\u001b[0m  \u001b[1;36m0.278106\u001b[0m  \u001b[1;36m0.721433\u001b[0m   \u001b[1;36m7.211467\u001b[0m   \n",
       "\u001b[1;36m107\u001b[0m   \u001b[1;36m0.339388\u001b[0m    \u001b[1;36m0.753602\u001b[0m      \u001b[1;36m0.895023\u001b[0m  \u001b[1;36m0.266900\u001b[0m  \u001b[1;36m0.682699\u001b[0m  \u001b[1;36m14.462489\u001b[0m   \n",
       "\u001b[1;36m116\u001b[0m   \u001b[1;36m0.216419\u001b[0m    \u001b[1;36m0.250000\u001b[0m      \u001b[1;36m0.500000\u001b[0m  \u001b[1;36m0.332207\u001b[0m  \u001b[1;36m0.686868\u001b[0m  \u001b[1;36m22.307778\u001b[0m   \n",
       "\u001b[1;36m122\u001b[0m   \u001b[1;36m0.201385\u001b[0m    \u001b[1;36m0.622621\u001b[0m      \u001b[1;36m0.468750\u001b[0m  \u001b[1;36m0.334004\u001b[0m  \u001b[1;36m0.692495\u001b[0m  \u001b[1;36m24.671186\u001b[0m   \n",
       "\u001b[1;36m123\u001b[0m   \u001b[1;36m0.207190\u001b[0m    \u001b[1;36m0.582388\u001b[0m      \u001b[1;36m0.500000\u001b[0m  \u001b[1;36m0.323594\u001b[0m  \u001b[1;36m0.686493\u001b[0m  \u001b[1;36m24.591614\u001b[0m   \n",
       "\u001b[1;36m124\u001b[0m   \u001b[1;36m0.211175\u001b[0m    \u001b[1;36m0.625000\u001b[0m      \u001b[1;36m0.500000\u001b[0m  \u001b[1;36m0.327322\u001b[0m  \u001b[1;36m0.691114\u001b[0m  \u001b[1;36m24.081994\u001b[0m   \n",
       "\u001b[1;36m125\u001b[0m   \u001b[1;36m0.218750\u001b[0m    \u001b[1;36m0.506093\u001b[0m      \u001b[1;36m0.579675\u001b[0m  \u001b[1;36m0.297514\u001b[0m  \u001b[1;36m0.668588\u001b[0m  \u001b[1;36m24.748486\u001b[0m   \n",
       "\u001b[1;36m131\u001b[0m   \u001b[1;36m0.268903\u001b[0m    \u001b[1;36m0.687500\u001b[0m      \u001b[1;36m0.684449\u001b[0m  \u001b[1;36m0.294009\u001b[0m  \u001b[1;36m0.685011\u001b[0m  \u001b[1;36m19.054680\u001b[0m   \n",
       "\u001b[1;36m132\u001b[0m   \u001b[1;36m0.301104\u001b[0m    \u001b[1;36m0.500000\u001b[0m      \u001b[1;36m0.730168\u001b[0m  \u001b[1;36m0.298181\u001b[0m  \u001b[1;36m0.698134\u001b[0m  \u001b[1;36m17.730585\u001b[0m   \n",
       "\n",
       "     Pg_f_hat  Tg_Tmax_hat       std  interest  coverage  is_interest_point  \n",
       "\u001b[1;36m100\u001b[0m  \u001b[1;36m0.278098\u001b[0m     \u001b[1;36m0.716604\u001b[0m  \u001b[1;36m0.869652\u001b[0m  \u001b[1;36m0.002753\u001b[0m       \u001b[1;36m0.0\u001b[0m               \u001b[3;92mTrue\u001b[0m  \n",
       "\u001b[1;36m102\u001b[0m  \u001b[1;36m0.282267\u001b[0m     \u001b[1;36m0.708161\u001b[0m  \u001b[1;36m0.831927\u001b[0m  \u001b[1;36m0.006889\u001b[0m       \u001b[1;36m0.0\u001b[0m               \u001b[3;92mTrue\u001b[0m  \n",
       "\u001b[1;36m103\u001b[0m  \u001b[1;36m0.278602\u001b[0m     \u001b[1;36m0.749832\u001b[0m  \u001b[1;36m0.854351\u001b[0m  \u001b[1;36m0.005708\u001b[0m       \u001b[1;36m0.0\u001b[0m               \u001b[3;92mTrue\u001b[0m  \n",
       "\u001b[1;36m104\u001b[0m  \u001b[1;36m0.278607\u001b[0m     \u001b[1;36m0.749838\u001b[0m  \u001b[1;36m0.854356\u001b[0m  \u001b[1;36m0.005703\u001b[0m       \u001b[1;36m0.0\u001b[0m               \u001b[3;92mTrue\u001b[0m  \n",
       "\u001b[1;36m107\u001b[0m  \u001b[1;36m0.269641\u001b[0m     \u001b[1;36m0.699022\u001b[0m  \u001b[1;36m0.922530\u001b[0m  \u001b[1;36m0.000334\u001b[0m       \u001b[1;36m0.0\u001b[0m               \u001b[3;92mTrue\u001b[0m  \n",
       "\u001b[1;36m116\u001b[0m  \u001b[1;36m0.298610\u001b[0m     \u001b[1;36m0.578032\u001b[0m  \u001b[1;36m0.323627\u001b[0m  \u001b[1;36m0.155420\u001b[0m       \u001b[1;36m0.0\u001b[0m               \u001b[3;92mTrue\u001b[0m  \n",
       "\u001b[1;36m122\u001b[0m  \u001b[1;36m0.296331\u001b[0m     \u001b[1;36m0.635764\u001b[0m  \u001b[1;36m0.411904\u001b[0m  \u001b[1;36m0.147548\u001b[0m       \u001b[1;36m0.0\u001b[0m               \u001b[3;92mTrue\u001b[0m  \n",
       "\u001b[1;36m123\u001b[0m  \u001b[1;36m0.295462\u001b[0m     \u001b[1;36m0.643843\u001b[0m  \u001b[1;36m0.389692\u001b[0m  \u001b[1;36m0.156871\u001b[0m       \u001b[1;36m0.0\u001b[0m               \u001b[3;92mTrue\u001b[0m  \n",
       "\u001b[1;36m124\u001b[0m  \u001b[1;36m0.295423\u001b[0m     \u001b[1;36m0.647482\u001b[0m  \u001b[1;36m0.393150\u001b[0m  \u001b[1;36m0.155553\u001b[0m       \u001b[1;36m0.0\u001b[0m               \u001b[3;92mTrue\u001b[0m  \n",
       "\u001b[1;36m125\u001b[0m  \u001b[1;36m0.289277\u001b[0m     \u001b[1;36m0.662802\u001b[0m  \u001b[1;36m0.355822\u001b[0m  \u001b[1;36m0.173973\u001b[0m       \u001b[1;36m0.0\u001b[0m               \u001b[3;92mTrue\u001b[0m  \n",
       "\u001b[1;36m131\u001b[0m  \u001b[1;36m0.292545\u001b[0m     \u001b[1;36m0.709910\u001b[0m  \u001b[1;36m0.609238\u001b[0m  \u001b[1;36m0.045654\u001b[0m       \u001b[1;36m0.0\u001b[0m               \u001b[3;92mTrue\u001b[0m  \n",
       "\u001b[1;36m132\u001b[0m  \u001b[1;36m0.294836\u001b[0m     \u001b[1;36m0.726483\u001b[0m  \u001b[1;36m0.571254\u001b[0m  \u001b[1;36m0.068429\u001b[0m       \u001b[1;36m0.0\u001b[0m               \u001b[3;92mTrue\u001b[0m  "
      ]
     },
     "execution_count": 18,
     "metadata": {},
     "output_type": "execute_result"
    }
   ],
   "source": [
    "data[(data['is_interest_point'] == True) & (data['sim_time'] < 25)]"
   ]
  },
  {
   "cell_type": "code",
   "execution_count": 24,
   "metadata": {},
   "outputs": [
    {
     "data": {
      "text/html": [
       "<pre style=\"white-space:pre;overflow-x:auto;line-height:normal;font-family:Menlo,'DejaVu Sans Mono',consolas,'Courier New',monospace\"></pre>\n"
      ],
      "text/plain": []
     },
     "metadata": {},
     "output_type": "display_data"
    },
    {
     "data": {
      "text/html": [
       "<div>\n",
       "<style scoped>\n",
       "    .dataframe tbody tr th:only-of-type {\n",
       "        vertical-align: middle;\n",
       "    }\n",
       "\n",
       "    .dataframe tbody tr th {\n",
       "        vertical-align: top;\n",
       "    }\n",
       "\n",
       "    .dataframe thead th {\n",
       "        text-align: right;\n",
       "    }\n",
       "</style>\n",
       "<table border=\"1\" class=\"dataframe\">\n",
       "  <thead>\n",
       "    <tr style=\"text-align: right;\">\n",
       "      <th></th>\n",
       "      <th>r_ext_pAl</th>\n",
       "      <th>r_ext_pMeO</th>\n",
       "      <th>pAl_richness</th>\n",
       "      <th>Pg_f</th>\n",
       "      <th>Tg_Tmax</th>\n",
       "      <th>sim_time</th>\n",
       "      <th>Pg_f_hat</th>\n",
       "      <th>Tg_Tmax_hat</th>\n",
       "      <th>std</th>\n",
       "      <th>interest</th>\n",
       "      <th>coverage</th>\n",
       "      <th>is_interest_point</th>\n",
       "      <th>interest_per_batch</th>\n",
       "    </tr>\n",
       "  </thead>\n",
       "  <tbody>\n",
       "    <tr>\n",
       "      <th>0</th>\n",
       "      <td>0.998455</td>\n",
       "      <td>0.752775</td>\n",
       "      <td>0.832825</td>\n",
       "      <td>0.439480</td>\n",
       "      <td>0.861510</td>\n",
       "      <td>NaN</td>\n",
       "      <td>NaN</td>\n",
       "      <td>NaN</td>\n",
       "      <td>NaN</td>\n",
       "      <td>NaN</td>\n",
       "      <td>NaN</td>\n",
       "      <td>False</td>\n",
       "      <td>NaN</td>\n",
       "    </tr>\n",
       "    <tr>\n",
       "      <th>1</th>\n",
       "      <td>0.884572</td>\n",
       "      <td>0.995134</td>\n",
       "      <td>0.489310</td>\n",
       "      <td>0.590641</td>\n",
       "      <td>0.910139</td>\n",
       "      <td>NaN</td>\n",
       "      <td>NaN</td>\n",
       "      <td>NaN</td>\n",
       "      <td>NaN</td>\n",
       "      <td>NaN</td>\n",
       "      <td>NaN</td>\n",
       "      <td>False</td>\n",
       "      <td>NaN</td>\n",
       "    </tr>\n",
       "    <tr>\n",
       "      <th>2</th>\n",
       "      <td>0.773458</td>\n",
       "      <td>0.891320</td>\n",
       "      <td>0.651214</td>\n",
       "      <td>0.499086</td>\n",
       "      <td>0.883874</td>\n",
       "      <td>NaN</td>\n",
       "      <td>NaN</td>\n",
       "      <td>NaN</td>\n",
       "      <td>NaN</td>\n",
       "      <td>NaN</td>\n",
       "      <td>NaN</td>\n",
       "      <td>False</td>\n",
       "      <td>NaN</td>\n",
       "    </tr>\n",
       "    <tr>\n",
       "      <th>3</th>\n",
       "      <td>0.513232</td>\n",
       "      <td>0.514477</td>\n",
       "      <td>0.939324</td>\n",
       "      <td>0.321652</td>\n",
       "      <td>0.782492</td>\n",
       "      <td>NaN</td>\n",
       "      <td>NaN</td>\n",
       "      <td>NaN</td>\n",
       "      <td>NaN</td>\n",
       "      <td>NaN</td>\n",
       "      <td>NaN</td>\n",
       "      <td>True</td>\n",
       "      <td>NaN</td>\n",
       "    </tr>\n",
       "    <tr>\n",
       "      <th>4</th>\n",
       "      <td>0.304354</td>\n",
       "      <td>0.935717</td>\n",
       "      <td>0.096649</td>\n",
       "      <td>0.685096</td>\n",
       "      <td>0.909678</td>\n",
       "      <td>NaN</td>\n",
       "      <td>NaN</td>\n",
       "      <td>NaN</td>\n",
       "      <td>NaN</td>\n",
       "      <td>NaN</td>\n",
       "      <td>NaN</td>\n",
       "      <td>False</td>\n",
       "      <td>NaN</td>\n",
       "    </tr>\n",
       "  </tbody>\n",
       "</table>\n",
       "</div>"
      ],
      "text/plain": [
       "\n",
       "   r_ext_pAl  r_ext_pMeO  pAl_richness      Pg_f   Tg_Tmax  sim_time  \\\n",
       "\u001b[1;36m0\u001b[0m   \u001b[1;36m0.998455\u001b[0m    \u001b[1;36m0.752775\u001b[0m      \u001b[1;36m0.832825\u001b[0m  \u001b[1;36m0.439480\u001b[0m  \u001b[1;36m0.861510\u001b[0m       NaN   \n",
       "\u001b[1;36m1\u001b[0m   \u001b[1;36m0.884572\u001b[0m    \u001b[1;36m0.995134\u001b[0m      \u001b[1;36m0.489310\u001b[0m  \u001b[1;36m0.590641\u001b[0m  \u001b[1;36m0.910139\u001b[0m       NaN   \n",
       "\u001b[1;36m2\u001b[0m   \u001b[1;36m0.773458\u001b[0m    \u001b[1;36m0.891320\u001b[0m      \u001b[1;36m0.651214\u001b[0m  \u001b[1;36m0.499086\u001b[0m  \u001b[1;36m0.883874\u001b[0m       NaN   \n",
       "\u001b[1;36m3\u001b[0m   \u001b[1;36m0.513232\u001b[0m    \u001b[1;36m0.514477\u001b[0m      \u001b[1;36m0.939324\u001b[0m  \u001b[1;36m0.321652\u001b[0m  \u001b[1;36m0.782492\u001b[0m       NaN   \n",
       "\u001b[1;36m4\u001b[0m   \u001b[1;36m0.304354\u001b[0m    \u001b[1;36m0.935717\u001b[0m      \u001b[1;36m0.096649\u001b[0m  \u001b[1;36m0.685096\u001b[0m  \u001b[1;36m0.909678\u001b[0m       NaN   \n",
       "\n",
       "   Pg_f_hat  Tg_Tmax_hat  std  interest  coverage  is_interest_point  \\\n",
       "\u001b[1;36m0\u001b[0m       NaN          NaN  NaN       NaN       NaN              \u001b[3;91mFalse\u001b[0m   \n",
       "\u001b[1;36m1\u001b[0m       NaN          NaN  NaN       NaN       NaN              \u001b[3;91mFalse\u001b[0m   \n",
       "\u001b[1;36m2\u001b[0m       NaN          NaN  NaN       NaN       NaN              \u001b[3;91mFalse\u001b[0m   \n",
       "\u001b[1;36m3\u001b[0m       NaN          NaN  NaN       NaN       NaN               \u001b[3;92mTrue\u001b[0m   \n",
       "\u001b[1;36m4\u001b[0m       NaN          NaN  NaN       NaN       NaN              \u001b[3;91mFalse\u001b[0m   \n",
       "\n",
       "   interest_per_batch  \n",
       "\u001b[1;36m0\u001b[0m                 NaN  \n",
       "\u001b[1;36m1\u001b[0m                 NaN  \n",
       "\u001b[1;36m2\u001b[0m                 NaN  \n",
       "\u001b[1;36m3\u001b[0m                 NaN  \n",
       "\u001b[1;36m4\u001b[0m                 NaN  "
      ]
     },
     "execution_count": 24,
     "metadata": {},
     "output_type": "execute_result"
    }
   ],
   "source": [
    "# Add column interest_per_batch with the mean interest points from last 7 rows\n",
    "batch = 14\n",
    "data['interest_per_batch'] = data['is_interest_point'].rolling(batch).mean()\n",
    "data.head()"
   ]
  },
  {
   "cell_type": "code",
   "execution_count": 25,
   "metadata": {},
   "outputs": [
    {
     "data": {
      "application/vnd.plotly.v1+json": {
       "config": {
        "plotlyServerURL": "https://plot.ly"
       },
       "data": [
        {
         "mode": "lines",
         "name": "Interest per batch",
         "type": "scatter",
         "x": [
          0,
          1,
          2,
          3,
          4,
          5,
          6,
          7,
          8,
          9,
          10,
          11,
          12,
          13,
          14,
          15,
          16,
          17,
          18,
          19,
          20,
          21,
          22,
          23,
          24,
          25,
          26,
          27,
          28,
          29,
          30,
          31,
          32,
          33,
          34,
          35,
          36,
          37,
          38,
          39,
          40,
          41,
          42,
          43,
          44,
          45,
          46,
          47,
          48,
          49,
          50,
          51,
          52,
          53,
          54,
          55,
          56,
          57,
          58,
          59,
          60,
          61,
          62,
          63,
          64,
          65,
          66,
          67,
          68,
          69,
          70,
          71,
          72,
          73,
          74,
          75,
          76,
          77,
          78,
          79,
          80,
          81,
          82,
          83,
          84,
          85,
          86,
          87,
          88,
          89,
          90,
          91,
          92,
          93,
          94,
          95,
          96,
          97,
          98,
          99,
          100,
          101,
          102,
          103,
          104,
          105,
          106,
          107,
          108,
          109,
          110,
          111,
          112,
          113,
          114,
          115,
          116,
          117,
          118,
          119,
          120,
          121,
          122,
          123,
          124,
          125,
          126,
          127,
          128,
          129,
          130,
          131,
          132,
          133,
          134,
          135,
          136,
          137,
          138,
          139,
          140,
          141,
          142,
          143,
          144,
          145,
          146,
          147,
          148,
          149,
          150,
          151,
          152,
          153,
          154,
          155,
          156,
          157,
          158,
          159,
          160,
          161,
          162,
          163,
          164,
          165,
          166,
          167,
          168,
          169,
          170,
          171,
          172,
          173,
          174,
          175,
          176,
          177,
          178,
          179,
          180,
          181,
          182,
          183,
          184,
          185,
          186,
          187,
          188,
          189,
          190,
          191,
          192,
          193,
          194,
          195,
          196,
          197,
          198,
          199,
          200,
          201,
          202,
          203,
          204,
          205,
          206,
          207,
          208,
          209,
          210,
          211,
          212,
          213,
          214,
          215,
          216,
          217,
          218,
          219,
          220,
          221,
          222,
          223,
          224,
          225,
          226,
          227,
          228,
          229,
          230,
          231,
          232,
          233,
          234,
          235,
          236,
          237,
          238,
          239,
          240,
          241,
          242,
          243,
          244,
          245,
          246,
          247,
          248,
          249,
          250,
          251,
          252,
          253,
          254,
          255,
          256,
          257,
          258,
          259,
          260,
          261,
          262,
          263,
          264,
          265,
          266,
          267,
          268,
          269,
          270,
          271,
          272,
          273,
          274,
          275,
          276,
          277,
          278,
          279,
          280,
          281,
          282,
          283,
          284,
          285,
          286,
          287,
          288,
          289,
          290,
          291,
          292,
          293,
          294,
          295,
          296,
          297,
          298,
          299
         ],
         "y": [
          null,
          null,
          null,
          null,
          null,
          null,
          null,
          null,
          null,
          null,
          null,
          null,
          null,
          0.14285714285714285,
          0.14285714285714285,
          0.14285714285714285,
          0.14285714285714285,
          0.07142857142857142,
          0.07142857142857142,
          0.07142857142857142,
          0.07142857142857142,
          0.07142857142857142,
          0.07142857142857142,
          0.07142857142857142,
          0.07142857142857142,
          0.07142857142857142,
          0.07142857142857142,
          0,
          0,
          0,
          0,
          0,
          0,
          0,
          0,
          0,
          0,
          0,
          0,
          0,
          0,
          0,
          0,
          0,
          0,
          0,
          0,
          0,
          0,
          0,
          0,
          0,
          0,
          0,
          0,
          0,
          0,
          0,
          0,
          0,
          0,
          0,
          0,
          0,
          0.07142857142857142,
          0.07142857142857142,
          0.07142857142857142,
          0.07142857142857142,
          0.07142857142857142,
          0.07142857142857142,
          0.07142857142857142,
          0.07142857142857142,
          0.07142857142857142,
          0.07142857142857142,
          0.07142857142857142,
          0.07142857142857142,
          0.14285714285714285,
          0.14285714285714285,
          0.07142857142857142,
          0.07142857142857142,
          0.07142857142857142,
          0.07142857142857142,
          0.07142857142857142,
          0.07142857142857142,
          0.07142857142857142,
          0.07142857142857142,
          0.07142857142857142,
          0.07142857142857142,
          0.07142857142857142,
          0.07142857142857142,
          0,
          0,
          0,
          0,
          0,
          0,
          0,
          0,
          0,
          0,
          0.07142857142857142,
          0.07142857142857142,
          0.14285714285714285,
          0.21428571428571427,
          0.2857142857142857,
          0.2857142857142857,
          0.2857142857142857,
          0.35714285714285715,
          0.35714285714285715,
          0.42857142857142855,
          0.42857142857142855,
          0.42857142857142855,
          0.42857142857142855,
          0.5,
          0.42857142857142855,
          0.42857142857142855,
          0.42857142857142855,
          0.35714285714285715,
          0.2857142857142857,
          0.2857142857142857,
          0.2857142857142857,
          0.21428571428571427,
          0.2857142857142857,
          0.2857142857142857,
          0.35714285714285715,
          0.42857142857142855,
          0.5,
          0.5,
          0.5714285714285714,
          0.6428571428571429,
          0.6428571428571429,
          0.7142857142857143,
          0.7857142857142857,
          0.7857142857142857,
          0.7857142857142857,
          0.7857142857142857,
          0.7142857142857143,
          0.6428571428571429,
          0.5714285714285714,
          0.5714285714285714,
          0.5714285714285714,
          0.5,
          0.5,
          0.42857142857142855,
          0.42857142857142855,
          0.35714285714285715,
          0.2857142857142857,
          0.35714285714285715,
          0.42857142857142855,
          0.5,
          0.5,
          0.5,
          0.5714285714285714,
          0.5714285714285714,
          0.5714285714285714,
          0.6428571428571429,
          0.6428571428571429,
          0.7142857142857143,
          0.6428571428571429,
          0.6428571428571429,
          0.6428571428571429,
          0.6428571428571429,
          0.6428571428571429,
          0.6428571428571429,
          0.7142857142857143,
          0.7857142857142857,
          0.7857142857142857,
          0.7857142857142857,
          0.7857142857142857,
          0.7857142857142857,
          0.7142857142857143,
          0.7142857142857143,
          0.7857142857142857,
          0.8571428571428571,
          0.9285714285714286,
          0.9285714285714286,
          0.9285714285714286,
          0.9285714285714286,
          0.9285714285714286,
          0.9285714285714286,
          0.9285714285714286,
          0.9285714285714286,
          0.9285714285714286,
          0.9285714285714286,
          1,
          1,
          1,
          1,
          0.9285714285714286,
          0.9285714285714286,
          0.8571428571428571,
          0.8571428571428571,
          0.8571428571428571,
          0.8571428571428571,
          0.8571428571428571,
          0.8571428571428571,
          0.8571428571428571,
          0.7857142857142857,
          0.7142857142857143,
          0.7142857142857143,
          0.7142857142857143,
          0.7142857142857143,
          0.7857142857142857,
          0.7857142857142857,
          0.8571428571428571,
          0.7857142857142857,
          0.7857142857142857,
          0.7857142857142857,
          0.7857142857142857,
          0.7857142857142857,
          0.7142857142857143,
          0.7142857142857143,
          0.7857142857142857,
          0.7857142857142857,
          0.7142857142857143,
          0.7142857142857143,
          0.7142857142857143,
          0.7142857142857143,
          0.7142857142857143,
          0.7857142857142857,
          0.7857142857142857,
          0.7857142857142857,
          0.7142857142857143,
          0.7142857142857143,
          0.7857142857142857,
          0.8571428571428571,
          0.8571428571428571,
          0.8571428571428571,
          0.9285714285714286,
          0.9285714285714286,
          0.9285714285714286,
          0.9285714285714286,
          0.9285714285714286,
          0.9285714285714286,
          0.9285714285714286,
          0.9285714285714286,
          1,
          1,
          1,
          1,
          1,
          1,
          1,
          0.9285714285714286,
          0.9285714285714286,
          0.8571428571428571,
          0.7857142857142857,
          0.7857142857142857,
          0.7857142857142857,
          0.7857142857142857,
          0.7857142857142857,
          0.7142857142857143,
          0.6428571428571429,
          0.5714285714285714,
          0.5,
          0.42857142857142855,
          0.35714285714285715,
          0.35714285714285715,
          0.35714285714285715,
          0.42857142857142855,
          0.5,
          0.5,
          0.42857142857142855,
          0.35714285714285715,
          0.35714285714285715,
          0.42857142857142855,
          0.5,
          0.5714285714285714,
          0.6428571428571429,
          0.7142857142857143,
          0.7857142857142857,
          0.8571428571428571,
          0.8571428571428571,
          0.8571428571428571,
          0.8571428571428571,
          0.8571428571428571,
          0.9285714285714286,
          1,
          1,
          1,
          1,
          0.9285714285714286,
          0.9285714285714286,
          0.8571428571428571,
          0.8571428571428571,
          0.8571428571428571,
          0.8571428571428571,
          0.8571428571428571,
          0.7857142857142857,
          0.7857142857142857,
          0.7857142857142857,
          0.7857142857142857,
          0.7857142857142857,
          0.7857142857142857,
          0.7142857142857143,
          0.7857142857142857,
          0.7857142857142857,
          0.8571428571428571,
          0.8571428571428571,
          0.8571428571428571
         ]
        }
       ],
       "layout": {
        "template": {
         "data": {
          "bar": [
           {
            "error_x": {
             "color": "#2a3f5f"
            },
            "error_y": {
             "color": "#2a3f5f"
            },
            "marker": {
             "line": {
              "color": "#E5ECF6",
              "width": 0.5
             },
             "pattern": {
              "fillmode": "overlay",
              "size": 10,
              "solidity": 0.2
             }
            },
            "type": "bar"
           }
          ],
          "barpolar": [
           {
            "marker": {
             "line": {
              "color": "#E5ECF6",
              "width": 0.5
             },
             "pattern": {
              "fillmode": "overlay",
              "size": 10,
              "solidity": 0.2
             }
            },
            "type": "barpolar"
           }
          ],
          "carpet": [
           {
            "aaxis": {
             "endlinecolor": "#2a3f5f",
             "gridcolor": "white",
             "linecolor": "white",
             "minorgridcolor": "white",
             "startlinecolor": "#2a3f5f"
            },
            "baxis": {
             "endlinecolor": "#2a3f5f",
             "gridcolor": "white",
             "linecolor": "white",
             "minorgridcolor": "white",
             "startlinecolor": "#2a3f5f"
            },
            "type": "carpet"
           }
          ],
          "choropleth": [
           {
            "colorbar": {
             "outlinewidth": 0,
             "ticks": ""
            },
            "type": "choropleth"
           }
          ],
          "contour": [
           {
            "colorbar": {
             "outlinewidth": 0,
             "ticks": ""
            },
            "colorscale": [
             [
              0,
              "#0d0887"
             ],
             [
              0.1111111111111111,
              "#46039f"
             ],
             [
              0.2222222222222222,
              "#7201a8"
             ],
             [
              0.3333333333333333,
              "#9c179e"
             ],
             [
              0.4444444444444444,
              "#bd3786"
             ],
             [
              0.5555555555555556,
              "#d8576b"
             ],
             [
              0.6666666666666666,
              "#ed7953"
             ],
             [
              0.7777777777777778,
              "#fb9f3a"
             ],
             [
              0.8888888888888888,
              "#fdca26"
             ],
             [
              1,
              "#f0f921"
             ]
            ],
            "type": "contour"
           }
          ],
          "contourcarpet": [
           {
            "colorbar": {
             "outlinewidth": 0,
             "ticks": ""
            },
            "type": "contourcarpet"
           }
          ],
          "heatmap": [
           {
            "colorbar": {
             "outlinewidth": 0,
             "ticks": ""
            },
            "colorscale": [
             [
              0,
              "#0d0887"
             ],
             [
              0.1111111111111111,
              "#46039f"
             ],
             [
              0.2222222222222222,
              "#7201a8"
             ],
             [
              0.3333333333333333,
              "#9c179e"
             ],
             [
              0.4444444444444444,
              "#bd3786"
             ],
             [
              0.5555555555555556,
              "#d8576b"
             ],
             [
              0.6666666666666666,
              "#ed7953"
             ],
             [
              0.7777777777777778,
              "#fb9f3a"
             ],
             [
              0.8888888888888888,
              "#fdca26"
             ],
             [
              1,
              "#f0f921"
             ]
            ],
            "type": "heatmap"
           }
          ],
          "heatmapgl": [
           {
            "colorbar": {
             "outlinewidth": 0,
             "ticks": ""
            },
            "colorscale": [
             [
              0,
              "#0d0887"
             ],
             [
              0.1111111111111111,
              "#46039f"
             ],
             [
              0.2222222222222222,
              "#7201a8"
             ],
             [
              0.3333333333333333,
              "#9c179e"
             ],
             [
              0.4444444444444444,
              "#bd3786"
             ],
             [
              0.5555555555555556,
              "#d8576b"
             ],
             [
              0.6666666666666666,
              "#ed7953"
             ],
             [
              0.7777777777777778,
              "#fb9f3a"
             ],
             [
              0.8888888888888888,
              "#fdca26"
             ],
             [
              1,
              "#f0f921"
             ]
            ],
            "type": "heatmapgl"
           }
          ],
          "histogram": [
           {
            "marker": {
             "pattern": {
              "fillmode": "overlay",
              "size": 10,
              "solidity": 0.2
             }
            },
            "type": "histogram"
           }
          ],
          "histogram2d": [
           {
            "colorbar": {
             "outlinewidth": 0,
             "ticks": ""
            },
            "colorscale": [
             [
              0,
              "#0d0887"
             ],
             [
              0.1111111111111111,
              "#46039f"
             ],
             [
              0.2222222222222222,
              "#7201a8"
             ],
             [
              0.3333333333333333,
              "#9c179e"
             ],
             [
              0.4444444444444444,
              "#bd3786"
             ],
             [
              0.5555555555555556,
              "#d8576b"
             ],
             [
              0.6666666666666666,
              "#ed7953"
             ],
             [
              0.7777777777777778,
              "#fb9f3a"
             ],
             [
              0.8888888888888888,
              "#fdca26"
             ],
             [
              1,
              "#f0f921"
             ]
            ],
            "type": "histogram2d"
           }
          ],
          "histogram2dcontour": [
           {
            "colorbar": {
             "outlinewidth": 0,
             "ticks": ""
            },
            "colorscale": [
             [
              0,
              "#0d0887"
             ],
             [
              0.1111111111111111,
              "#46039f"
             ],
             [
              0.2222222222222222,
              "#7201a8"
             ],
             [
              0.3333333333333333,
              "#9c179e"
             ],
             [
              0.4444444444444444,
              "#bd3786"
             ],
             [
              0.5555555555555556,
              "#d8576b"
             ],
             [
              0.6666666666666666,
              "#ed7953"
             ],
             [
              0.7777777777777778,
              "#fb9f3a"
             ],
             [
              0.8888888888888888,
              "#fdca26"
             ],
             [
              1,
              "#f0f921"
             ]
            ],
            "type": "histogram2dcontour"
           }
          ],
          "mesh3d": [
           {
            "colorbar": {
             "outlinewidth": 0,
             "ticks": ""
            },
            "type": "mesh3d"
           }
          ],
          "parcoords": [
           {
            "line": {
             "colorbar": {
              "outlinewidth": 0,
              "ticks": ""
             }
            },
            "type": "parcoords"
           }
          ],
          "pie": [
           {
            "automargin": true,
            "type": "pie"
           }
          ],
          "scatter": [
           {
            "fillpattern": {
             "fillmode": "overlay",
             "size": 10,
             "solidity": 0.2
            },
            "type": "scatter"
           }
          ],
          "scatter3d": [
           {
            "line": {
             "colorbar": {
              "outlinewidth": 0,
              "ticks": ""
             }
            },
            "marker": {
             "colorbar": {
              "outlinewidth": 0,
              "ticks": ""
             }
            },
            "type": "scatter3d"
           }
          ],
          "scattercarpet": [
           {
            "marker": {
             "colorbar": {
              "outlinewidth": 0,
              "ticks": ""
             }
            },
            "type": "scattercarpet"
           }
          ],
          "scattergeo": [
           {
            "marker": {
             "colorbar": {
              "outlinewidth": 0,
              "ticks": ""
             }
            },
            "type": "scattergeo"
           }
          ],
          "scattergl": [
           {
            "marker": {
             "colorbar": {
              "outlinewidth": 0,
              "ticks": ""
             }
            },
            "type": "scattergl"
           }
          ],
          "scattermapbox": [
           {
            "marker": {
             "colorbar": {
              "outlinewidth": 0,
              "ticks": ""
             }
            },
            "type": "scattermapbox"
           }
          ],
          "scatterpolar": [
           {
            "marker": {
             "colorbar": {
              "outlinewidth": 0,
              "ticks": ""
             }
            },
            "type": "scatterpolar"
           }
          ],
          "scatterpolargl": [
           {
            "marker": {
             "colorbar": {
              "outlinewidth": 0,
              "ticks": ""
             }
            },
            "type": "scatterpolargl"
           }
          ],
          "scatterternary": [
           {
            "marker": {
             "colorbar": {
              "outlinewidth": 0,
              "ticks": ""
             }
            },
            "type": "scatterternary"
           }
          ],
          "surface": [
           {
            "colorbar": {
             "outlinewidth": 0,
             "ticks": ""
            },
            "colorscale": [
             [
              0,
              "#0d0887"
             ],
             [
              0.1111111111111111,
              "#46039f"
             ],
             [
              0.2222222222222222,
              "#7201a8"
             ],
             [
              0.3333333333333333,
              "#9c179e"
             ],
             [
              0.4444444444444444,
              "#bd3786"
             ],
             [
              0.5555555555555556,
              "#d8576b"
             ],
             [
              0.6666666666666666,
              "#ed7953"
             ],
             [
              0.7777777777777778,
              "#fb9f3a"
             ],
             [
              0.8888888888888888,
              "#fdca26"
             ],
             [
              1,
              "#f0f921"
             ]
            ],
            "type": "surface"
           }
          ],
          "table": [
           {
            "cells": {
             "fill": {
              "color": "#EBF0F8"
             },
             "line": {
              "color": "white"
             }
            },
            "header": {
             "fill": {
              "color": "#C8D4E3"
             },
             "line": {
              "color": "white"
             }
            },
            "type": "table"
           }
          ]
         },
         "layout": {
          "annotationdefaults": {
           "arrowcolor": "#2a3f5f",
           "arrowhead": 0,
           "arrowwidth": 1
          },
          "autotypenumbers": "strict",
          "coloraxis": {
           "colorbar": {
            "outlinewidth": 0,
            "ticks": ""
           }
          },
          "colorscale": {
           "diverging": [
            [
             0,
             "#8e0152"
            ],
            [
             0.1,
             "#c51b7d"
            ],
            [
             0.2,
             "#de77ae"
            ],
            [
             0.3,
             "#f1b6da"
            ],
            [
             0.4,
             "#fde0ef"
            ],
            [
             0.5,
             "#f7f7f7"
            ],
            [
             0.6,
             "#e6f5d0"
            ],
            [
             0.7,
             "#b8e186"
            ],
            [
             0.8,
             "#7fbc41"
            ],
            [
             0.9,
             "#4d9221"
            ],
            [
             1,
             "#276419"
            ]
           ],
           "sequential": [
            [
             0,
             "#0d0887"
            ],
            [
             0.1111111111111111,
             "#46039f"
            ],
            [
             0.2222222222222222,
             "#7201a8"
            ],
            [
             0.3333333333333333,
             "#9c179e"
            ],
            [
             0.4444444444444444,
             "#bd3786"
            ],
            [
             0.5555555555555556,
             "#d8576b"
            ],
            [
             0.6666666666666666,
             "#ed7953"
            ],
            [
             0.7777777777777778,
             "#fb9f3a"
            ],
            [
             0.8888888888888888,
             "#fdca26"
            ],
            [
             1,
             "#f0f921"
            ]
           ],
           "sequentialminus": [
            [
             0,
             "#0d0887"
            ],
            [
             0.1111111111111111,
             "#46039f"
            ],
            [
             0.2222222222222222,
             "#7201a8"
            ],
            [
             0.3333333333333333,
             "#9c179e"
            ],
            [
             0.4444444444444444,
             "#bd3786"
            ],
            [
             0.5555555555555556,
             "#d8576b"
            ],
            [
             0.6666666666666666,
             "#ed7953"
            ],
            [
             0.7777777777777778,
             "#fb9f3a"
            ],
            [
             0.8888888888888888,
             "#fdca26"
            ],
            [
             1,
             "#f0f921"
            ]
           ]
          },
          "colorway": [
           "#636efa",
           "#EF553B",
           "#00cc96",
           "#ab63fa",
           "#FFA15A",
           "#19d3f3",
           "#FF6692",
           "#B6E880",
           "#FF97FF",
           "#FECB52"
          ],
          "font": {
           "color": "#2a3f5f"
          },
          "geo": {
           "bgcolor": "white",
           "lakecolor": "white",
           "landcolor": "#E5ECF6",
           "showlakes": true,
           "showland": true,
           "subunitcolor": "white"
          },
          "hoverlabel": {
           "align": "left"
          },
          "hovermode": "closest",
          "mapbox": {
           "style": "light"
          },
          "paper_bgcolor": "white",
          "plot_bgcolor": "#E5ECF6",
          "polar": {
           "angularaxis": {
            "gridcolor": "white",
            "linecolor": "white",
            "ticks": ""
           },
           "bgcolor": "#E5ECF6",
           "radialaxis": {
            "gridcolor": "white",
            "linecolor": "white",
            "ticks": ""
           }
          },
          "scene": {
           "xaxis": {
            "backgroundcolor": "#E5ECF6",
            "gridcolor": "white",
            "gridwidth": 2,
            "linecolor": "white",
            "showbackground": true,
            "ticks": "",
            "zerolinecolor": "white"
           },
           "yaxis": {
            "backgroundcolor": "#E5ECF6",
            "gridcolor": "white",
            "gridwidth": 2,
            "linecolor": "white",
            "showbackground": true,
            "ticks": "",
            "zerolinecolor": "white"
           },
           "zaxis": {
            "backgroundcolor": "#E5ECF6",
            "gridcolor": "white",
            "gridwidth": 2,
            "linecolor": "white",
            "showbackground": true,
            "ticks": "",
            "zerolinecolor": "white"
           }
          },
          "shapedefaults": {
           "line": {
            "color": "#2a3f5f"
           }
          },
          "ternary": {
           "aaxis": {
            "gridcolor": "white",
            "linecolor": "white",
            "ticks": ""
           },
           "baxis": {
            "gridcolor": "white",
            "linecolor": "white",
            "ticks": ""
           },
           "bgcolor": "#E5ECF6",
           "caxis": {
            "gridcolor": "white",
            "linecolor": "white",
            "ticks": ""
           }
          },
          "title": {
           "x": 0.05
          },
          "xaxis": {
           "automargin": true,
           "gridcolor": "white",
           "linecolor": "white",
           "ticks": "",
           "title": {
            "standoff": 15
           },
           "zerolinecolor": "white",
           "zerolinewidth": 2
          },
          "yaxis": {
           "automargin": true,
           "gridcolor": "white",
           "linecolor": "white",
           "ticks": "",
           "title": {
            "standoff": 15
           },
           "zerolinecolor": "white",
           "zerolinewidth": 2
          }
         }
        }
       }
      }
     },
     "metadata": {},
     "output_type": "display_data"
    }
   ],
   "source": [
    "# Use plotly to plot interest_per_batch\n",
    "import plotly.graph_objects as go\n",
    "\n",
    "fig = go.Figure()\n",
    "\n",
    "fig.add_trace(go.Scatter(x=data.index, y=data['interest_per_batch'], mode='lines', name='Interest per batch'))\n",
    "\n",
    "fig.show()\n"
   ]
  },
  {
   "cell_type": "code",
   "execution_count": null,
   "metadata": {},
   "outputs": [],
   "source": []
  }
 ],
 "metadata": {
  "kernelspec": {
   "display_name": "Kedro (sampler)",
   "language": "python",
   "name": "kedro_sampler"
  },
  "language_info": {
   "codemirror_mode": {
    "name": "ipython",
    "version": 3
   },
   "file_extension": ".py",
   "mimetype": "text/x-python",
   "name": "python",
   "nbconvert_exporter": "python",
   "pygments_lexer": "ipython3",
   "version": "3.10.13"
  }
 },
 "nbformat": 4,
 "nbformat_minor": 2
}
